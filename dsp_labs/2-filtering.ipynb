{
 "cells": [
  {
   "cell_type": "markdown",
   "id": "1eff9148",
   "metadata": {},
   "source": [
    "# Filtering\n",
    "\n",
    "这是陈硕写的《数字信号处理入门实验》的第二个实验，介绍数字滤波器的设计与使用。\n",
    "最新版网址： http://github.com/chenshuo/notes\n",
    "\n",
    "如果想要执行交互式的内容，可以用 Colab 打开：\n",
    "https://colab.research.google.com/github/chenshuo/notes/blob/master/dsp_labs/2-filtering.ipynb\n",
    "\n",
    "本章内容的视频讲解在\n",
    "* [FIR 低通滤波](https://www.youtube.com/watch?v=NVv4xhbmn_Y)  国内：https://www.bilibili.com/video/BV1ja411S7dM\n",
    "* [IIR 滤波、陷波](https://www.youtube.com/watch?v=Bxf29Vc45Sg)  国内：https://www.bilibili.com/video/BV1pe4y1X7J5"
   ]
  },
  {
   "cell_type": "markdown",
   "id": "fb2edeab",
   "metadata": {},
   "source": [
    "照例先引入 NumPy、SciPy.signal、Matplotlib、LibROSA 等必要的库，再定义两个常用的绘图函数。"
   ]
  },
  {
   "cell_type": "code",
   "execution_count": null,
   "id": "4eb9967c",
   "metadata": {
    "tags": [
     "hide-input"
    ]
   },
   "outputs": [],
   "source": [
    "import numpy as np\n",
    "import matplotlib.pyplot as plt\n",
    "import scipy.signal as signal\n",
    "\n",
    "import librosa as rosa\n",
    "import librosa.display\n",
    "from IPython.display import Audio\n",
    "\n",
    "from ipywidgets import interact\n",
    "\n",
    "np.set_printoptions(suppress=True)"
   ]
  },
  {
   "cell_type": "code",
   "execution_count": null,
   "id": "2f3507ed",
   "metadata": {
    "tags": [
     "hide-input"
    ]
   },
   "outputs": [],
   "source": [
    "def draw_pzmap(dlti):\n",
    "  plt.plot(np.real(dlti.zeros), np.imag(dlti.zeros), 'o', mfc='none')\n",
    "  plt.plot(np.real(dlti.poles), np.imag(dlti.poles), 'x')\n",
    "  w = np.linspace(0, 2*np.pi)\n",
    "  plt.plot(np.cos(w), np.sin(w), 'y--')\n",
    "  limits = plt.axis(\"equal\")\n",
    "  plt.grid()\n",
    "\n",
    "def draw_resp_stem(x, y):\n",
    "  plt.stem(x, use_line_collection=True)\n",
    "  (markerline, _, _) = plt.stem(y, linefmt='r', markerfmt='ro', use_line_collection=True)\n",
    "  markerline.set_markerfacecolor('none')"
   ]
  },
  {
   "cell_type": "markdown",
   "id": "67d7a78c",
   "metadata": {},
   "source": [
    "\n"
   ]
  },
  {
   "cell_type": "markdown",
   "id": "6cf2a0d0",
   "metadata": {},
   "source": []
  },
  {
   "cell_type": "markdown",
   "id": "ffecafd1",
   "metadata": {},
   "source": [
    "## FIR"
   ]
  },
  {
   "cell_type": "markdown",
   "id": "5efcbd7b",
   "metadata": {},
   "source": [
    "$H(\\omega) = H(z)|_{z=e^{j\\omega}}$, $0 \\le \\omega \\le \\pi$\n",
    "\n",
    "$H(z) =  \\frac{b_0 + b_1z^{-1}+b_2z^{-2}+\\cdots+b_Nz^{-N}}{1+a_1z^{-1}+a_2z^{-2}+\\cdots+a_Mz^{-M}}$\n",
    "\n",
    "For FIR, $a_i = 0,\\ i > 0$\n",
    "\n",
    "$H(z) = b_0 + b_1z^{-1}+b_2z^{-2}+\\cdots+b_Nz^{-N}$\n",
    "\n",
    "$H(w) = H(z)|_{z=e^{jw}} = b_0 + b_1e^{-1jw}+b_2e^{-2jw}+\\cdots+b_Ne^{-jNw}$\n",
    "\n",
    "$H(w) = \\sum_{k=0}^N b_k e^{-jkw}$, this is DTFT.\n",
    "\n",
    "Choose $b_k$ to minimize difference between $H(w)$ and the desired frequency response. \n",
    "\n",
    "Parks-McClellan algorithm 1973.\n",
    "\n",
    "https://eeweb.engineering.nyu.edu/iselesni/EL713/remez/remez.pdf"
   ]
  },
  {
   "cell_type": "code",
   "execution_count": null,
   "id": "e4475168",
   "metadata": {},
   "outputs": [],
   "source": [
    "x, sr = rosa.load(rosa.example('brahms'), sr=None)\n",
    "print(\"Sample rate: %d, original length %.2f sec\" % (sr, len(x) / sr))\n",
    "\n",
    "x = x[0:int(sr*13.6)]\n",
    "plt.plot(np.arange(len(x))/sr, x)\n",
    "Audio(x, rate=sr, normalize=False)"
   ]
  },
  {
   "cell_type": "code",
   "execution_count": null,
   "id": "e869613e",
   "metadata": {},
   "outputs": [],
   "source": [
    "f1 = rosa.stft(x)\n",
    "rosa.display.specshow(rosa.amplitude_to_db(np.abs(f1)), sr=sr, y_axis='hz', x_axis='s')"
   ]
  },
  {
   "cell_type": "markdown",
   "id": "8bea6818",
   "metadata": {},
   "source": [
    "固定电话的带宽是 200 Hz ~ 3.4 kHz，这里用低通模拟。\n",
    "\n",
    "三个相互制约的因素：\n",
    "* tap 数\n",
    "* 阻带衰减 (dB)\n",
    "* 过渡带宽度 (Hz)"
   ]
  },
  {
   "cell_type": "code",
   "execution_count": null,
   "id": "0a87a196",
   "metadata": {},
   "outputs": [],
   "source": [
    "numtaps = 128\n",
    "h = signal.remez(numtaps, bands=[0, 3400, 4000, 0.5*sr], desired=[1, 0], fs=sr)\n",
    "\n",
    "dlti = signal.dlti(h, [1])\n",
    "w, mag, phase = dlti.bode()\n",
    "plt.plot(w/(2*np.pi)*sr, mag)\n",
    "plt.ylabel('dB'); plt.xlabel('Hz')"
   ]
  },
  {
   "cell_type": "code",
   "execution_count": null,
   "id": "bd29b14b",
   "metadata": {},
   "outputs": [],
   "source": [
    "plt.plot(h)"
   ]
  },
  {
   "cell_type": "markdown",
   "id": "07eac268",
   "metadata": {},
   "source": []
  },
  {
   "cell_type": "code",
   "execution_count": null,
   "id": "09db604b",
   "metadata": {},
   "outputs": [],
   "source": [
    "y = signal.oaconvolve(x, h, mode='full')  # 'full', 'valid', 'same'\n",
    "print('%.3f' % (len(y)/sr))\n",
    "plt.plot(y)\n",
    "Audio(y, rate=sr, normalize=False)"
   ]
  },
  {
   "cell_type": "code",
   "execution_count": null,
   "id": "00fb421a",
   "metadata": {},
   "outputs": [],
   "source": [
    "f2 = rosa.stft(y)\n",
    "rosa.display.specshow(rosa.power_to_db(np.abs(f2)**2), sr=sr, y_axis='hz', x_axis='s')"
   ]
  },
  {
   "cell_type": "code",
   "execution_count": null,
   "id": "1b2c1cae",
   "metadata": {},
   "outputs": [],
   "source": [
    "draw_pzmap(dlti)"
   ]
  },
  {
   "cell_type": "code",
   "execution_count": null,
   "id": "d57ea85d",
   "metadata": {},
   "outputs": [],
   "source": [
    "plt.figure(figsize=(15,5))\n",
    "plt.subplot(121)\n",
    "rosa.display.specshow(rosa.power_to_db(np.abs(f1)**2), sr=sr, y_axis='hz', x_axis='s')\n",
    "plt.subplot(122)\n",
    "rosa.display.specshow(rosa.power_to_db(np.abs(f2)**2), sr=sr, y_axis='hz', x_axis='s')"
   ]
  },
  {
   "cell_type": "markdown",
   "id": "627b2d36",
   "metadata": {},
   "source": [
    "可见 4kHz 以上的高频被滤得干干净净。\n",
    "\n",
    "当然，这只是原理验证，离实时的定点 DSP 实现还有相当的距离。"
   ]
  },
  {
   "cell_type": "markdown",
   "id": "ccfb69d2",
   "metadata": {},
   "source": [
    "## DC blocker\n",
    "\n",
    "Julius O. Smith, Introduction to Digital Filters with Audio Applications, http://ccrma.stanford.edu/~jos/filters/\n",
    "\n",
    "Appendix B.3 https://ccrma.stanford.edu/~jos/filters/DC_Blocker.html\n",
    "\n",
    "$y[n] = x[n]-x[n-1]+Ry[n-1]$\n",
    "\n",
    "$H(z)=\\dfrac{1-z^{-1}}{1-Rz^{-1}}$\n",
    "\n",
    "It's a differentiator with exponential moving average."
   ]
  },
  {
   "cell_type": "code",
   "execution_count": null,
   "id": "0c0a21d2",
   "metadata": {},
   "outputs": [],
   "source": [
    "R = 0.9\n",
    "b = [1, -1]\n",
    "a = [1, -R]\n",
    "dlti = signal.dlti(b, a)\n",
    "zeros = dlti.zeros\n",
    "print('Zeros:', zeros)\n",
    "print('Poles:', dlti.poles)\n",
    "draw_pzmap(dlti)"
   ]
  },
  {
   "cell_type": "code",
   "execution_count": null,
   "id": "d2e954c4",
   "metadata": {},
   "outputs": [],
   "source": [
    "w, mag = dlti.freqresp()\n",
    "plt.plot(w/np.pi, np.abs(mag))"
   ]
  },
  {
   "cell_type": "code",
   "execution_count": null,
   "id": "faa0c677",
   "metadata": {},
   "outputs": [],
   "source": [
    "dc = np.concatenate([np.zeros(100), np.ones(150), -1 * np.ones(150)])\n",
    "y = signal.lfilter(b, a, dc)\n",
    "plt.plot(dc)\n",
    "plt.plot(y)"
   ]
  },
  {
   "cell_type": "code",
   "execution_count": null,
   "id": "3a9f57c5",
   "metadata": {},
   "outputs": [],
   "source": [
    "t = np.linspace(0, 1, 400) * 2 *np.pi * 15\n",
    "x = np.sin(t) + dc\n",
    "\n",
    "y = signal.lfilter(b, a, x)\n",
    "plt.plot(x)\n",
    "plt.plot(y)"
   ]
  },
  {
   "cell_type": "code",
   "execution_count": null,
   "id": "41fbcee5",
   "metadata": {},
   "outputs": [],
   "source": [
    "t = np.linspace(0, 1, 400) * 2 *np.pi\n",
    "x = np.sin(t * 15)\n",
    "triangle = signal.sawtooth(t, 0.5)\n",
    "x = x + triangle\n",
    "\n",
    "y = signal.lfilter(b, a, x)\n",
    "plt.plot(x)\n",
    "plt.plot(y)"
   ]
  },
  {
   "cell_type": "code",
   "execution_count": null,
   "id": "0b740136",
   "metadata": {},
   "outputs": [],
   "source": [
    "@interact(R=(0, 0.99, 0.01))\n",
    "def blocker(R=0.88):\n",
    "  b = [1, -1]\n",
    "  a = [1, -R]\n",
    "  dlti = signal.dlti(b, a)\n",
    "  plt.figure(figsize=(15,5))\n",
    "  plt.subplot(121)\n",
    "  draw_pzmap(dlti)\n",
    "  w, mag = dlti.freqresp()\n",
    "  plt.subplot(122)\n",
    "  plt.plot(w/np.pi, np.abs(mag))"
   ]
  },
  {
   "cell_type": "markdown",
   "id": "7b37989d",
   "metadata": {},
   "source": [
    "## IIR Notch\n",
    "\n",
    "https://www.mathworks.com/help/signal/ug/remove-the-60-hz-hum-from-a-signal.html\n",
    "\n",
    "Sophocles J. Orfanidis. _Introduction to Signal Processing, 1996._ \n",
    "\n",
    "§11.3 Second-Order Peaking and Notching Filters\n",
    "\n",
    "https://www.ece.rutgers.edu/~orfanidi/intro2sp/"
   ]
  },
  {
   "cell_type": "code",
   "execution_count": null,
   "id": "9942b584",
   "metadata": {},
   "outputs": [],
   "source": [
    "fs=1000\n",
    "b, a = signal.iirnotch(60, Q=30, fs=fs)\n",
    "d = signal.dlti(b, a)\n",
    "print('b=', np.round(b, 5))\n",
    "print('a=', np.round(a, 5))"
   ]
  },
  {
   "cell_type": "markdown",
   "id": "550d1773",
   "metadata": {},
   "source": [
    "$y[n] = 0.99376\\,x[n] - 1.84794\\,x[n-1] + 0.99376\\,x[n-2] + 1.84794\\,y[n-1] - 0.98751\\,y[n-2]$"
   ]
  },
  {
   "cell_type": "code",
   "execution_count": null,
   "id": "e59425f5",
   "metadata": {},
   "outputs": [],
   "source": [
    "w, amp = d.freqresp(n=1000)\n",
    "w=w[0:300]\n",
    "amp=amp[0:300]\n",
    "plt.plot(w/(2*np.pi)*fs, np.abs(amp))"
   ]
  },
  {
   "cell_type": "code",
   "execution_count": null,
   "id": "e8f335b4",
   "metadata": {},
   "outputs": [],
   "source": [
    "w, mag, phase = d.bode(n=200)\n",
    "plt.plot(w/np.pi, mag)\n",
    "plt.figure()\n",
    "plt.plot(w/np.pi, phase)"
   ]
  },
  {
   "cell_type": "code",
   "execution_count": null,
   "id": "11e00e55",
   "metadata": {},
   "outputs": [],
   "source": [
    "t, y = d.impulse(n=500)\n",
    "plt.plot(t, y[0])"
   ]
  },
  {
   "cell_type": "code",
   "execution_count": null,
   "id": "d8720863",
   "metadata": {},
   "outputs": [],
   "source": [
    "t, y = d.step(n=500)\n",
    "plt.plot(t, y[0])"
   ]
  },
  {
   "cell_type": "code",
   "execution_count": null,
   "id": "91bdf50d",
   "metadata": {},
   "outputs": [],
   "source": [
    "print('zeros %.5f %.3fHz' % (np.abs(d.zeros[0]), np.angle(d.zeros[0]) * fs / (2*np.pi)))\n",
    "print('poles %.5f %.3fHz' % (np.abs(d.poles[0]), np.angle(d.poles[0]) * fs / (2*np.pi)))\n",
    "draw_pzmap(d)"
   ]
  },
  {
   "cell_type": "markdown",
   "id": "5d745869",
   "metadata": {},
   "source": [
    "### EEG"
   ]
  },
  {
   "cell_type": "code",
   "execution_count": null,
   "id": "8d51e980",
   "metadata": {},
   "outputs": [],
   "source": [
    "eeg = np.loadtxt('data/eeg.txt').T\n",
    "fs = 500\n",
    "x = eeg[0]\n",
    "t = np.arange(len(x)) / fs\n",
    "_ = plt.plot(t, x)"
   ]
  },
  {
   "cell_type": "code",
   "execution_count": null,
   "id": "337787fc",
   "metadata": {},
   "outputs": [],
   "source": [
    "fft = np.fft.rfft(x) / len(x)\n",
    "freq = np.arange(len(fft)) / len(fft) * fs / 2\n",
    "plt.plot(freq, np.abs(fft))"
   ]
  },
  {
   "cell_type": "code",
   "execution_count": null,
   "id": "70912935",
   "metadata": {},
   "outputs": [],
   "source": [
    "plt.plot(freq, np.abs(fft))\n",
    "plt.xlim(40, 60)\n",
    "plt.ylim(0, 0.5)"
   ]
  },
  {
   "cell_type": "code",
   "execution_count": null,
   "id": "848b3cb9",
   "metadata": {},
   "outputs": [],
   "source": [
    "plt.figure(figsize=(15,5))\n",
    "plt.subplot(121)\n",
    "plt.plot(freq, np.abs(fft))\n",
    "plt.xlim(140, 160)\n",
    "plt.ylim(0, 1.6)\n",
    "plt.subplot(122)\n",
    "plt.semilogy(freq, np.abs(fft))\n",
    "plt.xlim(140, 160)"
   ]
  },
  {
   "cell_type": "code",
   "execution_count": null,
   "id": "175ed270",
   "metadata": {},
   "outputs": [],
   "source": [
    "b, a = signal.iirnotch(150, Q=50, fs=fs)\n",
    "d = signal.dlti(b, a)\n",
    "print('b=', np.round(b, 5))\n",
    "print('a=', np.round(a, 5))"
   ]
  },
  {
   "cell_type": "code",
   "execution_count": null,
   "id": "b126ef7c",
   "metadata": {},
   "outputs": [],
   "source": [
    "y = signal.lfilter(b, a, x)\n",
    "ffty = np.fft.rfft(y) / len(y)\n",
    "freq = np.arange(len(ffty)) / len(ffty) * fs / 2\n",
    "plt.plot(freq, np.abs(ffty))"
   ]
  },
  {
   "cell_type": "code",
   "execution_count": null,
   "id": "c4e9e7a6",
   "metadata": {},
   "outputs": [],
   "source": [
    "plt.figure(figsize=(15,5))\n",
    "plt.subplot(121)\n",
    "plt.plot(freq, np.abs(ffty))\n",
    "plt.xlim(140, 160)\n",
    "plt.ylim(0, 1.6)\n",
    "plt.subplot(122)\n",
    "plt.semilogy(freq, np.abs(ffty))\n",
    "plt.xlim(140, 160)"
   ]
  },
  {
   "cell_type": "code",
   "execution_count": null,
   "id": "46cb1b92",
   "metadata": {},
   "outputs": [],
   "source": [
    "plt.figure(figsize=(15,5))\n",
    "plt.subplot(121)\n",
    "plt.plot(freq, np.abs(fft))\n",
    "plt.subplot(122)\n",
    "plt.plot(freq, np.abs(ffty))"
   ]
  },
  {
   "cell_type": "code",
   "execution_count": null,
   "id": "527d24de",
   "metadata": {},
   "outputs": [],
   "source": [
    "plt.figure(figsize=(15,5))\n",
    "plt.subplot(121)\n",
    "plt.plot(freq, np.abs(fft)-np.abs(ffty))\n",
    "plt.subplot(122)\n",
    "plt.plot(freq, np.abs(fft)-np.abs(ffty))\n",
    "plt.xlim(140, 160)"
   ]
  },
  {
   "cell_type": "code",
   "execution_count": null,
   "id": "1bece97e",
   "metadata": {},
   "outputs": [],
   "source": [
    "plt.figure(figsize=(15,5))\n",
    "plt.subplot(121)\n",
    "plt.plot(t, x)\n",
    "plt.subplot(122)\n",
    "plt.plot(t, y)"
   ]
  },
  {
   "cell_type": "code",
   "execution_count": null,
   "id": "7fdcd30c",
   "metadata": {},
   "outputs": [],
   "source": [
    "diff = y-x\n",
    "plt.figure(figsize=(15,5))\n",
    "plt.subplot(121)\n",
    "plt.plot(t, diff)\n",
    "plt.subplot(122)\n",
    "plt.plot(t, diff)\n",
    "plt.xlim(1, 1.1)"
   ]
  },
  {
   "cell_type": "code",
   "execution_count": null,
   "id": "d11db847",
   "metadata": {
    "scrolled": false
   },
   "outputs": [],
   "source": [
    "fftd = np.fft.rfft(diff) / len(diff)\n",
    "plt.figure(figsize=(15,5))\n",
    "plt.subplot(121)\n",
    "plt.plot(freq, np.abs(fftd))\n",
    "plt.subplot(122)\n",
    "plt.plot(freq, np.abs(fftd))\n",
    "plt.xlim(140, 160)"
   ]
  },
  {
   "cell_type": "markdown",
   "id": "5344b20c",
   "metadata": {},
   "source": [
    "FFT(y - x) = FFT(y) - FFT(x)"
   ]
  },
  {
   "cell_type": "markdown",
   "id": "2c07bdee",
   "metadata": {},
   "source": [
    "**练习**： Remove 15.625 kHz noise from CD recordings?\n"
   ]
  },
  {
   "cell_type": "markdown",
   "id": "4ea4329b",
   "metadata": {},
   "source": [
    "**THD**\n",
    "\n",
    "https://www.youtube.com/watch?v=Zvireu2SGZM&t=831s"
   ]
  }
 ],
 "metadata": {
  "celltoolbar": "Tags",
  "kernelspec": {
   "display_name": "Python 3 (ipykernel)",
   "language": "python",
   "name": "python3"
  },
  "language_info": {
   "codemirror_mode": {
    "name": "ipython",
    "version": 3
   },
   "file_extension": ".py",
   "mimetype": "text/x-python",
   "name": "python",
   "nbconvert_exporter": "python",
   "pygments_lexer": "ipython3",
   "version": "3.9.12"
  }
 },
 "nbformat": 4,
 "nbformat_minor": 5
}
