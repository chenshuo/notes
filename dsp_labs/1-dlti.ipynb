{
 "cells": [
  {
   "cell_type": "markdown",
   "id": "b5fe8aa3",
   "metadata": {},
   "source": [
    "# Discrete LTI Systems\n",
    "\n",
    "这是陈硕写的《数字信号处理入门实验》的第一个实验，介绍离散线性时不变（缩写 DLTI）系统的基本性质。\n",
    "最新版网址： http://github.com/chenshuo/notes\n",
    "\n",
    "如果想要执行交互式的内容，可以用 Colab 打开：\n",
    "https://colab.research.google.com/github/chenshuo/notes/blob/master/dsp_labs/1-dlti.ipynb\n",
    "\n",
    "本章内容的视频讲解在\n",
    "1. [移动平均](https://youtu.be/kTlJMCUknF8) 国内：[移动平均](https://www.bilibili.com/video/BV1Qd4y1Q7e4)\n",
    "1. [自回归](https://youtu.be/NXnkhopsUnE) 国内：[自回归](https://www.bilibili.com/video/BV1FW4y1U7dY)"
   ]
  },
  {
   "cell_type": "markdown",
   "id": "5b2fdad4",
   "metadata": {},
   "source": [
    "首先引入 NumPy、SciPy.signal、Matplotlib、LibROSA 等必要的库。"
   ]
  },
  {
   "cell_type": "code",
   "execution_count": null,
   "id": "07ab9a37",
   "metadata": {
    "scrolled": true,
    "tags": [
     "hide-cell"
    ]
   },
   "outputs": [],
   "source": [
    "import numpy as np\n",
    "import matplotlib.pyplot as plt\n",
    "import scipy.signal as signal\n",
    "\n",
    "import librosa as rosa\n",
    "import librosa.display\n",
    "from IPython.display import Audio\n",
    "\n",
    "from ipywidgets import interact\n",
    "\n",
    "np.set_printoptions(suppress=True)\n",
    "rosa.version.show_versions()"
   ]
  },
  {
   "cell_type": "markdown",
   "id": "e57a99d8",
   "metadata": {},
   "source": [
    "定义两个常用的函数，用于画零极点图和输入输出对比图。"
   ]
  },
  {
   "cell_type": "code",
   "execution_count": null,
   "id": "33a04c91",
   "metadata": {
    "tags": [
     "hide-input"
    ]
   },
   "outputs": [],
   "source": [
    "def draw_pzmap(dlti):\n",
    "  plt.plot(np.real(dlti.zeros), np.imag(dlti.zeros), 'o', mfc='none')\n",
    "  plt.plot(np.real(dlti.poles), np.imag(dlti.poles), 'x')\n",
    "  w = np.linspace(0, 2*np.pi)\n",
    "  plt.plot(np.cos(w), np.sin(w), 'y--')\n",
    "  limits = plt.axis(\"equal\")\n",
    "  plt.grid()\n",
    "\n",
    "def draw_resp_stem(x, y):\n",
    "  plt.stem(x, use_line_collection=True)\n",
    "  (markerline, _, _) = plt.stem(y, linefmt='r', markerfmt='ro', use_line_collection=True)\n",
    "  markerline.set_markerfacecolor('none')"
   ]
  },
  {
   "cell_type": "markdown",
   "id": "81c977b9",
   "metadata": {},
   "source": [
    "查看一下 Jupyter 的版本。"
   ]
  },
  {
   "cell_type": "code",
   "execution_count": null,
   "id": "40535f1e",
   "metadata": {
    "tags": [
     "hide-output"
    ]
   },
   "outputs": [],
   "source": [
    "!jupyter --version"
   ]
  },
  {
   "cell_type": "markdown",
   "id": "b860075f",
   "metadata": {},
   "source": [
    "## DLTI 的两种基本形式：FIR 与 IIR\n",
    "\n",
    "DLTI 系统有两种基本的形式，通常的名字是 FIR 与 IIR，主要区别是是系统否有记忆，即当前输出是否与过去的输出有关，还是只与输入有关。\n",
    "\n",
    "FIR 其实就是加权移动平均（Weighted Moving Average, WMA for short）。\n",
    "\n",
    "![FIR](data/fir.png)\n",
    "\n",
    "$$\\begin{aligned}\n",
    "  y[n] &= \\sum_{i=0}^{L}b[i] x[n-i] \\\\\n",
    "       & = b[0]x[n] + b[1]x[n-1] + \\cdots + b[L]x[n-L]\n",
    "\\end{aligned} $$\n",
    "\n",
    "\n",
    "根据以上定义我们可以很容易写出自己的 WMA 实现，而 SciPy 里也有多种办法计算 WMA，包括\n",
    "\n",
    "* [scipy.signal.convolve](https://docs.scipy.org/doc/scipy/reference/generated/scipy.signal.convolve.html), [oaconvolve](https://docs.scipy.org/doc/scipy/reference/generated/scipy.signal.oaconvolve.html), [fftconvolve](https://docs.scipy.org/doc/scipy/reference/generated/scipy.signal.fftconvolve.html)\n",
    "* [scipy.signal.lfilter](https://docs.scipy.org/doc/scipy/reference/generated/scipy.signal.lfilter.html)\n",
    "* [scipy.signal.dlsim](https://docs.scipy.org/doc/scipy/reference/generated/scipy.signal.dlsim.html)\n",
    "* [scipy.signal.dlti.output](https://docs.scipy.org/doc/scipy/reference/generated/scipy.signal.dlti.output.html)\n",
    "\n",
    "```{toggle}\n",
    "FIR 其实也可以看成是最简单的前向神经网络，没有 bias，也没有 activation function，输出完全是输入按不同权重的线性组合。\n",
    "```\n",
    "\n",
    "WMA 的实现是两重循环，内循环负责加权求和，外循环负责移动。\n",
    "以下代码的“加权求和”这一步用 `NumPy.dot()` 实现，比较简洁。\n",
    "`dot()` 是计算两个向量的点积，也叫内积。"
   ]
  },
  {
   "cell_type": "code",
   "execution_count": null,
   "id": "5d2aefa1",
   "metadata": {},
   "outputs": [],
   "source": [
    "from typing import Sequence\n",
    "\n",
    "def direct_wma(b : Sequence, x : Sequence) -> Sequence:\n",
    "  y = np.zeros(len(x))\n",
    "  x_pad = np.concatenate((np.zeros(len(b)-1), x))\n",
    "  b_rev = np.array(b[::-1], dtype='d')\n",
    "  for i in range(len(x)):\n",
    "    y[i] = np.dot(b_rev, x_pad[i : i + len(b)])\n",
    "  return y"
   ]
  },
  {
   "cell_type": "markdown",
   "id": "fc1bd45b",
   "metadata": {},
   "source": [
    "用我们自己实现的 `direct_wma()` 来计算 $y[n] = 2x[n] + x[n-1]$."
   ]
  },
  {
   "cell_type": "code",
   "execution_count": null,
   "id": "a58ec3ea",
   "metadata": {},
   "outputs": [],
   "source": [
    "b = [2, 1]\n",
    "x = np.arange(10, dtype='d')\n",
    "y = direct_wma(b, x)\n",
    "print(np.array([x, y]).T)"
   ]
  },
  {
   "cell_type": "markdown",
   "id": "07920583",
   "metadata": {},
   "source": [
    "计算结果和 `scipy.signal.lfilter()` 是一致的。"
   ]
  },
  {
   "cell_type": "code",
   "execution_count": null,
   "id": "51f6a4f4",
   "metadata": {},
   "outputs": [],
   "source": [
    "# b 和 x 同上\n",
    "y = signal.lfilter(b, [1], x)\n",
    "print(np.array([x, y]).T)"
   ]
  },
  {
   "cell_type": "markdown",
   "id": "70f857b1",
   "metadata": {},
   "source": [
    "当然 `direct_wma()` 不是什么高效的实现，只是展示一下基本编程方法。"
   ]
  },
  {
   "cell_type": "markdown",
   "id": "d419b99f",
   "metadata": {},
   "source": [
    "第二种形式，IIR，是在 FIR 的基础上，把过去的输出也用来计算新的输出。\n",
    "\n",
    "![IIR](data/iir.png)\n",
    "\n",
    "这种形式过去也叫梯子（ladder），或格子（lattice），是比较形象的说法。\n",
    "\n",
    "$$\\begin{aligned}\n",
    "y[n] = &\\sum_{i=0}^{L}b[i]x[n-i] - \\sum_{i=1}^{M}a[i\\,]y[n-i\\,] \\\\\n",
    " = & \\  b[0]x[n] + b[1]x[n-1] + \\cdots + b[L]x[n-L] \\\\\n",
    "        &-(a[1]y[n-1]+a[2]y[n-2]+\\cdots+a[M]y[n-M])\n",
    "\\end{aligned}$$\n",
    "\n",
    "\n",
    "SciPy 里提供了多种实现，本文以下主要使用第一个 `scipy.signal.lfilter()` 来计算输出，而用第三个 `scipy.signal.dlti` class 来分析离散线性时不变系统（频率响应、冲击响应、零极点等等）。\n",
    "\n",
    "* [scipy.signal.lfilter](https://docs.scipy.org/doc/scipy/reference/generated/scipy.signal.lfilter.html)\n",
    "* [scipy.signal.dlsim](https://docs.scipy.org/doc/scipy/reference/generated/scipy.signal.dlsim.html)\n",
    "* [scipy.signal.dlti.output](https://docs.scipy.org/doc/scipy/reference/generated/scipy.signal.dlti.output.html)\n",
    "\n",
    "\n",
    "有的领域把这种形式叫“自回归” autoregressive（特指用到当前输入和过去的输出），\n",
    "如果同时用到了过去的输入和过去的输出，那和前面的移动平均合在一起，叫 [ARMA 模型](https://en.wikipedia.org/wiki/Autoregressive%E2%80%93moving-average_model)。\n",
    "\n",
    "```{toggle}\n",
    "这也可以看成最简单的循环神经网络（RNN），没有 bias，也没有 activation function，只有两个权重。\n",
    "```\n",
    "\n",
    "我们自己实现 ARMA 也不难，用两个循环分别计算出第 1 项 sum 和第 2 项 sum，然后相减就得到了 $y[n]$。\n",
    "稍有挑战的是如果输入是 Iterable，而不是 Sequence，那么该如何实现？\n",
    "正式的系统一般会用循环缓冲区（circular buffer），我们自己练手写的话不妨粗放一些，直接用数组的"
   ]
  },
  {
   "cell_type": "code",
   "execution_count": null,
   "id": "81c242aa",
   "metadata": {},
   "outputs": [],
   "source": []
  },
  {
   "cell_type": "markdown",
   "id": "a04473d6",
   "metadata": {},
   "source": [
    "## Moving average\n",
    "\n",
    "Julius O. Smith, _Introduction to Digital Filters with Audio Applications_, http://ccrma.stanford.edu/~jos/filters/\n",
    "\n",
    "Chapter 1: https://ccrma.stanford.edu/~jos/filters/Simplest_Lowpass_Filter.html"
   ]
  },
  {
   "cell_type": "markdown",
   "id": "95d63989",
   "metadata": {},
   "source": [
    "### $N=2$\n",
    "\n",
    "$y[n] = \\dfrac{1}{2}x[n]+\\dfrac{1}{2}x[n-1]$"
   ]
  },
  {
   "cell_type": "code",
   "execution_count": null,
   "id": "c4d31535",
   "metadata": {},
   "outputs": [],
   "source": [
    "b = [1/2, 1/2]\n",
    "\n",
    "x = np.arange(11)\n",
    "y = signal.lfilter(b, [1], x)  # or signal.convolve(b, x)\n",
    "print(np.array([x, y]).T)"
   ]
  },
  {
   "cell_type": "markdown",
   "id": "9fd856d2",
   "metadata": {},
   "source": [
    "[scipy.signal.dlti](https://docs.scipy.org/doc/scipy/reference/generated/scipy.signal.dlti.html) Discrete-time linear time invariant system"
   ]
  },
  {
   "cell_type": "code",
   "execution_count": null,
   "id": "296d776f",
   "metadata": {},
   "outputs": [],
   "source": [
    "dlti = signal.dlti(b, [1])\n",
    "print('Zeros:', dlti.zeros)\n",
    "print('Poles:', dlti.poles)\n",
    "draw_pzmap(dlti)"
   ]
  },
  {
   "cell_type": "code",
   "execution_count": null,
   "id": "b800358d",
   "metadata": {},
   "outputs": [],
   "source": [
    "w, mag = dlti.freqresp()\n",
    "plt.plot(w, np.abs(mag))"
   ]
  },
  {
   "cell_type": "code",
   "execution_count": null,
   "id": "f775af96",
   "metadata": {},
   "outputs": [],
   "source": [
    "w, mag, phase = dlti.bode()\n",
    "plt.semilogx(w/np.pi, mag)\n",
    "plt.figure(2)\n",
    "plt.plot(w/np.pi,phase)"
   ]
  },
  {
   "cell_type": "code",
   "execution_count": null,
   "id": "2d084a85",
   "metadata": {},
   "outputs": [],
   "source": [
    "w = np.arange(20) * np.pi\n",
    "x = np.cos(w)  # [1, -1, 1, -1, 1, -1, ...]\n",
    "y = np.convolve(b, x)\n",
    "\n",
    "draw_resp_stem(x, y)\n",
    "#plt.stem(x, use_line_collection=True)\n",
    "#(marker, _, _) = plt.stem(y, linefmt='r', markerfmt='ro', use_line_collection=True)\n",
    "#marker.set_markerfacecolor('none')"
   ]
  },
  {
   "cell_type": "code",
   "execution_count": null,
   "id": "dd333d9b",
   "metadata": {},
   "outputs": [],
   "source": [
    "@interact(f = (0, 1, 0.02))\n",
    "def resp(f = 0.5):\n",
    "  t = np.linspace(0, 1, 101)\n",
    "  x = np.cos(t * 2*np.pi * f * 100)\n",
    "  plt.plot(t, x)\n",
    "  y = signal.lfilter([1/2, 1/2], [1], x)\n",
    "  plt.plot(t, y)\n",
    "  plt.show()"
   ]
  },
  {
   "cell_type": "code",
   "execution_count": null,
   "id": "39951042",
   "metadata": {},
   "outputs": [],
   "source": [
    "fft = np.fft.rfft([1/2, 1/2], n=64)  # zero padding\n",
    "(marker, _, _) = plt.stem(np.abs(fft), use_line_collection=True)\n",
    "marker.set_markerfacecolor('none')\n",
    "\n",
    "fr = dlti.freqresp(w=np.linspace(0, 1, len(fft)) * np.pi)[1]\n",
    "plt.plot(np.abs(fr), 'r--')"
   ]
  },
  {
   "cell_type": "markdown",
   "id": "b347f718",
   "metadata": {},
   "source": [
    "### $N = 3$\n",
    "\n",
    "$y[n] = \\dfrac{1}{3}x[n] + \\dfrac{1}{3}x[n-1] + \\dfrac{1}{3}x[n-2]$"
   ]
  },
  {
   "cell_type": "code",
   "execution_count": null,
   "id": "2fa0a28a",
   "metadata": {},
   "outputs": [],
   "source": [
    "b3 = [1/3, 1/3, 1/3]\n",
    "dlti3 = signal.dlti(b3, [1])\n",
    "\n",
    "w, mag = dlti3.freqresp()\n",
    "plt.plot(w/np.pi, np.abs(mag))\n",
    "print('min_mag = %.2f dB' % (20 * np.log10(np.min(np.abs(mag)))))"
   ]
  },
  {
   "cell_type": "code",
   "execution_count": null,
   "id": "fbff844b",
   "metadata": {},
   "outputs": [],
   "source": [
    "w, mag, phase = dlti3.bode()\n",
    "plt.plot(w/np.pi, mag)"
   ]
  },
  {
   "cell_type": "code",
   "execution_count": null,
   "id": "670ec421",
   "metadata": {},
   "outputs": [],
   "source": [
    "draw_pzmap(dlti3)\n",
    "print(np.angle(dlti3.zeros)/np.pi*180)"
   ]
  },
  {
   "cell_type": "code",
   "execution_count": null,
   "id": "0be69e09",
   "metadata": {},
   "outputs": [],
   "source": [
    "t = np.arange(20)\n",
    "x = np.cos(t * 2/3 * np.pi)\n",
    "y = np.convolve(x, b3)\n",
    "\n",
    "draw_resp_stem(x, y)\n",
    "print(x[0:10])"
   ]
  },
  {
   "cell_type": "code",
   "execution_count": null,
   "id": "8493bb42",
   "metadata": {},
   "outputs": [],
   "source": [
    "t = np.arange(20)\n",
    "x = np.sin(t * 2/3 * np.pi)\n",
    "y = np.convolve(x, b3)\n",
    "draw_resp_stem(x, y)\n",
    "\n",
    "# x = [1, -1, 0, 1, -1, 0, 1, -1, 0, 1]"
   ]
  },
  {
   "cell_type": "code",
   "execution_count": null,
   "id": "143c9073",
   "metadata": {},
   "outputs": [],
   "source": [
    "@interact(phase=(0, 90, 5))\n",
    "def resp(phase=45):\n",
    "  t = np.arange(15)\n",
    "  x = np.cos(t * 2/3 * np.pi - phase / 180 * np.pi)\n",
    "  y = signal.lfilter(b3, [1], x)\n",
    "  plt.stem(t, x, use_line_collection=True)\n",
    "  t1 = np.arange(141) / 10\n",
    "  plt.plot(t1, np.cos(t1 * 2/3 * np.pi - phase / 180 * np.pi), 'y--')\n",
    "  (markerline, stemlines, baseline) = plt.stem(t, y, linefmt='r', markerfmt='ro', use_line_collection=True)\n",
    "  markerline.set_markerfacecolor('none')"
   ]
  },
  {
   "cell_type": "markdown",
   "id": "193f628c",
   "metadata": {},
   "source": [
    "### $N=4$"
   ]
  },
  {
   "cell_type": "code",
   "execution_count": null,
   "id": "53475aa0",
   "metadata": {},
   "outputs": [],
   "source": [
    "b4 = np.ones(4) / 4.0\n",
    "dlti4 = signal.dlti(b4, [1])\n",
    "draw_pzmap(dlti4)"
   ]
  },
  {
   "cell_type": "code",
   "execution_count": null,
   "id": "9fc0572a",
   "metadata": {},
   "outputs": [],
   "source": [
    "w, mag = dlti4.freqresp()\n",
    "plt.plot(w/np.pi, np.abs(mag))"
   ]
  },
  {
   "cell_type": "code",
   "execution_count": null,
   "id": "79f412ed",
   "metadata": {},
   "outputs": [],
   "source": [
    "x = np.array([0, 1, 0, -1] * 5)\n",
    "y = signal.lfilter(b4, [1], x)\n",
    "\n",
    "draw_resp_stem(x, y)"
   ]
  },
  {
   "cell_type": "code",
   "execution_count": null,
   "id": "79e82e05",
   "metadata": {},
   "outputs": [],
   "source": [
    "@interact(phase=(0, 90, 5))\n",
    "def resp(phase=30):\n",
    "  t = np.arange(16)\n",
    "  x = np.cos(t * 1/2 * np.pi - phase / 180 * np.pi)\n",
    "  y = signal.lfilter(b4, [1], x)\n",
    "  plt.stem(t, x, use_line_collection=True)\n",
    "  t1 = np.arange(151) / 10\n",
    "  plt.plot(t1, np.cos(t1 * 1/2 * np.pi - phase / 180 * np.pi), 'y--')\n",
    "  (markerline, stemlines, baseline) = plt.stem(t, y, linefmt='r', markerfmt='ro', use_line_collection=True)\n",
    "  markerline.set_markerfacecolor('none')"
   ]
  },
  {
   "cell_type": "markdown",
   "id": "14e9d5ce",
   "metadata": {},
   "source": [
    "## Differentiator\n",
    "\n",
    "$y[n]=x[n]-x[n-1]$"
   ]
  },
  {
   "cell_type": "code",
   "execution_count": null,
   "id": "591beea4",
   "metadata": {},
   "outputs": [],
   "source": [
    "bd = [1, -1]\n",
    "x = np.arange(10, dtype='d')  ** 2 \n",
    "print(x)\n",
    "y = signal.lfilter(bd, [1], x)\n",
    "print(y)\n",
    "z = signal.lfilter(bd, [1], y)\n",
    "print(z)\n",
    "z = signal.lfilter(bd, [1], z)\n",
    "print(z)"
   ]
  },
  {
   "cell_type": "code",
   "execution_count": null,
   "id": "9a015f19",
   "metadata": {},
   "outputs": [],
   "source": [
    "dlti = signal.dlti(bd, [1])\n",
    "zeros = dlti.zeros\n",
    "print('Zeros:', zeros)\n",
    "print('Poles:', dlti.poles)\n",
    "draw_pzmap(dlti)"
   ]
  },
  {
   "cell_type": "code",
   "execution_count": null,
   "id": "b8bb1b9a",
   "metadata": {},
   "outputs": [],
   "source": [
    "w, mag = dlti.freqresp()\n",
    "plt.plot(w/np.pi, np.abs(mag))"
   ]
  },
  {
   "cell_type": "markdown",
   "id": "4da904e7",
   "metadata": {},
   "source": [
    "### Eigenfunction"
   ]
  },
  {
   "cell_type": "code",
   "execution_count": null,
   "id": "72c5c72f",
   "metadata": {},
   "outputs": [],
   "source": [
    "x = 2.0 ** np.arange(14)\n",
    "\n",
    "y = signal.lfilter(bd, [1], x)\n",
    "z = signal.lfilter(bd, [1], y)\n",
    "w = signal.lfilter(bd, [1], z)\n",
    "np.array([x, y, z, w]).T"
   ]
  },
  {
   "cell_type": "code",
   "execution_count": null,
   "id": "034c22ac",
   "metadata": {},
   "outputs": [],
   "source": [
    "t = np.linspace(0, 1,100) * 4 * np.pi\n",
    "x = np.sin(t)\n",
    "y = signal.lfilter(bd, [1], x)\n",
    "plt.plot(t/np.pi, x)\n",
    "plt.plot(t/np.pi, y/(t[1]-t[0]))"
   ]
  },
  {
   "cell_type": "markdown",
   "id": "7eddde7d",
   "metadata": {},
   "source": [
    "## Recursive\n",
    "\n",
    "本节内容视频讲解：https://youtu.be/NXnkhopsUnE 国内：[自回归](https://www.bilibili.com/video/BV1FW4y1U7dY)\n",
    "\n",
    "![IIR](data/iir.png)\n",
    "\n",
    "$$y[n] = \\sum_{i=0}^{L}b[i]x[n-i] - \\sum_{i=1}^{M}a[i]y[n-i]$$"
   ]
  },
  {
   "cell_type": "markdown",
   "id": "a6735d67",
   "metadata": {},
   "source": [
    "### Accumulator, integrator\n",
    "\n",
    "$y[n] = x[n] + y[n-1]$\n",
    "\n",
    "$H(z)=\\dfrac{1}{1-z^{-1}}$"
   ]
  },
  {
   "cell_type": "code",
   "execution_count": null,
   "id": "4fa9cd0a",
   "metadata": {},
   "outputs": [],
   "source": [
    "dlti = signal.dlti([1], [1, -1])\n",
    "draw_pzmap(dlti)\n",
    "print('Zeros:', dlti.zeros)\n",
    "print('Poles:', dlti.poles)"
   ]
  },
  {
   "cell_type": "code",
   "execution_count": null,
   "id": "d4c75bb4",
   "metadata": {},
   "outputs": [],
   "source": [
    "b = [1]\n",
    "a = [1, -1]\n",
    "x = np.zeros(11)\n",
    "x[1] = 1\n",
    "print(x)\n",
    "y = signal.lfilter(b, a, x=x)\n",
    "print(y)\n",
    "z = signal.lfilter(b, a, y)\n",
    "print(z)\n",
    "w = signal.lfilter(b, a, z)\n",
    "print(w)"
   ]
  },
  {
   "cell_type": "code",
   "execution_count": null,
   "id": "42c4b905",
   "metadata": {},
   "outputs": [],
   "source": [
    "w, mag = dlti.freqresp(w=np.linspace(np.pi/1000, np.pi))\n",
    "plt.plot(w/np.pi, np.abs(mag))"
   ]
  },
  {
   "cell_type": "code",
   "execution_count": null,
   "id": "37cb0bbe",
   "metadata": {},
   "outputs": [],
   "source": [
    "t, y = dlti.impulse(n=20)\n",
    "plt.stem(t, y[0], use_line_collection=True)"
   ]
  },
  {
   "cell_type": "code",
   "execution_count": null,
   "id": "23d9a9ac",
   "metadata": {},
   "outputs": [],
   "source": [
    "t, y = dlti.step(n=20)\n",
    "plt.stem(t, y[0], use_line_collection=True)"
   ]
  },
  {
   "cell_type": "code",
   "execution_count": null,
   "id": "dc62b973",
   "metadata": {},
   "outputs": [],
   "source": [
    "w3 = signal.lfilter(b, a, w)\n",
    "plt.plot(z)   # linear\n",
    "plt.plot(w)   # quadratic\n",
    "plt.plot(w3)  # 3-order"
   ]
  },
  {
   "cell_type": "markdown",
   "id": "752d01d3",
   "metadata": {},
   "source": [
    "#### Eigenfunction"
   ]
  },
  {
   "cell_type": "code",
   "execution_count": null,
   "id": "ef680dc2",
   "metadata": {},
   "outputs": [],
   "source": [
    "x = 2.0 ** np.arange(11)\n",
    "y = signal.lfilter(b, a, x, zi=x[0:1])[0]\n",
    "z = signal.lfilter(b, a, y, zi=y[0:1])[0]\n",
    "w = signal.lfilter(b, a, z, zi=z[0:1])[0]\n",
    "np.array([x, y, z, w]).T"
   ]
  },
  {
   "cell_type": "code",
   "execution_count": null,
   "id": "f0a0e850",
   "metadata": {},
   "outputs": [],
   "source": [
    "t = np.linspace(0, 1,100) * 4 * np.pi\n",
    "x = np.sin(t)\n",
    "y = signal.lfilter(b, a, x)\n",
    "plt.plot(t/np.pi, x)\n",
    "plt.plot(t/np.pi, y*(t[1]-t[0]))"
   ]
  },
  {
   "cell_type": "markdown",
   "id": "7f5239d5",
   "metadata": {},
   "source": [
    "模拟反向积分器\n",
    "\n",
    "![](data/integrator.png)\n",
    "\n",
    "https://en.wikipedia.org/wiki/Integrator\n"
   ]
  },
  {
   "cell_type": "markdown",
   "id": "4a46e1f3",
   "metadata": {},
   "source": [
    "$$V_\\text{out}(t_1) = V_\\text{out}(t_0) - \\frac{1}{RC} \\int_{t_0}^{t_1} V_\\text{in}(t) \\,dt$$\n",
    "\n",
    "* R = 1 MΩ\n",
    "* C = 1 μF\n",
    "* Vin = 1 V (DC)\n",
    "* Ir = 1 μA\n",
    "* Vout = -t V\n",
    "* Vs = ±15V\n",
    "\n",
    "那么积十几秒就会饱和。\n",
    "\n",
    "OPA627\n",
    "* Vos = 100 μV\n",
    "* Ib = 1 pA"
   ]
  },
  {
   "cell_type": "markdown",
   "id": "6071ca34",
   "metadata": {},
   "source": [
    "### Compound interest\n",
    "\n",
    "$y[n] = x[n] + a y[n-1]$\n",
    "\n",
    "$H(z)=\\dfrac{1}{1-az^{-1}}$"
   ]
  },
  {
   "cell_type": "code",
   "execution_count": null,
   "id": "212b5f20",
   "metadata": {},
   "outputs": [],
   "source": [
    "a = 1.1  # 年投资回报率 10%\n",
    "\n",
    "dlti = signal.dlti([1], [1, -a])\n",
    "draw_pzmap(dlti)\n",
    "print('Zeros:', dlti.zeros)\n",
    "print('Poles:', dlti.poles)"
   ]
  },
  {
   "cell_type": "code",
   "execution_count": null,
   "id": "d0d180de",
   "metadata": {},
   "outputs": [],
   "source": [
    "t, y = dlti.impulse(n=30)\n",
    "plt.stem(t, y[0], use_line_collection=True)"
   ]
  },
  {
   "cell_type": "code",
   "execution_count": null,
   "id": "e19fe3f3",
   "metadata": {},
   "outputs": [],
   "source": [
    "t, y = dlti.step(n=30)\n",
    "plt.stem(t, y[0], use_line_collection=True)"
   ]
  },
  {
   "cell_type": "markdown",
   "id": "c4845b54",
   "metadata": {},
   "source": [
    "#### 零状态响应\n",
    "\n",
    "年息 1.2%，月息 0.1%，每月存 1000。$a = 1+ 1.2\\% / 12 = 1.001$"
   ]
  },
  {
   "cell_type": "code",
   "execution_count": null,
   "id": "7aa940e5",
   "metadata": {},
   "outputs": [],
   "source": [
    "rate = 1.2\n",
    "a = 1.0 + rate / 100 / 12\n",
    "\n",
    "x = np.ones(12) * 1000\n",
    "y = signal.lfilter([1], [1, -a], x)\n",
    "print(np.array([x, np.round(y, 2)]).T)"
   ]
  },
  {
   "cell_type": "markdown",
   "id": "35b24ac9",
   "metadata": {},
   "source": [
    "#### 零输入响应\n",
    "\n",
    "年息 1.2%，月息 0.1%，起始存款 10000。"
   ]
  },
  {
   "cell_type": "code",
   "execution_count": null,
   "id": "8fc11911",
   "metadata": {},
   "outputs": [],
   "source": [
    "rate = 1.2\n",
    "a = 1.0 + rate / 100 / 12\n",
    "y0 = 10000.0\n",
    "\n",
    "x = np.zeros(13) * 0.0\n",
    "y, yn = signal.lfilter([1], [1, -a], x, zi=[y0])\n",
    "np.set_printoptions(suppress=True)\n",
    "print(np.array([np.arange(len(x)), np.round(y, 2)]).T)\n",
    "# print('yn =', np.round(yn, 2))"
   ]
  },
  {
   "cell_type": "markdown",
   "id": "f8b243b9",
   "metadata": {},
   "source": [
    "#### 完全响应\n",
    "\n",
    "贷款 20000，年息 3.5%，分 24 期（2 年）偿还，每月还款 864.06。\n",
    "\n",
    "$p = L\\dfrac{c(1+c)^n}{(1+c)^n-1}$, $L=20\\,000$, $n = 24$, $c = 3.5\\%/12$."
   ]
  },
  {
   "cell_type": "code",
   "execution_count": null,
   "id": "d245947f",
   "metadata": {},
   "outputs": [],
   "source": [
    "L = 20000\n",
    "n = 24\n",
    "rate = 3.5\n",
    "c = rate / 100 / 12\n",
    "p = L * c * np.power(1+c, n) / (np.power(1+c, n) - 1)\n",
    "print('Monthly payment: %.4f' % p)"
   ]
  },
  {
   "cell_type": "code",
   "execution_count": null,
   "id": "5e569102",
   "metadata": {},
   "outputs": [],
   "source": [
    "rate = 3.5\n",
    "a = 1.0 + rate / 100 / 12\n",
    "y0 = 20000.0\n",
    "\n",
    "x = np.concatenate(([0.0], np.ones(24) * -864.06))\n",
    "y, yn = signal.lfilter([1], [1, -a], x, zi=[y0])\n",
    "np.set_printoptions(suppress=True)\n",
    "print(np.array([np.arange(len(x)), np.round(y, 2)]).T)\n",
    "print('yn =', np.round(yn, 2))"
   ]
  },
  {
   "cell_type": "markdown",
   "id": "093034a8",
   "metadata": {},
   "source": [
    "### Exponential moving average\n",
    "\n",
    "$y[n] = ax[n]+(1-a)y[n-1]$\n",
    "\n",
    "$H(z) = \\dfrac{a}{1 - (1-a)z^{-1}}$\n",
    "\n",
    "证明：对于 x[n] = constant, y[n] 收敛到 constant。\n",
    "\n",
    "$H(1) = \\dfrac{a}{1-(1-a)} = \\dfrac{a}{a} = 1$, if $a \\ne 0$"
   ]
  },
  {
   "cell_type": "code",
   "execution_count": null,
   "id": "f9b3952b",
   "metadata": {},
   "outputs": [],
   "source": [
    "a = 0.8\n",
    "\n",
    "dlti = signal.dlti([a], [1, a-1])\n",
    "draw_pzmap(dlti)\n",
    "print('Zeros:', dlti.zeros)\n",
    "print('Poles:', dlti.poles)"
   ]
  },
  {
   "cell_type": "code",
   "execution_count": null,
   "id": "29d7ab4b",
   "metadata": {},
   "outputs": [],
   "source": [
    "@interact(a=(0.1, 0.9, 0.1))\n",
    "def ema(a):\n",
    "  dlti = signal.dlti([a], [1, a-1])\n",
    "  t, imp = dlti.impulse()\n",
    "  plt.stem(t, imp[0], use_line_collection=True)\n",
    "  plt.figure(2)\n",
    "  t, step = dlti.step()\n",
    "  plt.stem(t, step[0], use_line_collection=True)"
   ]
  },
  {
   "cell_type": "code",
   "execution_count": null,
   "id": "37dfd72a",
   "metadata": {},
   "outputs": [],
   "source": [
    "@interact(a=(0.1, 0.9, 0.1))\n",
    "def ema(a):\n",
    "  dlti = signal.dlti([a], [1, a-1])\n",
    "  draw_pzmap(dlti)\n",
    "  plt.figure(2)\n",
    "  w, mag = dlti.freqresp()\n",
    "  plt.plot(w/np.pi, np.abs(mag))\n",
    "  plt.ylim(0, 1.1)"
   ]
  },
  {
   "cell_type": "markdown",
   "id": "5a9cd02e",
   "metadata": {},
   "source": [
    "#### How does TCP calculates RTT"
   ]
  },
  {
   "cell_type": "markdown",
   "id": "365d002a",
   "metadata": {},
   "source": [
    "### Fibonacci sequence\n",
    "\n",
    "$y[n] = y[n-1] + y[n-2]$, with $y[-1] = 1$\n",
    "\n",
    "$H(z) = \\dfrac{1}{1-z^{-1}-z^{-2}}$"
   ]
  },
  {
   "cell_type": "code",
   "execution_count": null,
   "id": "ce07ed5b",
   "metadata": {},
   "outputs": [],
   "source": [
    "dlti = signal.dlti([1], [1, -1, -1])\n",
    "draw_pzmap(dlti)\n",
    "print('Zeros:', dlti.zeros)\n",
    "print('Poles:', dlti.poles)"
   ]
  },
  {
   "cell_type": "code",
   "execution_count": null,
   "id": "eb2417a8",
   "metadata": {},
   "outputs": [],
   "source": [
    "dlti.impulse(n=15)[1]"
   ]
  },
  {
   "cell_type": "markdown",
   "id": "76421553",
   "metadata": {},
   "source": [
    "### Second order digital sinusoidal oscillator\n",
    "\n",
    "$y[n]=2\\cos(w)y[n-1]-y[n-2]$, with $y[-1] = \\sin(w)$\n",
    "\n",
    "$H(z) = \\dfrac{1}{1-2\\cos(w)z^{-1}+z^{-2}}$\n",
    "\n",
    "* Digital resonator\n",
    "https://ccrma.stanford.edu/~jos/pdf/GordonAndSmith86.pdf\n",
    "* [MIT OCW 6.003](https://ocw.mit.edu/courses/6-003-signals-and-systems-fall-2011/pages/readings/) notes [Chap 6 - The perfect (sine) wave](https://ocw.mit.edu/courses/6-003-signals-and-systems-fall-2011/resources/mit6_003f11_chap6/) using [leapfrog method](https://en.wikipedia.org/wiki/Leapfrog_integration)."
   ]
  },
  {
   "cell_type": "code",
   "execution_count": null,
   "id": "4c7293a9",
   "metadata": {},
   "outputs": [],
   "source": [
    "w = np.pi / 10\n",
    "dlti = signal.dlti([1], [1, -2 * np.cos(w), 1])\n",
    "draw_pzmap(dlti)\n",
    "print('Zeros:', dlti.zeros)\n",
    "print('Poles:', dlti.poles)\n",
    "print('Poles amp:', np.abs(dlti.poles), \"angle:\", np.angle(dlti.poles) / np.pi * 180)"
   ]
  },
  {
   "cell_type": "code",
   "execution_count": null,
   "id": "55f9496d",
   "metadata": {},
   "outputs": [],
   "source": [
    "y = dlti.impulse()[1]\n",
    "plt.plot(y[0])"
   ]
  },
  {
   "cell_type": "code",
   "execution_count": null,
   "id": "2fac9b55",
   "metadata": {},
   "outputs": [],
   "source": [
    "# This is numerically instable\n",
    "\n",
    "fs = 1000\n",
    "f = 60\n",
    "w = 2*np.pi*f/fs\n",
    "c = np.cos(w)\n",
    "a = [1, -2*c, 1]\n",
    "n = 101\n",
    "x = np.zeros(n) * 0.0\n",
    "y0 = np.sin(w)\n",
    "y, yn = signal.lfilter([1], a, x, zi=[0, y0])\n",
    "t = np.arange(n)/fs\n",
    "plt.plot(t, y)\n",
    "print(max(y), min(y))"
   ]
  },
  {
   "cell_type": "code",
   "execution_count": null,
   "id": "d181e392",
   "metadata": {},
   "outputs": [],
   "source": []
  },
  {
   "cell_type": "markdown",
   "id": "81698b5c",
   "metadata": {},
   "source": [
    "### Summary\n",
    "\n",
    "单输入单输出（SISO）的 DLTI 系统可由 $\\mathbf{a}, \\mathbf{b}$ 两个向量，总共 $L+M+1$ 个系数完全定义：\n",
    "\n",
    "![IIR](data/iir.png)\n",
    "\n",
    "$$\\begin{aligned}\n",
    "y[n] = &\\sum_{i=0}^{L}b[i]x[n-i] - \\sum_{i=1}^{M}a[i\\,]y[n-i\\,] \\\\\n",
    " = & \\  b[0]x[n] + b[1]x[n-1] + \\cdots + b[L]x[n-L] \\\\\n",
    "        &-(a[1]y[n-1]+a[2]y[n-2]+\\cdots+a[M]y[n-M])\n",
    "\\end{aligned}$$\n",
    "\n",
    "**注解**\n",
    "\n",
    "1. LTI 是 Linear Time-Invariant 的首字母缩写，现在一般统一按字面意思翻译为“线性时不变”，有些比较旧的书上也叫“线性定常”。\n",
    "2. 离散 LTI，有的书也叫线性移不变 （Linear Shift-Invariant）"
   ]
  },
  {
   "cell_type": "markdown",
   "id": "71fb213c",
   "metadata": {},
   "source": [
    "## Convolution\n",
    "\n",
    "本节内容视频讲解：https://youtu.be/79YKlXecF7w 国内：[卷积](https://www.bilibili.com/video/BV1ng41117wB)\n",
    "\n",
    "For LTI systems:\n",
    "\n",
    "$Output = Convolve(Input, ImpulseResponse)$"
   ]
  },
  {
   "cell_type": "markdown",
   "id": "d3eb2af9",
   "metadata": {},
   "source": [
    "Acoustic Impulse Responses\n",
    "\n",
    "* [Allen Downey - ThinkDSP](https://github.com/AllenDowney/ThinkDSP)\n",
    "  * Execrise 10.2 _Simulate the sound of your recording in the space where the impulse response was measured, ..._\n",
    "* [Allen Downey - Introduction to Digital Signal Processing - PyCon 2018](https://www.youtube.com/watch?v=SrJq2AzXZME)\n",
    "* [Basic Sound Processing in Python | SciPy 2015 | Allen Downey](https://www.youtube.com/watch?v=0ALKGR0I5MA) 15 min\n",
    "\n",
    "A room (e.g. concert hall) behaves like a LTI system for sound.\n",
    "Here _Time-Invariant_ is assumed.\n",
    "\n",
    " * [Open Air Library](https://www.openairlib.net/) - acoustic impulse responses\n",
    " * [PyRoomAcoustics](https://pyroomacoustics.readthedocs.io/en/pypi-release/index.html) - Room Acoustics Simulation\n",
    "\n",
    "Librosa\n",
    "\n",
    "* https://medium.com/@patrickbfuller/librosa-a-python-audio-libary-60014eeaccfb\n",
    "* https://www.youtube.com/watch?v=MhOdbtPhbLU\n"
   ]
  },
  {
   "cell_type": "code",
   "execution_count": null,
   "id": "640cfa52",
   "metadata": {},
   "outputs": [],
   "source": [
    "rosa.util.list_examples()"
   ]
  },
  {
   "cell_type": "markdown",
   "id": "f7a462d2",
   "metadata": {},
   "source": [
    "本节的实验会用到本地文件，因此无法在 Colab 上直接运行。"
   ]
  },
  {
   "cell_type": "code",
   "execution_count": null,
   "id": "b381c46e",
   "metadata": {},
   "outputs": [],
   "source": [
    "x, sr = rosa.load('data/poem.ogg')\n",
    "t = np.arange(len(x)) / sr\n",
    "plt.plot(t, x)\n",
    "\n",
    "Audio(x, rate=sr, normalize=False)"
   ]
  },
  {
   "cell_type": "code",
   "execution_count": null,
   "id": "310451a9",
   "metadata": {},
   "outputs": [],
   "source": [
    "f = rosa.stft(x)\n",
    "rosa.display.specshow(rosa.amplitude_to_db(np.abs(f)), sr=sr, y_axis='hz', x_axis='s')\n",
    "plt.colorbar()"
   ]
  },
  {
   "cell_type": "code",
   "execution_count": null,
   "id": "d3b6de0e",
   "metadata": {},
   "outputs": [],
   "source": [
    "spec = rosa.feature.melspectrogram(y=x, sr=sr)\n",
    "db_spec = rosa.power_to_db(spec, ref=np.max)\n",
    "rosa.display.specshow(db_spec,y_axis='mel', x_axis='s', sr=sr)\n",
    "# plt.colorbar()"
   ]
  },
  {
   "cell_type": "markdown",
   "id": "0e604534",
   "metadata": {},
   "source": [
    "### Innocent Railway Tunnel\n",
    "\n",
    "https://www.openair.hosted.york.ac.uk/?page_id=525\n",
    "\n",
    "这是一个过去的火车隧道的冲击响应。"
   ]
  },
  {
   "cell_type": "code",
   "execution_count": null,
   "id": "832e833e",
   "metadata": {},
   "outputs": [],
   "source": [
    "h1, sr = rosa.load('data/middle_tunnel_1way_mono.flac')\n",
    "\n",
    "rosa.display.waveshow(y=h1, sr=sr)\n",
    "Audio(h1, rate=sr, normalize=False)"
   ]
  },
  {
   "cell_type": "code",
   "execution_count": null,
   "id": "4b0717de",
   "metadata": {},
   "outputs": [],
   "source": [
    "y1 = signal.oaconvolve(x, h1, mode='full')\n",
    "print(\"%.3f sec\" % (len(y1)/sr))\n",
    "Audio(y1, rate=sr, normalize=True)"
   ]
  },
  {
   "cell_type": "code",
   "execution_count": null,
   "id": "91f4d15a",
   "metadata": {},
   "outputs": [],
   "source": [
    "plt.figure(figsize=(15,6))\n",
    "\n",
    "plt.subplot(121)\n",
    "f1 = rosa.stft(y1[0:sr*9])\n",
    "rosa.display.specshow(rosa.amplitude_to_db(np.abs(f1)), sr=sr, y_axis='hz', x_axis='s')\n",
    "plt.title('Convoluted')\n",
    "\n",
    "plt.subplot(122)\n",
    "rosa.display.specshow(rosa.amplitude_to_db(np.abs(f)), sr=sr, y_axis='hz', x_axis='s')\n",
    "plt.title('Original')"
   ]
  },
  {
   "cell_type": "markdown",
   "id": "02b1257a",
   "metadata": {},
   "source": [
    "**练习**：用英国 York 大学 Central Hall 的冲击响应重做以上实验。\n",
    "\n",
    "https://www.openair.hosted.york.ac.uk/?page_id=435"
   ]
  },
  {
   "cell_type": "markdown",
   "id": "73213c45",
   "metadata": {},
   "source": [
    "### Deconvolution\n",
    "\n",
    "https://en.wikipedia.org/wiki/Deconvolution\n",
    "\n",
    "One of Prof. Alan V. Oppenheim's faviourite examples: Digital restoration of Enrico Caruso's recordings by Thomas Stockham. 1975 paper: \"Blind deconvolution through Digital Signal Processing\".\n",
    "\n",
    "* [MIT RES.6-007 Signals ans Systems, 1987](https://youtu.be/KJnAy6hzetw?t=760)\n",
    "* [MIT RES.6-008 Digital Signal Processing, 1975](https://youtu.be/rkvEM5Y3N60?t=338)\n",
    "* [MITx 6.341x Discrete-Time Signal Processing, 2016](https://learning.edx.org/course/course-v1:MITx+6.341x_2+2T2016/block-v1:MITx+6.341x_2+2T2016+type@sequential+block@Enrichment_lecture_How_Caruso_Lost_His_Orchestra/block-v1:MITx+6.341x_2+2T2016+type@vertical+block@Enrichment_Lecture_2_Video_3)\n",
    "\n"
   ]
  },
  {
   "cell_type": "markdown",
   "id": "737676c3",
   "metadata": {},
   "source": [
    "## Summary\n",
    "\n",
    "DLTI 系统模型之间的相互转换\n",
    "\n",
    "![DLTI](data/dlti.png)\n",
    "\n",
    "$$\\begin{aligned}\n",
    "y[n] &= \\sum_{i=0}^{L}b_ix[n-i\\,] - \\sum_{i=1}^{M}a_iy[n-i\\,] \\\\\n",
    "     &=  \\  b_0x[n] + b_1x[n-1] + \\cdots + b_Lx[n-L] \\\\\n",
    "     & \\quad   -(a_1y[n-1]+a_2y[n-2]+\\cdots+a_My[n-M])\\\\[3mm]\n",
    "H(z) &= \\frac{\\sum_{i=0}^{L}b_iz^{-i}}{1+ \\sum_{i=1}^{M}a_iz^{-i}} \\\\\n",
    "     &= \\frac{b_0 + b_1z^{-1}+b_2z^{-2}+\\cdots+b_Lz^{-L}}{1+a_1z^{-1}+a_2z^{-2}+\\cdots+a_Mz^{-M}}\\\\[3mm]\n",
    "H(z) &= b_0\\frac{\\prod_{i=1}^L(1-z_iz^{-1})}{\\prod_{i=1}^M(1-p_iz^{-1})} \\\\\n",
    "     &=b_0\\frac{(1-z_1z^-1)(1-z_2z^{-1})\\cdots(1-z_Lz^{-1})}{(1-p_1z^-1)(1-p_2z^{-1})\\cdots(1-z_Mz^{-1})}\n",
    "\\end{aligned}$$\n",
    "\n",
    "本套实验没有使用 $z$ 变换分析 DLTI 系统，这种方法在一般的教材上都会介绍，我就不费口舌了。比如\n",
    "https://web.eecs.umich.edu/~fessler/course/451/l/pdf/c3.pdf"
   ]
  }
 ],
 "metadata": {
  "celltoolbar": "Tags",
  "kernelspec": {
   "display_name": "Python 3 (ipykernel)",
   "language": "python",
   "name": "python3"
  },
  "language_info": {
   "codemirror_mode": {
    "name": "ipython",
    "version": 3
   },
   "file_extension": ".py",
   "mimetype": "text/x-python",
   "name": "python",
   "nbconvert_exporter": "python",
   "pygments_lexer": "ipython3",
   "version": "3.9.12"
  }
 },
 "nbformat": 4,
 "nbformat_minor": 5
}
