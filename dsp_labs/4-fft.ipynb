{
 "cells": [
  {
   "cell_type": "markdown",
   "id": "1eff9148",
   "metadata": {},
   "source": [
    "# DFT and FFT\n",
    "\n",
    "https://en.wikipedia.org/wiki/Discrete_Fourier_transform\n",
    "\n",
    "DFT 定义：对于 $N$ 个点的输入信号 $x[n], n = 0, 1, \\ldots, N-1$\n",
    "\n",
    "$$X[k] = \\sum_{n=0}^{N-1} x[n] e^{-j 2 \\pi  n k / N} \\quad \\mathrm{for}\\ k = 0, 1, \\ldots, N-1$$\n",
    "\n",
    "$$X[k] = \\sum_{n=0}^{N-1} x[n] w_N^{nk}  \\quad \\mathrm{where} \\quad w_N = e^{-j 2 \\pi / N} $$"
   ]
  },
  {
   "cell_type": "code",
   "execution_count": 2,
   "id": "4eb9967c",
   "metadata": {
    "tags": [
     "hide-input"
    ]
   },
   "outputs": [],
   "source": [
    "import numpy as np\n",
    "import matplotlib.pyplot as plt\n",
    "import scipy.signal as signal\n",
    "\n",
    "import librosa as rosa\n",
    "import librosa.display\n",
    "from IPython.display import Audio\n",
    "\n",
    "from ipywidgets import interact\n",
    "\n",
    "np.set_printoptions(suppress=True)\n",
    "\n",
    "def draw_resp_stem(x, y):\n",
    "  plt.stem(x)\n",
    "  (markerline, _, _) = plt.stem(y, linefmt='r', markerfmt='ro')\n",
    "  markerline.set_markerfacecolor('none')"
   ]
  },
  {
   "cell_type": "markdown",
   "id": "a517b2b7",
   "metadata": {},
   "source": [
    "1. 电子系教材的传统讲法：Fourier 系数 ⇒ Fourier 变换 ⇒ DTFT ⇒ DFT \n",
    "https://en.wikipedia.org/wiki/Fourier_series\n",
    "\n",
    "|     | 周期 | 非周期 | 课程 | 数学工具 |\n",
    "| --- | ---- | ---- | --- | --- |\n",
    "| 连续 | Fourier 系数 |  Fourier 变换 | 《信号与系统》 | 积分 |\n",
    "| 离散 | DFT | DTFT | 《数字信号处理》 | 求和（向量内积）|\n",
    "\n",
    "这种讲法对于非 EE 专业的人来说，路径太长了。现在数字信号处理应用非常广泛，很多非 EE 专业的人也需要学习 DSP （非指 DSP 芯片），特别是可能用到 FFT 来提取频率特征，例如在 Web 页面上显示音乐的视觉特效。我认为对于这部分人，可以在学过线性代数的基础上，用矩阵乘法的概念直接讲 DFT/FFT，跳过前面的 DTFT 等铺垫，用一两个小时的时间掌握 FFT 的精髓。\n",
    "\n",
    "DFT 叫离散 Fourier 变换，其实或许叫“离散 Fourier 级数”更合适，因为它得到的是一个数组，而不是连续函数。FFT 是计算 DFT 的快速算法，但是因为估计没有人会按 DFT 的定义去算，那样太慢了，于是 DFT 和 FFT 往往可以不加区分地使用。\n",
    "\n",
    "2. 线性代数，矩阵乘以向量 $\\Rightarrow$ 酉空间的坐标变换 https://www.youtube.com/watch?v=M0Sa8fLOajA\n",
    "3. 信号的相关性，$X(\\omega) = \\langle \\boldsymbol x, \\boldsymbol s_\\omega \\rangle$ ，$ \\boldsymbol s_\\omega $ 是角频率 $\\omega$ 的 complex sinusoid 信号\n",
    "4. 《算法导论》独辟蹊径的讲法：多项式乘法（卷积）的快速算法 https://www.youtube.com/watch?v=h7apO7q16V0\n",
    "5. 把 DFT 视为单层人工神经网络 \n",
    "$y_k = \\varphi\\left(\\displaystyle \\sum_n w_{kn} x_n + b_k\\right)$\n",
    "https://sidsite.com/posts/fourier-nets/ \n",
    "> We can consider the discrete Fourier transform (DFT) to be an artificial neural network: it is a single layer network, with **no bias**, **no activation function**, and particular values for the **weights**. The number of output nodes is equal to the number of frequencies we evaluate."
   ]
  },
  {
   "cell_type": "markdown",
   "id": "cd10dfa1",
   "metadata": {},
   "source": [
    "叠加两个信号很容易，如何把它分解为原始信号？"
   ]
  },
  {
   "cell_type": "code",
   "execution_count": 3,
   "id": "e96ce0a0",
   "metadata": {},
   "outputs": [
    {
     "data": {
      "application/vnd.jupyter.widget-view+json": {
       "model_id": "e079c7dd9c164d1bba30a182a638dee9",
       "version_major": 2,
       "version_minor": 0
      },
      "text/plain": [
       "interactive(children=(FloatSlider(value=1.0, description='amp', max=1.0), FloatSlider(value=0.0, description='…"
      ]
     },
     "metadata": {},
     "output_type": "display_data"
    }
   ],
   "source": [
    "@interact(amp=(0, 1, 0.1), phi=(-1,1,0.1))\n",
    "def synthesis(amp = 1, phi=0):\n",
    "  w = np.linspace(0, 4*np.pi, 100)\n",
    "  x1 = np.sin(w)\n",
    "  plt.plot(w, x1)\n",
    "  x2 = np.sin(2*w + phi*np.pi) * amp\n",
    "  plt.plot(w, x2)\n",
    "  plt.plot(w, x1+x2)\n",
    "  plt.ylim(-2,2)"
   ]
  },
  {
   "cell_type": "markdown",
   "id": "67d7a78c",
   "metadata": {},
   "source": [
    "## Spot Correlation\n",
    "\n",
    "对于实数，$\\boldsymbol a, \\boldsymbol b$ 两个向量的内积 $\\langle \\boldsymbol a, \\boldsymbol b\\rangle = \\boldsymbol a \\cdot \\boldsymbol b = \\displaystyle \\sum_ i a_i b_i$\n",
    "\n",
    "$\\boldsymbol a \\cdot \\boldsymbol b$ 表示 $\\boldsymbol a$ 在 $\\boldsymbol b$ 上的投影长度。如果 $\\boldsymbol a, \\boldsymbol b$ 同向或反向，内积最大，如果 $\\boldsymbol a, \\boldsymbol b$ 垂直（正交），内积为 0.\n",
    "\n",
    "怎么知道信号 $\\boldsymbol{x} = (x_0, x_1, \\ldots, x_{N-1})$ 有哪些频率成分？\n",
    "\n",
    "一个 naive 的想法：用一个已知频率为 $\\omega=2\\pi f / N$ 的信号 $\\boldsymbol{s}_\\omega = \\cos(\\omega n)$ 去试，乘出来的结果越大，说明信号 $\\boldsymbol{x}$ 在这个频率上的分量越大，也就是 $\\boldsymbol{x}$ 和 $\\boldsymbol{s}_\\omega$ 的“相关性”强。\n",
    "\n",
    "但是，就算 $\\boldsymbol{x}$ 的频率也是 $\\omega$，\n",
    "但不巧 $\\boldsymbol x = \\sin(\\omega n)$ ，\n",
    "结果 $ \\boldsymbol x \\cdot \\boldsymbol{s}_\\omega = 0$ 咋办？\n"
   ]
  },
  {
   "cell_type": "markdown",
   "id": "6cf2a0d0",
   "metadata": {},
   "source": []
  },
  {
   "cell_type": "markdown",
   "id": "ffecafd1",
   "metadata": {},
   "source": [
    "## DFT Matrix\n",
    "\n",
    "https://en.wikipedia.org/wiki/DFT_matrix"
   ]
  },
  {
   "cell_type": "markdown",
   "id": "ccfb69d2",
   "metadata": {},
   "source": [
    "## Peak detection and correction\n",
    "\n",
    "Richard G. Lyons, _Understanding Digital Signal Processing 3/e_, 2011.\n",
    "\n",
    "§ 13.15 Spectral Peak Location Algorithm\n"
   ]
  },
  {
   "cell_type": "markdown",
   "id": "7b37989d",
   "metadata": {},
   "source": [
    "## 频率分辨率和时间分辨率\n",
    "\n",
    "FFT 的频率分辨率 $\\dfrac{f_s}{N}$，时间分辨率 $\\dfrac{N}{f_s}$\n"
   ]
  },
  {
   "cell_type": "markdown",
   "id": "25d1fb99",
   "metadata": {},
   "source": []
  },
  {
   "cell_type": "markdown",
   "id": "b2ba602d",
   "metadata": {},
   "source": []
  }
 ],
 "metadata": {
  "celltoolbar": "Tags",
  "kernelspec": {
   "display_name": "Python 3 (ipykernel)",
   "language": "python",
   "name": "python3"
  },
  "language_info": {
   "codemirror_mode": {
    "name": "ipython",
    "version": 3
   },
   "file_extension": ".py",
   "mimetype": "text/x-python",
   "name": "python",
   "nbconvert_exporter": "python",
   "pygments_lexer": "ipython3",
   "version": "3.11.8"
  }
 },
 "nbformat": 4,
 "nbformat_minor": 5
}
