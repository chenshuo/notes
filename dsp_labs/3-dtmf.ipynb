{
 "cells": [
  {
   "cell_type": "markdown",
   "id": "1eff9148",
   "metadata": {},
   "source": [
    "# DTMF\n",
    "\n",
    "这是陈硕写的《数字信号处理入门实验》的第三个实验，介绍双音多频（DTMF）信号的解码。\n",
    "最新版网址： http://github.com/chenshuo/notes\n",
    "\n",
    "本章内容的视频讲解在\n",
    "* [DTMF](https://www.youtube.com/watch?v=nwtPnGi7cFU)  国内：https://www.bilibili.com/video/BV1FB4y1t7D7\n",
    "* [Goertzel 算法解码 DTMF](https://www.youtube.com/watch?v=0JdW0RXH9ik)  国内：https://www.bilibili.com/video/BV19g411C7T4\n",
    "\n",
    "DTMF 是最简单的频率分析：判断信号是否保护某一特定频率成分。\n",
    "\n"
   ]
  },
  {
   "cell_type": "code",
   "execution_count": null,
   "id": "4eb9967c",
   "metadata": {
    "tags": [
     "hide-input"
    ]
   },
   "outputs": [],
   "source": [
    "import numpy as np\n",
    "import matplotlib.pyplot as plt\n",
    "import scipy.signal as signal\n",
    "\n",
    "import librosa as rosa\n",
    "import librosa.display\n",
    "from IPython.display import Audio\n",
    "\n",
    "from ipywidgets import interact\n",
    "\n",
    "np.set_printoptions(suppress=True)"
   ]
  },
  {
   "cell_type": "markdown",
   "id": "67d7a78c",
   "metadata": {},
   "source": [
    "一般来说，\n",
    "\n",
    "这是一幅流传很广的示意图：\n",
    "\n",
    "![frequency](data/frequency_view.png)\n",
    "\n",
    "By Phonical – Own work, CC BY-SA 4.0,\n",
    "https://commons.wikimedia.org/w/index.php?curid=64473578"
   ]
  },
  {
   "cell_type": "markdown",
   "id": "6cf2a0d0",
   "metadata": {},
   "source": [
    "## 信号的合成（synthesis）与分解（analysis）"
   ]
  },
  {
   "cell_type": "code",
   "execution_count": null,
   "id": "4b1234c5",
   "metadata": {},
   "outputs": [],
   "source": [
    "w = np.linspace(0, 2*np.pi, 100)\n",
    "x = np.sin(w)\n",
    "x2 = np.sin(2*w)\n",
    "x3 = np.sin(3*w)\n",
    "p=plt.plot(w, x, w, x2, w, x3)"
   ]
  },
  {
   "cell_type": "code",
   "execution_count": null,
   "id": "50607a46",
   "metadata": {},
   "outputs": [],
   "source": [
    "x5 = np.sin(5*w)\n",
    "x7 = np.sin(7*w)\n",
    "plt.plot(w, x + x3 / 3 + x5 / 5 + x7 / 7)"
   ]
  },
  {
   "cell_type": "markdown",
   "id": "906a15d5",
   "metadata": {},
   "source": [
    "基本问题：信号合成的求逆。例如对于采用率为 48kHz，合成一个 440Hz 的正弦信号：\n",
    "\n",
    "$$x = \\sin(2\\pi f t), \\quad \\mathrm{where}\\ f = 440\\mathrm{Hz}$$"
   ]
  },
  {
   "cell_type": "code",
   "execution_count": null,
   "id": "cbd10bb5",
   "metadata": {},
   "outputs": [],
   "source": [
    "fs = 48000\n",
    "t = np.arange(fs * 10 / 1000) / fs  # 10ms\n",
    "f = 440  # https://en.wikipedia.org/wiki/A440_(pitch_standard)\n",
    "x0 = np.sin(2*np.pi*f*t)\n",
    "plt.plot(t, x0)"
   ]
  },
  {
   "cell_type": "code",
   "execution_count": null,
   "id": "8c9adf4e",
   "metadata": {},
   "outputs": [],
   "source": [
    "x1 = rosa.tone(440, sr=48000, duration=3)\n",
    "plt.plot(x1[0:480])\n",
    "print(sum(np.abs(x0-x1[0:480])))\n",
    "Audio(data=x1, rate=48000)"
   ]
  },
  {
   "cell_type": "markdown",
   "id": "d2a0110f",
   "metadata": {},
   "source": [
    "如果拿到的是这个输入信号，如何求出它的频率、幅度、相位？\n",
    "\n",
    "对于单一频率的信号，可以测量其周期（过零点），那么多频率的信号呢？"
   ]
  },
  {
   "cell_type": "markdown",
   "id": "18666141",
   "metadata": {},
   "source": [
    "如果一个 1000Hz 的正弦波和一个 440Hz 的正弦波叠加在一起，得到信号 $y = \\sin(1000 \\omega) + \\sin(440 \\omega)$ . 如何找到这两个频率？"
   ]
  },
  {
   "cell_type": "code",
   "execution_count": null,
   "id": "f1d400b4",
   "metadata": {},
   "outputs": [],
   "source": [
    "x2 = rosa.tone(1000, sr=48000, duration=3)\n",
    "y = x1 + x2\n",
    "plt.plot(t, y[0:480])\n",
    "Audio(data=y, rate=48000)"
   ]
  },
  {
   "cell_type": "markdown",
   "id": "72e606fa",
   "metadata": {},
   "source": [
    "如果已知某信号包含高低两个频率，如何去掉其中任何一个？ Filtering"
   ]
  },
  {
   "cell_type": "markdown",
   "id": "ffecafd1",
   "metadata": {},
   "source": [
    "## DTMF\n",
    "\n",
    "https://en.wikipedia.org/wiki/Dual-tone_multi-frequency_signaling\n",
    "\n",
    "|        | 1209 Hz | 1336 Hz | 1477 Hz |\n",
    "| -----: | :-----: | :-----: | :-----: |\n",
    "| 697 Hz |  **1**  |  **2**  |  **3**  |\n",
    "| 770 Hz |  **4**  |  **5**  |  **6**  |\n",
    "| 852 Hz |  **7**  |  **8**  |  **9**  |\n",
    "| 941 Hz |  **$*$** |  **0**  |  **#**  |\n",
    "\n",
    "https://www.mathworks.com/help/signal/ug/dft-estimation-with-the-goertzel-algorithm.html\n",
    "\n",
    "https://hackaday.com/2020/11/13/dsp-spreadsheet-the-goertzel-algorithm-is-fouriers-simpler-cousin/\n",
    "\n",
    "2012 年 8 月”南京大学学生听拨号声破解周鸿祎手机号“\n"
   ]
  },
  {
   "cell_type": "code",
   "execution_count": null,
   "id": "da508d75",
   "metadata": {},
   "outputs": [],
   "source": [
    "import itertools\n",
    "\n",
    "dtmf_row = [697, 770, 852, 941]\n",
    "dtmf_col = [1209, 1336, 1477]\n",
    "dtmf_digits = '123456789*0#'\n",
    "digit_to_freq = dict(zip(dtmf_digits, itertools.product(dtmf_row, dtmf_col)))\n",
    "digit_to_freq"
   ]
  },
  {
   "cell_type": "markdown",
   "id": "ccfb69d2",
   "metadata": {},
   "source": [
    "## Generate DTMF tone\n"
   ]
  },
  {
   "cell_type": "code",
   "execution_count": null,
   "id": "3c1589fd",
   "metadata": {},
   "outputs": [],
   "source": [
    "digit_to_freq = {\n",
    "    '1' : (697, 1209),\n",
    "    '2' : (697, 1336),\n",
    "    '3' : (697, 1477),\n",
    "    '4' : (770, 1209),\n",
    "    '5' : (770, 1336),\n",
    "    '6' : (770, 1477),\n",
    "    '7' : (852, 1209),\n",
    "    '8' : (852, 1336),\n",
    "    '9' : (852, 1477),\n",
    "    '*' : (941, 1209),\n",
    "    '0' : (941, 1336),\n",
    "    '#' : (941, 1477),\n",
    "}\n",
    "\n",
    "fs = 8000\n",
    "def dtmf_single(digit):\n",
    "  on = 800   # 100ms\n",
    "  x = np.zeros(on)\n",
    "  w = np.arange(on) / fs * 2 * np.pi\n",
    "  freqs = digit_to_freq[digit]\n",
    "  for f in freqs:\n",
    "    x += np.sin(w * f) * 0.5\n",
    "  return x"
   ]
  },
  {
   "cell_type": "code",
   "execution_count": null,
   "id": "3a4476e8",
   "metadata": {},
   "outputs": [],
   "source": [
    "digit_1 = dtmf_single('1')\n",
    "plt.plot(digit_1[0:100])\n",
    "Audio(digit_1, rate=fs)"
   ]
  },
  {
   "cell_type": "code",
   "execution_count": null,
   "id": "0e0b7c45",
   "metadata": {},
   "outputs": [],
   "source": [
    "digit_2 = dtmf_single('2')\n",
    "plt.plot(digit_2[0:100])\n",
    "Audio(digit_2, rate=fs)"
   ]
  },
  {
   "cell_type": "code",
   "execution_count": null,
   "id": "b86da43f",
   "metadata": {},
   "outputs": [],
   "source": [
    "def dtmf_multi(digits):\n",
    "  off = 800  # 100ms\n",
    "  gap = np.zeros(off)\n",
    "  y = np.array([])\n",
    "  for d in digits:\n",
    "    if d != '-':\n",
    "      x = dtmf_single(d)\n",
    "    else:\n",
    "      x = np.zeros(200)\n",
    "    y = np.append(y, x)\n",
    "    y = np.append(y, gap)\n",
    "  return y"
   ]
  },
  {
   "cell_type": "code",
   "execution_count": null,
   "id": "e71bd293",
   "metadata": {},
   "outputs": [],
   "source": [
    "dial_e = dtmf_multi('271-828-1828')\n",
    "plt.plot(dial_e)\n",
    "Audio(dial_e, rate=fs)"
   ]
  },
  {
   "cell_type": "code",
   "execution_count": null,
   "id": "8a98da4c",
   "metadata": {},
   "outputs": [],
   "source": [
    "dial_today = dtmf_multi('2022-08-31')\n",
    "Audio(dial_today, rate=fs)"
   ]
  },
  {
   "cell_type": "markdown",
   "id": "7b37989d",
   "metadata": {},
   "source": [
    "## Single point DFT\n",
    "\n",
    "\n",
    "一个 Naive 的频率分析方法：用已知频率的正弦信号去点乘输入信号（计算相关度），如果得到的数越大，说明输入信号在这个频率的分量越大。这正是 DFT/FFT 的原理（之一）。\n",
    "\n",
    "$$X[k] = \\sum_{n=0}^{N-1} x[n] e^{-j 2 \\pi  n k / N}$$"
   ]
  },
  {
   "cell_type": "code",
   "execution_count": null,
   "id": "8189b7cf",
   "metadata": {},
   "outputs": [],
   "source": [
    "def single_dft(x, k):\n",
    "  N = len(x)\n",
    "  n = np.arange(N) / N  #  n in 0, 1, ..., N-1\n",
    "  w = np.exp(-2j * np.pi * n * k)\n",
    "  return np.dot(x, w)\n",
    "  # Horner's rule to save space, if necessary"
   ]
  },
  {
   "cell_type": "markdown",
   "id": "fae83eba",
   "metadata": {},
   "source": [
    "## Find $N$ and $k$"
   ]
  },
  {
   "cell_type": "markdown",
   "id": "59abdd71",
   "metadata": {},
   "source": [
    "For Fs = 8000\n",
    "\n",
    "* N = 205 in \"Add DTMF generation and decoding to DSP-μP designs\", Pat Mock, 1989.\n",
    "https://www.ti.com/litv/pdf/spra168\n",
    "\n",
    "* N = 105 in \"Modified Goertzel Algorithm in DTMF Detection Using the TMS320C80\", Chiouguey J. Chen, 1996. TI SPRA066\n",
    "\n",
    "* N = 136 in \"DTMF Tone Generation and Detection: An Implementation Using the TMS320C54x\", Gunter Schmer, 2000. TI SPRA096A.\n"
   ]
  },
  {
   "cell_type": "code",
   "execution_count": null,
   "id": "ee23f6a3",
   "metadata": {},
   "outputs": [],
   "source": [
    "freqs = np.array([697, 770, 852, 941, 1209, 1336, 1477])\n",
    "np.diff(freqs)"
   ]
  },
  {
   "cell_type": "code",
   "execution_count": null,
   "id": "e9bf7062",
   "metadata": {},
   "outputs": [],
   "source": [
    "np.round(freqs * 21 / 19, 1)"
   ]
  },
  {
   "cell_type": "markdown",
   "id": "17b3be44",
   "metadata": {},
   "source": [
    "https://engineering.stackexchange.com/questions/37693/how-were-the-tones-for-dtmf-chosen\n",
    "> The tones have been carefully selected to minimize harmonic interference and the probability that a pair of high and low tones will be simulated by the human voice, thus protecting network control signaling."
   ]
  },
  {
   "cell_type": "code",
   "execution_count": null,
   "id": "a9d300bd",
   "metadata": {},
   "outputs": [],
   "source": [
    "freqs * 2"
   ]
  },
  {
   "cell_type": "code",
   "execution_count": null,
   "id": "c8fcf33b",
   "metadata": {},
   "outputs": [],
   "source": [
    "@interact(nfft = (60, 250, 5))\n",
    "def how_many_bins(nfft=205):\n",
    "  fs = 8000\n",
    "  t = np.arange(nfft)/fs\n",
    "  x = np.sin(2*np.pi* freqs.reshape(len(freqs), 1) * t)\n",
    "  print('bin = %.2f Hz' % (fs / nfft))\n",
    "  for i in x:\n",
    "    fft = np.fft.rfft(i)\n",
    "    plt.plot(np.abs(fft[0:(nfft//4)])/nfft)"
   ]
  },
  {
   "cell_type": "markdown",
   "id": "c7dacedd",
   "metadata": {},
   "source": [
    "Find k's"
   ]
  },
  {
   "cell_type": "code",
   "execution_count": null,
   "id": "de2d2636",
   "metadata": {},
   "outputs": [],
   "source": [
    "N = 205\n",
    "bin = fs / N\n",
    "print(freqs / bin)\n",
    "np.round(freqs / bin, 0)"
   ]
  },
  {
   "cell_type": "code",
   "execution_count": null,
   "id": "6bdf85cf",
   "metadata": {},
   "outputs": [],
   "source": [
    "N = 205\n",
    "sr = 8000\n",
    "print('%.2f Hz' % (sr / N))\n",
    "\n",
    "k = np.array([18, 20, 22, 24, 31, 34, 38])\n",
    "print(np.round(k * sr / N, 2))\n",
    "print(np.round(k * sr / N - freqs, 2))"
   ]
  },
  {
   "cell_type": "code",
   "execution_count": null,
   "id": "faabcdc2",
   "metadata": {},
   "outputs": [],
   "source": [
    "N = 205\n",
    "x = dtmf_single('7')[0:N]\n",
    "\n",
    "k = 31\n",
    "fft = np.fft.rfft(x)\n",
    "print('fft:', fft[k])\n",
    "\n",
    "dft = single_dft(x, k)\n",
    "print('dft:', dft, np.abs(dft))\n",
    "print('diff:', np.abs(dft - fft[k]))"
   ]
  },
  {
   "cell_type": "code",
   "execution_count": null,
   "id": "98e34414",
   "metadata": {},
   "outputs": [],
   "source": [
    "N = 205\n",
    "x = dtmf_single('8')[0:N]\n",
    "\n",
    "bins = [18, 20, 22, 24, 31, 34, 38]\n",
    "y = np.zeros(len(bins))\n",
    "\n",
    "for i, k in enumerate(bins):\n",
    "  y[i] = np.abs(single_dft(x, k))\n",
    "plt.figure(figsize=(15,5))\n",
    "plt.subplot(121)\n",
    "plt.stem(bins, y, use_line_collection=True)\n",
    "plt.xlim(16, 39)\n",
    "plt.subplot(122)\n",
    "plt.plot(x)"
   ]
  },
  {
   "cell_type": "code",
   "execution_count": null,
   "id": "85e2a161",
   "metadata": {
    "scrolled": true
   },
   "outputs": [],
   "source": [
    "@interact(digit=(0, 9, 1))\n",
    "def dtmf(digit=1):\n",
    "  N = 205\n",
    "  x = dtmf_single(str(digit))[0:N]\n",
    "\n",
    "  bins = [18, 20, 22, 24, 31, 34, 38]\n",
    "  y = np.zeros(len(bins))\n",
    "\n",
    "  for i, k in enumerate(bins):\n",
    "    y[i] = np.abs(single_dft(x, k))\n",
    "  plt.figure(figsize=(15,5))\n",
    "  plt.subplot(121)\n",
    "  plt.stem(bins, y, use_line_collection=True)\n",
    "  plt.xlim(15, 40)\n",
    "  plt.ylim(-5, 60)\n",
    "  plt.subplot(122)\n",
    "  plt.plot(x[0:100])"
   ]
  },
  {
   "cell_type": "markdown",
   "id": "3e7cfbb0",
   "metadata": {},
   "source": [
    "Threshold = 30"
   ]
  },
  {
   "cell_type": "code",
   "execution_count": null,
   "id": "5117f4ad",
   "metadata": {},
   "outputs": [],
   "source": [
    "N = 205\n",
    "x = np.zeros(N)\n",
    "x[0] = 1\n",
    "bins = [18, 20, 22, 24, 31, 34, 38]\n",
    "for k in bins:\n",
    "  print(np.abs(single_dft(x, k)))"
   ]
  },
  {
   "cell_type": "markdown",
   "id": "fbfb52a1",
   "metadata": {},
   "source": [
    "## Goertzel algorithm\n",
    "\n",
    "格尔泽 1958, earlier than FFT.\n",
    "\n",
    "https://en.wikipedia.org/wiki/Goertzel_algorithm\n",
    "\n",
    "A Simpler Goertzel Algorithm, Rick Lyons, 2021.\n",
    "https://www.dsprelated.com/showarticle/1386.php\n",
    "\n",
    "![Goertzel](data/goertzel.png)"
   ]
  },
  {
   "cell_type": "markdown",
   "id": "369386a4",
   "metadata": {},
   "source": [
    "https://www.mathworks.com/help/signal/ug/dft-estimation-with-the-goertzel-algorithm.html\n",
    "\n",
    "$\\omega = \\dfrac{2\\pi k} {N}$\n",
    "\n",
    "Loop through x[n]: $s[n]=x[n]+2\\cos(\\omega)s[n-1]-s[n-2]$\n",
    "\n",
    "At the end, $X(\\omega) =  e^{j\\omega}s[N-1] -s[N-2]$\n",
    "\n",
    "$power = (s[N-1])^2 + (s[N-2])^2 - 2 \\cos(\\omega)s[N-1]s[N-2]$\n",
    "\n",
    "* one coefficient: $2\\cos \\omega$\n",
    "* real number arithmetic\n",
    "  * $N$ multiplications and $2N$ additions for $s[N]$\n",
    "* constant space (2 real numbers for $s[n-1]$ and $s[n-2]$)"
   ]
  },
  {
   "cell_type": "code",
   "execution_count": null,
   "id": "9c0f6095",
   "metadata": {},
   "outputs": [],
   "source": [
    "k = 18\n",
    "N = 205\n",
    "x = dtmf_single('1')[0:N]\n",
    "\n",
    "w = k * 2 * np.pi / N\n",
    "c = np.cos(w)\n",
    "c2 = 2 * c\n",
    "s1 = 0\n",
    "s2 = 0\n",
    "\n",
    "for p in x:\n",
    "  s0 = p + c2 * s1 - s2\n",
    "  s2 = s1\n",
    "  s1 = s0\n",
    "\n",
    "goert = np.exp(1j*w) * s1 - s2\n",
    "\n",
    "dft = single_dft(x, k)\n",
    "print(dft) \n",
    "print(goert)\n",
    "print(np.real_if_close(dft-goert))\n",
    "\n",
    "power = s1 * s1 + s2 * s2 - c2 * s1 * s2\n",
    "\n",
    "print(np.abs(dft) ** 2)\n",
    "print(np.abs(goert) ** 2)\n",
    "print(power)"
   ]
  },
  {
   "cell_type": "code",
   "execution_count": null,
   "id": "67c87ead",
   "metadata": {},
   "outputs": [],
   "source": [
    "def goertzel(x, k):\n",
    "  N = len(x)\n",
    "  s2 = 0\n",
    "  s1 = 0\n",
    "  s0 = 0\n",
    "  w = k * 2 * np.pi / N\n",
    "  c2 = 2 * np.cos(w)\n",
    "  for p in x:\n",
    "    s0 = p + c2 * s1 - s2\n",
    "    s2 = s1\n",
    "    s1 = s0\n",
    "  power = s1 * s1 + s2 * s2 - c2 * s1 * s2\n",
    "  return power"
   ]
  },
  {
   "cell_type": "code",
   "execution_count": null,
   "id": "31ccdfeb",
   "metadata": {},
   "outputs": [],
   "source": [
    "N = 205\n",
    "bins = [18, 20, 22, 24, 31, 34, 38]\n",
    "\n",
    "results = np.zeros((10, len(bins)))\n",
    "\n",
    "for digit in '0123456789':\n",
    "  x = dtmf_single(digit)[0:N]\n",
    "  fft = np.fft.rfft(x)\n",
    "  for i, k in enumerate(bins):\n",
    "    g = goertzel(x, k)\n",
    "    assert np.allclose(g, np.abs(fft[k])**2)\n",
    "    results[int(digit), i] = g\n",
    "print(np.round(results, 0))"
   ]
  },
  {
   "cell_type": "markdown",
   "id": "45cd0d08",
   "metadata": {},
   "source": [
    "power threshold = 1000"
   ]
  },
  {
   "cell_type": "markdown",
   "id": "b77129e5",
   "metadata": {},
   "source": [
    "## Detect single digit"
   ]
  },
  {
   "cell_type": "code",
   "execution_count": null,
   "id": "b17dd213",
   "metadata": {},
   "outputs": [],
   "source": [
    "bin_to_digit = {}\n",
    "N = 205\n",
    "fs = 8000\n",
    "\n",
    "for digit, freqs in digit_to_freq.items():\n",
    "  bins = np.round(np.array(freqs) / (fs / N), 0)\n",
    "  key = (int(bins[0]), int(bins[1]))\n",
    "  bin_to_digit[key] = digit\n",
    "print(bin_to_digit)\n",
    "\n",
    "# return '0' ~ '9' if detected, - if not\n",
    "def detect_single(x):\n",
    "  N = 205\n",
    "  if len(x) < N:\n",
    "    x = np.append(x, np.zeros(N - len(x)))\n",
    "  x = x[0:N]\n",
    "  assert len(x) == N\n",
    "\n",
    "  bins = [18, 20, 22, 24, 31, 34, 38]\n",
    "  found = []\n",
    "  for k in bins:\n",
    "    g = goertzel(x, k)\n",
    "    if g > 1000:\n",
    "      found.append(k)\n",
    "  return bin_to_digit.get(tuple(found), '-')"
   ]
  },
  {
   "cell_type": "code",
   "execution_count": null,
   "id": "8652f308",
   "metadata": {},
   "outputs": [],
   "source": [
    "for digit in '0123456789':\n",
    "  print(digit, detect_single(dtmf_single(digit)))\n",
    "\n",
    "print(detect_single(np.zeros(0)))\n",
    "print(detect_single(np.zeros(100)))\n",
    "print(detect_single(np.zeros(500)))\n",
    "print(detect_single(np.ones(1000)))\n",
    "print(detect_single(dtmf_single('1') + dtmf_single('2')))\n",
    "print(detect_single(dtmf_single('1') + dtmf_single('5')))\n",
    "print(detect_single(dtmf_single('1')*0.5 + dtmf_single('6')))"
   ]
  },
  {
   "cell_type": "markdown",
   "id": "c8b13c19",
   "metadata": {},
   "source": [
    "## Put it together"
   ]
  },
  {
   "cell_type": "code",
   "execution_count": null,
   "id": "645f65bf",
   "metadata": {},
   "outputs": [],
   "source": [
    "def dtmf_decode(x):\n",
    "  result = ''\n",
    "  i = 0\n",
    "  N = 205\n",
    "\n",
    "  last_digit = '-'\n",
    "  last_count = 0\n",
    "  while i < len(x):\n",
    "    digit = detect_single(x[i:i+N])\n",
    "    i += N\n",
    "    if digit == last_digit:\n",
    "      last_count += 1\n",
    "      continue\n",
    "    if digit == '-':\n",
    "      if last_count >= 2:\n",
    "        result += last_digit\n",
    "    last_digit = digit\n",
    "    last_count = 1\n",
    "  return result"
   ]
  },
  {
   "cell_type": "code",
   "execution_count": null,
   "id": "90a56ebd",
   "metadata": {},
   "outputs": [],
   "source": [
    "print(dtmf_decode(dtmf_multi('123-456-7890')))"
   ]
  },
  {
   "cell_type": "markdown",
   "id": "6f647bda",
   "metadata": {},
   "source": [
    "Online DTMF Tone Generator: \n",
    "https://www.audiocheck.net/audiocheck_dtmf.php"
   ]
  },
  {
   "cell_type": "code",
   "execution_count": null,
   "id": "deede9ef",
   "metadata": {},
   "outputs": [],
   "source": [
    "x, sr = rosa.load('data/dtmf_2022_07_31.wav', sr=None)\n",
    "assert sr == 8000\n",
    "plt.plot(x)\n",
    "Audio(x, rate=sr, normalize=False)"
   ]
  },
  {
   "cell_type": "code",
   "execution_count": null,
   "id": "30c3a5e0",
   "metadata": {},
   "outputs": [],
   "source": [
    "print(dtmf_decode(x))"
   ]
  },
  {
   "cell_type": "markdown",
   "id": "1585fa14",
   "metadata": {},
   "source": [
    "https://en.wikipedia.org/wiki/File:DTMF_dialing.ogg"
   ]
  },
  {
   "cell_type": "code",
   "execution_count": null,
   "id": "2fab5c75",
   "metadata": {},
   "outputs": [],
   "source": [
    "x, sr = rosa.load('data/DTMF_dialing.ogg', sr=None)\n",
    "assert sr == 8000\n",
    "plt.plot(x)\n",
    "Audio(x, rate=sr, normalize=False)"
   ]
  },
  {
   "cell_type": "code",
   "execution_count": null,
   "id": "b2b0814c",
   "metadata": {},
   "outputs": [],
   "source": [
    "y = dtmf_decode(x)\n",
    "print(len(y), y)"
   ]
  },
  {
   "cell_type": "code",
   "execution_count": null,
   "id": "c8db46ca",
   "metadata": {},
   "outputs": [],
   "source": [
    "print(len('06966753564646415180233673141636083381604400826146625368963884821381785073643399'))"
   ]
  },
  {
   "cell_type": "code",
   "execution_count": null,
   "id": "0f7df78b",
   "metadata": {},
   "outputs": [],
   "source": [
    "print(75/80)"
   ]
  },
  {
   "cell_type": "markdown",
   "id": "d69aa242",
   "metadata": {},
   "source": [
    "https://www.sigidwiki.com/wiki/Dual_Tone_Multi_Frequency_(DTMF)"
   ]
  },
  {
   "cell_type": "markdown",
   "id": "08423270",
   "metadata": {},
   "source": [
    "## Real world requirements\n",
    "\n",
    "https://web.archive.org/web/20110925184759/http://nemesis.lonestar.org/reference/telecom/signaling/dtmf.html\n",
    "\n",
    "* Accept frequency error < 1.5%\n",
    "* Reject frequency error > 3.5%\n",
    "* Duration 50ms/45ms\n",
    "* Power 0 to -25 dBm, \n",
    "* Twist \n",
    "\n",
    "Some real world DTMF recievers also checks 2nd harmonics of DTMF frequencies.\n",
    "So 16 points are calculated."
   ]
  },
  {
   "cell_type": "markdown",
   "id": "d44071a9",
   "metadata": {},
   "source": [
    "DTMF receiver chips:\n",
    "\n",
    "* CM8870CSI (obsoleted) by California Micro Devices Corp. 215 Topaz Street, Milpitas, California  95035\n",
    "* MT8870D from Zarlink (active)\n",
    "\n",
    "![MT8870D](data/mt8870d.jpg)"
   ]
  },
  {
   "cell_type": "markdown",
   "id": "aa83c719",
   "metadata": {},
   "source": [
    "Real world code:\n",
    "\n",
    "https://github.com/freeswitch/spandsp/blob/master/src/dtmf.c"
   ]
  },
  {
   "cell_type": "markdown",
   "id": "3d8a5821",
   "metadata": {},
   "source": [
    "## Summary\n",
    "\n",
    "Goertzel Algorithm for a Non-integer Frequency Index, Rick Lyons, 2013.\n",
    "https://www.dsprelated.com/showarticle/495.php\n",
    "\n",
    "### Learn a neural network for DTMF detection?\n",
    "\n",
    "![NN](data/dtmf-nn.png)\n",
    "\n",
    "* First layer: 7 neuros, each to detect a frequency\n",
    "  * DFT can be viewed as a signle layer NN, no bais, no activiation function, just particular weights.\n",
    "* Second layer: 12 neuros, simple AND function, to output 0~9 and * and #.\n",
    "* Find best N using grid searching ?"
   ]
  }
 ],
 "metadata": {
  "celltoolbar": "Tags",
  "kernelspec": {
   "display_name": "Python 3 (ipykernel)",
   "language": "python",
   "name": "python3"
  },
  "language_info": {
   "codemirror_mode": {
    "name": "ipython",
    "version": 3
   },
   "file_extension": ".py",
   "mimetype": "text/x-python",
   "name": "python",
   "nbconvert_exporter": "python",
   "pygments_lexer": "ipython3",
   "version": "3.9.12"
  }
 },
 "nbformat": 4,
 "nbformat_minor": 5
}
