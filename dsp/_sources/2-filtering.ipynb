{
 "cells": [
  {
   "cell_type": "markdown",
   "id": "1eff9148",
   "metadata": {},
   "source": [
    "# Filtering\n",
    "\n",
    "这是陈硕写的《数字信号处理入门实验》的第一个实验，介绍数字滤波器的设计与使用。\n",
    "最新版网址： http://github.com/chenshuo/notes\n",
    "\n",
    "本章内容的视频讲解在"
   ]
  },
  {
   "cell_type": "markdown",
   "id": "fb2edeab",
   "metadata": {},
   "source": [
    "照例先引入 NumPy、SciPy.signal、Matplotlib 等必要的库，再定义两个常用的绘图函数。"
   ]
  },
  {
   "cell_type": "code",
   "execution_count": null,
   "id": "4eb9967c",
   "metadata": {
    "tags": [
     "hide-input"
    ]
   },
   "outputs": [],
   "source": [
    "import numpy as np\n",
    "import matplotlib.pyplot as plt\n",
    "import scipy.signal as signal\n",
    "\n",
    "import librosa as rosa\n",
    "import librosa.display\n",
    "from IPython.display import Audio\n",
    "\n",
    "from ipywidgets import interact\n",
    "\n",
    "np.set_printoptions(suppress=True)"
   ]
  },
  {
   "cell_type": "code",
   "execution_count": null,
   "id": "2f3507ed",
   "metadata": {
    "tags": [
     "hide-input"
    ]
   },
   "outputs": [],
   "source": [
    "def draw_pzmap(dlti):\n",
    "  plt.plot(np.real(dlti.zeros), np.imag(dlti.zeros), 'o', mfc='none')\n",
    "  plt.plot(np.real(dlti.poles), np.imag(dlti.poles), 'x')\n",
    "  w = np.linspace(0, 2*np.pi)\n",
    "  plt.plot(np.cos(w), np.sin(w), 'y--')\n",
    "  limits = plt.axis(\"equal\")\n",
    "  plt.grid()\n",
    "\n",
    "def draw_resp_stem(x, y):\n",
    "  plt.stem(x, use_line_collection=True)\n",
    "  (markerline, _, _) = plt.stem(y, linefmt='r', markerfmt='ro', use_line_collection=True)\n",
    "  markerline.set_markerfacecolor('none')"
   ]
  },
  {
   "cell_type": "markdown",
   "id": "67d7a78c",
   "metadata": {},
   "source": [
    "\n"
   ]
  },
  {
   "cell_type": "markdown",
   "id": "6cf2a0d0",
   "metadata": {},
   "source": []
  },
  {
   "cell_type": "markdown",
   "id": "ffecafd1",
   "metadata": {},
   "source": [
    "## FIR"
   ]
  },
  {
   "cell_type": "markdown",
   "id": "ccfb69d2",
   "metadata": {},
   "source": [
    "## DC blocker\n"
   ]
  },
  {
   "cell_type": "markdown",
   "id": "7b37989d",
   "metadata": {},
   "source": [
    "## IIR Notch"
   ]
  }
 ],
 "metadata": {
  "celltoolbar": "Tags",
  "kernelspec": {
   "display_name": "Python 3 (ipykernel)",
   "language": "python",
   "name": "python3"
  },
  "language_info": {
   "codemirror_mode": {
    "name": "ipython",
    "version": 3
   },
   "file_extension": ".py",
   "mimetype": "text/x-python",
   "name": "python",
   "nbconvert_exporter": "python",
   "pygments_lexer": "ipython3",
   "version": "3.10.5"
  }
 },
 "nbformat": 4,
 "nbformat_minor": 5
}
