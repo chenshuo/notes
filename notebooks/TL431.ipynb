{
 "cells": [
  {
   "cell_type": "markdown",
   "id": "2bd23870-7dbb-41b6-9b43-8e7ba685faf7",
   "metadata": {},
   "source": [
    "# TL431 notes\n",
    "\n",
    "By Shuo Chen (chenshuo_at_chenshuo.com)\n",
    "\n",
    "Latest notebook: https://github.com/chenshuo/notes/blob/master/notebooks/TL431.ipynb"
   ]
  }
 ],
 "metadata": {
  "kernelspec": {
   "display_name": "Python 3 (ipykernel)",
   "language": "python",
   "name": "python3"
  },
  "language_info": {
   "codemirror_mode": {
    "name": "ipython",
    "version": 3
   },
   "file_extension": ".py",
   "mimetype": "text/x-python",
   "name": "python",
   "nbconvert_exporter": "python",
   "pygments_lexer": "ipython3",
   "version": "3.11.2"
  }
 },
 "nbformat": 4,
 "nbformat_minor": 5
}
