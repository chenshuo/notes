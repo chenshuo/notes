{
  "nbformat": 4,
  "nbformat_minor": 0,
  "metadata": {
    "colab": {
      "name": "DSP Labs.ipynb",
      "provenance": [],
      "collapsed_sections": [
        "9-xIKi5Afmfs"
      ],
      "authorship_tag": "ABX9TyOsGugrwV0j4LFmNeqIMLO7",
      "include_colab_link": true
    },
    "kernelspec": {
      "name": "python3",
      "display_name": "Python 3"
    },
    "language_info": {
      "name": "python"
    },
    "widgets": {
      "application/vnd.jupyter.widget-state+json": {
        "90256824c3864cf58ff78de22579123b": {
          "model_module": "@jupyter-widgets/controls",
          "model_name": "VBoxModel",
          "model_module_version": "1.5.0",
          "state": {
            "_dom_classes": [
              "widget-interact"
            ],
            "_model_module": "@jupyter-widgets/controls",
            "_model_module_version": "1.5.0",
            "_model_name": "VBoxModel",
            "_view_count": null,
            "_view_module": "@jupyter-widgets/controls",
            "_view_module_version": "1.5.0",
            "_view_name": "VBoxView",
            "box_style": "",
            "children": [
              "IPY_MODEL_10457770cf7340e0bd67eabdb668d340",
              "IPY_MODEL_0eda7fefed414cb19667cab6fcc52f19"
            ],
            "layout": "IPY_MODEL_eea5f84634974bcea6cf00d91dccbb84"
          }
        },
        "10457770cf7340e0bd67eabdb668d340": {
          "model_module": "@jupyter-widgets/controls",
          "model_name": "IntSliderModel",
          "model_module_version": "1.5.0",
          "state": {
            "_dom_classes": [],
            "_model_module": "@jupyter-widgets/controls",
            "_model_module_version": "1.5.0",
            "_model_name": "IntSliderModel",
            "_view_count": null,
            "_view_module": "@jupyter-widgets/controls",
            "_view_module_version": "1.5.0",
            "_view_name": "IntSliderView",
            "continuous_update": true,
            "description": "nfft",
            "description_tooltip": null,
            "disabled": false,
            "layout": "IPY_MODEL_e7b7c1ea0f82445ea36ef1c43c7b7e88",
            "max": 250,
            "min": 60,
            "orientation": "horizontal",
            "readout": true,
            "readout_format": "d",
            "step": 5,
            "style": "IPY_MODEL_4a13fbd671be48cfaa27fa90459a463a",
            "value": 205
          }
        },
        "0eda7fefed414cb19667cab6fcc52f19": {
          "model_module": "@jupyter-widgets/output",
          "model_name": "OutputModel",
          "model_module_version": "1.0.0",
          "state": {
            "_dom_classes": [],
            "_model_module": "@jupyter-widgets/output",
            "_model_module_version": "1.0.0",
            "_model_name": "OutputModel",
            "_view_count": null,
            "_view_module": "@jupyter-widgets/output",
            "_view_module_version": "1.0.0",
            "_view_name": "OutputView",
            "layout": "IPY_MODEL_5445b0d8b540425782c6abdab4a4d79a",
            "msg_id": "",
            "outputs": [
              {
                "output_type": "stream",
                "name": "stdout",
                "text": [
                  "39.02\n"
                ]
              },
              {
                "output_type": "display_data",
                "data": {
                  "text/plain": "<Figure size 432x288 with 1 Axes>",
                  "image/png": "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\n"
                },
                "metadata": {
                  "needs_background": "light"
                }
              }
            ]
          }
        },
        "eea5f84634974bcea6cf00d91dccbb84": {
          "model_module": "@jupyter-widgets/base",
          "model_name": "LayoutModel",
          "model_module_version": "1.2.0",
          "state": {
            "_model_module": "@jupyter-widgets/base",
            "_model_module_version": "1.2.0",
            "_model_name": "LayoutModel",
            "_view_count": null,
            "_view_module": "@jupyter-widgets/base",
            "_view_module_version": "1.2.0",
            "_view_name": "LayoutView",
            "align_content": null,
            "align_items": null,
            "align_self": null,
            "border": null,
            "bottom": null,
            "display": null,
            "flex": null,
            "flex_flow": null,
            "grid_area": null,
            "grid_auto_columns": null,
            "grid_auto_flow": null,
            "grid_auto_rows": null,
            "grid_column": null,
            "grid_gap": null,
            "grid_row": null,
            "grid_template_areas": null,
            "grid_template_columns": null,
            "grid_template_rows": null,
            "height": null,
            "justify_content": null,
            "justify_items": null,
            "left": null,
            "margin": null,
            "max_height": null,
            "max_width": null,
            "min_height": null,
            "min_width": null,
            "object_fit": null,
            "object_position": null,
            "order": null,
            "overflow": null,
            "overflow_x": null,
            "overflow_y": null,
            "padding": null,
            "right": null,
            "top": null,
            "visibility": null,
            "width": null
          }
        },
        "e7b7c1ea0f82445ea36ef1c43c7b7e88": {
          "model_module": "@jupyter-widgets/base",
          "model_name": "LayoutModel",
          "model_module_version": "1.2.0",
          "state": {
            "_model_module": "@jupyter-widgets/base",
            "_model_module_version": "1.2.0",
            "_model_name": "LayoutModel",
            "_view_count": null,
            "_view_module": "@jupyter-widgets/base",
            "_view_module_version": "1.2.0",
            "_view_name": "LayoutView",
            "align_content": null,
            "align_items": null,
            "align_self": null,
            "border": null,
            "bottom": null,
            "display": null,
            "flex": null,
            "flex_flow": null,
            "grid_area": null,
            "grid_auto_columns": null,
            "grid_auto_flow": null,
            "grid_auto_rows": null,
            "grid_column": null,
            "grid_gap": null,
            "grid_row": null,
            "grid_template_areas": null,
            "grid_template_columns": null,
            "grid_template_rows": null,
            "height": null,
            "justify_content": null,
            "justify_items": null,
            "left": null,
            "margin": null,
            "max_height": null,
            "max_width": null,
            "min_height": null,
            "min_width": null,
            "object_fit": null,
            "object_position": null,
            "order": null,
            "overflow": null,
            "overflow_x": null,
            "overflow_y": null,
            "padding": null,
            "right": null,
            "top": null,
            "visibility": null,
            "width": null
          }
        },
        "4a13fbd671be48cfaa27fa90459a463a": {
          "model_module": "@jupyter-widgets/controls",
          "model_name": "SliderStyleModel",
          "model_module_version": "1.5.0",
          "state": {
            "_model_module": "@jupyter-widgets/controls",
            "_model_module_version": "1.5.0",
            "_model_name": "SliderStyleModel",
            "_view_count": null,
            "_view_module": "@jupyter-widgets/base",
            "_view_module_version": "1.2.0",
            "_view_name": "StyleView",
            "description_width": "",
            "handle_color": null
          }
        },
        "5445b0d8b540425782c6abdab4a4d79a": {
          "model_module": "@jupyter-widgets/base",
          "model_name": "LayoutModel",
          "model_module_version": "1.2.0",
          "state": {
            "_model_module": "@jupyter-widgets/base",
            "_model_module_version": "1.2.0",
            "_model_name": "LayoutModel",
            "_view_count": null,
            "_view_module": "@jupyter-widgets/base",
            "_view_module_version": "1.2.0",
            "_view_name": "LayoutView",
            "align_content": null,
            "align_items": null,
            "align_self": null,
            "border": null,
            "bottom": null,
            "display": null,
            "flex": null,
            "flex_flow": null,
            "grid_area": null,
            "grid_auto_columns": null,
            "grid_auto_flow": null,
            "grid_auto_rows": null,
            "grid_column": null,
            "grid_gap": null,
            "grid_row": null,
            "grid_template_areas": null,
            "grid_template_columns": null,
            "grid_template_rows": null,
            "height": null,
            "justify_content": null,
            "justify_items": null,
            "left": null,
            "margin": null,
            "max_height": null,
            "max_width": null,
            "min_height": null,
            "min_width": null,
            "object_fit": null,
            "object_position": null,
            "order": null,
            "overflow": null,
            "overflow_x": null,
            "overflow_y": null,
            "padding": null,
            "right": null,
            "top": null,
            "visibility": null,
            "width": null
          }
        },
        "890b78d088b845fa956bdaff547ac36f": {
          "model_module": "@jupyter-widgets/controls",
          "model_name": "VBoxModel",
          "model_module_version": "1.5.0",
          "state": {
            "_dom_classes": [
              "widget-interact"
            ],
            "_model_module": "@jupyter-widgets/controls",
            "_model_module_version": "1.5.0",
            "_model_name": "VBoxModel",
            "_view_count": null,
            "_view_module": "@jupyter-widgets/controls",
            "_view_module_version": "1.5.0",
            "_view_name": "VBoxView",
            "box_style": "",
            "children": [
              "IPY_MODEL_78ff7d3ada5f4e5e9f8b94bb7c7f9e4a",
              "IPY_MODEL_cf1a1793cb1647d99b152feb72a4f26a"
            ],
            "layout": "IPY_MODEL_f8f16ae654144028a722d001db9e503c"
          }
        },
        "78ff7d3ada5f4e5e9f8b94bb7c7f9e4a": {
          "model_module": "@jupyter-widgets/controls",
          "model_name": "IntSliderModel",
          "model_module_version": "1.5.0",
          "state": {
            "_dom_classes": [],
            "_model_module": "@jupyter-widgets/controls",
            "_model_module_version": "1.5.0",
            "_model_name": "IntSliderModel",
            "_view_count": null,
            "_view_module": "@jupyter-widgets/controls",
            "_view_module_version": "1.5.0",
            "_view_name": "IntSliderView",
            "continuous_update": true,
            "description": "phase",
            "description_tooltip": null,
            "disabled": false,
            "layout": "IPY_MODEL_0306744c2ed349589141fe4d0be5951f",
            "max": 90,
            "min": 0,
            "orientation": "horizontal",
            "readout": true,
            "readout_format": "d",
            "step": 5,
            "style": "IPY_MODEL_c24710fabd0a42eb8e346e64db13d491",
            "value": 70
          }
        },
        "cf1a1793cb1647d99b152feb72a4f26a": {
          "model_module": "@jupyter-widgets/output",
          "model_name": "OutputModel",
          "model_module_version": "1.0.0",
          "state": {
            "_dom_classes": [],
            "_model_module": "@jupyter-widgets/output",
            "_model_module_version": "1.0.0",
            "_model_name": "OutputModel",
            "_view_count": null,
            "_view_module": "@jupyter-widgets/output",
            "_view_module_version": "1.0.0",
            "_view_name": "OutputView",
            "layout": "IPY_MODEL_78ced42b3137439daca58a9a7c4b8724",
            "msg_id": "",
            "outputs": [
              {
                "output_type": "display_data",
                "data": {
                  "text/plain": "<Figure size 432x288 with 1 Axes>",
                  "image/png": "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\n"
                },
                "metadata": {
                  "needs_background": "light"
                }
              }
            ]
          }
        },
        "f8f16ae654144028a722d001db9e503c": {
          "model_module": "@jupyter-widgets/base",
          "model_name": "LayoutModel",
          "model_module_version": "1.2.0",
          "state": {
            "_model_module": "@jupyter-widgets/base",
            "_model_module_version": "1.2.0",
            "_model_name": "LayoutModel",
            "_view_count": null,
            "_view_module": "@jupyter-widgets/base",
            "_view_module_version": "1.2.0",
            "_view_name": "LayoutView",
            "align_content": null,
            "align_items": null,
            "align_self": null,
            "border": null,
            "bottom": null,
            "display": null,
            "flex": null,
            "flex_flow": null,
            "grid_area": null,
            "grid_auto_columns": null,
            "grid_auto_flow": null,
            "grid_auto_rows": null,
            "grid_column": null,
            "grid_gap": null,
            "grid_row": null,
            "grid_template_areas": null,
            "grid_template_columns": null,
            "grid_template_rows": null,
            "height": null,
            "justify_content": null,
            "justify_items": null,
            "left": null,
            "margin": null,
            "max_height": null,
            "max_width": null,
            "min_height": null,
            "min_width": null,
            "object_fit": null,
            "object_position": null,
            "order": null,
            "overflow": null,
            "overflow_x": null,
            "overflow_y": null,
            "padding": null,
            "right": null,
            "top": null,
            "visibility": null,
            "width": null
          }
        },
        "0306744c2ed349589141fe4d0be5951f": {
          "model_module": "@jupyter-widgets/base",
          "model_name": "LayoutModel",
          "model_module_version": "1.2.0",
          "state": {
            "_model_module": "@jupyter-widgets/base",
            "_model_module_version": "1.2.0",
            "_model_name": "LayoutModel",
            "_view_count": null,
            "_view_module": "@jupyter-widgets/base",
            "_view_module_version": "1.2.0",
            "_view_name": "LayoutView",
            "align_content": null,
            "align_items": null,
            "align_self": null,
            "border": null,
            "bottom": null,
            "display": null,
            "flex": null,
            "flex_flow": null,
            "grid_area": null,
            "grid_auto_columns": null,
            "grid_auto_flow": null,
            "grid_auto_rows": null,
            "grid_column": null,
            "grid_gap": null,
            "grid_row": null,
            "grid_template_areas": null,
            "grid_template_columns": null,
            "grid_template_rows": null,
            "height": null,
            "justify_content": null,
            "justify_items": null,
            "left": null,
            "margin": null,
            "max_height": null,
            "max_width": null,
            "min_height": null,
            "min_width": null,
            "object_fit": null,
            "object_position": null,
            "order": null,
            "overflow": null,
            "overflow_x": null,
            "overflow_y": null,
            "padding": null,
            "right": null,
            "top": null,
            "visibility": null,
            "width": null
          }
        },
        "c24710fabd0a42eb8e346e64db13d491": {
          "model_module": "@jupyter-widgets/controls",
          "model_name": "SliderStyleModel",
          "model_module_version": "1.5.0",
          "state": {
            "_model_module": "@jupyter-widgets/controls",
            "_model_module_version": "1.5.0",
            "_model_name": "SliderStyleModel",
            "_view_count": null,
            "_view_module": "@jupyter-widgets/base",
            "_view_module_version": "1.2.0",
            "_view_name": "StyleView",
            "description_width": "",
            "handle_color": null
          }
        },
        "78ced42b3137439daca58a9a7c4b8724": {
          "model_module": "@jupyter-widgets/base",
          "model_name": "LayoutModel",
          "model_module_version": "1.2.0",
          "state": {
            "_model_module": "@jupyter-widgets/base",
            "_model_module_version": "1.2.0",
            "_model_name": "LayoutModel",
            "_view_count": null,
            "_view_module": "@jupyter-widgets/base",
            "_view_module_version": "1.2.0",
            "_view_name": "LayoutView",
            "align_content": null,
            "align_items": null,
            "align_self": null,
            "border": null,
            "bottom": null,
            "display": null,
            "flex": null,
            "flex_flow": null,
            "grid_area": null,
            "grid_auto_columns": null,
            "grid_auto_flow": null,
            "grid_auto_rows": null,
            "grid_column": null,
            "grid_gap": null,
            "grid_row": null,
            "grid_template_areas": null,
            "grid_template_columns": null,
            "grid_template_rows": null,
            "height": null,
            "justify_content": null,
            "justify_items": null,
            "left": null,
            "margin": null,
            "max_height": null,
            "max_width": null,
            "min_height": null,
            "min_width": null,
            "object_fit": null,
            "object_position": null,
            "order": null,
            "overflow": null,
            "overflow_x": null,
            "overflow_y": null,
            "padding": null,
            "right": null,
            "top": null,
            "visibility": null,
            "width": null
          }
        },
        "4657186fda174a73963e66a6474e2399": {
          "model_module": "@jupyter-widgets/controls",
          "model_name": "VBoxModel",
          "model_module_version": "1.5.0",
          "state": {
            "_dom_classes": [
              "widget-interact"
            ],
            "_model_module": "@jupyter-widgets/controls",
            "_model_module_version": "1.5.0",
            "_model_name": "VBoxModel",
            "_view_count": null,
            "_view_module": "@jupyter-widgets/controls",
            "_view_module_version": "1.5.0",
            "_view_name": "VBoxView",
            "box_style": "",
            "children": [
              "IPY_MODEL_9a0485d538f1487992945479b247afea",
              "IPY_MODEL_4ed96926812e4492ab14b0b0ba569cb8"
            ],
            "layout": "IPY_MODEL_826b4687296b4b4abcb0916cfad9f51b"
          }
        },
        "9a0485d538f1487992945479b247afea": {
          "model_module": "@jupyter-widgets/controls",
          "model_name": "FloatSliderModel",
          "model_module_version": "1.5.0",
          "state": {
            "_dom_classes": [],
            "_model_module": "@jupyter-widgets/controls",
            "_model_module_version": "1.5.0",
            "_model_name": "FloatSliderModel",
            "_view_count": null,
            "_view_module": "@jupyter-widgets/controls",
            "_view_module_version": "1.5.0",
            "_view_name": "FloatSliderView",
            "continuous_update": true,
            "description": "f",
            "description_tooltip": null,
            "disabled": false,
            "layout": "IPY_MODEL_e7cb3e7af3b448bc9a1a60da600ec228",
            "max": 1,
            "min": 0,
            "orientation": "horizontal",
            "readout": true,
            "readout_format": ".2f",
            "step": 0.02,
            "style": "IPY_MODEL_e1b8ac17c7904e959d04f4ae3ad061a8",
            "value": 0.1
          }
        },
        "4ed96926812e4492ab14b0b0ba569cb8": {
          "model_module": "@jupyter-widgets/output",
          "model_name": "OutputModel",
          "model_module_version": "1.0.0",
          "state": {
            "_dom_classes": [],
            "_model_module": "@jupyter-widgets/output",
            "_model_module_version": "1.0.0",
            "_model_name": "OutputModel",
            "_view_count": null,
            "_view_module": "@jupyter-widgets/output",
            "_view_module_version": "1.0.0",
            "_view_name": "OutputView",
            "layout": "IPY_MODEL_17084700893a43dc89fe88533592f013",
            "msg_id": "",
            "outputs": [
              {
                "output_type": "display_data",
                "data": {
                  "text/plain": "<Figure size 432x288 with 1 Axes>",
                  "image/png": "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\n"
                },
                "metadata": {
                  "needs_background": "light"
                }
              }
            ]
          }
        },
        "826b4687296b4b4abcb0916cfad9f51b": {
          "model_module": "@jupyter-widgets/base",
          "model_name": "LayoutModel",
          "model_module_version": "1.2.0",
          "state": {
            "_model_module": "@jupyter-widgets/base",
            "_model_module_version": "1.2.0",
            "_model_name": "LayoutModel",
            "_view_count": null,
            "_view_module": "@jupyter-widgets/base",
            "_view_module_version": "1.2.0",
            "_view_name": "LayoutView",
            "align_content": null,
            "align_items": null,
            "align_self": null,
            "border": null,
            "bottom": null,
            "display": null,
            "flex": null,
            "flex_flow": null,
            "grid_area": null,
            "grid_auto_columns": null,
            "grid_auto_flow": null,
            "grid_auto_rows": null,
            "grid_column": null,
            "grid_gap": null,
            "grid_row": null,
            "grid_template_areas": null,
            "grid_template_columns": null,
            "grid_template_rows": null,
            "height": null,
            "justify_content": null,
            "justify_items": null,
            "left": null,
            "margin": null,
            "max_height": null,
            "max_width": null,
            "min_height": null,
            "min_width": null,
            "object_fit": null,
            "object_position": null,
            "order": null,
            "overflow": null,
            "overflow_x": null,
            "overflow_y": null,
            "padding": null,
            "right": null,
            "top": null,
            "visibility": null,
            "width": null
          }
        },
        "e7cb3e7af3b448bc9a1a60da600ec228": {
          "model_module": "@jupyter-widgets/base",
          "model_name": "LayoutModel",
          "model_module_version": "1.2.0",
          "state": {
            "_model_module": "@jupyter-widgets/base",
            "_model_module_version": "1.2.0",
            "_model_name": "LayoutModel",
            "_view_count": null,
            "_view_module": "@jupyter-widgets/base",
            "_view_module_version": "1.2.0",
            "_view_name": "LayoutView",
            "align_content": null,
            "align_items": null,
            "align_self": null,
            "border": null,
            "bottom": null,
            "display": null,
            "flex": null,
            "flex_flow": null,
            "grid_area": null,
            "grid_auto_columns": null,
            "grid_auto_flow": null,
            "grid_auto_rows": null,
            "grid_column": null,
            "grid_gap": null,
            "grid_row": null,
            "grid_template_areas": null,
            "grid_template_columns": null,
            "grid_template_rows": null,
            "height": null,
            "justify_content": null,
            "justify_items": null,
            "left": null,
            "margin": null,
            "max_height": null,
            "max_width": null,
            "min_height": null,
            "min_width": null,
            "object_fit": null,
            "object_position": null,
            "order": null,
            "overflow": null,
            "overflow_x": null,
            "overflow_y": null,
            "padding": null,
            "right": null,
            "top": null,
            "visibility": null,
            "width": null
          }
        },
        "e1b8ac17c7904e959d04f4ae3ad061a8": {
          "model_module": "@jupyter-widgets/controls",
          "model_name": "SliderStyleModel",
          "model_module_version": "1.5.0",
          "state": {
            "_model_module": "@jupyter-widgets/controls",
            "_model_module_version": "1.5.0",
            "_model_name": "SliderStyleModel",
            "_view_count": null,
            "_view_module": "@jupyter-widgets/base",
            "_view_module_version": "1.2.0",
            "_view_name": "StyleView",
            "description_width": "",
            "handle_color": null
          }
        },
        "17084700893a43dc89fe88533592f013": {
          "model_module": "@jupyter-widgets/base",
          "model_name": "LayoutModel",
          "model_module_version": "1.2.0",
          "state": {
            "_model_module": "@jupyter-widgets/base",
            "_model_module_version": "1.2.0",
            "_model_name": "LayoutModel",
            "_view_count": null,
            "_view_module": "@jupyter-widgets/base",
            "_view_module_version": "1.2.0",
            "_view_name": "LayoutView",
            "align_content": null,
            "align_items": null,
            "align_self": null,
            "border": null,
            "bottom": null,
            "display": null,
            "flex": null,
            "flex_flow": null,
            "grid_area": null,
            "grid_auto_columns": null,
            "grid_auto_flow": null,
            "grid_auto_rows": null,
            "grid_column": null,
            "grid_gap": null,
            "grid_row": null,
            "grid_template_areas": null,
            "grid_template_columns": null,
            "grid_template_rows": null,
            "height": null,
            "justify_content": null,
            "justify_items": null,
            "left": null,
            "margin": null,
            "max_height": null,
            "max_width": null,
            "min_height": null,
            "min_width": null,
            "object_fit": null,
            "object_position": null,
            "order": null,
            "overflow": null,
            "overflow_x": null,
            "overflow_y": null,
            "padding": null,
            "right": null,
            "top": null,
            "visibility": null,
            "width": null
          }
        },
        "05bd9693454f427da7d1b1f75d0c9a3b": {
          "model_module": "@jupyter-widgets/controls",
          "model_name": "VBoxModel",
          "model_module_version": "1.5.0",
          "state": {
            "_dom_classes": [
              "widget-interact"
            ],
            "_model_module": "@jupyter-widgets/controls",
            "_model_module_version": "1.5.0",
            "_model_name": "VBoxModel",
            "_view_count": null,
            "_view_module": "@jupyter-widgets/controls",
            "_view_module_version": "1.5.0",
            "_view_name": "VBoxView",
            "box_style": "",
            "children": [
              "IPY_MODEL_5b12f97841414c95a8ec1102f515c531",
              "IPY_MODEL_42f6c41cc1a7466a80d42cb290b66482"
            ],
            "layout": "IPY_MODEL_4c2c3ed9876d42ebb1f8d5635b7a818d"
          }
        },
        "5b12f97841414c95a8ec1102f515c531": {
          "model_module": "@jupyter-widgets/controls",
          "model_name": "IntSliderModel",
          "model_module_version": "1.5.0",
          "state": {
            "_dom_classes": [],
            "_model_module": "@jupyter-widgets/controls",
            "_model_module_version": "1.5.0",
            "_model_name": "IntSliderModel",
            "_view_count": null,
            "_view_module": "@jupyter-widgets/controls",
            "_view_module_version": "1.5.0",
            "_view_name": "IntSliderView",
            "continuous_update": true,
            "description": "phase",
            "description_tooltip": null,
            "disabled": false,
            "layout": "IPY_MODEL_6a6bcde090f045929995dcc696673e2f",
            "max": 90,
            "min": 0,
            "orientation": "horizontal",
            "readout": true,
            "readout_format": "d",
            "step": 5,
            "style": "IPY_MODEL_28f971414ea845cd8cdab3a585d8b91e",
            "value": 45
          }
        },
        "42f6c41cc1a7466a80d42cb290b66482": {
          "model_module": "@jupyter-widgets/output",
          "model_name": "OutputModel",
          "model_module_version": "1.0.0",
          "state": {
            "_dom_classes": [],
            "_model_module": "@jupyter-widgets/output",
            "_model_module_version": "1.0.0",
            "_model_name": "OutputModel",
            "_view_count": null,
            "_view_module": "@jupyter-widgets/output",
            "_view_module_version": "1.0.0",
            "_view_name": "OutputView",
            "layout": "IPY_MODEL_c71840c5742843598244ee6d6542470c",
            "msg_id": "",
            "outputs": [
              {
                "output_type": "display_data",
                "data": {
                  "text/plain": "<Figure size 432x288 with 1 Axes>",
                  "image/png": "iVBORw0KGgoAAAANSUhEUgAAAYIAAAD4CAYAAADhNOGaAAAABHNCSVQICAgIfAhkiAAAAAlwSFlzAAALEgAACxIB0t1+/AAAADh0RVh0U29mdHdhcmUAbWF0cGxvdGxpYiB2ZXJzaW9uMy4yLjIsIGh0dHA6Ly9tYXRwbG90bGliLm9yZy+WH4yJAAAgAElEQVR4nOydd5ycZbX4v887fbbXZHeTzW56gyRk6QEFpVh+gBXwqqggNuyicLFdFEHxXhsq0i6ol6IoiIoiQjSEUJKQhLCpm012syXby+z0mff5/TEzyWazfd42m/l+PvvJzlvOOXvyznuecp7zCCklWbJkyZLl5EUx24AsWbJkyWIu2UCQJUuWLCc52UCQJUuWLCc52UCQJUuWLCc52UCQJUuWLCc5drMNmA6lpaWypqbGbDOyZMmSJaPYunVrt5SybOTxjAwENTU1bNmyxWwzsmTJkiWjEEI0jXY8OzSUJUuWLCc52UCQJUuWLCc52UCQJUuWLCc52UCQJUuWLCc52UCQJUuWLCc5mgQCIcQDQohOIcQbY5wXQoifCiEahBCvCyFOG3buGiHE/uTPNVrYkyVLlixZJo9WPYIHgUvHOf82YFHy53rglwBCiGLgW8CZwBnAt4QQRRrZlCVLlixZJoEmgUBKuQHoHeeSy4FfywQvA4VCiArgEuBZKWWvlLIPeJbxA0oWnVHVGNHoeP+VMx8pJX196+nsfNxsU0zF799Da+vdqGrMbFNMIxLporX150Qi3WaboitGzRFUAYeHfW5JHhvr+AkIIa4XQmwRQmzp6urS1DgpVZqb7yQa7UFKSVfXE6hqVFMdmUBX1x/ZvHkZ+/d/xmxTTMPne43t29/Ejh0XsmvX+wiHj5htkuGEw+3s2vUBNm9ezv79n+Lw4R+YbZIpdHQ8wssv17B//w3s3ftRZvLeLRkzWSylvEdKWSelrCsrO2GFdFp0d/+Jxsav0tX1OAMDL1Jf/26am7+vqQ6rEwodpr7+fSiKh/Lyq5FS0tv7jxn98I9ESpX6+vcSCOxj/vw7Of303bhcs802y3AOHPgS3d1PUF39NUpLr+Dw4f8mFvOZbZbh5OauorT0Xcyd+1V6ev5CR8dvzDZJN4wqMdEKzB32eU7yWCvw5hHH/2WQTUdpa7sbl2sOs2dfi6LYKS+/mqamWykt/X/k5q4y2hxTaG+/D5CsXPknPJ5aurqepL7+XSxZ8gAVFR812zxD6O39B6HQQZYvf4zy8vcDiWGiwcGXKCg4x2TrjGP+/DuZNesaSkouJRLpJh4fxG7PM9ssw8nJWc7y5b9FSpXBwU0cPHgL5eVXoShOs03THKN6BE8BH05mD50FDEgp24FngIuFEEXJSeKLk8cMIxg8QF/fP6io+DiKkoiLixb9DLu9kIMHv2GkKaahqlHa2++luPhSPJ5aAEpLL6OgYB2NjTchpWqyhcaQk7OM6upbKC294uix9vb72bbtXAKBBhMtMxa3ew4lJYmpOqezFI9nPgCqGjbTLMPo7/83r712DsHgAQCEUFi69NesXr1hRgYB0C599BHgJWCJEKJFCHGtEOKTQohPJi95GmgEGoB7gU8DSCl7ge8Am5M/tyaPGUZb2z2AjYqKa48eczhKKC+/kr6+fxKPB400xxTicT+lpZdTVfXZo8eEUKis/BTRaCc+32YTrTMOt3se8+d/97gve1HRWwDo7f2rWWYZhpQqu3dfQ3//hhPObd/+FnbvPjmyu9va7iYQ2I3TWXH0mMdTe7SRNBPRZGhISnn1BOclMOoMpJTyAeABLeyYDqoaprz8fbhcx89Rl5S8k4GBjYTDLXi9i0yyzhgcjkIWL/7lCceLiy8FFHp6/kp+/pnGG2YgnZ2/w24vorj4ouOOezy1eL3L6On5K3PmfN4k64yhr+9ZOjp+TUnJ208453bPo7v7CVQ1drTnPBOJRDrp6voDlZWfxmbzHnduaOh19u//HIsX/5ycnBUmWagPGTNZrBeLFv2YZcsePuF4cfEl1NVtm/FBIBrtZXDwlVGzpByOYvLzz57xPQIpJQcO3Mjhw/896vni4rfT3/+vGT9h2t7+vzgcZZSWvuuEcyUl7yAW62dwcJMJlhlHR8fDSBmlsvITJ5xzOEoYGPg3PT1/McEyfTmpA0E8HgBACDHONaEZnTnT2/t3XnvtLPz+UReFs3Llk5xyytMGW2UsodAhwuFmSksvG/V8Sck7kDJKX98/DbbMOKSU9Pf/i+LiS0cdBy8qugghHPT0zOwhsv7+f+HxLCQnZ9kJ51yuKnJzV89IH5zUgWDbtvPYtes/xjzf0/N3XnyxhEBgl4FWGcvAwIvYbLnk5Jwy6nmns3TcQDkTGBjYCEBBwbpRzxcUrOPUU/9OcfHbjDTLUILBA0SjHRQUnDvqebs9n4KC82bkS3A4JSXvZM6cL4x5vrj4HQwMbCIa7TPQKv05aQNBLOZjaGg7Hs+CMa/JyVmJqgZm9MM/MPAi+flnjTvu29j4dfbt+5SBVhlLIhjmjznuqygOiosvwWZzG2yZccRifeTlnT5mMASYO/fLVFd/bUb3kCsrr6OqauwFlYn5kzi9vYYmN+rOSRsIBgdfAdQxW0CQSKPLyVlFT8/MHBqJxQbw+3eO++UHiEa76ej4LaoaMcgyYwkG95KffzZC2Ma8JhLpoLHx6/j9M7N3mJ9/OmvXvjruJGhJyduZPftDM7aHGAo1EQ63j3tNfv6ZlJT8P+z2fIOsMoaTOBC8CCjk55897nWFhW/G59uMlHFjDDOQwcGXAZX8/LGDISR8EI8PzdiX4KpVz7Nixe/GvUZVQzQ330Z//78NsspYJltPyO/fRX//CzpbYw6HDt3K5s0rx+3xCGHjlFOeGjWzKpM5aQPBwMBGcnJOmTCy5+WtQVUDBAL7DLLMOAoKzmPVqucpKBg/GOblJaqGDw1tM8IswxFCTPgcuFzV2O3FM9IH0WgvGzcWcOTIxCUUDhy4ccbWohoYeJGCgnMm1eOJxXwzqh7ZSRsIKiquo7r6axNeV1BwPjU135lxXUEAm81LUdEF2Gw5417n8SzEZstlaOg1gywzjpaWn7Bnz8cmHPcWQpCbuwafb+b5YGBgE6oawO2unvDa3Nw1+P27ZtxCy0iki2Bw74TDpAB9fc+xcWN+cnh5ZnDSBoLy8iuZNWvcdXBAYkFRTc3XT1hwlumoapSDB7+J318/4bVCKJSVvQ+ns9IAy4ylq+sJ/P6dk2oF5uWdht+/c0a1BCExTCqEnby80ye8Ni9vDRAfM904U0mtj5homBTA602kls6khtFJGQj8/nr8/vpJZz9Eo734fFt1tspYhoZ20NT0nUl/oZcufYB5827W2SpjUdUoPt+rk/ryQ6I1rCguQqEmnS0zloGBjeTmnnbCStrRyM2dmcOEAwMvIoSTvLy6Ca91OitwOMpnlA9OykBw+PB/s337hZO+vrHxZnbsuGhGpc2lHuLJtAJTSCln1CYlgcAeVDVIfv4Zk7q+rOy9rFvXj9e7UGfLjENKFZ9v26R94HbXYLcXzrghssrKT7By5Z8mlSIshCAv77QZ5YOTMhD4/fXk5KycdBpcbu4aYrG+GdUS9PvrURQvbnfNpK4PBg/w4ovFdHXNnF27UsNiOTkrJ3W9ojgQYmZ9ZVQ1QnX1VykpuXxS1wshOPXUZ6it/Y7OlhmLx7PgaMXVyZCbu4ZAYNeMqcg6s57qSSClJBDYRU7O8knfMxOzZgKBenJylk/6xeZyVROPB2bUuKgQNnJz1+D1Lpn0Pc3NP2Dv3o/raJWx2Gxuamq+SXHxWyd9T37+GTid2m4OZSax2CBtbfcSCrVM+p7S0nezcOFPkHJm9JBPukAQDh8mHh/C65189cBE+QXbjHoJhkKHpuQDRXGQk7NyRgXD8vL3UVf3GorimvQ9oVAznZ2Pzpg9GsLhVqLRnine00ZT0x0Eg4f0McpghoZeZ9++6/H7X5/0Pfn5dVRVfXrCjLtM4aQLBMeGAyb/ErTZPOTkLMPnmzkvwTPO2MuiRT+b0j2pcdGZNFcyVfLyTiMeHzq6aUmmc/Dg19m8eXJDYylisX4OHryZgYET9y3IRAKBxDvB6538KAFAMNg4Y+YJTrpAkJ9/Nqec8jdyc9dM6b6FC3/G/Pm362SV8QihTHn7wcRcSS/h8GGdrDIOVQ3z4ouzaWu7d0r3pZ6bmdIz8vvrp9QzBPB6l6Aonhnkg10oSs6k1lEMZ8+ej7Fv36d1sspYtNqh7FIhxF4hRIMQ4qZRzv9ICLE9+bNPCNE/7Fx82LmntLBnPByOQkpKLsVuz53SfUVFbyY3d/QKnZlGd/dT7N37ceJx/5TuKyy8gOrqm5kJ7YdAYC/RaAc229Seg0RPUsHv36mPYQYipYrfv2vKm6wIYUsOE2a+DyCVPDL5+bIUubmrCAQmn4ZuZdL+RotEpa6fA28DlgNXCyGO62NJKb8opVwtpVwN/Az447DTwdQ5KeXoBeE15MiR30xrRWA02seRI78lFGrWwSpj6et7jo6OR1AUz5Tuy8lZxvz538PtnqOTZcaRqps01ZegojgpLr4Ym61AD7MMJRRqRlX9U0qcSOH1LiEY3K+DVcaTSJyY+o5jXu9i4vEhIpEjOlhlLFo07c4AGqSUjVLKCPAoMF4u2tXAIxronTJSSvbv/zQdHf835Xuj0U727PnQjCg6Nt0WECQyLEKhzB8aSowL26aUMZTi1FP/RnX1V7Q3ymBS+2xMdWgIwONZTCRyhHg8pLVZhnP66fXU1t425fs8nsUABIOZX4dMi0BQBQx/M7Qkj52AEGIeUAs8P+ywWwixRQjxshDiirGUCCGuT163paura1qGpjKGphP93e5awDYj/tMDgfopT4yl2LHjIvbs+ajGFhmP31+Px7NwShlDM43c3FUsWXIfubmnTvneuXO/xHnn+WfEHg0ORzEu19TLp3i9iUAQCOzV2iTDMXqw9yrgcXl8Ted5Uso64APAj4UQo+4UI6W8R0pZJ6WsKyubeg7zk9ta+dSDiZ7AV54I8eS21indryhOPJ7ajK5C+uS2Vt5655NEIkd48FXXlH0AiYc/k4Phk9taOfeO5/nZxmL+tPfcafmgq+tJNm2aQzg89XutwpPbWrnwR3s55yezedMPt0zZDzZbTsZvYv/ktlY+/Is7+cJ9H+BN3//7lH3gcs1l5conKSn5fzpZaBxaBIJWYO6wz3OSx0bjKkYMC0kpW5P/NgL/AqaWzjMJntzWys1/3ImLBgB2HJnFzX/cOeX/eI9nccZG/5QP/KEjHPFXsKurapo+WJLsWQV0slQ/Uj5o7Q/yzKF38fCud0/LBzZbLpFIK4FAZo6Rp/xQbN9ImbeN1v7glP0gpcq+fTfQ0fGojpbqR8oHc3Ne4JKaJ2nqi03ZB0IolJZejstVoaOlxqBFINgMLBJC1AohnCRe9idk/wghlgJFwEvDjhUJIVzJ30uBcwHNdz+585m9BKNxKnOb6Q8V4Y/mEYzGufOZqb3UE63h/Rm5mCjlg3b/XG564V52dq+dtg8AgsEGPczUlZQPHEoYp5IY207PB5nZM7rzmb2EolE+s/p23lr9F2DqfhBCobv7j/T1ZeaWjalnoSq3ibahuYCY1rPg822f1D4OViftQCATa6xvAJ4BdgO/k1LWCyFuFUIMzwK6CnhUHp9rtQzYIoTYAawH7pBSah4I2voTtdMfqv8M333lhyccnyxz597ImWfuBzJvq76x/tap+iA1QZaJQ2Spv3V12Wbuvuh9VOUeOu74ZHG55qAo7oztHbb1Byl09eK2h2j3zznu+FRI9JAz7zmAY3/r7JzWtHzQ1fUYe/dem/HFGDUZ5JNSPg08PeLYN0d8/vYo920CdE/Oryz00NofJC4ddAdnHXd8KkxnQskqpHzwoeW/QBEqD9XfcPT4VPB6F7No0S+O1l/KJFI+KPMeQRGSnmD50eNTQQgFj2dRxvYIKgs95IhEymNnoOK441PB611Cd/cfJ77QglQWeugcHKDY3ZOWDzyexUgZTZZsydyqtJm/MmgS3HjJEjyO4zcm9zhs3HjJ1FIHVTVMU9Pt9PWt19I8Q0j5YHHRLgpdvcD0fGCzeamq+hQez3w9zNSVlA/Kve0MhgsIxb3T8gFAWdn7yc8/Swcr9efGS5YwJ68DgM7AbGB6z4LXu5hotJtotFdzG/XmxkuWMDunn3DcRVeaPoDMHSZMkdnT/pPkijWJbNavPv46kbhKVaGHGy9ZcvT4ZBHCQVPTd6is/CRFRRfoYapuXLGmCqTE3XuEXT2rpu0DgGDwIOFwM4WFb9LBUv1I/a3tjR10BWen5YOamq9rbZ5hXLGmCndIJR5U6A2VTdsPHs8SXK65RCIdOBzFOlmrD4m/9WI++/gfiamxNHxwbKg0kze0PykCAST+4x95NbEq+LFPjL9Z+1ikhgQydVz07SsdbNoUwuuZz4s3TX5jnpE0N3+frq7HWbeuW0PrjOGKNVU81dXBkdApafkAOLplpaI4tDDNUC447Sa+9tgS6mrKp/19KC19J6Wl79TYMuPQ4p3gcJRitxdmfI/gpBga0pJMzqNPVcwcjKa3/7LXu5hYrGfK5Yutwo6+q9k/eHFaMny+rWzY4KGv7x8aWWUsLtds2oOrzTbDVFpa7mJd+f+kJUMIwWmnvcz8+T/QyCpzyAaCKeLxLCYYbMzQDcwVWv2n0R+ZWpXFkRzrDmdmHv0b/e+l2X9OWjJcrnlAPGN7hy0tP6PElb7t+/Z9hoaGL2tgkfH09T1DhWd72nK83iVTLmJpNbKBYIp4vYsRQmRkKeaCgrN4quUuBqPpFY07NkGWeemTkUg3BY7DCOITXzwODkcJdntRRqaQxmIDNDR8jrk5r6YtKxQ6RF/fcxpYZTzB4AEGo+lnAvp82zlw4KaMXGSZIhsIpkh5+dWcf34oI7NmtCKxz7EgFDpksiVTp6vrd3xg/pV47elluggh8HgWZKQPgsFGAAYj6Q0RAkkfHMy4UsxSqoRCB9MeJoVE8b7Dh7+f0XuaZwPBFFEUJ4nK25nH9u1v5cLZ6W86rihOTj31GWbP/pgGVhlLMNhITHXij5WkLcvtrsnQQJCaK0q/Nex21xCPDxKL9U98sYWIRNpR1ZAmgSDRMCIjn4UU2UAwDfbv/zzt7f9rthlTJhCoR5XaBLHi4otwu+dOfKHFCIVSwwHpP/rl5VdTWfmJ9I0ymFAo0SMYSHOIEDL3JRiN9uHxLE57vgwy1wfDyQaCadDT89eMyxaJx/1EIkc0aQFBYly0vf1BTWQZSTDYqJkPysrezdy5X9RElpEEgwdwOEqJqulvvO7xLCY//xwSlWYyh9zclZx55l5aA3Vpy3I6ZyOEMxsITjYycUggGDwIaDMcANDd/Qf27r0uo2qsSCk1myBMyIsTCh0mFhvURJ5RLFr0U9au3aKJrNzclZx22ovk55+uibxMRAgFt3sekUib2aZMm2wgmAaZGAhCocS48IBGreFEdzhOONyiiTxjUFm27CH2DrxNE2mBwB5efrmanp6nJ77YQiiKC7d7ntlmmEpDw5fZvfsazeStXfsaS5f+WjN5RpMNBNPA7a5JbtM3tUqFZuJwzGLWrA8zENFmv+FMHBcVwkZZ2XvoDi/VRF5iLUFm+UBVozQ0fJGBgZc1k1lf/z527fqgZvKMYGDgRU03FrLbcxEi86oSp8gGgmng8SzA5aomGp3elplmUFBwFsuWPUREzddEXiYGgkCggb6+51HQZjjLbs/F4SglFDqoiTwjCIebaWn5MYHAbs1kqmoYv3+nZvKMIBQ6gMcz6maI06K/fwO7d3+IeNyvmUwjyQaCaTBr1tWcfXYTbnf6GQdGEYv5NM31drkSm3lkUiDo7HyUHTveghDpLSYbjttdm1E+SNma2INbG1JDpZmyliAWGyIa7dbUB+FwKx0dv83YtQSaBAIhxKVCiL1CiAYhxE2jnP+IEKJLCLE9+XPdsHPXCCH2J3+0G7TLchzbtp3Drl3v10yeojg5/fSdzJ37Fc1k6k043IzDMYu41G7D+kybL0q9qLScI3C7a5NrCfo0k6knqaoA2vqgBsisHvJw0q4+KhKrq34OXAS0AJuFEE+NstPYY1LKG0bcWwx8C6gDJLA1ea/ln6g33ngPhYXnM2fO5802ZVKEQs0UFmpbOjsnZ4Wm8vQmFNK+F1dZ+Umi0cypwhoKNQMCl6sKOKKJzOEvwUwoRy1lnMLCtyRLpUQ0kZnpgUCLHsEZQIOUslFKGQEeBS6f5L2XAM9KKXuTL/9ngUs1sEl3/P7XGRh4aeILLUAsNkA8Pqh5pkhf33qamr6nqUw9CYebcbm0DQRFRRdSXq5dT0tvYrEenM4KFMWpmcycnOWUlV1JYsty65Obu5LVq/9JXt5azWQ6nbMQwnVSB4IqYHgFtpbksZG8RwjxuhDicSFEaknqZO+1HJk0JJBoBaL5S7C/fz0HD34jIyqxSikJhZo17xHE40EGBl4kEsmMxIFFi37GWWdpO7nt9S5hxYpHyc1dqancTEIIhZyc5Uhp/e/CaBg1WfxnoEZKeSqJVv9DUxUghLheCLFFCLGlq8v8L10mBYJwOBEItH4JJrrDasasJVi9+nkqKz+lqcxQ6CDbtq2jr++fmsrVEy17A8PJhAYBwN6917N9u/Y7DNbVvcbChT/SXK4RaBEIWoHhRWfmJI8dRUrZI6UMJz/eB6yd7L3DZNwjpayTUtaVlZVpYHZ6uN01RKMdGbGWwO2uZd68r+PxaLu5diaNiwohyM8/E693kaZyU8NtmeADKVXq66+iu/vPmsvetu086uvfo7lcPQgE9iGldpljMwEtAsFmYJEQolYkBgmvAp4afoEQomLYx8uAVBLzM8DFQogiIUQRcHHymOXxeleQn39uRlRdzMlZTm3td3A40q+4OZxMCgR+/x6OHHmIWMynqVybLQeHoywjfBCNdtHV9ZguKY52e3FG+AAgHG7SfJgUoLv7L2zb9mZisSHNZetN2oFAJqpN3UDiBb4b+J2Usl4IcasQ4rLkZZ8TQtQLIXYAnwM+kry3F/gOiWCyGbg1eczylJVdwWmnbcTlqpj4YpMJhZqIRrV3q8s1B1AyYmior+8f7NnzEVQ1pLnsxDCh9ReVpeaK9Fj/kilrCaRMlEXRwwfxuI+BgX8TDmfeWgJNNq+XUj4NPD3i2DeH/X4zcPMY9z4APKCFHVlGZ9eu/0BRnKxe/bymchXFybnn9mC3F2gqVw9CoWYUxY3DUQo0aCrb7Z7H0NDrmsrUg2NzRdrXGXK75xGP+4jF+nE4ijSXrxWRyBGkjOnSIzg2TNiUcanV2ZXF00RKyZYtp9HUdLvZpkyIHmmTKRyOwoyosZLygR62VlffxNKl1m/LpIaE9HgWEivNsXzvUErJ7NkfJS9vjeayM8UHo6FJj+BkRAhBNNpFILDHbFPGRVWjhMOtupXD6Oh4BJ9vKwsX/lAX+VqRSB3Vp+KmlvnoeiJlHJdrHnZ7oeayc3NXMXfuV7DZ8jSXrSVu9xzdgrbTWUFiqDTz9jPP9gjSwOWaa/n/9ESNdFW3HoHPt4W2tl9YfmxYz15RJNJNR8ejRCIdusjXiurqGzn77EO69Iq83sUsWHAnHk+N5rK1RFXDuj2rimKnsPB8bDZtCjsaSTYQpEEmBAI9Jwgh4QNVDRKLWXuOf+3aLdTW/pcuskOhA+zefTU+nzabvWQqiWJuPWabMS4HDnyFl17Sb83q6tXrqa6+UTf5epENBGmQCAQtlm4NezwLWLz4V+TmrtJFfmrf4lDI2gHR5apM1tfRQ3Zm+GDHjktpa7tHN/mbNy+joeFLusnXglCoGYfD/HVIViMbCNIgP/8sSkou1yUlUStcrkoqK6/H6Zylk3zrT5D5/Xs4dOi7hMPaFFkbSaLOjN3SvcN4PEhf3zO6FsjLjB6yvuXjW1t/wauvrrB043A0soEgDcrL38uKFY9is3nMNmVMhoZeZ2joDd3ku1xzsNlyicetu2+vz/cKhw59g3hcn4U+QthwOist/RJMpY7qNU+SkG39QKDnXBGAqkYIBHZZfqh0JNmsIQ2QUlo2hbKx8SYikQ7q6rbqIt/prGDdukHL/v0wvOieNtt0jobVX4J6zxVBwgc9PU9Z9vsQi/mIxfp03a95+FCp1iv59STbI0iDSKSbjRuLaGv7hdmmjIkeFTeHI4Sw5Jd+OKkNaWw2t246liy5l6VLp1xL0TCM6BG43XNR1ZCFJ4xV5s37BgUF5+umIdXYsHKjYDSygSANHI5iiv/ho+yCb4PNBitXwiOPmG3WcUQirbq2hAGamm6joeGLuupIh3C4RXcf5OQss/TWpYriJTd3DS5XpW46CgsvYOHCn6AoDt10pIPdXkBt7a0UFJylm45jc2bZQHDSIB59jPn3C9puXgWhEPzsZ3DLLZYJBvG4n1isH6dT3y0e/P56urufmvhCkwiH23XLGEoRCOyjufmHxGIDuuqZLrNmXU1d3Wu6laAGyM09lTlzPmfZkiPRaB+RSLeuE7lO5yyKii7RLTlDL7KBIB1uu43D31pG3+ooOBxwwQVw//1w221mWwYkNtQGdH8JWj2Ntq5uK8uW/VZXHX5/PY2NNxIMHtBVj5WRUsXv323ZNNrW1rvYtKmMxEaK+iCEjVWr/k5ZWWaU5E6RDQTpsHs30TNXED70Krz5zYlj69bB7t3j3mYUTmclp5zyNEVFF+qqx+Wai5QRolHzNwwaDSFs2O36lj6w+tjwjh2X0tDwFd31bNmyitbWn+uuZzqEw604HGUoikt3XVZtFI1FNhCkw7JlzG5YQPnO8mPHNm6EZcvMs2kYdnsuJSVvM6BHYN2XYDjcyt69n2BoaIeueqy+qMzn24Kq+nXVIYSCy1Vl2TUlibki/XfC3b//C2zefIruerQkGwjS4ZZbKL7xYeb/oRBUFdavh2uvTcwTWACfbxvd3U/p3jrxeGrxepehquGJLzaYQGA/7e336LqQCsDpLEcIhyWDYTweSm5ar/9L0MpptJFIqyE+UBQXwWBDRvUKsoEgHa6+ms0f/zIHW7uJb3yRxqs/xuaPfxmuvtpsywBob64KwmYAACAASURBVL+fPXuu0T2985/7S/ni83ex+vY+zr3jeZ7cNupuo6YQiSRs0fsF8Kft7fQES/n9K69Y0AdtgL7rKACe3NbKvw842d++13I+gETvUG8fAOztykXKMKu+9bAl/TAamiwoE0JcCvwEsAH3SSnvGHH+S8B1QAzoAj4mpWxKnosDO5OXNkspLyNDeHJbKz9X4JbH2/jya//Ja53n4AnYuH1bK1es0b/lMRFGtICe3NbKzX/cSTCa2AO2tT/IzX9M/HdawQdGTJinfOBS7sAfzSOqWs0HiaEaI3zwztoiVhT30Nbvt5QPAGprv6f5ntUjeXJbK4++EuWTq6DI3U1Tf6Hl/DAaafcIhBA24OfA24DlwNVCiOUjLtsG1EkpTwUeB34w7FxQSrk6+ZMxQQDgzmf2cmQosRtTsScx9BCMxrnzmb1mmnWURAtI34fvzmf2EozGuf7UH3LV0nsBq/mgBZstX9fJ4pQP+sMlRNVEeqaVfKAoXkpKLsPjma+bjpQPXmp7E7/c/lWEkJbyAUBl5XUUFr5JVx13PrOXdn9iRXGx23rvhLHQYmjoDKBBStkoE3lZjwKXD79ASrleShlIfnwZ0L9/NpJHHuGHt/4Hj3xqnWYLv9r6g/ii+UTjDkrc3ccdtwJGLKRK/a3F7m5q8/efcNxsVDWE212jq47U37q46A0+sPQeBOpxx80mP7+OU075Ex7PAt10pP7WlqFaXus8B1XajjtuNtFoLz7fNuJxfQtEtvUH6Q7OYkPLRQyEi447bmW0CARVwPDZoZbksbG4FvjbsM9uIcQWIcTLQogrxrpJCHF98rotXV1TTFN85BG45Rb+98ov8cG7/qXZwq/KQg8g6AuXUOjqGXHcXFQ1RiTSoXuPIPW39oVKKHJbywcAS5bcQ13ddl11pP7WuXkHubjmKfKcA8cdNxsjJi1Tf6tDCbOiZBvF7s7jjptNb+8/2Lr1NEIhfdd5VBZ68EfzeOCNz9M4sOS441bG0MliIcQHgTrgzmGH50kp64APAD8WQozabJFS3iOlrJNS1pWVTbGe+G23wf33U79kLXGbXbOFXzdesgSPw3bcS9DjsHHjJUsmuFN/hFCoq9tBRcXHddWT8kFvqDTpA2kZH6TQe7L82HNQCkCRu8dSPti16yq2bdN3SCTlA689wI2nf4PVZZst5QOjkgZSfhCouGyJXoCV/DAWWkwWtwJzh32ekzx2HEKItwK3AG+SUh7NM5RStib/bRRC/AtYA2gbtnfvhnXr+OYnzkx8/sRrmiz8Sk3+/PXZ8wm43FQVerjxkiWWmBQSQiE3d6XuelJ/699fKcWhxFhUGuEzb1ljCR9IGWfnzsuprPw4paWXT3zDNEn9rT//R2IceGGJjy+ecYolfACJgnOKkqOrjtTf+rXHtxNTbVQX9nPZOVbyQQuKkqN7+YvU39t56FJiqsL/7f+RZd4J46FFINgMLBJC1JIIAFeRaN0fRQixBvgVcKmUsnPY8SIgIKUMCyFKgXM5fiJZG5YtSyz0Go5GC7+uWFPFoitfBmDFvv9JW55WDA29wcDABmbN+iB2u757qF6xpooNbyznsP90/nxDHW63NR76SKSD3t6/UlLyTt11XbGmij9trQXg1neWUFVlDR9AImmgsFDf1eWQ8MEjrzYTjJdy5WkOli2zlg9cripDKuVesaaK+w7PojJnHy/epL/ftSDtoSEpZQy4AXgG2A38TkpZL4S4VQiRygK6E8gFfi+E2C6ESFUoWwZsEULsANYDd0gpd6Vr0wnccgtcey3egA+k1Hzhl7SrxGaHLLWgqr//efbv/4xhNrUGTucvLT+xVAVOI9ImhxOMFxOXdkttSiJlnEhE/6J7w/HHyo6m7VoFIzLohuOPlZJj78qYRWWarCOQUj4NPD3i2DeH/f7WMe7bBOi/Fju5wKviIx/DFQnBZz+bmB/QaOFXZNUAg584RCCwl9zcUzWRmS7hcAtCOHE4Ss02xTSMKrqXQmLjvn3P8cgF+tW7nyqRSCdSxkwIBNYqM1Fbextg3EvZHyvDoYSIxQZwOAoN0ztdTp6VxVdfzYF5y9i1aA288Yamq3+VvkTuuJUefiO7wglUrq69ikOHvmuQvokxOhAAqFitFr+gsvLT5OXVGaZxS/fHWL7cGqXYUxQVvZmiogsM0zcUS9Qfs9I7YTxOnkCgI0p/4stvpe6w0V1hULCLAKFQo4E6x0cIG273AhyOKWaZpcHS/L+wf//nDNM3ES7XbBYv/jn5+WcYprM3soC8vDWG6ZuIWGyI7u4/E4l0TnyxRnSHlrC5+2PY7dbvDUA2EGiCMuAA1VrR34jFZCOx2thwVdWnOOusBoQw7jEvce/nyJEHDdM3EfF4AFWNGqrTa+umvf0BIpEOQ/WORTC4jzfeuIyBgRcN0zkQncuWnutwu41fOzsdsoFAA0RcoPjslnoJrl27hYULf2yoTn+s3FLB0Az8sTLicR+x2KDZpgDQ1PRdXnghFylVw3QWOFvYu/da3Ut/T5ZjSQPGvpQ9tl7LBMOJyAYCjcj5XRUVFR8124yjOByFhm+XZ7Uewc6dl9HUdLuhOv3R1NiwNfwQDrfgdM42tFc0FCtL6raKD4yfKwJ4f82HOHjwmxNfaAGygUAj3JuLKSg412wzAAiFmmlsvJlAoMFQve3BVZSVvQcp44bqHQ0pJX19zxm+a5oVX4JGvwADsdKjuq1AokdgO+kbRuORDQQaES+I0tf3vNlmAIn9c5ub7yAaNW5yDOCA7y0sXXo/iYK05hKLDaCqAVPmSRyOclQ1MPHFBmBUDf7hxKULh6P0aFkHs0n4oMLw59KKabRjkQ0EGhE6p4cdO95CPG5+lUGzusKQaImrasxwvSMxejFZisHoHM49t4PSUmtUVI9EjO8RQKKmj1VawzU132T58t8ZrtcfK7NMMJyIbCDQCJuFUkgTL0GB01lhqN48RxsbNrjp7DQ/h9yoImNWRso41dW3GFJiYyQrVjzOkiX3G653NDye+RQUnG24Xn+sjGi0W/fS11qQDQQaYaVFZZFIKw5HOYriNFRvMFaElBFLBEMhnBQUrMPtnme47oaGL3PgwFcN1zsSIWzMm3cTRUVvMVy317sQp9O49Rvj0dZ2D0NDOye+UGOahs5h8eJ7MXJF83TJBgKNSC0qs0JXMBrtNmU4ICY92O2FlgiGRUUXsGbNC7jdcye+WGMCgV2WmC+KRvsJhZpMmbz3+bZx6NB/mV5/KxbzsW/fJ+jt/dvEF2tMd3gJlZXXYbNZey8CyAYCzVD6UkND5r8EV658gjVrjFs8Mxyns8oSwdBMXK45lngOuruf4OWXawiFmgzXPTT0GocOfZtwuN1w3cMxc75MIYbPt9USPeSJyAYCjVDCNlau/BNlZVeabQoANpvbFL1WeQnu2vUB6uvN+b9wOquIRjsNX9E7ktQLyOmsNFx3KlPJ7GfBrMVkAHYlxNatdXR2Pmq47qmSDQQaUlp6GR5Pjak2xOMhdu36IH19603RX15+FeXl2hX0my5+/y7TUjgTLx1JJGJ2a7gFh6PUlEZBapLe7N6hmUkDETUHRckxPRhOBk3KUGdJkOoGmpk6GIm00tn5fxQXX2SK/oqKj5iidySRSKspmSIAHs9CcnPXEo+bu5YgEmk1LWvqWI/A3EBg5tAQiGQP2fpDQ9lAoCGtrXfR2/usqYEg1fow6wUgpUo02o3dXmh41lKKeDxENNptmg+Kit5MXd0WU3QPx4xVxSns9gIUxUs43GaK/hRVVZ+ltPQK0yZsXS7rrKcYFyll2j/ApcBeoAG4aZTzLuCx5PlXgJph525OHt8LXDIZfWvXrpXT4Y1Fa+Qbi9ZM697JyD1w4Ba5fr1NqmosfaEPPyzlihVSKkri34cfntRtR478n1y/Hjk0tGtUmc2VtTIupiZzMram5EaXVsv6ryP7+1/SRO50fBAIHJDr1yPb2v53XFv18oHWcqfjAyml7Oz8g+zu/ptx9o6QGf31r6SqxjWRO10fTCRX72chuLBA7v12iSYytfABsEWO9g4f7eBUfgAbic3m5wNOYAewfMQ1nwbuTv5+FfBY8vflyetdQG1Sjm0inVYNBC0tv5Dr1yNDodb0BD78sJS1tVI+/7yUkUji39raSf3nNzX9QK5fj4xGB0eV+V9f/Jm8+ucbpiRzMram5Pr/co8MVCAH7v6CJnKn44NAoFHW118lBwZeHddWvXwgn39ehqrcsvMn79NE7nR8MFV705ars2+n64PDh38qu7r+bLi9KblDf/6ljM2brYlvtXgOxgoEQqa5p6YQ4mzg21LKS5Kfb072NG4fds0zyWteEkLYgSNAGXDT8GuHXzeezrq6Orlly9S73ruWLAcktvy8Kd87HvFBHwCizEGkaABnTzFKdPo7VTl7uonl5aM6jw2tKJEIdt8gkZLxt56M5QwRzwni6jx+MU9K5pBM5Ad4XfZJy5yMrSm5Ho9C3NuFt1khUjz9BUXp+GCyturlA6/LTtzThbtNEi0qT1vudHwghYq0xxAxO0IenxOihx9Gk4kcwtEfMM0HAOHyLpSwC8dA/oT26vUsaOVb1enEMaeK+U88kdh3/bOfTey2OAWEEFullCdsV6fFHEEVcHjY5xbgzLGukVLGhBADQEny+Msj7h11UFMIcT1wPUB19fQ2SHcvX0K0RfvxulRgUeOJdEGpxCGNLQtFLI7qcBAIJ2r2eF12VIcDEZt4YZDdn4vdnzumTO+wrSsnK3Myth6Vq0piOSCi6dW/T8cHiZWcJ27RaZgPgLjbhhJJL300HR9Ie4xISR/O3kJExDWhven6YTSZsTyJq1My1v/HVORO9zmQioqIn5gcadSzIIVKNE/F0Ze+bwPhGH3dfuYDrFsHu3enZetxjNZNmMoP8F7gvmGfPwTcNeKaN4A5wz4fAEqBu4APDjt+P/DeiXROd2hIb2KxgBwY2HzisMxUWbFCyuefl++/e5N8/92bEseefz5xPE2Zx5GuzDHk1t81WwYXFmgidzo+2Lfv83LTpjmTslUvHxx84C3SP9+hidzp+KCj41G5fj3S59s5KXv1eL46H7tBDtUgw+GOtOVOxwfBYJNcvx7Z2nrPpOzV41kYGNgst/0PMrq0Om2ZWrwPGGNoSIt1BK3A8HX8c5LHRr0mOTRUAPRM8t6MwWbzkJ9fh92e5tDTLbfAtdeyYu9WbPFYoht47bWJ4xNQX/8+2tp+NaZM1q+HaHRKMidj63C5i38QI3rj9ZrInY4PIpFWFCVnUrbq5YOqb23h0H+oqQZOWnKn44Nx0yb18MMoMotv/D1NH0xzUVlaPhhnMZlBz4L7pUMsuRMGb0ij3lMaPpg0o0WHqfyQGF5qJDHZm5osXjHims9w/GTx75K/r+D4yeJGdJwsNoKOjt/Lzs4n0hc0jYwGVY3J9ett8sCBW8aUqVf2hZWyOrZuPVtu23ah4bYOl9v/y8/KnTuvkLGYP2250/HB/v1flP/+t1eqqjope7XKGhou03//rXL9emRX11Npy52ODzo7H0/2inZMyl49ngV1xQpZ/w1FHjjwn2nL1CLDCb0miwGEEG8Hfkwig+gBKeVtQohbk0qfEkK4gd8Aa4Be4CopZWPy3luAjwEx4AtSygmrQ013stgIXnvtXBTFxerV6Rcdu/JXiTnzxz4xuYVR4XA7L71UyaJFv6Cq6lNp658usdgAwWADubmnIcT0xoZTTNUHAC+9NI/CwjezbNlDaem2CtPxQX39lQwNbePMM/fpZdaEhMOtvPxyLUuW3M/s2R9KS9Z0fCClJB4fRFFyUBTzlky99FI1hYUXsmzZg2nJmY4PRqLnZDFSyqeBp0cc++aw30PA+8a49zbgNi3ssAIu1xyGhraZotuszVhG0t7+AAcOfIlzz+3B4Sg2VLeUKpFIm+k+MJvq6puIRrtNtcHprOT880OG7pc8HCEEdnuBKbqHk1hUZu0yE9laQxqTWkmoRU9rqpi7nP4YZhYcU9UIc+Z8kcLCCwzXPZxIpJNNmypoa7vXFP15eWtMKzOSQghhWhAAaG39BYcP/7dp+lMsXnw3ixffbbYZ45INBBrjclWhqgFisQHDdQsh8HqXmVJpcTipQGTG0nqbzc2CBT8w/SVotxcRiXQSDh+e+GKNkVKls/MxgsGDhuseSVPT92hs/E9TdHd2Pkp391Om6B5Obu4qvN6FZpsxLtlAoDFmtoZLSy/njDN24XTOMlz3cMwMBPG4n1jMZ7jekSiKA6dzlik+iEa72bXrKnp6/mK47pH4fFvp7n7SFN3hcIvpjSKAQGA/LS13EY/7zTZlTLKBQGOKi9/B2We3k5Oz3GxTTCOxV7IwJRgeOfIQGzfmm74hCphXcMzMGvwjMcsHUkrCYWvMFfl8W2ho+KwpGwRNlmwg0Bi7PReXa7YpY6O7d3+YfftuMFzvSBTFybJlv6Gs7L2G6w6HWxDCjtM5/bIGWmHWJj1WmStK2RCPDxreS4tGe5AybBkfgPkluccjGwg0RkrJoUO30t1tfLd8cPAVotEuw/WOxqxZ/0Fu7krD9YbDrTidFQhhM1z3SIqL30Fp6f8zXK+1AoE5+xJEo13YbLmW6RWBtQNBdj8CjRFC0Np6F6Wl76K09J2G6U10hVsoKXmHYTrHIxDYTzh8mKKiCw3Va2YN/pFUVl5nit5EL8SG0znbFP3Dcbnm4XbXEo8PGao3J2cZ553nQ8r0al5pgVV2axuPbI9AB8wYF43FBlDVgGVegi0tP6K+ftSlI7pilQnCFKoaQVVjhuqcM+ezrFmz0RK9osLCdZx1ViP5+SesYTIEM9NXU9hsbuz2Ekv3CMz30gzEjLHhVGvDKi9Bl6uKWKyXeDxoqN65c7/ErFkfNlTnWPT3b2DDBhcDAy8YqtfpnEVBwVmG6rQa7e0Psnv3Naas5xmNtWtfZf78H5htxphkA4EOOJ1VpnQDi4ouxuNZZLje0TBrbLiy8npTxuVHI5XGa7QP2tvvp7/f2OAzHvX1V9LU9D1DdQ4MvEBf37NplzjRCo9nPnb7ieXhrUI2EOhAojU8iKpGDNOZk7OCVaueIS/vNMN0jocZ46Kx2BB+/25UNWyYzvFI+cDo3mFDw5fo6vq9oTrHIxDYxeDgq4bqtNJcEUBf3/McOvRfZpsxJtlAoAPV1V/l/PODpm3ebgXMyJQYHHyJzZuXMzj4imE6x8Nuz8VmKzA4GPqIxwct9RI0Y6jUanNFAwMvcOjQtw1tHE6FbCDQAUVxGT5JtX//59i69QxDdY6H213Lqac+Q1HRWw3TaaW0yRRGJw4c84F1XoJmDJVGIq1He2RW4NhQaZvJloxONhDoQCTSzZ4919HX9y/DdAaDjUiZ3taIWmKzuSkuvtjQhV2pVqeVXgBVVZ+htPTdhulLvXCt5AOXq4pIpANVNeb5VNUITmcFXq815svA+imk2XUEOqAoDo4cuR+vdylFRW82RGck0mqpViBAX99zqGqEkpK3GaIvEmnFbi/BZnMbom8yVFV92lB9VuwV5eSsoKDgPOJxH4qif1lyRXFyxhm7dNczFay+qCwbCHTAZstHUXIMjf7hcCt5eWcapm8yNDXdjqr6DQsEVpsghETrNBxuxe2eZ8hwYXn5VRQUnIfLNXfiiw2ivPz9lJe/32wzTCXVSItEzK+BNRppPZlCiGIhxLNCiP3Jf4tGuWa1EOIlIUS9EOJ1IcSVw849KIQ4KITYnvxZnY49VkEIkZwgMyYQqGqYaLTLci9BoycJ58z5IrW13zFM32Rob3+AV16Zb9gLQFGceDy1pu7IZTbd3X9m27Y3EQ4fMduUo9jthaxbN8icOZ8325RRSbeJchPwnJRyEfBc8vNIAsCHpZQrgEuBHwshCoedv1FKuTr5sz1NeyyDkbsSqWqI2bOvJT/fWj2ChA/akTJuiL6iogsoLb3MEF2Txeiy5G1t99He/qAhuiZLLObj1VdX0Nb2K0P0BQK7GBjYgM1mnbz9xG5peWabMSbpBoLLgdTGsA8BV4y8QEq5T0q5P/l7G9AJlKWp1/J4PPMNW+JvtxewdOl9FBdfbIi+yZJ4CcaJRDp016WqUXp7/2GIrqlg9Nhwe/uv6Ox81BBdk8VmyyUYPEAw2GCIvnC4BZutwHILuNra7rHsWoJ0A8EsKWWqz3sEGHdHFCHEGYATODDs8G3JIaMfCSFc49x7vRBiixBiS1eXNSpsjseSJfeyZo0xqztVNWKJ4lojMfIlGA638vrrl9Dd/WfddU0Fo3sEifx5aw0RJoZKjUujteJcESRKjhw58qDZZozKhIFACPFPIcQbo/xcPvw6mSjqMWZhDyFEBfAb4KPy2FvrZmApcDpQDHxtrPullPdIKeuklHVlZTO+QzElWlp+yoYNHkvszDWcwsI3c/rp9eTmnqq7rtSL1u22ziQpgMNRihBOQ16CqhohEumw1ERxCiPni8Lhwxb1QRXhcJslG20TzihJKcdcESSE6BBCVEgp25Mv+s4xrssH/grcIqV8eZjsVG8iLIT4X+ArU7Lewvh822lsvImFC/9H993KwuHDKIrLcmOQdns+drsxO7Wl9ga22gtACMHChT8xKBi2AtJywRASL0GjVnx7PIssU3NrOC7XHKSMEI12W2LjpOGkm1rwFHANcEfy3z+NvEAI4QSeAH4tpXx8xLlUEBEk5hfeSNMeyyBljL6+ZwgGGwwJBFZbQ5CitfVu3O4aSkou1VXPse0ZrfcSrKr6pCF6IpFElowVfVBY+CYUxWOIruXLHzZEz1QZPlRqtUCQ7hzBHcBFQoj9wFuTnxFC1Akh7kte837gfOAjo6SJ/p8QYiewEygFvpumPZbB2PFxa3aFAZqbb6ezU/8vZjh8GJst33K9IoBw+AiDg5t111NQcDbnnx+isPAC3XVNlcrKT7B06f1mm2EqLlcVNlsBsVi/2aacQFo9AillD/CWUY5vAa5L/v5b4Ldj3G/s9lUGkoj4NkPGRUOhw5SUrNJdz3QwapKwquqzlJRYo/z0SA4fvpO2tl9y3nl+3csiK8qY+RaWQEqpqw8GBl5k9+4PsXz5Y+Tnn66bnumQl3cG551nvSAA2VpDuiGEDZerQveXoJSSqqpPWy5/PoVRk4Re7yKKiy/SXc90cLmqUNWg7i3Btrb7aGz8T111TBefbzsvvJBPb+/fdNUTCh0iFDqIzWa9nqFV9kYYjWwg0JH8/LNwOPStrSKEoKbmmxYOBIkegd47RR058lv8/npddUwXo1JIe3r+Qk+PtdJnUzgcxcTjPt0bRqFQKmnAmnNm+/d/lubm75ttxglkA4GOrFjxexYu/B9ddcRiPsLhI5ZMSYPEF1JV/cTjg7rpUNUwe/Z8iK6uP+imIx2Mmi+y8lyR01kBCN2DYTjcgt1eaLnFZCkGB1+hr+95s804gWwgyHB6ep7ipZcqCAT2mW3KqFRUXM+6dYPY7QW66bByxhAYt1OZlQOBojhwOmed1MEQjC09MxWygUBHOjt/z6uvriAWG9BNh9W7wnZ7nu6ZPFYPBC5XFcuWPaLrJj3xeChZeNCaPgBj5ovy8k6ntPTyiS80CTN2a5sMJ2+JQkNQCQR2EQodJjdXnxZxOHzY0l3heNzPoUO3Ulx8CUVF+iSJpYKhFRdSQaI1PGvWVbrqiEa7cThm4XZX66onHcrL/0P3CdOamq/rKj9dXK5q4vFBYrEBXXvJUyUbCHTE5Up8KcPhZnJzV+qiw+pdYSGcHD78QxTFqVsgOLaq2Jq9IkhkzUSj3RQX69MrcLvncO651im7PBpz535BV/mpKjdGbxM7FTyeReTkrCQW67dUILCux2YAqdZZKNSsmw6rBwJFceByVenqg8rKT7F27VZsthzddKRLc/Pt7N//GbPNMJ1YbABVjekiOxg8wIYNHssmDQCUlV3B6afvxO2eZ7Ypx5ENBDridM5GCDvhcJNuOubO/RqVlZ/STb4WuFzVhMP6BQKHo5C8vNN0k68FbnfCB3ql0ba3P8gbb7zLsL0fpkNX1xNs3FiI369PJZlw+DBSRrDb9d8Oc6aRDQQ6IoSN0tJ369pinzXrKkpL36mbfC1wu6t17RG0tt5Nb++zusnXAperGlUNEY126yLf53uF/v4Nhu2BMR2OrafQ51nIhCFCKSXbt7+F5uY7zTblOLKBQGdWrHhMtw3MYzEfg4NbiMf9usjXCrd7HvG4T7fW8MGDX6e7+4+6yNaKY8OE+vQOQyFrDxGC/kOlmRAIhBCEQgcZGrLWZozZQJDB+HxbeO210xkcfNVsU8altva7nHtupy4ZI/F4gFisx/IvweGJA3oQDh+2bNZUCoejDCFcug2VhkKHcThKsdmMqXI6XfQeKp0O2UCgMy0tP2HjxiJdJsgyoQUE6DpcYfU1BCm83qWsXv0CRUUn1GjUhMTOZNb2gRCKrsOEhYXnU1V1gy6ytUTvodLpkE0f1RlF8RCL9ROJtGme450pgSAS6aSh4QtUVFyneQqpVTekGYnN5qGwcJ0uslU1isczH6/XmE2A0mHu3BtxOEp0kT1r1gd0kas1bvc8wuFWVDWGoljjFWwNK2YwqTSxUKhZ80AQCjVnRFdYUdx0dj5Cbu5pmgeCVMvK6sMiAD09T6OqIcrK3q2pXEVxsHat/vsdaEFl5cd1kx2JdOBwlFu6yidAbu5qiosvJh4fQlEKzTYHSHNoSAhRLIR4VgixP/lv0RjXxYdtSvPUsOO1QohXhBANQojHkruZzSj0HBsOhQ7hdtdqLldr7PZ8bLYCXXwwe/ZHOOecI7jdNZrL1pqWlp/S3Hy72WaYSjweYGjoDc2HSqPRfjZtmk1Ly480lasHZWXv4dRTn8bhsEYQgPTnCG4CnpNSLgKeS34ejaCUcnXyZ3i95O8DP5JSLgT6gGvTtMdy6JkpUVPzLebPz4wXi17jwQfQjAAAHG5JREFUokIInM5Zlk6bTKGXD44c+Q1bt55ONNqnuWyt6ex8lC1bTtG8URAKHQKw3EKtTCHdQHA58FDy94dI7Ds8KZL7FF8IpPYxntL9mYLNlkNFxcfJyVmmueyCgnN0m3zUGr0yJZqa7uDIkYcmvtACuFzVRKOdxONBTeX6/W8wNLTDUiULxmL4UKmWHAsENZrK1QNVDfPyy7U0N//QbFOOkm4gmCWlbE/+fgSYNcZ1biHEFiHEy0KI1Mu+BOiXUqb6iC1AVZr2WJIlS+7RvCJiLDZIV9cTRCKdmsrVi5yc5brsGtXW9kv6+p7TXK4epHqHWlefTAwRzrN0jZ0Ueg2VZlIgUBQXsZiPUKjRbFOOMuFksRDin8DsUU7dMvyDlFIKIcZaMTRPStkqhJgPPJ/csH5KtZmFENcD1wNUV1u3wuJYxGJDmlYI9fvfoL7+3ZxyytOUlLxNM7l6sWDBDzSXqapRwuGWjPjyw7GXYCjUhNe7SDO5mTJXBMcy3PToEdhsuRlTXiIxTKhf6ZmpMmEgkFKOWS5RCNEhhKiQUrYLISqAUZunUsrW5L+NQoh/AWuAPwCFQgh7slcwBxhz1wop5T3APQB1dXX67nuoMQ0NX6G9/V7OO0+7fQkyqQWkF4nUUTVjfJCffyZnnXXo6EY1WhEKHbJ0Df7h2GweHI5yzXsEpaWX4fEstHzGUAqXq5pQ6IDZZhwl3b7kU8A1yd+vAf408gIhRJEQwpX8vRQ4F9glE/UG1gPvHe/+mYDTOftoDXKtyLTJsUBgH9u2nUd//wbNZB7zQWa0hm02D273PE1zx6WMU1Cwjvz8szWTqTeLFv2U2bM/qqnMoqILmTPH+ovJUlhtUVm6geAO4CIhxH7grcnPCCHqhBD3Ja9ZBmwRQuwg8eK/Q0q5K3nua8CXhBANJOYM7k/THkuiR52ZUOgQDkc5NptXM5l6oigeBgY2Egjs0UxmNNqNEM6M6RFAokDekSO/1UyeEDZWrvwDFRXavlj1pLz8SgoKtAtcUkoGB7fouhOg1hQWvony8itR1ajZpgBpLiiTUvYAJ6StSCm3ANclf98EnDLG/Y3AGenYkAmkXlSh0CFyc0/VRGZiXLhGE1lG4HJVIoSdUOigZjLLy99PWdl7gcwYDgDo6PgNiuJk9uwPaiJPSpkxwyEpIpEOfL6tFBdfqskEdyzWz2uvnc6CBf/N3Llf0sBC/Skrew9lZe8x24yjWD/NYAbgds8HEhtnaMXixXezePGvNJOnN0LYcLtrNPVBQq6SUS9Cj2e+pj5oa/sVmzZVEInoU95aD7q6/sjOne8gEtFmR7VMnS+TMk48HjLbDCAbCAzB4Sihuvo/ycs7XTOZHs988vJWaybPCNzuBQSD2qXMNTR82VK52JPB7V5AONyCqoY1kRcKHSQa7cXhyIxsGUg8u6BdwygTA0EsNsSGDV5aW39mtilANhAYghCC+fNv06zoWDTaS0vLTwkGtRtmMYKCgnV4vYs1k9fV9Xv8/p2ayTMCj2cBII++vNIlk9YQpHC7FwBolkefiYHAbs/FZsvTvIc8XbJF5wwiHvcTDrfg9S5JW1YgsJuGhs/j8SzG48mMjBmAmpqvayZLVSOEw60Z9eWHVGtY0exZyLS5IkglTyia9ghstjzs9lFLnVkWj2e+ZVJIM6cZkeEcOnQrmzefqsmespnYAtKaxOrczFlDkCIv70zOPz+oWWmQTAwEiuLE7a7WbJhw9uyPsmTJAxk1VwSJ3qGWQ6XpkA0EBuHxLEDKRCs2XTJtDUGKYPAgL71UQ2fn4xNfPAGZGgwVxY6iaFNkV0qV8vKrKSq6WBN5RrJ06W+oqfmWJrLy8lZTXv7eiS+0GG73AkKhJkukkGaHhgwiMTacmCBLd1+CxBqCWZbfh2AkDkcZ4XATweD+tGWpagi3e37GLCYbTnPzD1DVMDU130hLjhAKixb9WCOrjEWr+TIpJd3dfyIv7zTN9/vQm+LiS1EUN1JGAYeptmR7BAaRSiHVYoIsGDyYcS1hSEyQORyzNPFBScnbOeusA3g8NekbZjADA5vo7HwsbTnxuF+z7COjCQYP0tb2K+Jxf1pyYrFe6uvfRVdX+r1MoyksXEdNzdctsSg0GwgMwuWaixB2TSbITjnlKVasyLwHH7TPo89EEpOEjSSqrEyftrZ72LDBSzTaq5FlxuHzbWHfvk8SDDakJScQ2AeAx6NdNppRSCkJh9uJRDrMNiUbCIxCUewsXnxvciVsethsXtxua+9TPBZaTZDt3HkFBw9+O32DTMDjWYCqBtNeUBUM7sNuL8i4bBk4fqg0HYLBRCDQMi3ZOCQvv1zL4cPmr4XJBgIDqaj4CHl5p6UlIxhs5MCBGy2TbTBVioouoaTknWm1hqWU9PU9SzyeObVlhpPKo0/3JRgI7MPrXZJx2TIwfLV9es9xokdgy8i5IiEUPJ5aS3yXs4HAQMLhNnp6/p6WDJ/vNQ4f/mFGFdgazuzZH2Tx4rvSenlFIm2oaiAjhwMg0Rp2OiuIx31pyQkG92WsDxyOQuz24rTz6BM+mI+imDvZOl3cbmsMlWazhgyko+NhGhtv5Nxze3E4ptedT3WFPR7tNjYxGinjSBlDUVzTuj8Q2Atk6nAAeL2LOOectrRkHFugmJk+gNQwYXovwQULfkgk0qWRRcbj8SxgYOAF04sHZnsEBpKqsZJO1kwgsA+ns0rT3c6MJBLpYsMGD21t905bRiZPEGqFlCoLFvyQoqJLzDZl2ixf/hjLl6eXPeV2zyM/v04ji4zH7Z5PPO4jGjW3aGC2R2AgwyfI8vLWTktGMLgvo1uBDkdpshz19FuCDkcRhYUX4nJl7hbXBw9+i1DoIMuW/Xpa99vtecyd+2WNrTKWdMujRCLddHT8lrKyd2Xc4soUxcWX4nAUoShuU+3I9ggMxONZCBxr0U6HaLQ3o1vCQgg8nkVp+aC8/EpWr34uowqtjSQSOUJPz1+mPWkeDB4kGDykrVEGEww20th4C6HQ4Wnd7/fv4MCBL1pijH265OQsZfbsa7Db80y1I61vkhCiWAjxrBBif/LfEwa+hRAXCCG2D/sJCSGuSJ57UAhxcNi5zKqrPEVsthzc7hoCgfppyzjzzD0sWmSN0rXTJSdnBX7/9H2Qbv69FcjJWUEs1jftHPJDh77N9u3naWyVsUSj3TQ3fw+fb8u07p8pQ4Q+33Z8vtdMtSHdJtVNwHNSykXAc8nPxyGlXC+lXC2lXA1cCASAfwy75MbUeSnl9jTtsTzLlv2W2trvpiUjUzMkUuTkrCAcbiIWG5ryvaoaZePGQlpafqqDZcaRk7MCYNqNgkzOGErh9S4HIBDYNcGVoxMM7kNRvLhclVqaZTh79nyYgwe/+f/bO/fgtqsrj3+OJSu2ZMvPxMZ5OCGEpIY2AUxcYrbbDZRCaUlLKVOm0DRlS7st9LGUbSkzbLdMO3TZbZcpTBmWLaRbhkAphLBtSMOjZdhQliQmCSYPuzgP24nfL0V+yNbZP36S4ySWZVm2fpZ0PzOZ6Hd1f9LXZ/T7nd8999x7bNUQryNYB2wMvd4IfDpK/xuArarqj/N7k5a8vOrRuYJY6ej4PbW1nycQ6JpmVYmloOAqliz5MRD7TqwDAw2MjPTidOZPv7AE4nZbjuDkyandBK01BMntCJzOHObMKZ/y6NDvP0R29rKkDhGC9VAQT5RgOojXgiWqejz0+gRQEqX/54Gnzmj7sYjsFZGfi0jEfEIRuU1EdorIzra25E0XGxw8QVPTLxkcjD19sKfnTdrbf4fDkZwZQ2G83kspL/8BTmdezOemSjjA5SohP38tDkfsseFAoIPh4eSeKwoTT5iwv78u6Z0hWCOjgYHDUxohTxdRs4ZE5GWgdJy37hl7oKoqIhGDtyJyDlYR+21jmu/GciAu4FHge8CPxjtfVR8N9aGysjJpg8SDg43U1X0dl6uEuXOvj+nc/v5DZGUl7+KZsQwNtTAy4ot5dJTcWwqcQkRYteqVKZ0bdobJbgMAj6eCvr63UQ3G/GRfWbmHkRH7bp7Txakw4QHbUmGjWl5Vr1TVC8f59wLQErrBh2/0rRN81I3A82rtuRr+7ONqMQg8DqyO78+Z/Xg8HwCY0lOQ338wJS5+gD17Pk5d3R0xn+f3H8TpLEqqGr0ToaoxT35nZy+jouJpcnOT/3JZvPg+1qxpmVJ4x+HIxuWaOwOqEku880XTQbyhoS3A+tDr9cALE/S9iTPCQmOciGDNL7wbp55ZTzhzKFZHEAwG8PsPjE6wJTseT8WUnGFe3uXMn/8PM6Ao8bS2PsMbbxTEnDnkchUzb96NKXETdDiyprSitrv7derrv0sg0D0DqhJLVtZSVq58maKi62zTEK8juB/4mIjUAVeGjhGRShF5LNxJRBYDC4E/n3H+kyKyD9gHFAPxpdMkCW537JNDgUArHs8F5OZeOkOqEouVOXSU4eHY9tspLb2FJUvumyFViSUzs5iRkZ6YfwttbZvx+fbNkKrEohrkwIENHD/+REzndXa+RFPTg0lXnGk8MjKcFBRcMeVtZ6ZFQzwnq2qHql6hqstCIaTOUPtOVf37Mf0Oq+p8VQ2ecf5aVf1gKNR0s6omf8BvElhZAocIBocnfc6cOfOprNydlCX5xiOcNeP375/0OcPDvqTeV+ZMwqO7WEZGqsrBgxtoanp4pmQlFJEMurpeo6trW/TOY/D5anC7K6a8X9Vso7d3J42N9q0PSu68qyRl4cK7qK5uJSMjfXf4CMdFY7kJdnRsYceOeXEtRptNuFwlOJ2FMf09VnZJd9zbmc8mrMyhyafRqip9fbtTygadnS9RX/9N2zKHjCOwAZerOObUyb17PzmlydXZSnb2uaxY8QQFBWsnfY7PV4PInJRImwQrc8gaHU7+JujzWStQc3IumilZCceywYFJj5CHho4TCLSmnA0gthHydGIcgQ2oKg0N99La+swk+wfp6TlzeiW5EXFQWro+ps3C+vp2k5PzwZRInw1TUvIFCguvnXT/vr4awIHH88GZE5VgPJ4LUB2a9EaEg4PHyMwsJicndUYEUxkhTyfGEdiAiNDa+jQtLU9Oqn9/fz0jI76UegICGBg4xokTGyeVPqmq+Hw1KWeDsrKvUl5+1s4sEfH5duPxVOBw2Ltb5XSSk7OK7OzzJ71i3uutYs2aVvLyqmdYWeLIzl6Kw5GDz7fLlu9P3yC1zeTlVdPevmVSBSl8vhqAlHoCAujs3MqhQ1/F612D2z1xoZ2BgSMMD3elnA0Ahod7GRnxM2fOeOs2T6ei4qm4ax3PNnJyVlJVdTCmc5KxPOdEiDjIza2ir88eR2BGBDaRl1fN8HDHaLWtiejr241IJh5PaqwhCBN+ouvp+d+ofZ3OfJYv/xWFhVfNtKyEomoVMD98+J8n1d/pzMPtXj7Dquxhsgvr9uy5isbGh2ZYTeKpqHiSVatet+W7jSOwCa/Xugn29ka/CXo8FZSVfY2MDNdMy0oobvcHcDoLJmWDzMx8zjlnw2iVt1RBRPB6V0/KGfb27qSh4V4CgY4EKEssLS2b2LGjNOoCsUCgk66u7QSDJxOkLHG4XCW2ZRIaR2ATbvdysrIWEwh0Ru1bWrqeZcuSe9vl8RDJwOtdQ0/PG1H7dnW9MqnRUzLi9Vbj99dG/S10dW3jyJH7EEmdyfIwLtdcAoFWenv/MmG/VA2TgjUiqqv7VlxlXKeKcQQ2ISJUVb3PokV3TdjPldGXEsvoI5GXV43ff2DCiUJhhNraGzl69P4EKksceXmXA9Db++aE/Xp63iA7ezlOpzcRshJKbm4V4Ig6OrQeGiSl1hCEERF6el6nrW1y2YTTiXEENjKZCa8P5L3Ijh1zGRqaaD+/5OWcc77CmjWtEy6vL8muZXi4k8LCaxKoLHF4vasRcU4YHnJKP11dr1FUlJo2cDpzyMlZGTVE1tHxe7zeKjIzixKkLLF4vdX09LwZ064D04FxBDbS33+YnTsvor19S8Q+5Z4duN0rcLnmJVBZ4nC5iqNunlbu2QE4KChIrYniMA6HmxUrfk1JyRcj9pnv3oXqYExrDpKNvLzL6e19i2AwEKFHkNzcSygpuSWhuhJJXl41weBJTp7cm9DvNemjNuJylXLy5Ht0d79OcfHZOw+6MnyUuvdQWPhdG9QljpaWp/D59rB06fihn0WeHeTlXU5mZnJXJZuIkpKbJnw/J7MVl6uU/PyPJEhR4ikuXkdGhotg0E9Gxngr7zM4//xfJlxXIhmbSZfI8JcZEdiIw5GF11tFZ+dL46bOLXD/Hw4ZoagodZ8CwZoAbGz82bjZMNmOTgrnvE9R0SdsUJY4gsEALS2b6O19e9z3a7uv57LLGlMuc2wsBQVrWbr0gYjbr+Q6j8dcuyHZyMpahMezMuGb6RlHYDMlJbfg99eeNVG4uaaJHP6EbyiHTz0ywOaaJpsUzjwlJTejGuDEiY2ntW+uaWJHQwbffPW/+fLT56e0DVRHqKv7BseO/etp7ZtrmnjnaCdvNXRy+U//nNI2AMsOHR1bUT1Vz3pzTRN7j7Vz/aJb+Mmmz6W8DSord1NWdttpbZtrmqg52s1bDZ1U3//qtNvAOAKbmTfvJhyOXJqbHxlt21zTxN3P7WPLXz/Hf+67k2PdQ9z93L6UvQBycj6E17uG5uZHRp/4wjYYGgniC+RR35GZ0jZwOLIoLd1Ae/tmBgetlcNhG1y56Lf8aM0dtPb2pLQNANrbX2Tfvk/Q2fkScMoG5d53cWf62XV8RcrbQCQDVWVg4Ahw+rUA0NTdP+02MI7AZpzOHJYs+QnFxZ8ZbXtg20H6AyO0+Oezp80qRNMfGOGBbamZRw9QVvY1+vvr6O5+DbBsMCejhe9c/ENWFFoTZ6lvg9tQHebEiV8Blg2Ghge5rOw1RtRBIOhKeRsUFV2Ly1U6+mAUvhaqy14lEHRS27Eq5W0AUFf3dXbtqiIYDIzaoLLkDSqK3gGm/1qIyxGIyOdEpFZEgiISseqyiFwtIgdFpF5Evj+mfYmIvBVqf1pEUjcAOgELFtzO3LmnHEFnXwd3XnIv5d760/o1d/cnWlrCmDv3BgoKrhw9bu72s+HCX7CicB+dA8Vj2lPXBm73+eTnX0Fz86OojtDc3c+15/6WBblHefGvN472S2UbZGRkUlp6Kx0df2Bg4CjN3f1cULSbv1nwMtsPX8fgiFWRLJVtAFBYeC2BQAvt7S+E/lblowtf4rqlmwBr1DydNoh3RPAucD0QcYMMEXEADwPXABXATSIS3jTnp8DPVfU8oAu4NU49Scvg4AkaGu6lpWUTt658nAuK38Epp+cSl+Unf1m+SDgc2axcuZ2CgrUMDBzj+uV/ZOXcXTxz6Eu0+stG+6WyDcDajdThcDM42MQlZU1ct3QTbzb/Lbtb15zqk/I2+AqgHDiwgaXFQ/zdwq00+RbyfP3Np/qkuA2Kiq5hzpyFNDT8gI8utkbEP9v1LzxUczdgrT+aThvEW6pyv6pGG5+sBupV9X1VHQI2AetCBevXAs+G+m3EKmCflgwONtLW9hz7999E5bytbD/yWf7as2L0/exMB3d9PDU3GzuTQ4du41NLfsHBrg/x6tFTGVPpYIO5cz/LpZfWkpW1iA1VQ5wMePnN/q+Ovp8ONsjKKue88x5kZKSX29dezOPv3cO/7/wRgaAVMEgHG4g4WL78MVQDfHHFfZxfeJigOvAFrIyq6bZBItYRzAeOjTluBKqAIqBbVYfHtM+P9CEichtwG8CiRYtmRqmNeL2VXHrpXtranqO3dwdV3m/w+okjNHf3U5afzV0fX86nL4ponpSivPxesrLOpSd3PWUHfWllA5FTz2YfPm8JO95/jHxPPv40sgHAggV3MH/+7VwiAuLkgW0HkYH0skFh4VWsXn2IlpZf8+2s4/z4T9kzdi1ItLxcEXkZGG+j9HtU9YVQnz8B31XVneOcfwNwdbiYvYjcguUIfgj8JRQWQkQWAltV9cJooisrK3XnzrO+ymAwGAwTICK7VPWs+dyoIwJVvTJanyg0AQvHHC8ItXUA+SLiDI0Kwu0Gg8FgSCCJSB99G1gWyhByAZ8Htqg1FHkNuCHUbz3wQgL0GAwGg2EM8aaPfkZEGoHLgN+LyLZQe5mI/AEg9LR/O7AN2A88o6rhCs3fA/5RROqx5gz+Kx49BoPBYIidqHMEsxEzR2AwGAyxE2mOwKwsNhgMhjTHOAKDwWBIc4wjMBgMhjTHOAKDwWBIc5JyslhE2oAjUzy9GGifRjkzTTLpNVpnjmTSm0xaIbn0xqu1XFXPqg2blI4gHkRk53iz5rOVZNJrtM4cyaQ3mbRCcumdKa0mNGQwGAxpjnEEBoPBkOakoyN41G4BMZJMeo3WmSOZ9CaTVkguvTOiNe3mCAwGg8FwOuk4IjAYDAbDGIwjMBgMhjQnrRyBiFwtIgdFpF5Evm+3nkiIyEIReU1E3hORWhH5lt2aoiEiDhGpEZH/sVtLNEQkX0SeFZEDIrJfRC6zW1MkROQ7od/AuyLylIhk2a1pLCLyKxFpFZF3x7QVish2EakL/V9gp8axRND7QOi3sFdEnheRfDs1hhlP65j37hQRFZHi6fiutHEEIuIAHgauASqAm0Skwl5VERkG7lTVCuDDwDdmsdYw38LaZjwZeBB4SVVXACuZpbpFZD7wTaAyVLnPgVXPYzbxBHD1GW3fB15R1WXAK6Hj2cITnK13O3Chqn4IOATcnWhREXiCs7WGqzleBRydri9KG0cArAbqVfV9VR0CNgHrbNY0Lqp6XFV3h173Yd2oZm2RVhFZAFwLPGa3lmiISB7wEUK1L1R1SFW77VU1IU4gW0ScgBtotlnPaajq60DnGc3rgI2h1xuBTydU1ASMp1dV/zimdvpfsKol2k4E2wL8HPgnYNoyfdLJEcwHjo05bmQW31zDiMhi4CLgLXuVTMh/YP0wg3YLmQRLgDbg8VAo6zER8dgtajxUtQn4N6wnv+NAj6r+0V5Vk6JEVY+HXp8ASuwUEyNfBrbaLSISIrIOaFLVPdP5uenkCJIOEckBfgd8W1V77dYzHiLySaBVVXfZrWWSOIGLgV+q6kXASWZX6GKUUGx9HZbzKgM8InKzvapiI1SSNily1EXkHqyw7JN2axkPEXEDPwDune7PTidH0AQsHHO8INQ2KxGRTCwn8KSqPme3ngmoBq4TkcNY4ba1IvIbeyVNSCPQqKrhEdazWI5hNnIl0KCqbaoaAJ4D1tisaTK0iMg5AKH/W23WExUR+RLwSeALOnsXVy3FeijYE7reFgC7RaQ03g9OJ0fwNrBMRJaIiAtr0m2LzZrGRUQEK4a9X1V/ZreeiVDVu1V1gaouxrLpq6o6a59aVfUEcExEloeargDes1HSRBwFPiwi7tBv4gpm6cT2GWwB1oderwdesFFLVETkaqzQ5nWq6rdbTyRUdZ+qzlPVxaHrrRG4OPSbjou0cQShyaDbgW1YF9Mzqlprr6qIVAO3YD1dvxP69wm7RaUQdwBPisheYBXwE5v1jEto1PIssBvYh3W9zqrtEETkKeBNYLmINIrIrcD9wMdEpA5rVHO/nRrHEkHvQ0AusD10rT1iq8gQEbTOzHfN3lGQwWAwGBJB2owIDAaDwTA+xhEYDAZDmmMcgcFgMKQ5xhEYDAZDmmMcgcFgMKQ5xhEYDAZDmmMcgcFgMKQ5/w/5kl5uRbreRAAAAABJRU5ErkJggg==\n"
                },
                "metadata": {
                  "needs_background": "light"
                }
              }
            ]
          }
        },
        "4c2c3ed9876d42ebb1f8d5635b7a818d": {
          "model_module": "@jupyter-widgets/base",
          "model_name": "LayoutModel",
          "model_module_version": "1.2.0",
          "state": {
            "_model_module": "@jupyter-widgets/base",
            "_model_module_version": "1.2.0",
            "_model_name": "LayoutModel",
            "_view_count": null,
            "_view_module": "@jupyter-widgets/base",
            "_view_module_version": "1.2.0",
            "_view_name": "LayoutView",
            "align_content": null,
            "align_items": null,
            "align_self": null,
            "border": null,
            "bottom": null,
            "display": null,
            "flex": null,
            "flex_flow": null,
            "grid_area": null,
            "grid_auto_columns": null,
            "grid_auto_flow": null,
            "grid_auto_rows": null,
            "grid_column": null,
            "grid_gap": null,
            "grid_row": null,
            "grid_template_areas": null,
            "grid_template_columns": null,
            "grid_template_rows": null,
            "height": null,
            "justify_content": null,
            "justify_items": null,
            "left": null,
            "margin": null,
            "max_height": null,
            "max_width": null,
            "min_height": null,
            "min_width": null,
            "object_fit": null,
            "object_position": null,
            "order": null,
            "overflow": null,
            "overflow_x": null,
            "overflow_y": null,
            "padding": null,
            "right": null,
            "top": null,
            "visibility": null,
            "width": null
          }
        },
        "6a6bcde090f045929995dcc696673e2f": {
          "model_module": "@jupyter-widgets/base",
          "model_name": "LayoutModel",
          "model_module_version": "1.2.0",
          "state": {
            "_model_module": "@jupyter-widgets/base",
            "_model_module_version": "1.2.0",
            "_model_name": "LayoutModel",
            "_view_count": null,
            "_view_module": "@jupyter-widgets/base",
            "_view_module_version": "1.2.0",
            "_view_name": "LayoutView",
            "align_content": null,
            "align_items": null,
            "align_self": null,
            "border": null,
            "bottom": null,
            "display": null,
            "flex": null,
            "flex_flow": null,
            "grid_area": null,
            "grid_auto_columns": null,
            "grid_auto_flow": null,
            "grid_auto_rows": null,
            "grid_column": null,
            "grid_gap": null,
            "grid_row": null,
            "grid_template_areas": null,
            "grid_template_columns": null,
            "grid_template_rows": null,
            "height": null,
            "justify_content": null,
            "justify_items": null,
            "left": null,
            "margin": null,
            "max_height": null,
            "max_width": null,
            "min_height": null,
            "min_width": null,
            "object_fit": null,
            "object_position": null,
            "order": null,
            "overflow": null,
            "overflow_x": null,
            "overflow_y": null,
            "padding": null,
            "right": null,
            "top": null,
            "visibility": null,
            "width": null
          }
        },
        "28f971414ea845cd8cdab3a585d8b91e": {
          "model_module": "@jupyter-widgets/controls",
          "model_name": "SliderStyleModel",
          "model_module_version": "1.5.0",
          "state": {
            "_model_module": "@jupyter-widgets/controls",
            "_model_module_version": "1.5.0",
            "_model_name": "SliderStyleModel",
            "_view_count": null,
            "_view_module": "@jupyter-widgets/base",
            "_view_module_version": "1.2.0",
            "_view_name": "StyleView",
            "description_width": "",
            "handle_color": null
          }
        },
        "c71840c5742843598244ee6d6542470c": {
          "model_module": "@jupyter-widgets/base",
          "model_name": "LayoutModel",
          "model_module_version": "1.2.0",
          "state": {
            "_model_module": "@jupyter-widgets/base",
            "_model_module_version": "1.2.0",
            "_model_name": "LayoutModel",
            "_view_count": null,
            "_view_module": "@jupyter-widgets/base",
            "_view_module_version": "1.2.0",
            "_view_name": "LayoutView",
            "align_content": null,
            "align_items": null,
            "align_self": null,
            "border": null,
            "bottom": null,
            "display": null,
            "flex": null,
            "flex_flow": null,
            "grid_area": null,
            "grid_auto_columns": null,
            "grid_auto_flow": null,
            "grid_auto_rows": null,
            "grid_column": null,
            "grid_gap": null,
            "grid_row": null,
            "grid_template_areas": null,
            "grid_template_columns": null,
            "grid_template_rows": null,
            "height": null,
            "justify_content": null,
            "justify_items": null,
            "left": null,
            "margin": null,
            "max_height": null,
            "max_width": null,
            "min_height": null,
            "min_width": null,
            "object_fit": null,
            "object_position": null,
            "order": null,
            "overflow": null,
            "overflow_x": null,
            "overflow_y": null,
            "padding": null,
            "right": null,
            "top": null,
            "visibility": null,
            "width": null
          }
        },
        "4ad2436f8cf945eb841be777a7bfe095": {
          "model_module": "@jupyter-widgets/controls",
          "model_name": "VBoxModel",
          "model_module_version": "1.5.0",
          "state": {
            "_dom_classes": [
              "widget-interact"
            ],
            "_model_module": "@jupyter-widgets/controls",
            "_model_module_version": "1.5.0",
            "_model_name": "VBoxModel",
            "_view_count": null,
            "_view_module": "@jupyter-widgets/controls",
            "_view_module_version": "1.5.0",
            "_view_name": "VBoxView",
            "box_style": "",
            "children": [
              "IPY_MODEL_f2f3991d4e34453698493f6df8d9c7cc",
              "IPY_MODEL_2a45218072bd4d0db95f757e4e38ffbf"
            ],
            "layout": "IPY_MODEL_63ba933a2b844d3eb7eb6542c7eaccb1"
          }
        },
        "f2f3991d4e34453698493f6df8d9c7cc": {
          "model_module": "@jupyter-widgets/controls",
          "model_name": "FloatSliderModel",
          "model_module_version": "1.5.0",
          "state": {
            "_dom_classes": [],
            "_model_module": "@jupyter-widgets/controls",
            "_model_module_version": "1.5.0",
            "_model_name": "FloatSliderModel",
            "_view_count": null,
            "_view_module": "@jupyter-widgets/controls",
            "_view_module_version": "1.5.0",
            "_view_name": "FloatSliderView",
            "continuous_update": true,
            "description": "a",
            "description_tooltip": null,
            "disabled": false,
            "layout": "IPY_MODEL_3a5f862498eb464198f62f48e8371bc8",
            "max": 0.9,
            "min": 0.1,
            "orientation": "horizontal",
            "readout": true,
            "readout_format": ".2f",
            "step": 0.1,
            "style": "IPY_MODEL_acc858b78d5343249bb1ea4cb9aa1718",
            "value": 0.8
          }
        },
        "2a45218072bd4d0db95f757e4e38ffbf": {
          "model_module": "@jupyter-widgets/output",
          "model_name": "OutputModel",
          "model_module_version": "1.0.0",
          "state": {
            "_dom_classes": [],
            "_model_module": "@jupyter-widgets/output",
            "_model_module_version": "1.0.0",
            "_model_name": "OutputModel",
            "_view_count": null,
            "_view_module": "@jupyter-widgets/output",
            "_view_module_version": "1.0.0",
            "_view_name": "OutputView",
            "layout": "IPY_MODEL_b29d109d3fcd4a6dbb1ca97f13746cdd",
            "msg_id": "",
            "outputs": [
              {
                "output_type": "display_data",
                "data": {
                  "text/plain": "<Figure size 432x288 with 1 Axes>",
                  "image/png": "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\n"
                },
                "metadata": {
                  "needs_background": "light"
                }
              },
              {
                "output_type": "display_data",
                "data": {
                  "text/plain": "<Figure size 432x288 with 1 Axes>",
                  "image/png": "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\n"
                },
                "metadata": {
                  "needs_background": "light"
                }
              }
            ]
          }
        },
        "63ba933a2b844d3eb7eb6542c7eaccb1": {
          "model_module": "@jupyter-widgets/base",
          "model_name": "LayoutModel",
          "model_module_version": "1.2.0",
          "state": {
            "_model_module": "@jupyter-widgets/base",
            "_model_module_version": "1.2.0",
            "_model_name": "LayoutModel",
            "_view_count": null,
            "_view_module": "@jupyter-widgets/base",
            "_view_module_version": "1.2.0",
            "_view_name": "LayoutView",
            "align_content": null,
            "align_items": null,
            "align_self": null,
            "border": null,
            "bottom": null,
            "display": null,
            "flex": null,
            "flex_flow": null,
            "grid_area": null,
            "grid_auto_columns": null,
            "grid_auto_flow": null,
            "grid_auto_rows": null,
            "grid_column": null,
            "grid_gap": null,
            "grid_row": null,
            "grid_template_areas": null,
            "grid_template_columns": null,
            "grid_template_rows": null,
            "height": null,
            "justify_content": null,
            "justify_items": null,
            "left": null,
            "margin": null,
            "max_height": null,
            "max_width": null,
            "min_height": null,
            "min_width": null,
            "object_fit": null,
            "object_position": null,
            "order": null,
            "overflow": null,
            "overflow_x": null,
            "overflow_y": null,
            "padding": null,
            "right": null,
            "top": null,
            "visibility": null,
            "width": null
          }
        },
        "3a5f862498eb464198f62f48e8371bc8": {
          "model_module": "@jupyter-widgets/base",
          "model_name": "LayoutModel",
          "model_module_version": "1.2.0",
          "state": {
            "_model_module": "@jupyter-widgets/base",
            "_model_module_version": "1.2.0",
            "_model_name": "LayoutModel",
            "_view_count": null,
            "_view_module": "@jupyter-widgets/base",
            "_view_module_version": "1.2.0",
            "_view_name": "LayoutView",
            "align_content": null,
            "align_items": null,
            "align_self": null,
            "border": null,
            "bottom": null,
            "display": null,
            "flex": null,
            "flex_flow": null,
            "grid_area": null,
            "grid_auto_columns": null,
            "grid_auto_flow": null,
            "grid_auto_rows": null,
            "grid_column": null,
            "grid_gap": null,
            "grid_row": null,
            "grid_template_areas": null,
            "grid_template_columns": null,
            "grid_template_rows": null,
            "height": null,
            "justify_content": null,
            "justify_items": null,
            "left": null,
            "margin": null,
            "max_height": null,
            "max_width": null,
            "min_height": null,
            "min_width": null,
            "object_fit": null,
            "object_position": null,
            "order": null,
            "overflow": null,
            "overflow_x": null,
            "overflow_y": null,
            "padding": null,
            "right": null,
            "top": null,
            "visibility": null,
            "width": null
          }
        },
        "acc858b78d5343249bb1ea4cb9aa1718": {
          "model_module": "@jupyter-widgets/controls",
          "model_name": "SliderStyleModel",
          "model_module_version": "1.5.0",
          "state": {
            "_model_module": "@jupyter-widgets/controls",
            "_model_module_version": "1.5.0",
            "_model_name": "SliderStyleModel",
            "_view_count": null,
            "_view_module": "@jupyter-widgets/base",
            "_view_module_version": "1.2.0",
            "_view_name": "StyleView",
            "description_width": "",
            "handle_color": null
          }
        },
        "b29d109d3fcd4a6dbb1ca97f13746cdd": {
          "model_module": "@jupyter-widgets/base",
          "model_name": "LayoutModel",
          "model_module_version": "1.2.0",
          "state": {
            "_model_module": "@jupyter-widgets/base",
            "_model_module_version": "1.2.0",
            "_model_name": "LayoutModel",
            "_view_count": null,
            "_view_module": "@jupyter-widgets/base",
            "_view_module_version": "1.2.0",
            "_view_name": "LayoutView",
            "align_content": null,
            "align_items": null,
            "align_self": null,
            "border": null,
            "bottom": null,
            "display": null,
            "flex": null,
            "flex_flow": null,
            "grid_area": null,
            "grid_auto_columns": null,
            "grid_auto_flow": null,
            "grid_auto_rows": null,
            "grid_column": null,
            "grid_gap": null,
            "grid_row": null,
            "grid_template_areas": null,
            "grid_template_columns": null,
            "grid_template_rows": null,
            "height": null,
            "justify_content": null,
            "justify_items": null,
            "left": null,
            "margin": null,
            "max_height": null,
            "max_width": null,
            "min_height": null,
            "min_width": null,
            "object_fit": null,
            "object_position": null,
            "order": null,
            "overflow": null,
            "overflow_x": null,
            "overflow_y": null,
            "padding": null,
            "right": null,
            "top": null,
            "visibility": null,
            "width": null
          }
        },
        "2ae9c411c98d4ee8a06aa636530c0cb3": {
          "model_module": "@jupyter-widgets/controls",
          "model_name": "VBoxModel",
          "model_module_version": "1.5.0",
          "state": {
            "_dom_classes": [
              "widget-interact"
            ],
            "_model_module": "@jupyter-widgets/controls",
            "_model_module_version": "1.5.0",
            "_model_name": "VBoxModel",
            "_view_count": null,
            "_view_module": "@jupyter-widgets/controls",
            "_view_module_version": "1.5.0",
            "_view_name": "VBoxView",
            "box_style": "",
            "children": [
              "IPY_MODEL_e47ac32b5ca24e7287557690761c707d",
              "IPY_MODEL_0b4d389e3453493f9bfe6b64be95b013"
            ],
            "layout": "IPY_MODEL_34f921d67ec541339581661f725ea5ef"
          }
        },
        "e47ac32b5ca24e7287557690761c707d": {
          "model_module": "@jupyter-widgets/controls",
          "model_name": "FloatSliderModel",
          "model_module_version": "1.5.0",
          "state": {
            "_dom_classes": [],
            "_model_module": "@jupyter-widgets/controls",
            "_model_module_version": "1.5.0",
            "_model_name": "FloatSliderModel",
            "_view_count": null,
            "_view_module": "@jupyter-widgets/controls",
            "_view_module_version": "1.5.0",
            "_view_name": "FloatSliderView",
            "continuous_update": true,
            "description": "a",
            "description_tooltip": null,
            "disabled": false,
            "layout": "IPY_MODEL_4ff81b6588014ad3a243ca179a5774d1",
            "max": 0.9,
            "min": 0.1,
            "orientation": "horizontal",
            "readout": true,
            "readout_format": ".2f",
            "step": 0.1,
            "style": "IPY_MODEL_a436ccedc5af4c099609c392a2845681",
            "value": 0.2
          }
        },
        "0b4d389e3453493f9bfe6b64be95b013": {
          "model_module": "@jupyter-widgets/output",
          "model_name": "OutputModel",
          "model_module_version": "1.0.0",
          "state": {
            "_dom_classes": [],
            "_model_module": "@jupyter-widgets/output",
            "_model_module_version": "1.0.0",
            "_model_name": "OutputModel",
            "_view_count": null,
            "_view_module": "@jupyter-widgets/output",
            "_view_module_version": "1.0.0",
            "_view_name": "OutputView",
            "layout": "IPY_MODEL_c9a9bad1f5574e6194538c15e320737c",
            "msg_id": "",
            "outputs": [
              {
                "output_type": "display_data",
                "data": {
                  "text/plain": "<Figure size 432x288 with 1 Axes>",
                  "image/png": "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\n"
                },
                "metadata": {
                  "needs_background": "light"
                }
              },
              {
                "output_type": "display_data",
                "data": {
                  "text/plain": "<Figure size 432x288 with 1 Axes>",
                  "image/png": "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\n"
                },
                "metadata": {
                  "needs_background": "light"
                }
              }
            ]
          }
        },
        "34f921d67ec541339581661f725ea5ef": {
          "model_module": "@jupyter-widgets/base",
          "model_name": "LayoutModel",
          "model_module_version": "1.2.0",
          "state": {
            "_model_module": "@jupyter-widgets/base",
            "_model_module_version": "1.2.0",
            "_model_name": "LayoutModel",
            "_view_count": null,
            "_view_module": "@jupyter-widgets/base",
            "_view_module_version": "1.2.0",
            "_view_name": "LayoutView",
            "align_content": null,
            "align_items": null,
            "align_self": null,
            "border": null,
            "bottom": null,
            "display": null,
            "flex": null,
            "flex_flow": null,
            "grid_area": null,
            "grid_auto_columns": null,
            "grid_auto_flow": null,
            "grid_auto_rows": null,
            "grid_column": null,
            "grid_gap": null,
            "grid_row": null,
            "grid_template_areas": null,
            "grid_template_columns": null,
            "grid_template_rows": null,
            "height": null,
            "justify_content": null,
            "justify_items": null,
            "left": null,
            "margin": null,
            "max_height": null,
            "max_width": null,
            "min_height": null,
            "min_width": null,
            "object_fit": null,
            "object_position": null,
            "order": null,
            "overflow": null,
            "overflow_x": null,
            "overflow_y": null,
            "padding": null,
            "right": null,
            "top": null,
            "visibility": null,
            "width": null
          }
        },
        "4ff81b6588014ad3a243ca179a5774d1": {
          "model_module": "@jupyter-widgets/base",
          "model_name": "LayoutModel",
          "model_module_version": "1.2.0",
          "state": {
            "_model_module": "@jupyter-widgets/base",
            "_model_module_version": "1.2.0",
            "_model_name": "LayoutModel",
            "_view_count": null,
            "_view_module": "@jupyter-widgets/base",
            "_view_module_version": "1.2.0",
            "_view_name": "LayoutView",
            "align_content": null,
            "align_items": null,
            "align_self": null,
            "border": null,
            "bottom": null,
            "display": null,
            "flex": null,
            "flex_flow": null,
            "grid_area": null,
            "grid_auto_columns": null,
            "grid_auto_flow": null,
            "grid_auto_rows": null,
            "grid_column": null,
            "grid_gap": null,
            "grid_row": null,
            "grid_template_areas": null,
            "grid_template_columns": null,
            "grid_template_rows": null,
            "height": null,
            "justify_content": null,
            "justify_items": null,
            "left": null,
            "margin": null,
            "max_height": null,
            "max_width": null,
            "min_height": null,
            "min_width": null,
            "object_fit": null,
            "object_position": null,
            "order": null,
            "overflow": null,
            "overflow_x": null,
            "overflow_y": null,
            "padding": null,
            "right": null,
            "top": null,
            "visibility": null,
            "width": null
          }
        },
        "a436ccedc5af4c099609c392a2845681": {
          "model_module": "@jupyter-widgets/controls",
          "model_name": "SliderStyleModel",
          "model_module_version": "1.5.0",
          "state": {
            "_model_module": "@jupyter-widgets/controls",
            "_model_module_version": "1.5.0",
            "_model_name": "SliderStyleModel",
            "_view_count": null,
            "_view_module": "@jupyter-widgets/base",
            "_view_module_version": "1.2.0",
            "_view_name": "StyleView",
            "description_width": "",
            "handle_color": null
          }
        },
        "c9a9bad1f5574e6194538c15e320737c": {
          "model_module": "@jupyter-widgets/base",
          "model_name": "LayoutModel",
          "model_module_version": "1.2.0",
          "state": {
            "_model_module": "@jupyter-widgets/base",
            "_model_module_version": "1.2.0",
            "_model_name": "LayoutModel",
            "_view_count": null,
            "_view_module": "@jupyter-widgets/base",
            "_view_module_version": "1.2.0",
            "_view_name": "LayoutView",
            "align_content": null,
            "align_items": null,
            "align_self": null,
            "border": null,
            "bottom": null,
            "display": null,
            "flex": null,
            "flex_flow": null,
            "grid_area": null,
            "grid_auto_columns": null,
            "grid_auto_flow": null,
            "grid_auto_rows": null,
            "grid_column": null,
            "grid_gap": null,
            "grid_row": null,
            "grid_template_areas": null,
            "grid_template_columns": null,
            "grid_template_rows": null,
            "height": null,
            "justify_content": null,
            "justify_items": null,
            "left": null,
            "margin": null,
            "max_height": null,
            "max_width": null,
            "min_height": null,
            "min_width": null,
            "object_fit": null,
            "object_position": null,
            "order": null,
            "overflow": null,
            "overflow_x": null,
            "overflow_y": null,
            "padding": null,
            "right": null,
            "top": null,
            "visibility": null,
            "width": null
          }
        }
      }
    }
  },
  "cells": [
    {
      "cell_type": "markdown",
      "metadata": {
        "id": "view-in-github",
        "colab_type": "text"
      },
      "source": [
        "<a href=\"https://colab.research.google.com/github/chenshuo/notes/blob/master/notebooks/DSP_Labs.ipynb\" target=\"_parent\"><img src=\"https://colab.research.google.com/assets/colab-badge.svg\" alt=\"Open In Colab\"/></a>"
      ]
    },
    {
      "cell_type": "markdown",
      "source": [
        "# Digital signal processing beginner's labs\n",
        "\n",
        "Author: Shuo Chen (chenshuo _at_ chenshuo.com)\n",
        "\n",
        "Latest version: https://github.com/chenshuo/notes/blob/master/notebooks/DSP_Labs.ipynb"
      ],
      "metadata": {
        "id": "gY7tTgQQ-QiC"
      }
    },
    {
      "cell_type": "code",
      "source": [
        "# !pip install control"
      ],
      "metadata": {
        "id": "cSzLIobQsXrb"
      },
      "execution_count": null,
      "outputs": []
    },
    {
      "cell_type": "code",
      "execution_count": 3,
      "metadata": {
        "id": "dcw57ahuteKf"
      },
      "outputs": [],
      "source": [
        "import numpy as np\n",
        "import matplotlib.pyplot as plt\n",
        "import scipy.signal as signal\n",
        "# import control\n",
        "\n",
        "import ipywidgets as widgets\n",
        "from ipywidgets import interact, interact_manual"
      ]
    },
    {
      "cell_type": "code",
      "source": [
        "def draw_pzmap(dlti):\n",
        "  plt.plot(np.real(dlti.zeros), np.imag(dlti.zeros), 'o', mfc='none')\n",
        "  plt.plot(np.real(dlti.poles), np.imag(dlti.poles), 'x')\n",
        "  w = np.linspace(0, 2*np.pi)\n",
        "  plt.plot(np.cos(w), np.sin(w), 'y--')\n",
        "  limits = plt.axis(\"equal\")\n",
        "  plt.grid()\n",
        "\n",
        "def draw_resp_stem(x, y):\n",
        "  plt.stem(x, use_line_collection=True)\n",
        "  (markerline, _, _) = plt.stem(y, linefmt='r', markerfmt='ro', use_line_collection=True)\n",
        "  markerline.set_markerfacecolor('none')"
      ],
      "metadata": {
        "id": "NjBmf9UFteuS"
      },
      "execution_count": 2,
      "outputs": []
    },
    {
      "cell_type": "markdown",
      "source": [
        "# Lab1: Discrete LTI systems"
      ],
      "metadata": {
        "id": "69KfDLnBtnsA"
      }
    },
    {
      "cell_type": "markdown",
      "source": [
        "**Weighted Moving Average**\n",
        "\n",
        "* Memoryless\n",
        "\n",
        "![fir.png](data:image/png;base64,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)\n",
        "\n",
        "$$\\begin{aligned}\n",
        "  y[n] &= \\sum_{i=0}^{L}b[i] x[n-i] \\\\\n",
        "       & = b[0]x[n] + b[1]x[n-1] + \\cdots + b[L]x[n-L]\n",
        "\\end{aligned} $$"
      ],
      "metadata": {
        "id": "N99nLlIwCCc-"
      }
    },
    {
      "cell_type": "markdown",
      "source": [
        "* [scipy.signal.convolve](https://docs.scipy.org/doc/scipy/reference/generated/scipy.signal.convolve.html), [oaconvolve](https://docs.scipy.org/doc/scipy/reference/generated/scipy.signal.oaconvolve.html), [fftconvolve](https://docs.scipy.org/doc/scipy/reference/generated/scipy.signal.fftconvolve.html)\n",
        "* [scipy.signal.lfilter](https://docs.scipy.org/doc/scipy/reference/generated/scipy.signal.lfilter.html)\n",
        "* [scipy.signal.dlsim](https://docs.scipy.org/doc/scipy/reference/generated/scipy.signal.dlsim.html)\n",
        "* [scipy.signal.dlti.output](https://docs.scipy.org/doc/scipy/reference/generated/scipy.signal.dlti.output.html)\n",
        "---"
      ],
      "metadata": {
        "id": "TMHwgf-u9A0S"
      }
    },
    {
      "cell_type": "code",
      "source": [
        "from collections.abc import Sequence\n",
        "\n",
        "def direct_wma(b : Sequence, x : Sequence) -> Sequence:\n",
        "  y = np.zeros(len(x))\n",
        "  x_pad = np.concatenate((np.zeros(len(b)-1), x))\n",
        "  b_rev = np.array(b[::-1], dtype='d')\n",
        "  for i in range(len(x)):\n",
        "    y[i] = np.dot(b_rev, x_pad[i : i + len(b)])\n",
        "  return y\n",
        "\n",
        "b = [2, 1]\n",
        "x = np.arange(10) \n",
        "y = direct_wma(b, x)\n",
        "print(np.array([x, y]).T)"
      ],
      "metadata": {
        "id": "ZVF3YAu5CBpg",
        "colab": {
          "base_uri": "https://localhost:8080/"
        },
        "outputId": "e5ac0d2d-bcea-4b02-918c-a7162d8972d5"
      },
      "execution_count": 25,
      "outputs": [
        {
          "output_type": "stream",
          "name": "stdout",
          "text": [
            "[[ 0.  0.]\n",
            " [ 1.  2.]\n",
            " [ 2.  5.]\n",
            " [ 3.  8.]\n",
            " [ 4. 11.]\n",
            " [ 5. 14.]\n",
            " [ 6. 17.]\n",
            " [ 7. 20.]\n",
            " [ 8. 23.]\n",
            " [ 9. 26.]]\n"
          ]
        }
      ]
    },
    {
      "cell_type": "code",
      "source": [
        "b = [2, 1]\n",
        "x = np.arange(10, dtype='d')\n",
        "y = signal.lfilter(b, [1], x)\n",
        "print(np.array([x, y]).T)"
      ],
      "metadata": {
        "colab": {
          "base_uri": "https://localhost:8080/"
        },
        "id": "lNbjXLeaQxHY",
        "outputId": "6a2681b1-3c08-4088-9714-753ae12af75f"
      },
      "execution_count": 27,
      "outputs": [
        {
          "output_type": "stream",
          "name": "stdout",
          "text": [
            "[[ 0.  0.]\n",
            " [ 1.  2.]\n",
            " [ 2.  5.]\n",
            " [ 3.  8.]\n",
            " [ 4. 11.]\n",
            " [ 5. 14.]\n",
            " [ 6. 17.]\n",
            " [ 7. 20.]\n",
            " [ 8. 23.]\n",
            " [ 9. 26.]]\n"
          ]
        }
      ]
    },
    {
      "cell_type": "markdown",
      "source": [
        "**Recursive, or ladder**\n",
        "\n",
        "![iir.png](data:image/png;base64,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)\n",
        "\n",
        "$$\\begin{aligned}\n",
        "y[n] = &\\sum_{i=0}^{L}b[i]x[n-i] - \\sum_{i=1}^{M}a[i\\,]y[n-i\\,] \\\\\n",
        " = & \\  b[0]x[n] + b[1]x[n-1] + \\cdots + b[L]x[n-L] \\\\\n",
        "        &-(a[1]y[n-1]+a[2]y[n-2]+\\cdots+a[M]y[n-M])\n",
        "\\end{aligned}$$"
      ],
      "metadata": {
        "id": "V3_mUN2eC445"
      }
    },
    {
      "cell_type": "markdown",
      "source": [
        "* [scipy.signal.lfilter](https://docs.scipy.org/doc/scipy/reference/generated/scipy.signal.lfilter.html)\n",
        "* [scipy.signal.dlsim](https://docs.scipy.org/doc/scipy/reference/generated/scipy.signal.dlsim.html)\n",
        "* [scipy.signal.dlti.output](https://docs.scipy.org/doc/scipy/reference/generated/scipy.signal.dlti.output.html)"
      ],
      "metadata": {
        "id": "w-ziRvxZ8BR2"
      }
    },
    {
      "cell_type": "markdown",
      "source": [
        "What if `x` is *Iterable*, not *Sequence*?\n",
        "\n",
        "Realtime DSP."
      ],
      "metadata": {
        "id": "1r8jdpp2Re8b"
      }
    },
    {
      "cell_type": "code",
      "source": [
        "# Pseudo code only\n",
        "\n",
        "def iterative_dlti(b : list, a : list, x_in : Iterable) -> Iterable:\n",
        "  x_vec = np.zeros(len(b))  # circular buffer\n",
        "  y_vec = np.zeros(len(a))  # circular buffer\n",
        "  for u in x_in:\n",
        "    # update x_vec\n",
        "    yn = np.dot(x_vec, b) - np.dot(y_vec, a)\n",
        "    # update y_vec\n",
        "    yield yn\n",
        "\n",
        "for y in iterative_dlti(b, a, x):\n",
        "  output(y)"
      ],
      "metadata": {
        "id": "PeUkDuslRt_f"
      },
      "execution_count": null,
      "outputs": []
    },
    {
      "cell_type": "markdown",
      "source": [
        "## Moving average\n",
        "\n",
        "Julius O. Smith, _Introduction to Digital Filters with Audio Applications_, http://ccrma.stanford.edu/~jos/filters/\n",
        "\n",
        "Chapter 1: https://ccrma.stanford.edu/~jos/filters/Simplest_Lowpass_Filter.html"
      ],
      "metadata": {
        "id": "6LX7jQZZ-IjJ"
      }
    },
    {
      "cell_type": "markdown",
      "source": [
        "$y[n] = \\frac{1}{2}x[n]+\\frac{1}{2}x[n-1]$"
      ],
      "metadata": {
        "id": "ZhdfBF-tMdW5"
      }
    },
    {
      "cell_type": "code",
      "source": [
        "b = [1/2, 1/2]\n",
        "\n",
        "x = np.arange(11)\n",
        "y = signal.lfilter(b, [1], x)  # or signal.convolve(b, x)\n",
        "print(np.array([x, y]).T)"
      ],
      "metadata": {
        "colab": {
          "base_uri": "https://localhost:8080/"
        },
        "id": "avEB5wJN-MY6",
        "outputId": "568f70de-6807-426f-ae09-15dae7d8ca87"
      },
      "execution_count": null,
      "outputs": [
        {
          "output_type": "stream",
          "name": "stdout",
          "text": [
            "[[ 0.   0. ]\n",
            " [ 1.   0.5]\n",
            " [ 2.   1.5]\n",
            " [ 3.   2.5]\n",
            " [ 4.   3.5]\n",
            " [ 5.   4.5]\n",
            " [ 6.   5.5]\n",
            " [ 7.   6.5]\n",
            " [ 8.   7.5]\n",
            " [ 9.   8.5]\n",
            " [10.   9.5]]\n"
          ]
        }
      ]
    },
    {
      "cell_type": "markdown",
      "source": [
        "[scipy.signal.dlti](https://docs.scipy.org/doc/scipy/reference/generated/scipy.signal.dlti.html) Discrete-time linear time invariant system "
      ],
      "metadata": {
        "id": "a3Xt0kZT8cZ1"
      }
    },
    {
      "cell_type": "code",
      "source": [
        "dlti = signal.dlti(b, [1])\n",
        "print('Zeros:', dlti.zeros)\n",
        "print('Poles:', dlti.poles)\n",
        "draw_pzmap(dlti)"
      ],
      "metadata": {
        "colab": {
          "base_uri": "https://localhost:8080/",
          "height": 300
        },
        "id": "KQpY3vTjkPUa",
        "outputId": "1a12eedc-dc00-4cc7-f6b3-3e36f174a1ee"
      },
      "execution_count": null,
      "outputs": [
        {
          "output_type": "stream",
          "name": "stdout",
          "text": [
            "Zeros: [-1.]\n",
            "Poles: []\n"
          ]
        },
        {
          "output_type": "display_data",
          "data": {
            "text/plain": [
              "<Figure size 432x288 with 1 Axes>"
            ],
            "image/png": "[encoded data removed]"
          },
          "metadata": {
            "needs_background": "light"
          }
        }
      ]
    },
    {
      "cell_type": "code",
      "source": [
        "w, mag = dlti.freqresp()\n",
        "plt.plot(w, np.abs(mag))"
      ],
      "metadata": {
        "colab": {
          "base_uri": "https://localhost:8080/",
          "height": 282
        },
        "id": "Mmscc7qG_Wcx",
        "outputId": "9e98a47f-1072-4572-f931-2ec0719695e8"
      },
      "execution_count": null,
      "outputs": [
        {
          "output_type": "execute_result",
          "data": {
            "text/plain": [
              "[<matplotlib.lines.Line2D at 0x7fb42a3a1310>]"
            ]
          },
          "metadata": {},
          "execution_count": 25
        },
        {
          "output_type": "display_data",
          "data": {
            "text/plain": [
              "<Figure size 432x288 with 1 Axes>"
            ],
            "image/png": "[encoded data removed]"
          },
          "metadata": {
            "needs_background": "light"
          }
        }
      ]
    },
    {
      "cell_type": "code",
      "source": [
        "w, mag, phase = dlti.bode()\n",
        "plt.semilogx(w/np.pi, mag)\n",
        "plt.figure(2)\n",
        "plt.plot(w/np.pi,phase)"
      ],
      "metadata": {
        "colab": {
          "base_uri": "https://localhost:8080/",
          "height": 534
        },
        "id": "i34SjbHK_DXs",
        "outputId": "9dab60cc-bd18-41b0-de4e-9661353507f0"
      },
      "execution_count": null,
      "outputs": [
        {
          "output_type": "execute_result",
          "data": {
            "text/plain": [
              "[<matplotlib.lines.Line2D at 0x7fb429fbfe10>]"
            ]
          },
          "metadata": {},
          "execution_count": 32
        },
        {
          "output_type": "display_data",
          "data": {
            "text/plain": [
              "<Figure size 432x288 with 1 Axes>"
            ],
            "image/png": "[encoded data removed]"
          },
          "metadata": {
            "needs_background": "light"
          }
        },
        {
          "output_type": "display_data",
          "data": {
            "text/plain": [
              "<Figure size 432x288 with 1 Axes>"
            ],
            "image/png": "[encoded data removed]"
          },
          "metadata": {
            "needs_background": "light"
          }
        }
      ]
    },
    {
      "cell_type": "code",
      "source": [
        "w = np.arange(20) * np.pi\n",
        "x = np.cos(w)  # [1, -1, 1, -1, 1, -1, ...]\n",
        "y = np.convolve(b, x)\n",
        "\n",
        "plt.stem(x, use_line_collection=True)\n",
        "plt.stem(y, linefmt='r', markerfmt='ro', use_line_collection=True)"
      ],
      "metadata": {
        "colab": {
          "base_uri": "https://localhost:8080/",
          "height": 265
        },
        "id": "NgM7Ai2JvcPj",
        "outputId": "54476bc6-387e-4923-d9f0-0078034c02c5"
      },
      "execution_count": null,
      "outputs": [
        {
          "output_type": "display_data",
          "data": {
            "text/plain": [
              "<Figure size 432x288 with 1 Axes>"
            ],
            "image/png": "[encoded data removed]"
          },
          "metadata": {
            "needs_background": "light"
          }
        }
      ]
    },
    {
      "cell_type": "code",
      "source": [
        "@interact(f = (0, 1, 0.02))\n",
        "def resp(f = 0.01):\n",
        "  t = np.linspace(0, 1, 101)\n",
        "  x = np.cos(t*np.pi * 2*f * 100)\n",
        "  plt.plot(t, x)\n",
        "  y = signal.lfilter([1/2, 1/2], [1], x)\n",
        "  plt.plot(t, y)\n",
        "  plt.show()"
      ],
      "metadata": {
        "colab": {
          "base_uri": "https://localhost:8080/",
          "height": 297,
          "referenced_widgets": [
            "4657186fda174a73963e66a6474e2399",
            "9a0485d538f1487992945479b247afea",
            "4ed96926812e4492ab14b0b0ba569cb8",
            "826b4687296b4b4abcb0916cfad9f51b",
            "e7cb3e7af3b448bc9a1a60da600ec228",
            "e1b8ac17c7904e959d04f4ae3ad061a8",
            "17084700893a43dc89fe88533592f013"
          ]
        },
        "id": "fNtQiyZE3nys",
        "outputId": "aec09a1a-5d5a-4182-ad22-b2669a4e1dd3"
      },
      "execution_count": 56,
      "outputs": [
        {
          "output_type": "display_data",
          "data": {
            "text/plain": [
              "interactive(children=(FloatSlider(value=0.01, description='f', max=1.0, step=0.02), Output()), _dom_classes=('…"
            ],
            "application/vnd.jupyter.widget-view+json": {
              "version_major": 2,
              "version_minor": 0,
              "model_id": "4657186fda174a73963e66a6474e2399"
            }
          },
          "metadata": {}
        }
      ]
    },
    {
      "cell_type": "markdown",
      "source": [
        "**n = 3**\n",
        "\n",
        "$y[n] = \\frac{1}{3}x[n] + \\frac{1}{3}x[n-1] + \\frac{1}{3}x[n-2]$"
      ],
      "metadata": {
        "id": "LwsIHdWl_-37"
      }
    },
    {
      "cell_type": "code",
      "source": [
        "b3 = [1/3, 1/3, 1/3]\n",
        "dlti3 = signal.dlti(b3, [1])\n",
        "\n",
        "w, mag = dlti3.freqresp()\n",
        "plt.plot(w/np.pi, np.abs(mag))\n",
        "print('min_mag = %.2f dB' % (20 * np.log10(np.min(np.abs(mag)))))"
      ],
      "metadata": {
        "id": "1nANj9o1JM9q",
        "colab": {
          "base_uri": "https://localhost:8080/",
          "height": 282
        },
        "outputId": "cfcf292b-23d8-407f-90e1-5d834ae40e1d"
      },
      "execution_count": 58,
      "outputs": [
        {
          "output_type": "stream",
          "name": "stdout",
          "text": [
            "min_mag = -84.37 dB\n"
          ]
        },
        {
          "output_type": "display_data",
          "data": {
            "text/plain": [
              "<Figure size 432x288 with 1 Axes>"
            ],
            "image/png": "[encoded data removed]"
          },
          "metadata": {
            "needs_background": "light"
          }
        }
      ]
    },
    {
      "cell_type": "code",
      "source": [
        "w, mag, phase = dlti3.bode()\n",
        "plt.plot(w/np.pi, mag)"
      ],
      "metadata": {
        "colab": {
          "base_uri": "https://localhost:8080/",
          "height": 282
        },
        "id": "YmcJ1V2XXpJC",
        "outputId": "3724467f-3501-4b2f-87ae-7114a288ba9b"
      },
      "execution_count": null,
      "outputs": [
        {
          "output_type": "execute_result",
          "data": {
            "text/plain": [
              "[<matplotlib.lines.Line2D at 0x7fb428167210>]"
            ]
          },
          "metadata": {},
          "execution_count": 92
        },
        {
          "output_type": "display_data",
          "data": {
            "text/plain": [
              "<Figure size 432x288 with 1 Axes>"
            ],
            "image/png": "[encoded data removed]"
          },
          "metadata": {
            "needs_background": "light"
          }
        }
      ]
    },
    {
      "cell_type": "code",
      "source": [
        "draw_pzmap(dlti3)\n",
        "print(np.angle(dlti3.zeros)/np.pi*180)"
      ],
      "metadata": {
        "colab": {
          "base_uri": "https://localhost:8080/",
          "height": 282
        },
        "id": "B6tWqnWiABxS",
        "outputId": "1cd1d3c0-4137-43cc-d58c-9e3f6b526807"
      },
      "execution_count": null,
      "outputs": [
        {
          "output_type": "stream",
          "name": "stdout",
          "text": [
            "[ 120. -120.]\n"
          ]
        },
        {
          "output_type": "display_data",
          "data": {
            "text/plain": [
              "<Figure size 432x288 with 1 Axes>"
            ],
            "image/png": "[encoded data removed]"
          },
          "metadata": {
            "needs_background": "light"
          }
        }
      ]
    },
    {
      "cell_type": "code",
      "source": [
        "t = np.arange(20)\n",
        "x = np.cos(t * 2/3 * np.pi)\n",
        "y = np.convolve(x, b3)\n",
        "\n",
        "draw_resp_stem(x, y)\n",
        "print(x[0:10])"
      ],
      "metadata": {
        "colab": {
          "base_uri": "https://localhost:8080/",
          "height": 282
        },
        "id": "z-CX07V-EPfX",
        "outputId": "51d96eaf-bf4b-401d-d850-ad916ace7715"
      },
      "execution_count": null,
      "outputs": [
        {
          "output_type": "stream",
          "name": "stdout",
          "text": [
            "[ 1.  -0.5 -0.5  1.  -0.5 -0.5  1.  -0.5 -0.5  1. ]\n"
          ]
        },
        {
          "output_type": "display_data",
          "data": {
            "text/plain": [
              "<Figure size 432x288 with 1 Axes>"
            ],
            "image/png": "[encoded data removed]"
          },
          "metadata": {
            "needs_background": "light"
          }
        }
      ]
    },
    {
      "cell_type": "code",
      "source": [
        "t = np.arange(20)\n",
        "x = np.sin(t * 2/3 * np.pi)\n",
        "y = np.convolve(x, b3)\n",
        "draw_resp_stem(x, y)\n",
        "\n",
        "# x = [1, -1, 0, 1, -1, 0, 1, -1, 0, 1]"
      ],
      "metadata": {
        "colab": {
          "base_uri": "https://localhost:8080/",
          "height": 265
        },
        "id": "3Jq7yJdQRNvx",
        "outputId": "8872c75a-e218-4db6-bae1-456346a85941"
      },
      "execution_count": null,
      "outputs": [
        {
          "output_type": "display_data",
          "data": {
            "text/plain": [
              "<Figure size 432x288 with 1 Axes>"
            ],
            "image/png": "[encoded data removed]"
          },
          "metadata": {
            "needs_background": "light"
          }
        }
      ]
    },
    {
      "cell_type": "code",
      "source": [
        "@interact(phase=(0, 90, 5))\n",
        "def resp(phase=0):\n",
        "  t = np.arange(15)\n",
        "  x = np.cos(t * 2/3 * np.pi - phase / 180 * np.pi)\n",
        "  y = signal.lfilter(b3, [1], x)\n",
        "  plt.stem(t, x, use_line_collection=True)\n",
        "  t1 = np.arange(141) / 10\n",
        "  plt.plot(t1, np.cos(t1 * 2/3 * np.pi - phase / 180 * np.pi), 'y--')\n",
        "  (markerline, stemlines, baseline) = plt.stem(t, y, linefmt='r', markerfmt='ro', use_line_collection=True)\n",
        "  markerline.set_markerfacecolor('none')"
      ],
      "metadata": {
        "colab": {
          "base_uri": "https://localhost:8080/",
          "height": 297,
          "referenced_widgets": [
            "05bd9693454f427da7d1b1f75d0c9a3b",
            "5b12f97841414c95a8ec1102f515c531",
            "42f6c41cc1a7466a80d42cb290b66482",
            "4c2c3ed9876d42ebb1f8d5635b7a818d",
            "6a6bcde090f045929995dcc696673e2f",
            "28f971414ea845cd8cdab3a585d8b91e",
            "c71840c5742843598244ee6d6542470c"
          ]
        },
        "id": "hSS_92KES54P",
        "outputId": "3696ce83-7904-4fab-c928-6ebd7e78f7e0"
      },
      "execution_count": 59,
      "outputs": [
        {
          "output_type": "display_data",
          "data": {
            "text/plain": [
              "interactive(children=(IntSlider(value=0, description='phase', max=90, step=5), Output()), _dom_classes=('widge…"
            ],
            "application/vnd.jupyter.widget-view+json": {
              "version_major": 2,
              "version_minor": 0,
              "model_id": "05bd9693454f427da7d1b1f75d0c9a3b"
            }
          },
          "metadata": {}
        }
      ]
    },
    {
      "cell_type": "markdown",
      "source": [
        "**n = 4**"
      ],
      "metadata": {
        "id": "knsLeDIjJJuJ"
      }
    },
    {
      "cell_type": "code",
      "source": [
        "b4 = np.ones(4) / 4.0\n",
        "dlti4 = signal.dlti(b4, [1])\n",
        "draw_pzmap(dlti4)"
      ],
      "metadata": {
        "colab": {
          "base_uri": "https://localhost:8080/",
          "height": 265
        },
        "id": "kQ4UbzkPJNt2",
        "outputId": "1078b5e3-ac51-4e5b-ea77-affb71bbbdf6"
      },
      "execution_count": null,
      "outputs": [
        {
          "output_type": "display_data",
          "data": {
            "text/plain": [
              "<Figure size 432x288 with 1 Axes>"
            ],
            "image/png": "[encoded data removed]"
          },
          "metadata": {
            "needs_background": "light"
          }
        }
      ]
    },
    {
      "cell_type": "code",
      "source": [
        "w, mag = dlti4.freqresp()\n",
        "plt.plot(w/np.pi, np.abs(mag))"
      ],
      "metadata": {
        "colab": {
          "base_uri": "https://localhost:8080/",
          "height": 282
        },
        "id": "Kv21ctpYVUol",
        "outputId": "9f0ea4ea-e01b-41a6-e567-e8a810facbcb"
      },
      "execution_count": null,
      "outputs": [
        {
          "output_type": "execute_result",
          "data": {
            "text/plain": [
              "[<matplotlib.lines.Line2D at 0x7fb424cb2410>]"
            ]
          },
          "metadata": {},
          "execution_count": 74
        },
        {
          "output_type": "display_data",
          "data": {
            "text/plain": [
              "<Figure size 432x288 with 1 Axes>"
            ],
            "image/png": "[encoded data removed]"
          },
          "metadata": {
            "needs_background": "light"
          }
        }
      ]
    },
    {
      "cell_type": "code",
      "source": [
        "x = np.array([0, 1, 0, -1] * 5)\n",
        "y = signal.lfilter(b4, [1], x)\n",
        "\n",
        "draw_resp_stem(x, y)"
      ],
      "metadata": {
        "colab": {
          "base_uri": "https://localhost:8080/",
          "height": 265
        },
        "id": "1pYPJzpPVy9G",
        "outputId": "81f99c9a-27dc-4c14-d267-15a69fa07908"
      },
      "execution_count": null,
      "outputs": [
        {
          "output_type": "display_data",
          "data": {
            "text/plain": [
              "<Figure size 432x288 with 1 Axes>"
            ],
            "image/png": "[encoded data removed]"
          },
          "metadata": {
            "needs_background": "light"
          }
        }
      ]
    },
    {
      "cell_type": "code",
      "source": [
        "@interact(phase=(0, 90, 5))\n",
        "def resp(phase=0):\n",
        "  t = np.arange(16)\n",
        "  x = np.cos(t * 1/2 * np.pi - phase / 180 * np.pi)\n",
        "  y = signal.lfilter(b4, [1], x)\n",
        "  plt.stem(t, x, use_line_collection=True)\n",
        "  t1 = np.arange(151) / 10\n",
        "  plt.plot(t1, np.cos(t1 * 1/2 * np.pi - phase / 180 * np.pi), 'y--')\n",
        "  (markerline, stemlines, baseline) = plt.stem(t, y, linefmt='r', markerfmt='ro', use_line_collection=True)\n",
        "  markerline.set_markerfacecolor('none')"
      ],
      "metadata": {
        "colab": {
          "base_uri": "https://localhost:8080/",
          "height": 297,
          "referenced_widgets": [
            "890b78d088b845fa956bdaff547ac36f",
            "78ff7d3ada5f4e5e9f8b94bb7c7f9e4a",
            "cf1a1793cb1647d99b152feb72a4f26a",
            "f8f16ae654144028a722d001db9e503c",
            "0306744c2ed349589141fe4d0be5951f",
            "c24710fabd0a42eb8e346e64db13d491",
            "78ced42b3137439daca58a9a7c4b8724"
          ]
        },
        "id": "1NwFKPt1YPB9",
        "outputId": "25006f08-3b40-45d4-a5a7-2ed460a1398d"
      },
      "execution_count": null,
      "outputs": [
        {
          "output_type": "display_data",
          "data": {
            "text/plain": [
              "interactive(children=(IntSlider(value=0, description='phase', max=90, step=5), Output()), _dom_classes=('widge…"
            ],
            "application/vnd.jupyter.widget-view+json": {
              "version_major": 2,
              "version_minor": 0,
              "model_id": "890b78d088b845fa956bdaff547ac36f"
            }
          },
          "metadata": {}
        }
      ]
    },
    {
      "cell_type": "markdown",
      "source": [
        "## Differentiator\n",
        "\n",
        "$y[n]=x[n]-x[n-1]$"
      ],
      "metadata": {
        "id": "wKrvUxnP0-FL"
      }
    },
    {
      "cell_type": "code",
      "source": [
        "bd = [1, -1]\n",
        "x = np.arange(10, dtype='d')  ** 2 \n",
        "y = signal.lfilter(bd, [1], x)\n",
        "print(x)\n",
        "print(y)"
      ],
      "metadata": {
        "id": "aWOhZuDs7nJw",
        "colab": {
          "base_uri": "https://localhost:8080/"
        },
        "outputId": "0a25f9dc-116f-472c-aad2-74b25a59e0cf"
      },
      "execution_count": null,
      "outputs": [
        {
          "output_type": "stream",
          "name": "stdout",
          "text": [
            "[ 0.  1.  4.  9. 16. 25. 36. 49. 64. 81.]\n",
            "[ 0.  1.  3.  5.  7.  9. 11. 13. 15. 17.]\n"
          ]
        }
      ]
    },
    {
      "cell_type": "code",
      "source": [
        "dlti = signal.dlti(bd, [1])\n",
        "zeros = dlti.zeros\n",
        "print('Zeros:', zeros)\n",
        "print('Poles:', dlti.poles)\n",
        "draw_pzmap(dlti)"
      ],
      "metadata": {
        "colab": {
          "base_uri": "https://localhost:8080/",
          "height": 300
        },
        "id": "Pj6tM1M609EQ",
        "outputId": "24c6f5f3-e160-432c-db2e-8fdf6cc5cc23"
      },
      "execution_count": null,
      "outputs": [
        {
          "output_type": "stream",
          "name": "stdout",
          "text": [
            "Zeros: [1.]\n",
            "Poles: []\n"
          ]
        },
        {
          "output_type": "display_data",
          "data": {
            "text/plain": [
              "<Figure size 432x288 with 1 Axes>"
            ],
            "image/png": "[encoded data removed]"
          },
          "metadata": {
            "needs_background": "light"
          }
        }
      ]
    },
    {
      "cell_type": "code",
      "source": [
        "w, mag = dlti.freqresp()\n",
        "plt.plot(w/np.pi, np.abs(mag))"
      ],
      "metadata": {
        "colab": {
          "base_uri": "https://localhost:8080/",
          "height": 282
        },
        "id": "GV3o4-pa1RLZ",
        "outputId": "c6bb0936-5715-4787-d7a3-75d73eccbba1"
      },
      "execution_count": null,
      "outputs": [
        {
          "output_type": "execute_result",
          "data": {
            "text/plain": [
              "[<matplotlib.lines.Line2D at 0x7fb4252200d0>]"
            ]
          },
          "metadata": {},
          "execution_count": 109
        },
        {
          "output_type": "display_data",
          "data": {
            "text/plain": [
              "<Figure size 432x288 with 1 Axes>"
            ],
            "image/png": "[encoded data removed]"
          },
          "metadata": {
            "needs_background": "light"
          }
        }
      ]
    },
    {
      "cell_type": "code",
      "source": [
        "from matplotlib import cm\n",
        "%matplotlib inline\n",
        "fig = plt.figure(1)\n",
        "ax = fig.add_subplot(111, projection='3d')\n",
        "\n",
        "X = np.arange(-2, 2, 0.1)\n",
        "Y = np.arange(-2, 2, 0.1)\n",
        "X, Y = np.meshgrid(X, Y)\n",
        "R = X + 1j * Y\n",
        "Z = np.abs(1 - 1/np.exp(R))\n",
        "\n",
        "# Plot the surface.\n",
        "surf = ax.plot_surface(X, Y, Z, cmap=cm.coolwarm,\n",
        "                       linewidth=0, antialiased=False)"
      ],
      "metadata": {
        "id": "b3DdfqzF1q31"
      },
      "execution_count": null,
      "outputs": []
    },
    {
      "cell_type": "markdown",
      "source": [
        "## Recursive\n",
        "\n",
        "![iir.png](data:image/png;base64,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)\n",
        "\n",
        "$$y[n] = \\sum_{i=0}^{L}b[i]x[n-i] - \\sum_{i=1}^{M}a[i]y[n-i]$$"
      ],
      "metadata": {
        "id": "sMgBmeb6ccjO"
      }
    },
    {
      "cell_type": "markdown",
      "source": [
        "### Accumulator, integrator\n",
        "\n",
        "$y[n] = x[n] + y[n-1]$\n",
        "\n",
        "$H(z)=\\dfrac{1}{1-z^{-1}}$"
      ],
      "metadata": {
        "id": "9-xIKi5Afmfs"
      }
    },
    {
      "cell_type": "code",
      "source": [
        "b = [1]\n",
        "a = [1, -1]\n",
        "x = np.arange(11)*1.0\n",
        "print(x)\n",
        "y = signal.lfilter(b, a, x=x)\n",
        "print(y)"
      ],
      "metadata": {
        "colab": {
          "base_uri": "https://localhost:8080/"
        },
        "id": "GAwnR2aVcgCg",
        "outputId": "89e89bed-a78a-4a2d-d995-1c8279443450"
      },
      "execution_count": null,
      "outputs": [
        {
          "output_type": "stream",
          "name": "stdout",
          "text": [
            "[ 0.  1.  2.  3.  4.  5.  6.  7.  8.  9. 10.]\n",
            "[ 0.  1.  3.  6. 10. 15. 21. 28. 36. 45. 55.]\n"
          ]
        }
      ]
    },
    {
      "cell_type": "markdown",
      "source": [
        "模拟反向积分器\n",
        "\n",
        "![image.png](data:image/png;base64,iVBORw0KGgoAAAANSUhEUgAAAZAAAADICAYAAADGFbfiAAAgAElEQVR4Ae2dCbgdRZXH/y8ERDZFRFA2EYGAMiijyKbiNoIriyiig5n5Bhl0RqPOSPwGRpCgrAGBQBTZBJRNWZRVBgEJRHYFQZR9FwQji0QB33y/R9WjXqf7vrvf7tv/+r7k9lJdXfWrfn26zjl1SnIyARMwARMwARMwARMwARMwgX4RGOnXjXwfEzCBWhPYUNJOkt4laQ1Jy0t6StKdkq6RdL6kn0l6ptaU3HgTMAETMIFxAq+RdLakUUlXS9pd0naSPihpV0lnhXOc/5OkGeNXesMETMAETKC2BN4p6VFJT0vasQGFTyZCZP8G+XzKBEzABEygBgQ2CyqqZyUhSCZLFwYh8vHJMvq8CZiACZjA8BLAvvFAEAhfb7KZqLZQY72uyfzOZgImYAImMIQE5gZh8AdJSzfZvo0k7dlkXmczARMwARMYQgIrS1oYBMiBQ9g+N8kETMAETKBHBL4chAfqqLf26B4utiQEppakHq6GCZhAbwjskFPsVZLuzzkeD20iabW4E37vkzQ/cyxv9/3h4J8lXZ+XwcdMwARMwASqQYCRQPZfnlBJW3N6zjUcaybhtsv9Lm0ms/NUm8CUalfftTcBEygRgaUkvTLU5/clqper0iMCFiA9AutiTaCGBJZI2rwg2fbmkBKwABnSjnWzTGAABLB7MHGQtFj49c8QE7AAGeLOddNMoM8EsH1cHu65dpP3/qYkRitHNpnf2UzABEzABPpEIGtAZ7+XRnQi7nKPv4SIu42auYWk5yQ9KGmlRhl9rpwEPAIpZ7+4ViZQVQI/CGHZXyrpGEmpXSRt0/aSiH+F2usjkpi17lQxAp4HUrEOc3VNoAIECNd+hqRtJd0o6XhJtwVhsqakT0gidMk8SdMl3V6BNrmKOQQsQHKg+JAJmEBHBFgoaqsgQD4t6QuSVgwG9jgh8WuSLuroLr544AQsQAbeBa6ACQwtgTMl8c9pSAnYBjKkHetmmYAJmECvCViA9JqwyzcBEzCBISVgATKkHetmmYAJmECvCViA9JqwyzcBEzCBISVgATKkHetmmYAJmECvCViA9JqwyzcBEzCBISVgATKkHetmmYAJmECvCViA9JqwyzcBEzCBISVgATKkHetmmYAJmECvCViA9JqwyzcBEzCBISVgATKkHetmmYAJmECvCViA9Jqwyy8DgdPDGhV5a2MM+7Fu8f/YEDMktLxTGwQsQNqA5ktMwARMwAQkR+P1U1AnAow2jq5TgyV9tkvtvVPSxV0qqwzFrCXpPWWoSJXrYAFS5d5z3VslgADZtdWLKp6/WwLk+iFjx6JWFiAdPtxWYXUI0JebgAmYQF0JWIDUtefdbhMwARPokIAFSIcAfbkJmIAJ1JWABUhde97tNgETMIEOCViAdAjQl5uACZhAXQlYgNS1591uEzABE+iQgAVIhwB9uQmYgAnUlYAFSF173u02ARMwgQ4JWIB0CNCXm4AJmEBdCViA1LXn3W4TMAET6JCABUiHAH25CZiACdSVgAVIXXve7TYBEzCBDglYgHQI0JebgAmYQF0JWIDUtefdbhMwARPokIAFSIcAfbkJmIAJ1JWABUhde97tNgETMIEOCViAdAjQl5uACZhAXQlYgNS1591uEzABE+iQgAVIhwB9uQmYgAnUlYAFSF173u02ARMwgQ4JTO3wel9uAiZQbgIjbVRvhzau8SU1JOARSHU6fQNJo038e0LSfEm7VKdprqkJmEAVCXgEUp1ee1jS1pLWlHRkqPYXJf0uacIKkvh6/Kikt0l6vaTdk/PeNAETMAETqDGBT4VRyPOSlingcGHI86yk5Qvy1Onw6QmzOrXbbS0m8IlkNL99cTafaUTAKqxGdMp57h9DtW6T9FRBFS8JxxlhrluQx4dNwARMoCMCFiAd4RvIxVGAXNfg7ksm555Jtr1pAiZgAl0jYAHSNZR9KQiPmjeHOzUSIBuGPE9KYqTiZAImYAJdJ2AB0nWkPS0QddSy4Q5FAoTz7wt5zpS0sKc1cuEmYAK1JWABUq2uj+qrv0u6oaDq+wTj+mOS9ijI48MmYAIm0DEBu/F2jLCvBUQBcruk5yRFW8fSkqZJ+rKk7YLaamdJ9/W1dr6ZCZhArQhYgFSru6MAWUdSnnF8nqSPSfqppL9Wq2murQmYQNUIWIVVnR6jr6IB/SBJm4Z/75W0f/Bp31zSWhYe1elU19QETMAE+kEAFVUMZfL2nBseE87/TdJKOefrfMgTCevc+/lt90TCfC4tHfUIpCVcA80c1VdFBvSjQu0WD2qsgVbWNzcBExh+AhYg1enjKECKZqBfK+ne0Jxtq9Ms19QETKCqBCxAqtNzbwlVLZr/welzQp53SnpFdZrmmpqACVSRgAVINXqNfooGdEYaRemscALvug8XZfJxEzABE+gGAbvxdoNi78pYXRIuuysnkXexceB59aCkWzK3vkzSAkkvl8Q8kAck/UXSlZl83jUBEzABExhyAocnnlfRAyv+7l3Q9pMy1/xfQb46HbYXVp16u7m22gurOU7OZQK1J2ABUvtHYBEAFiCLIGn9gG0grTPzFSbQLgGiKa/Y7sW+zgTKRsACpGw94voMMwEEyP2SviPpVcPcULetHgQsQOrRz25leQgsIemzwQHiq5KWKk/VXBMTaI2ABUhrvJzbBLpFYIUQw4yIyXtJWq5bBbscE+gXAQuQfpH2fUwgnwATPr8u6WZJu0jCTdvJBCpBwAKkEt3kStaAwGqSvivpVkn/LGmxGrTZTaw4AQuQinegqz90BAjH/31JdwRbiSf7Dl0XD0+DLECGpy/dkooRGBkZ0W4zZmippXLt6GsEb61rHJamYh3r6pqACQwVgbJMJOSDLUYSGJ0yZcroPQsWjP7qrrtGZ8ycObrMssuOn0vzhW1sJDtIwhXYqXMCnkjYOUOXYAK1IFBqAYIQ4d8Nd9wxutuMGaNLLrlkI0HyS49IuvLMWoB0AaO/ZroAsY0imAvw0eS6xyRdkuy3skno9nRSGuuh562XPlmZr5MU1xwh768k/W6yiypyHgHCWvEsxjVI4zQjkOcjsylTpuiuxx+Pu+O/Dz34oL5z2GE6+bjj9Le/Fi5tT4DMPTt4bsbvV9MNBMgpoe08Gz+qKQc3u4IEts+oKHjhE0G31bSMpKcyZX2q1UJCfv6Y0i/fs9ssp4yXVWIEEkci8ffKm24a3Wn69NGpU6em/ZLd/pmkjcsIveR18gikCx1kI3oXILZRxKcz1ywpCaHSamIUs3TmomzZmdO5uy/LjIjItLWkV+bm9sG+EFhltdX0rUMP1UVXXqntdtxRiy2WO3gitD9qLQTJRn2pmG9iAoFAswKEkODZLx/2TywgiWrsiZxrNizIX6fDvJQ/kNPgdl78eaON94X1Q3JuUXhoO0kIsTQxoe3j6QFvD4bAWuuso0PmztUF8+bpg9tsI7y3chKChMXGfiLpH3LO+5AJdJ1AswKEtScY8sV0QfhCLVqTAt91Xj77BSEyPeT/TSygxr940mADySZsGa/NHmywzyJTCIts4jP1k9mDk+wXCa+i45MU59O9ILDOtGk68vjjdf4VV4wJkpx7IFk+JOkGSadJWjsnjw+ZQNcINCtALg8P5J/CnXFcR4jcXlCTZ8OQmoeZSVEnhPzPFeSv0+G8UQPt549/xxZAkLdoklnRPfKKZwb0lnknJG0aVkQsOO3DgyCw3hveMCZIzrzoIm32jnfkVYG/az5U+GDj72/NvEw+ZgKdEmhWgMT7xBHEG+OBBr+7hi/qrzXIU7dTzDLerEGjCWHRbGo0OsCbqpk+4l6MVho9Bzs1WyHn6y+BjTbeWD885xydccEFettmuY8Vakieqd+GSYmv7m8NfbdhJ9DoxZHXdiYzkQgA95qwnfeDRxHqrW9JeigvQ02PMWpIFdjzJS1MWKzfpP6addJTl1tGfPOScths1n6RVXddmimnlVFR5lLv9oPAWzfZRKedd55OPussvXHDXDNjDCGPxuDbklbqR718j+En0KoAiSMQyDT6wiW6KO6ls4cfYdMtRHBgC0oTa56flR6Q9JnMft7uzpmD5+awppzJ+pe3zZuSsv4SRiRPJsfWDaqs5JA3y0hgiy231E8vvVTHnHKK1ntj7p8nqucvBNUz9sl2XMfL2HTXaUAEJnvBZKsVRyAcz31CJfHC+byk/858XWfLamWfL+6ZQZ/7vxV1V8RX//VJo3lJIzxOSo6xyYgg118z5KPPsuorymACIRMSY1pd0tvjTsFvthw8eB6W9ONM/my+zGnvloUAHlrv3WornXf55WN2kjXXQmu6SGL+0O4hYKPXIlkEjw80S6ATAbJBwU0OlnSVpDMKzrd6+EuSbgrqMPS5qMYIMId6LFUHtVpuv/NnX8JnSuKL/0JJf0gqg576Pcl+dnMLSQTaiwmhwYv/bzmzabP3jNfwi5DK2jeiMIu/MT9qrDzPsXi+zL9vkAQzEs/7MXWY38Isd1x+L54/X7PnztXqr8118ItrkRD5F4Hy0sDJPybQFIFWBcgfk5dd3gjk/cFdd0ZTd588ExPlUINlX17UmxHJ5yYvohQ5MGambtBUKs6hwTPt1EwtG734sx5WhGBAeJBimWF3zA5S9FJ4d8aOhRDDs45EWBXW7o6JF81WcadCv4z6rs/o/PkI4YOENg19mrr44tp+xx11ydVXj01KXGllvL8XScxNQqVF6JovSnrJIjl8wARyCLTzBc+kQl4+fD0zFGZCIQmXUuInMfr4t3Cs058bJaGnJ37QbuELm3vjmsiLkcmKrOIW69Dp/Vq9HmMkMaQelHSPpD9LuiinEGZ1n5ccR020ahIXaZPALWahXYxEYJwmBClOCenL712SouEbwXpnZoTCJEFGO9nEl/i/JgePDKrHeOgQSemHAEZ6DLBVSrwU+fTOfijxPCEscS/vZ+LvbfxjoSgWVi8r9Mwzz+iHJ5ygObNn64+PPFJ0q3sl7SvpWEnD6nrvWFhFvd/C8XYECC8RDHEkdPoMf0n/IembYfJSqpIJp1v+weDHixRVC3GZtklKYF7KZPr9JHvfNvljQzBk20+cqXQEcqCkr2ZqhX0JdUtMjEJOjjvhl3AnqWoQYUEfpAL0GyHIXrw0y47jCH6EWBoG5W2Sro4XBcGNAHfqEYFUgFx68cWatcceLd1pysiILrqK77XW09NPP63vH320jjzkED3xZ757ctNdYWTCx8Z4EMjcnNU7aAEyoD6LX/y8tOJLfflgwM2+FDupIgKEFzL3yXoq/SIc51zZ/iFI00ScKYIlpvXMCzXxP5k856eFhG1GEmk5++TkYfYxUWdjPtRb2ZhW2D7ieX5ZRjUv/TqTL73G2xMZtswjrgdC8MQjjj225etHRkbGwsDH4Ivt/NZ4LRIESGTeThy6vL+X2h0rmsncCETWE4uXO54czFI/XhJfLbzgs66mjcrMO4f6hnuhwmJGO4IL7yBUNnEOBJ9OzLjlQRhU2jZji+HBPCKpDHacNM4UrtC8mLPph5IQCHFUSGwjwrRHPQMul1k7BNdk0++D3j8ywv6CGov1tmPKzv2IYa3j+fhLW1YJ9WBkhQ0M9UZVEmo5VIxZrza+phHG3+lzQ+jbPBWnll1uOa09bVpL1WEE0ml6+fLL60szZ+ozu+yi7x5+uI6bO1cLF6ZTk8buwMiY0Cg8t7MkEd3YqfsEonkgWzJOLXmTjHkAeAcum7kA13zMCT1P7TyBy4VKUzn0uXhF8WDxIkdw8AJjrQJe+p0mXr7Z0UdaJl/7c9IDA9heUdIDknhRx4TbMRxI2YeCURoqrLx0maQ0NsWXJWGLIP27pKPCNj94ohWF8f5PSYcleemPzcM+VtT7kjAoCF9CXWDDGbbEHxKRannOY/8w6RL1HaPABX1uMLaYcVVQqsLqcz0Kb/fYo4/q6DlzdMxRRzVaiwS9GWuR8GxXNZVRhcXfPn+f0U6GnQ6TARNA88JG8UzjsUkcPbzo/iWozy/ul+0qa1xs5mHALsELiIQnFl5S2CR40eNSCoAPh/Od/qC/5yUavYxieahoMJDyhTno9GjOVyUPJykbZ4qXR9auEbKO/WTdZ1NvrHSbzFmPq7QcRhS8KGMizgVCjUTd0pEnxvFhFB60FRsOIc5xlWaEjKDHcM6xfguPF+iX/P8VVlxRM/faS5ddd512mj5dU6emj8p45YmRxkvqiswHz3gGb7RFoHIxB9sRIJCJaixCbxARNvXW4WXfTZUSX+DMOSGmFmoYZrm/Nex38z5t9Xi4KPvij6622BpSxj8PHltF90JNkK4myIsOIY0aJg12hHAoUjtRNkKNl2aaotqqFUGUXl/VbVSGfNDguYYaDlUoqjinBgRes+qqY26/lwZBUrAWCaNaRs2sRRJVpg1K9akmCcSIH3lTJbJFDDTmYPpyy1as0X4UIKgGjg5+9ejZMXozOiCMSUwsF8mLnn8cx+CO7h7dHe6vqGVSb6B4XfqLfzojDmDhZYRvf5kSo6/UlQVlNi//rB2o0aiB9lAGYUnSxIsfgZSqG9GjIyQapey9EBzost+SXMR6qdZnJ0C8OZHAamusMSZILpx8LRJUqkxozQ3GNbFU701CIL5f+egpdczBTgUILzx0oSQM3Ix3s0ZCvlAwfPOAkTC0IwB4oZEX3T6zyqucsDryx5MmDOKM0GJiZNHInhPzZQ3jCJA4eoh5fhA3GvwS2iSNaYW77wGZ/Hh6xRD9mVPeNYEXCWDgZy2SuKjVi2fGt/jAwe7J37bXIhnH0tZGHIFwcaNRyMBjDrYrQJjIxwODZ9Bk6gC+lJno9ngYafBiw4jMCxejD149jF6qnrKT0rKrDuL1g/1osgSXlCkG7vWSixDa2VhVyenxTbzYsqOLbJ2ydR6/2BsmkEdg2vrrj69Fsvk7sd0ukninpGuRoH51ao1AHIFwVZEA6UXMwdZqmdHPt3xxmxcQeiMm1FpIW2ZdpyqaeL5Kv9nwH9m6Z1VK2fNxH/sGX3BFCeGxiJ9lQeZG90RIpbPjC4rwYRNYlABrkfzg7LPH1iLZZPPo4DchHx5CuJ4yxwh36UaqmAkXDskOLvi43eMp2WpomFSA9CvmYFvY2x2BtHUzSejcGYmkiS9l6pH11U/zVGEb20+RYRu3UQyNzaZGL/5G57Lloz68O3sw7DM6yXq3FWT1YRPIJ8BaJKeee+7YWiQbvCldGWA8f1yLBLf2sqxFwscqkRdi4iXfrQ9Y7BaoofmbR0WMGzm23maWaYj14eMuRrPIG4F0O+ZgvG/Lv/0WIMMaVyeCL3LR5YEa9/+PmRv8stAUjgPZhPs0QqHZxAgva1OJ12Y9x+Jx/5pAywRYi+QnP//52Fok62+Q+9FclrVImNSLC3LqOcrSE8y5aHWkkOWEsGRuTHbhOIQKtt9slIrs9el+tINgR02FG3Zmpk4cJ+mG9IJBbPdbgAyijf28J/MOiPSaTe28rPMM5RxjpNNKyhuxIJyYXOhkAl0jENciOfeyy8bsJK97fbr8zfht4lok2D7xrGRicj8T6wlhvElfymwT+aHT5beJERiHYSwjzITeg5KR/v45YYWK2h7VWAje1I6E0xHzywh9NPBkAdL9Lsi++HkQ2nE7RugwgkgTzgutJnTQ2fsXjUpaLdv5TWARAnEtElx/995/f70qP4Q84TeYPY1TCM95v/4hJPLU5bwL8WrqpB4xwgSaFoQUIY0Y3SC0SAiDXM+DcD79iQKEY3FIxxQIIn8QTiaquNJr+r6dO82077UYrhtiMLw2aRL6z3YSUY63TNZCQQV2SzsFhXkkTKKLaeBD31gR/w4vgSVe8hJN33VXfWLnncdibB00a5aef74VTW5l2eBtGWPY0Yg09h0OQ82kVIBgB2EKQIw5eGgzBfQjTzcFCEEF+bLF+wJpjqcQs8hxS8VDKT2O/hED021JjCImGSJZ+VflxLwKdKzdSIQ26EZiOM0/JxPoK4HnnntOZ556qk485phGwgPnGoL/ofdPQ/D0oq5MGVgho8LiPow8mHLQzFytonqhBkPdxEjhn8I8N96xTFeIKU/FHc+lv9EGwjEECK78LKCHi3Q/nF8YRWEXahjTMNUDppX3tgmYQPcJ8GE1/glexmCK3Wry6Oiofnb++Zq977669Tfpu3DCHZ6WdHiwExBHrx+JsDbE2Mu++xAgzJPipdluwm03LsNAP2NnxH05LkzPBzPqqGaFJHYi7B0AxIEGI32j5a7brXfedU0JkG6OQPIq4WMmYAI1IoDgOO/ss3Xofvvpd78tHPSi4kE7QcTorFt/r2mhESEeGoIrLvfMVAJWPO1EeFBvrj9Y0leCnSVd9A7NBNE3mhUelIcaCwGCJxbhkd7cazitlm8jeqvEnN8ETCCXwLlnnaWtt9hCn5s+vUh4EM4HTyS+yNHn91t4xHqzwiJqLGZAEqSUBdfacVCJ5aW//yWJBaqIvkEoISJd48LL8gGpbTS9pmg72kEYLcWYg2leFqvDcM/KpBjViTZNO1KvLQz4jCYYYREFJCaWs47H45LYnGO5CY7jaMCIjG3+5X4NZIdxsXD/moAJdJ/AUKqw5l12mQ7ad19df3W6IvIEeNhDmUTI/IXUuDwhk3cWIUAwVsIN4amGT3Qa4ggvNlRkBKL9SBitsDYR3psETGX0kzrdIATybBosa8D0Axx20lSUP80zYV2ICSe8YwImYAKNCPzyyit1wDe+oWvnM+81N/ESOlbSvhVbyTK3MQM4yGiiaGS0RzCus2REHKngBEDEcjw48QZNVWg9qb5tID3B6kJNoHMC2BMO3R+Nj7TueuvpAx9lgc7Bp5tuvFH77bWXrrg01XxMqBcGZNRETBRkiWun7hNgtjsJh4A0EboIt+Etwvo396cnu71tAdJtoi7PBLpEYEyA7Mc7WPrQttsOXIDcevPNOnDWLF1y4YWibjmJg2cE+0aqPsnJ6kMdECDkyupBtYUDQDZhC2FGPKuQWoBk6XjfBEygfwTuuuMOHbjPPjr/nHP0978XRtIhOCdr4DQ7z6F/DfCdGhHoyJHKI5BGaH3OBGpM4N6779Yh++2nc370Iz33bKH3KcED0ccXGkJqjLBXTWfiJd5dawQjOvNp0rRK2GHeSUx0IJO504QbM8b4tlNH0qftu/pCEzCB0hL4w8MP62szZujdG2+sH59ySpHwICo0RlpmX1t49L83Yzy7rGHstWFZ4V8Et95YM0IqIXDS9I50J7ONUEoFDqvGsiT2hOQRyAQc3hlSAl+StGkJ2lboNv/Uk0/qwQdQXb+YUnXRk088scjcCgpjqdlupT8+8oiOmD1bp5xwgp55hikbuek6STO7GK4n9yY+OCkBPNu2DqGfMJrjiYUbL95XuObijZUmjO38HbAuCcIH+wiTJ7Ojl3gNNqy1w+x3wqgQFJKynUygdgRO7TDKKsbhrv+bMmXK6D0LFoz9O+LYY1suf2RkZPz6WE47v7++++7R3WbMGF166aUb1YEAnIQBKRSCtXuqBt9gQuEfkEwkZJTB8g3pRMJYSyIBEx2YrxQmODKpkBEJwgbDFnN1iGcYEwtuEcWbuSd40mUF0lg+j0AiLv+aQM0IMOo54uCD9f3vfU9PP0Us09zE2jHYOFiKutCCnnulD/aaACFhmDnOv8kS3losaJVd1OrlBReykuJGBefGD1uAjKPwRk0IDPILesJM9JT3uuuvrxkz0Qy9mHCV/XaYB7LOtGn6wDbbvHiyg6HAwoULx8Krf/fww/X4Y4UxDJmMxtoZFhwTqHsnJTDIP6a0Ht42gV4SQIX18XCDQT7zEwTIZNF4sYGs+QpWQ31hHsic41jFtP3014ULdezcuTp6zhw99iiTlnMTahAWLeJmha5XuVf6YO0IeARSuy53g+tGgDU5TjvpJB1+0EF68P7CeWUPhxX5iL2Em6iTCUxKwAJkUkTOYALVJMDqf6eeeKLmzJ6t++9laYncRJhx4qVgYC3yyMm90AdNwALEz4AJDBkBbCesycEkwN8Xr8lBhFd8+48MXjlDRsHN6QcBC5B+UPY9TKANAiMjI+PzPF69Spxc3Lgg1uQ47IAD9NtbCkNRMcGDhZxYR6LQgt74Lj5rAi8QsADxk2ACJSWAALm4OFT6hFqzJgeBDm+45poJx5OduCYHK+YVWtCT/N40gUkJWIBMisgZTKC8BObPmzcW6LCJNTlmhXW1y9sY16xyBCxAKtdlrrAJSL++4Qbtv/fezazJgZ2DNSKcTKDrBCxAuo7UBZpA7wjcctNN2nfPPRsJDsKRsCbH1yXd2ruauGQTkJe09UNgAlUgcOftt+ugWbMarckRBYfX5KhChw5JHT0CGZKOdDOGk8A9d901pqqaZDGniyXt6bDqw/kMlLlVFiBl7h3XrbYEHn7oobE4WKedfHLRehywYVFyBMcVtQXlhpuACZhAjwmk4dx7fKuGxRMLazxkehrOPYZhv/a220Z3mj59dPEllhjPl14TtvHVZSEnJxMwARMwgR4TKL0AiWtyLLXUUo0EB+szWHD0+GFx8SZgAiaQEiitALn53ntfWMxpmWUaCQ7Wtt5BkpegTnvV2yZgAibQBwKlFCCsKLjSyis3EhysHvf5sKxoHzD5FiZgAiZgAlkCpRQgObaNKEwekfQVSS/NNsT7JmACJmAC/SVQFQHykKTPesTR34fDdzMBEzCBRgTKLkBY25oJgEXrUzdqm8+ZgAmYgAn0kEBZBcgCSbtLWraHbXfRJmACJmACHRAomwBhyVhWAHx1B23ypSZgAiZgAn0gUCYBwprja/ahzb6FCZiACZhAFwiURYB0oSkuwgTKQ8ATk8rTF66JCZiACVSKgAVIpbrLlTUBEzCB8hCwAClPX7gmJmACJlApAhYgleouV9YETMAEykPAAqQ8feGamIAJmEClCFiAVKq7XFkTMAETKA8BC5Dy9IVrYgImYNdWgVwAAAJOSURBVAKVImABUqnucmVNwARMoDwELEDK0xeuiQmYgAlUioAFSKW6y5U1ARMwgfIQsAApT1+4JiZgAiZQKQIWIJXqLlfWBEzABMpDwAKkPH3hmpiACZhApQhYgFSqu1xZEzABEygPAQuQ8vSFa2ICJmAClSJgAVKp7nJlTcAETKA8BCxAytMXrokJmIAJVIqABUilusuVNQETMIHyELAAKU9fuCYmYAImUCkCFiCV6i5X1gRMwATKQ8ACpDx94ZqYgAmYQKUIWIBUqrtcWRMwARMoDwELkPL0hWtiAiZgApUiYAFSqe5yZU3ABEzABEzABFolsIOk0QH+O73VCju/CQw7AY9Ahr2H3T4TMAET6BEBC5AegXWxJmACJjDsBCxAhr2H3T4TMAETMAETMAETMAETMAETMAETMAETqDyBkcq3wA2oK4FVJW3aw8bfJ2l+D8t30SZgAiZgAgMi0Gu3XrvtDqhjfdvqELARvTp95ZqagAmYQKkIWICUqjtcGRMwAROoDoGp1amqa2oCEwhgozhjwpHu7lzV3eJcmgmYgAmYgAmYgAmYgAmYgAmYgAmYQPsE7MbbPjtfWS4Cm0j6SgdVQmU1u4PrfakJ1I6AbSC16/KhbfBqkj42tK1zw0yghATshVXCTnGVTMAETKAKBCxAqtBLrqMJmIAJlJCAbSAl7BRXqS0CnYY2ceiStrD7IhMwARMwARMwARMwARMwARMwARMwARMwARMwARMwARMwARMwARMwARMwARMwARMwARMwARMwARMwgfYI/D/6OPdPxrpyOgAAAABJRU5ErkJggg==)"
      ],
      "metadata": {
        "id": "KujmmsnPAruh"
      }
    },
    {
      "cell_type": "markdown",
      "source": [
        "$$V_\\text{out}(t_1) = V_\\text{out}(t_0) - \\frac{1}{RC} \\int_{t_0}^{t_1} V_\\text{in}(t) \\,dt$$"
      ],
      "metadata": {
        "id": "nNcrDBrODetq"
      }
    },
    {
      "cell_type": "markdown",
      "source": [
        "### Saving account\n",
        "\n",
        "$y[n] = x[n] + a y[n-1]$"
      ],
      "metadata": {
        "id": "AaeZ9DIygN7V"
      }
    },
    {
      "cell_type": "markdown",
      "source": [
        "**零状态响应**\n",
        "\n",
        "年息 1.2%，月息 0.1%，每月存 1000。$a = 1+ 1.2\\% / 12 = 1.001$"
      ],
      "metadata": {
        "id": "5l8PrkS46XC_"
      }
    },
    {
      "cell_type": "code",
      "source": [
        "rate = 1.2\n",
        "a = 1.0 + rate / 100 / 12\n",
        "\n",
        "x = np.ones(12) * 1000\n",
        "y = signal.lfilter([1], [1, -a], x)\n",
        "print(np.array([x, np.round(y, 2)]).T)"
      ],
      "metadata": {
        "colab": {
          "base_uri": "https://localhost:8080/"
        },
        "id": "PIYgGW9EgkKb",
        "outputId": "27a1724f-76ad-4fbe-dffb-f08c89d05c73"
      },
      "execution_count": null,
      "outputs": [
        {
          "output_type": "stream",
          "name": "stdout",
          "text": [
            "[[ 1000.    1000.  ]\n",
            " [ 1000.    2001.  ]\n",
            " [ 1000.    3003.  ]\n",
            " [ 1000.    4006.  ]\n",
            " [ 1000.    5010.01]\n",
            " [ 1000.    6015.02]\n",
            " [ 1000.    7021.04]\n",
            " [ 1000.    8028.06]\n",
            " [ 1000.    9036.08]\n",
            " [ 1000.   10045.12]\n",
            " [ 1000.   11055.17]\n",
            " [ 1000.   12066.22]]\n"
          ]
        }
      ]
    },
    {
      "cell_type": "markdown",
      "source": [
        "**零输入响应**\n",
        "\n",
        "年息 1.2%，月息 0.1%，起始存款 10000。"
      ],
      "metadata": {
        "id": "79ycAhuLSv18"
      }
    },
    {
      "cell_type": "code",
      "source": [
        "rate = 1.2\n",
        "a = 1.0 + rate / 100 / 12\n",
        "y0 = 10000.0\n",
        "\n",
        "x = np.zeros(13) * 0.0\n",
        "y, yn = signal.lfilter([1], [1, -a], x, zi=[y0])\n",
        "np.set_printoptions(suppress=True)\n",
        "print(np.array([np.arange(len(x)), np.round(y, 2)]).T)\n",
        "# print('yn =', np.round(yn, 2))"
      ],
      "metadata": {
        "colab": {
          "base_uri": "https://localhost:8080/"
        },
        "id": "MxfXUiEsTCOj",
        "outputId": "717572c9-37d0-4ea0-dc32-01f41a165e31"
      },
      "execution_count": null,
      "outputs": [
        {
          "output_type": "stream",
          "name": "stdout",
          "text": [
            "[[    0.   10000.  ]\n",
            " [    1.   10010.  ]\n",
            " [    2.   10020.01]\n",
            " [    3.   10030.03]\n",
            " [    4.   10040.06]\n",
            " [    5.   10050.1 ]\n",
            " [    6.   10060.15]\n",
            " [    7.   10070.21]\n",
            " [    8.   10080.28]\n",
            " [    9.   10090.36]\n",
            " [   10.   10100.45]\n",
            " [   11.   10110.55]\n",
            " [   12.   10120.66]]\n"
          ]
        }
      ]
    },
    {
      "cell_type": "markdown",
      "source": [
        "**完全响应**\n",
        "\n",
        "贷款 20000，年息 3.5%，分 24 期（2 年）偿还，每月还款 864.06。\n",
        "\n",
        "$p = L\\dfrac{c(1+c)^n}{(1+c)^n-1}$, $L=20\\,000$, $n = 24$, $c = 3.5\\%/12$."
      ],
      "metadata": {
        "id": "QIUb8ksGTAVq"
      }
    },
    {
      "cell_type": "code",
      "source": [
        "L = 20000\n",
        "n = 24\n",
        "rate = 3.5\n",
        "c = rate / 100 / 12\n",
        "p = L * c * np.power(1+c, n) / (np.power(1+c, n) - 1)\n",
        "print('Monthly payment: %.4f' % p)"
      ],
      "metadata": {
        "colab": {
          "base_uri": "https://localhost:8080/"
        },
        "id": "srNXFym65YRH",
        "outputId": "b706b1e5-726e-4493-b472-71fb44b9881f"
      },
      "execution_count": null,
      "outputs": [
        {
          "output_type": "stream",
          "name": "stdout",
          "text": [
            "Monthly payment: 864.0544\n"
          ]
        }
      ]
    },
    {
      "cell_type": "code",
      "source": [
        "rate = 3.5\n",
        "a = 1.0 + rate / 100 / 12\n",
        "y0 = 20000.0\n",
        "\n",
        "x = np.concatenate(([0.0], np.ones(24) * -864.06))\n",
        "y, yn = signal.lfilter([1], [1, -a], x, zi=[y0])\n",
        "np.set_printoptions(suppress=True)\n",
        "print(np.array([np.arange(len(x)), np.round(y, 2)]).T)\n",
        "print('yn =', np.round(yn, 2))"
      ],
      "metadata": {
        "colab": {
          "base_uri": "https://localhost:8080/"
        },
        "outputId": "59effbe1-066a-482b-e3ef-8ca1a4562e58",
        "id": "V8D3cGn_WejA"
      },
      "execution_count": null,
      "outputs": [
        {
          "output_type": "stream",
          "name": "stdout",
          "text": [
            "[[    0.   20000.  ]\n",
            " [    1.   19194.28]\n",
            " [    2.   18386.22]\n",
            " [    3.   17575.79]\n",
            " [    4.   16763.01]\n",
            " [    5.   15947.85]\n",
            " [    6.   15130.31]\n",
            " [    7.   14310.39]\n",
            " [    8.   13488.08]\n",
            " [    9.   12663.37]\n",
            " [   10.   11836.26]\n",
            " [   11.   11006.73]\n",
            " [   12.   10174.78]\n",
            " [   13.    9340.41]\n",
            " [   14.    8503.6 ]\n",
            " [   15.    7664.35]\n",
            " [   16.    6822.66]\n",
            " [   17.    5978.51]\n",
            " [   18.    5131.89]\n",
            " [   19.    4282.81]\n",
            " [   20.    3431.25]\n",
            " [   21.    2577.21]\n",
            " [   22.    1720.68]\n",
            " [   23.     861.65]\n",
            " [   24.       0.11]]\n",
            "yn = [0.11]\n"
          ]
        }
      ]
    },
    {
      "cell_type": "markdown",
      "source": [
        "### Exponential moving average\n",
        "\n",
        "$y[n] = ax[n]+(1-a)y[n-1]$"
      ],
      "metadata": {
        "id": "3HZFPXEI82Wa"
      }
    },
    {
      "cell_type": "code",
      "source": [
        "@interact(a=(0.1, 0.9, 0.1))\n",
        "def ema(a):\n",
        "  dlti = signal.dlti([a], [1, a-1])\n",
        "  t, imp = dlti.impulse()\n",
        "  plt.stem(t, imp[0], use_line_collection=True)\n",
        "  plt.figure(2)\n",
        "  t, step = dlti.step()\n",
        "  plt.stem(t, step[0], use_line_collection=True)"
      ],
      "metadata": {
        "colab": {
          "base_uri": "https://localhost:8080/",
          "height": 545,
          "referenced_widgets": [
            "4ad2436f8cf945eb841be777a7bfe095",
            "f2f3991d4e34453698493f6df8d9c7cc",
            "2a45218072bd4d0db95f757e4e38ffbf",
            "63ba933a2b844d3eb7eb6542c7eaccb1",
            "3a5f862498eb464198f62f48e8371bc8",
            "acc858b78d5343249bb1ea4cb9aa1718",
            "b29d109d3fcd4a6dbb1ca97f13746cdd"
          ]
        },
        "id": "7HKOgfUKfknn",
        "outputId": "55810cd2-c4bb-4398-f8e2-6c6aeee5bbc5"
      },
      "execution_count": 60,
      "outputs": [
        {
          "output_type": "display_data",
          "data": {
            "text/plain": [
              "interactive(children=(FloatSlider(value=0.5, description='a', max=0.9, min=0.1), Output()), _dom_classes=('wid…"
            ],
            "application/vnd.jupyter.widget-view+json": {
              "version_major": 2,
              "version_minor": 0,
              "model_id": "4ad2436f8cf945eb841be777a7bfe095"
            }
          },
          "metadata": {}
        }
      ]
    },
    {
      "cell_type": "code",
      "source": [
        "@interact(a=(0.1, 0.9, 0.1))\n",
        "def ema(a):\n",
        "  dlti = signal.dlti([a], [1, a-1])\n",
        "  draw_pzmap(dlti)\n",
        "  plt.figure(2)\n",
        "  w, mag = dlti.freqresp()\n",
        "  plt.plot(w/np.pi, np.abs(mag))\n",
        "  plt.ylim(0, 1.1)"
      ],
      "metadata": {
        "colab": {
          "base_uri": "https://localhost:8080/",
          "height": 545,
          "referenced_widgets": [
            "2ae9c411c98d4ee8a06aa636530c0cb3",
            "e47ac32b5ca24e7287557690761c707d",
            "0b4d389e3453493f9bfe6b64be95b013",
            "34f921d67ec541339581661f725ea5ef",
            "4ff81b6588014ad3a243ca179a5774d1",
            "a436ccedc5af4c099609c392a2845681",
            "c9a9bad1f5574e6194538c15e320737c"
          ]
        },
        "id": "hDM3puwrZuBg",
        "outputId": "f9b18279-ee5b-476e-8d06-6ec777f4e71b"
      },
      "execution_count": 61,
      "outputs": [
        {
          "output_type": "display_data",
          "data": {
            "text/plain": [
              "interactive(children=(FloatSlider(value=0.5, description='a', max=0.9, min=0.1), Output()), _dom_classes=('wid…"
            ],
            "application/vnd.jupyter.widget-view+json": {
              "version_major": 2,
              "version_minor": 0,
              "model_id": "2ae9c411c98d4ee8a06aa636530c0cb3"
            }
          },
          "metadata": {}
        }
      ]
    },
    {
      "cell_type": "markdown",
      "source": [
        "**How does TCP calculates RTT**\n",
        "\n",
        "* [RFC793](https://www.rfc-editor.org/rfc/rfc793) Transmission Control Protocol, 1981 Sept.\n",
        "* [Jacobson88](https://ee.lbl.gov/papers/congavoid.pdf) Congestion Avoidance and Control, 1988 Nov.\n",
        "* [RFC1122](https://www.rfc-editor.org/rfc/rfc1122.html) 1989 Oct.\n",
        "* [RFC2988](https://www.rfc-editor.org/rfc/rfc2988.html) 2000 Nov.\n",
        "* [RFC6298](https://www.rfc-editor.org/rfc/rfc6298.html) Computing TCP's Retransmission Timer, 2011 June."
      ],
      "metadata": {
        "id": "-7TGR62c5SeK"
      }
    },
    {
      "cell_type": "markdown",
      "source": [
        "**RFC 793**\n",
        "\n",
        "$$newRTT = \\alpha \\cdot oldRTT + (1-\\alpha) \\cdot newRTTsample$$\n",
        "\n",
        "$$\\alpha = 0.9$$\n",
        "\n",
        "$$y[n] = \\alpha \\cdot y[n-1] + (1-\\alpha) x[n]$$\n",
        "\n",
        "I found a typo in RFC793 in 2020-10. https://www.rfc-editor.org/errata/eid6305"
      ],
      "metadata": {
        "id": "Ig7mOxz2Y1n4"
      }
    },
    {
      "cell_type": "markdown",
      "source": [
        "**RFC 6298**\n",
        "\n",
        "```\n",
        "   (2.2) When the first RTT measurement R is made, the host MUST set\n",
        "\n",
        "            SRTT <- R\n",
        "            RTTVAR <- R/2\n",
        "            RTO <- SRTT + max (G, K*RTTVAR)\n",
        "\n",
        "         where K = 4.\n",
        "\n",
        "   (2.3) When a subsequent RTT measurement R' is made, a host MUST set\n",
        "\n",
        "            RTTVAR <- (1 - beta) * RTTVAR + beta * |SRTT - R'|\n",
        "            SRTT <- (1 - alpha) * SRTT + alpha * R'\n",
        "\n",
        "         The value of SRTT used in the update to RTTVAR is its value\n",
        "         before updating SRTT itself using the second assignment.  That\n",
        "         is, updating RTTVAR and SRTT MUST be computed in the above\n",
        "         order.\n",
        "\n",
        "         The above SHOULD be computed using alpha=1/8 and beta=1/4 (as\n",
        "         suggested in [JK88]).\n",
        "\n",
        "         After the computation, a host MUST update\n",
        "         RTO <- SRTT + max (G, K*RTTVAR)\n",
        "```\n",
        "\n",
        "$$SRTT \\gets (1-\\alpha)\\cdot SRTT + \\alpha \\cdot Rsample $$\n",
        "\n",
        "$$\\alpha = \\frac{1}{8}$$\n",
        "\n",
        "$$y[n] = \\alpha x[n] + (1-\\alpha) y[n-1]$$"
      ],
      "metadata": {
        "id": "GtMO4pxjYsQB"
      }
    },
    {
      "cell_type": "markdown",
      "source": [
        "### Second order digital sinusoidal oscillator\n",
        "\n",
        "$y[n]=2\\cos(w)y[n-1]-y[n-2]$\n",
        "\n",
        "Digital resonator\n",
        "https://ccrma.stanford.edu/~jos/pdf/GordonAndSmith86.pdf"
      ],
      "metadata": {
        "id": "Vc2LTvPFUMks"
      }
    },
    {
      "cell_type": "code",
      "source": [
        "fs = 1000\n",
        "f = 60\n",
        "w = 2*np.pi*f/fs\n",
        "c = np.cos(w)\n",
        "a = [1, -2*c, 1]\n",
        "n = 101\n",
        "x = np.zeros(n) * 0.0\n",
        "y0 = np.sqrt(2-2*np.cos(2*w))/2\n",
        "y, yn = signal.lfilter([1], a, x, zi=[0, y0])\n",
        "t = np.arange(n)/fs\n",
        "plt.plot(t, y)"
      ],
      "metadata": {
        "colab": {
          "base_uri": "https://localhost:8080/",
          "height": 282
        },
        "id": "FKYqy8vDXqBp",
        "outputId": "71c20e8f-41df-4480-820c-3e207fe7d428"
      },
      "execution_count": 55,
      "outputs": [
        {
          "output_type": "execute_result",
          "data": {
            "text/plain": [
              "[<matplotlib.lines.Line2D at 0x7f26b65c0850>]"
            ]
          },
          "metadata": {},
          "execution_count": 55
        },
        {
          "output_type": "display_data",
          "data": {
            "text/plain": [
              "<Figure size 432x288 with 1 Axes>"
            ],
            "image/png": "[encoded data removed]"
          },
          "metadata": {
            "needs_background": "light"
          }
        }
      ]
    },
    {
      "cell_type": "code",
      "source": [
        "print(max(y), min(y))"
      ],
      "metadata": {
        "id": "OSigS45A01Qj"
      },
      "execution_count": null,
      "outputs": []
    },
    {
      "cell_type": "markdown",
      "source": [
        "$$H(z)=\\frac{1}{1-2\\cos(\\omega)z^{-1}+z^{-2}}$$\n",
        "\n",
        "$$\\frac{2\\cos(\\omega)\\pm2\\sqrt{\\cos^2(\\omega)-1}}{2}=\\cos(\\omega)\\pm j\\sin(\\omega)=e^{\\pm j\\omega}$$\n",
        "\n",
        "$$y[n]=C_1 e^{j\\omega n} + C_2 e^{-j\\omega n} $$\n",
        "\n",
        "$$y[-1]=|e^{jw}-e^{3jw}|/2 = \\sqrt{(\\sin x - \\sin 3 x)^2 + (\\cos x - \\cos 3 x)^2}/2 = \\frac{\\sqrt{2-2\\cos 2x}}{2}$$\n",
        "\n",
        "$$(\\sin x - \\sin 3 x)^2 + (\\cos x - \\cos 3 x)^2=2-2(\\sin x \\sin 3x + \\cos x \\cos 3x)$$\n",
        "\n",
        "$$\\sin x \\sin 3x + \\cos x \\cos 3x = \\frac{\\cos 2x - \\cos 4x}{2} + \\frac{\\cos 2x + \\cos 4x}{2}= \\cos 2x$$"
      ],
      "metadata": {
        "id": "OacrxTpzfGjR"
      }
    },
    {
      "cell_type": "code",
      "source": [
        "w=2*np.pi*30/1000\n",
        "c = np.cos(w)\n",
        "c2=1/(np.exp(1j*w)-np.exp(3j*w))\n",
        "c1=-c2*np.exp(4j*w)\n",
        "print(w)\n",
        "print(c1, c2)\n",
        "print(np.abs(c1)*2)"
      ],
      "metadata": {
        "id": "xTWfqo-ZjfMb"
      },
      "execution_count": null,
      "outputs": []
    },
    {
      "cell_type": "code",
      "source": [
        "w=2*np.pi*30/1000\n",
        "c = (np.exp(1j*w)-np.exp(3j*w))\n",
        "print(c, np.abs(c) )"
      ],
      "metadata": {
        "id": "zaPBDQMilCTe"
      },
      "execution_count": null,
      "outputs": []
    },
    {
      "cell_type": "markdown",
      "source": [
        "Why not use `sin()`/`cos()`"
      ],
      "metadata": {
        "id": "lTmmQvliFZf3"
      }
    },
    {
      "cell_type": "code",
      "source": [
        "fs = 1000\n",
        "f = 60\n",
        "n = 101\n",
        "t = np.arange(n) / fs\n",
        "y1 = np.sin(2 * np.pi * f * t)\n",
        "plt.plot(t, y1)"
      ],
      "metadata": {
        "colab": {
          "base_uri": "https://localhost:8080/",
          "height": 282
        },
        "id": "SLid9Z2xku2v",
        "outputId": "aaf86997-f6bc-42a1-e14d-0ff88d85653e"
      },
      "execution_count": 54,
      "outputs": [
        {
          "output_type": "execute_result",
          "data": {
            "text/plain": [
              "[<matplotlib.lines.Line2D at 0x7f26b648c950>]"
            ]
          },
          "metadata": {},
          "execution_count": 54
        },
        {
          "output_type": "display_data",
          "data": {
            "text/plain": [
              "<Figure size 432x288 with 1 Axes>"
            ],
            "image/png": "[encoded data removed]"
          },
          "metadata": {
            "needs_background": "light"
          }
        }
      ]
    },
    {
      "cell_type": "code",
      "source": [
        "print(y - y1)"
      ],
      "metadata": {
        "colab": {
          "base_uri": "https://localhost:8080/"
        },
        "id": "GqNoz51-l0f9",
        "outputId": "3e31c659-82cf-449b-e9d9-19d82c2cb36a"
      },
      "execution_count": 49,
      "outputs": [
        {
          "output_type": "stream",
          "name": "stdout",
          "text": [
            "[ 0.00000000e+00  0.00000000e+00  0.00000000e+00  0.00000000e+00\n",
            "  3.33066907e-16  6.66133815e-16  1.22124533e-15  1.77635684e-15\n",
            "  1.72084569e-15  1.83186799e-15  1.66533454e-15  9.99200722e-16\n",
            "  5.55111512e-16 -5.55111512e-16 -1.66533454e-15 -2.33146835e-15\n",
            " -2.60902411e-15 -3.30291350e-15 -2.66453526e-15 -1.66533454e-15\n",
            " -8.88178420e-16  6.66133815e-16  1.88737914e-15  2.77555756e-15\n",
            "  4.71844785e-15  4.62860957e-15  5.49560397e-15  2.55351296e-15\n",
            "  1.88737914e-15 -3.33066907e-16 -2.33146835e-15 -3.88578059e-15\n",
            " -4.66293670e-15 -6.57807142e-15 -5.96744876e-15 -4.55191440e-15\n",
            " -2.66453526e-15 -7.77156117e-16  1.88737914e-15  4.66293670e-15\n",
            "  6.43929354e-15  7.24420524e-15  8.77076189e-15  4.21884749e-15\n",
            "  3.88578059e-15  2.10942375e-15 -7.77156117e-16 -3.55271368e-15\n",
            " -6.88338275e-15 -6.49480469e-15 -8.25801842e-15 -5.49560397e-15\n",
            " -7.66053887e-15 -1.55431223e-15  7.77156117e-16  4.21884749e-15\n",
            "  8.21565038e-15  5.66213743e-15  1.09634524e-14  8.32667268e-15\n",
            "  7.77156117e-15  3.44169138e-15  6.66133815e-16 -3.44169138e-15\n",
            " -6.32827124e-15 -6.99440506e-15 -1.27120536e-14 -1.05193632e-14\n",
            " -1.01585407e-14 -5.55111512e-15 -2.44249065e-15  2.22044605e-15\n",
            "  6.32827124e-15  8.10462808e-15  1.43773882e-14  9.33391431e-15\n",
            "  9.60342916e-15  8.10462808e-15  4.66293670e-15 -7.77156117e-16\n",
            " -5.88418203e-15 -8.99280650e-15 -1.29340982e-14 -1.55986335e-14\n",
            " -1.62370117e-14 -1.43218770e-14 -3.88578059e-15 -1.22124533e-15\n",
            "  3.88578059e-15  1.08801856e-14  1.36557432e-14  1.37945211e-14\n",
            "  1.15740750e-14  1.41553436e-14  8.43769499e-15  2.66453526e-15\n",
            " -2.66453526e-15 -8.21565038e-15 -1.13242749e-14 -1.85962357e-14\n",
            " -1.74042153e-14]\n"
          ]
        }
      ]
    },
    {
      "cell_type": "markdown",
      "source": [
        "## Summary\n",
        "\n",
        "![iir.png](data:image/png;base64,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)\n",
        "\n",
        "$$\\begin{aligned}\n",
        "y[n] = &\\sum_{i=0}^{L}b[i]x[n-i] - \\sum_{i=1}^{M}a[i\\,]y[n-i\\,] \\\\\n",
        " = & \\  b[0]x[n] + b[1]x[n-1] + \\cdots + b[L]x[n-L] \\\\\n",
        "        &-(a[1]y[n-1]+a[2]y[n-2]+\\cdots+a[M]y[n-M])\n",
        "\\end{aligned}$$"
      ],
      "metadata": {
        "id": "7QhUw6OdEUtq"
      }
    },
    {
      "cell_type": "markdown",
      "source": [
        "## OpenAirIR"
      ],
      "metadata": {
        "id": "AMcbINBs7oUI"
      }
    },
    {
      "cell_type": "markdown",
      "source": [
        "# Lab2: Frequency Analysis"
      ],
      "metadata": {
        "id": "K7XvBfoVttWg"
      }
    },
    {
      "cell_type": "markdown",
      "source": [
        "## DTMF\n",
        "\n",
        "\n",
        "|        | 1209 Hz | 1336 Hz | 1447 Hz |\n",
        "| -----: | :-----: | :-----: | :-----: |\n",
        "| 697 Hz |  **1**  |  **2**  |  **3**  |\n",
        "| 770 Hz |  **4**  |  **5**  |  **6**  |\n",
        "| 852 Hz |  **7**  |  **8**  |  **9**  |\n",
        "| 941 Hz |  **$*$** |  **0**  |  **#**  |\n"
      ],
      "metadata": {
        "id": "pZX4930CCBBV"
      }
    },
    {
      "cell_type": "markdown",
      "source": [
        ""
      ],
      "metadata": {
        "id": "y4qykYozpYu-"
      }
    },
    {
      "cell_type": "code",
      "source": [
        "freqs = np.array([697, 770, 852, 941, 1209, 1336, 1447])\n",
        "np.diff(freqs)\n"
      ],
      "metadata": {
        "id": "EZW-7ZqZCAT-",
        "colab": {
          "base_uri": "https://localhost:8080/"
        },
        "outputId": "b3cfd740-d364-459c-b31d-3b21f398d0b8"
      },
      "execution_count": null,
      "outputs": [
        {
          "output_type": "execute_result",
          "data": {
            "text/plain": [
              "array([ 73,  82,  89, 268, 127, 111])"
            ]
          },
          "metadata": {},
          "execution_count": 2
        }
      ]
    },
    {
      "cell_type": "markdown",
      "source": [
        "freqs * 1.035"
      ],
      "metadata": {
        "id": "cEYfQGe9qYfy"
      }
    },
    {
      "cell_type": "code",
      "source": [
        "@interact(nfft = (60, 250, 5))\n",
        "def how_many_bins(nfft=105):\n",
        "  sr = 8000\n",
        "  t = np.arange(nfft)/sr\n",
        "  x = np.sin(2*np.pi* freqs.reshape(len(freqs), 1) * t)\n",
        "  print('%.2f' % (sr / nfft))\n",
        "  for i in x:\n",
        "    fft = np.fft.rfft(i)\n",
        "    plt.plot(np.abs(fft[0:(nfft//4)])/nfft)\n"
      ],
      "metadata": {
        "colab": {
          "base_uri": "https://localhost:8080/",
          "height": 314,
          "referenced_widgets": [
            "90256824c3864cf58ff78de22579123b",
            "10457770cf7340e0bd67eabdb668d340",
            "0eda7fefed414cb19667cab6fcc52f19",
            "eea5f84634974bcea6cf00d91dccbb84",
            "e7b7c1ea0f82445ea36ef1c43c7b7e88",
            "4a13fbd671be48cfaa27fa90459a463a",
            "5445b0d8b540425782c6abdab4a4d79a"
          ]
        },
        "id": "oFBKNvXjqfnz",
        "outputId": "c1434632-e3c3-4b18-c19f-99366dcefa28"
      },
      "execution_count": null,
      "outputs": [
        {
          "output_type": "display_data",
          "data": {
            "text/plain": [
              "interactive(children=(IntSlider(value=105, description='nfft', max=250, min=60, step=5), Output()), _dom_class…"
            ],
            "application/vnd.jupyter.widget-view+json": {
              "version_major": 2,
              "version_minor": 0,
              "model_id": "90256824c3864cf58ff78de22579123b"
            }
          },
          "metadata": {}
        }
      ]
    },
    {
      "cell_type": "markdown",
      "source": [
        "### Goertzel algorithm\n",
        "https://en.wikipedia.org/wiki/Goertzel_algorithm\n",
        "\n",
        "$y[n]=x[n]+2\\cos(\\omega)y[n-1]-y[n-2]$\n",
        "\n",
        "$\\omega = \\dfrac{2\\pi k} { N}$"
      ],
      "metadata": {
        "id": "4tHlvhwvSK2F"
      }
    },
    {
      "cell_type": "code",
      "source": [
        "N = 205\n",
        "sr = 8000\n",
        "print('%.2f Hz' % (sr / N))\n",
        "\n",
        "k = np.array([18, 20, 22, 24, 31, 34, 37])\n",
        "k * sr / N - freqs "
      ],
      "metadata": {
        "colab": {
          "base_uri": "https://localhost:8080/"
        },
        "id": "ZBKFp7a7GnZL",
        "outputId": "c06ab64f-4d88-4864-f188-0e1d945e3716"
      },
      "execution_count": null,
      "outputs": [
        {
          "output_type": "stream",
          "name": "stdout",
          "text": [
            "39.02 Hz\n"
          ]
        },
        {
          "output_type": "execute_result",
          "data": {
            "text/plain": [
              "array([ 5.43902439, 10.48780488,  6.53658537, -4.41463415,  0.75609756,\n",
              "       -9.17073171, -3.09756098])"
            ]
          },
          "metadata": {},
          "execution_count": 9
        }
      ]
    },
    {
      "cell_type": "code",
      "source": [
        "N = 205\n",
        "sr = 8000\n",
        "t = np.arange(N) / sr\n",
        "x = np.cos(t * 2 * np.pi * 697)\n",
        "\n",
        "bin = 18\n",
        "fft = np.fft.rfft(x)\n",
        "print('fft:', fft[bin])\n",
        "\n",
        "wk = np.exp(1j * bin * 2 * np.pi * np.arange(N) / N)\n",
        "dft = np.vdot(wk, x)\n",
        "print('dft:', dft)\n",
        "print('diff:', dft - fft[bin])\n",
        "\n"
      ],
      "metadata": {
        "id": "X5e1DAITLaO-",
        "colab": {
          "base_uri": "https://localhost:8080/"
        },
        "outputId": "d23aa7ba-e992-42f5-f285-77ed3664983e"
      },
      "execution_count": null,
      "outputs": [
        {
          "output_type": "stream",
          "name": "stdout",
          "text": [
            "fft: (89.75850817734614-42.23143015507722j)\n",
            "dft: (89.75850817734626-42.231430155077035j)\n",
            "diff: (1.1368683772161603e-13+1.8474111129762605e-13j)\n"
          ]
        }
      ]
    },
    {
      "cell_type": "code",
      "source": [
        "s2 = 0\n",
        "s1 = 0\n",
        "s0 = 0\n",
        "w = bin * 2 * np.pi / N\n",
        "c = np.cos(w)\n",
        "c2 = 2 * c\n",
        "# print(c)\n",
        "for p in x:\n",
        "  s0 = p + c2 * s1 - s2\n",
        "  s2 = s1\n",
        "  s1 = s0\n",
        "# s0 = c * s1\n",
        "#print(s2)\n",
        "goert = s2-np.exp(-1j*w) * s1\n",
        "\n",
        "print(dft) \n",
        "print(goert)\n",
        "print(np.real(dft) + np.real(goert), (np.imag(dft) - np.imag(goert)))\n",
        "\n",
        "power = s1 * s1 + s2 * s2 - c2 * s1 * s2\n",
        "\n",
        "print(power)\n",
        "print(np.real_if_close(dft * dft.conj()))"
      ],
      "metadata": {
        "colab": {
          "base_uri": "https://localhost:8080/"
        },
        "id": "AFzjo0BZfhZe",
        "outputId": "8d26a0a0-4ff5-4766-852f-7adcd3dda337"
      },
      "execution_count": null,
      "outputs": [
        {
          "output_type": "stream",
          "name": "stdout",
          "text": [
            "(89.75850817734626-42.231430155077035j)\n",
            "(-89.75850817734629-42.231430155076346j)\n",
            "-2.842170943040401e-14 -6.892264536872972e-13\n",
            "9840.083483165832\n",
            "9840.083483165885\n"
          ]
        }
      ]
    },
    {
      "cell_type": "markdown",
      "source": [
        "### Real world requirements\n",
        "\n",
        "https://en.wikipedia.org/wiki/Dual-tone_multi-frequency_signaling\n",
        "\n",
        "https://web.archive.org/web/20110925184759/http://nemesis.lonestar.org/reference/telecom/signaling/dtmf.html"
      ],
      "metadata": {
        "id": "E6apRVpFJ1fo"
      }
    },
    {
      "cell_type": "markdown",
      "source": [
        "\n"
      ],
      "metadata": {
        "id": "X-ySNuLLrvBb"
      }
    },
    {
      "cell_type": "markdown",
      "source": [
        "DTMF receiver chips:\n",
        "* CM8870CSI (obsoleted) by California Micro Devices Corp. 215 Topaz Street, Milpitas, California  95035\n",
        "* MT8870D from Zarlink (active)\n",
        " \n"
      ],
      "metadata": {
        "id": "R_jVCQgdpZom"
      }
    },
    {
      "cell_type": "markdown",
      "source": [
        "## Spectrogram"
      ],
      "metadata": {
        "id": "7tc0IFzRFmJq"
      }
    },
    {
      "cell_type": "code",
      "source": [
        ""
      ],
      "metadata": {
        "id": "UArEsaxhFk3G"
      },
      "execution_count": null,
      "outputs": []
    },
    {
      "cell_type": "markdown",
      "source": [
        "# Lab3: Filtering\n",
        "\n",
        "https://github.com/chipmuenk/pyfda"
      ],
      "metadata": {
        "id": "lEyh8B2Ytvrv"
      }
    },
    {
      "cell_type": "markdown",
      "source": [
        "## FIR using Remez"
      ],
      "metadata": {
        "id": "WgqvuhqlFqIv"
      }
    },
    {
      "cell_type": "code",
      "source": [
        ""
      ],
      "metadata": {
        "id": "3u3qeR7HkYlu"
      },
      "execution_count": null,
      "outputs": []
    },
    {
      "cell_type": "markdown",
      "source": [
        "## IIR Notch\n",
        "https://www.mathworks.com/help/signal/ug/remove-the-60-hz-hum-from-a-signal.html"
      ],
      "metadata": {
        "id": "KthiRs20kVYQ"
      }
    },
    {
      "cell_type": "code",
      "source": [
        "# 0.9938, -1.8480, 0.9938\n",
        "\n",
        "# 0.9298 +- 0.3681i\n",
        "\n",
        "b, a = scipy.signal.iirnotch(60, 30, 1000)\n",
        "print('a=', a)\n",
        "print('b=', b)"
      ],
      "metadata": {
        "colab": {
          "base_uri": "https://localhost:8080/"
        },
        "id": "qfGKpC9ykiXA",
        "outputId": "0353d030-4412-4637-cbf4-4264f7786f7e"
      },
      "execution_count": null,
      "outputs": [
        {
          "output_type": "stream",
          "name": "stdout",
          "text": [
            "a= [ 1.         -1.84794186  0.98751193]\n",
            "b= [ 0.99375596 -1.84794186  0.99375596]\n"
          ]
        }
      ]
    },
    {
      "cell_type": "code",
      "source": [
        "d = scipy.signal.dlti(b, a)\n",
        "w, mag, phase = d.bode()\n",
        "plt.plot(w, mag)"
      ],
      "metadata": {
        "colab": {
          "base_uri": "https://localhost:8080/",
          "height": 282
        },
        "id": "0X-TUto1lSmu",
        "outputId": "38175306-9a07-4314-8707-842d1105b7ad"
      },
      "execution_count": null,
      "outputs": [
        {
          "output_type": "execute_result",
          "data": {
            "text/plain": [
              "[<matplotlib.lines.Line2D at 0x7f3db821b210>]"
            ]
          },
          "metadata": {},
          "execution_count": 18
        },
        {
          "output_type": "display_data",
          "data": {
            "text/plain": [
              "<Figure size 432x288 with 1 Axes>"
            ],
            "image/png": "[encoded data removed]"
          },
          "metadata": {
            "needs_background": "light"
          }
        }
      ]
    },
    {
      "cell_type": "code",
      "source": [
        "w, amp = d.freqresp()\n",
        "w=w[0:3200]\n",
        "amp=amp[0:3200]\n",
        "plt.plot(w/2/np.pi*1000, np.abs(amp))"
      ],
      "metadata": {
        "colab": {
          "base_uri": "https://localhost:8080/",
          "height": 282
        },
        "id": "5sJ5GouD3W_4",
        "outputId": "4ab65d34-12fb-4c8c-c259-5ef924ef9996"
      },
      "execution_count": null,
      "outputs": [
        {
          "output_type": "execute_result",
          "data": {
            "text/plain": [
              "[<matplotlib.lines.Line2D at 0x7f3db7977e50>]"
            ]
          },
          "metadata": {},
          "execution_count": 26
        },
        {
          "output_type": "display_data",
          "data": {
            "text/plain": [
              "<Figure size 432x288 with 1 Axes>"
            ],
            "image/png": "[encoded data removed]"
          },
          "metadata": {
            "needs_background": "light"
          }
        }
      ]
    },
    {
      "cell_type": "code",
      "source": [
        "t, y = d.impulse()\n",
        "plt.plot(t, y[0])"
      ],
      "metadata": {
        "colab": {
          "base_uri": "https://localhost:8080/",
          "height": 282
        },
        "id": "W_rtqZDf36Fw",
        "outputId": "1df7a736-35bf-48ea-e26b-3dfb0d928ec2"
      },
      "execution_count": null,
      "outputs": [
        {
          "output_type": "execute_result",
          "data": {
            "text/plain": [
              "[<matplotlib.lines.Line2D at 0x7f3db7cd0250>]"
            ]
          },
          "metadata": {},
          "execution_count": 30
        },
        {
          "output_type": "display_data",
          "data": {
            "text/plain": [
              "<Figure size 432x288 with 1 Axes>"
            ],
            "image/png": "[encoded data removed]"
          },
          "metadata": {
            "needs_background": "light"
          }
        }
      ]
    },
    {
      "cell_type": "code",
      "source": [
        "t, y = d.step(n=500)\n",
        "plt.plot(t, y[0])"
      ],
      "metadata": {
        "colab": {
          "base_uri": "https://localhost:8080/",
          "height": 282
        },
        "id": "AjnryK6J4ZtG",
        "outputId": "488bfdcf-8e5c-481c-a498-cee60eb98a47"
      },
      "execution_count": null,
      "outputs": [
        {
          "output_type": "execute_result",
          "data": {
            "text/plain": [
              "[<matplotlib.lines.Line2D at 0x7f3db7636190>]"
            ]
          },
          "metadata": {},
          "execution_count": 35
        },
        {
          "output_type": "display_data",
          "data": {
            "text/plain": [
              "<Figure size 432x288 with 1 Axes>"
            ],
            "image/png": "[encoded data removed]"
          },
          "metadata": {
            "needs_background": "light"
          }
        }
      ]
    },
    {
      "cell_type": "code",
      "source": [
        "print('zeros %.5f %.4fHz' % (np.abs(d.zeros[0]), np.angle(d.zeros[0]) * 1000 / (2*np.pi)))\n",
        "print('poles %.5f %.4fHz' % (np.abs(d.poles[0]), np.angle(d.poles[0]) * 1000 / (2*np.pi)))\n",
        "print(d.zeros)\n",
        "print(d.poles)\n",
        "plt.plot(np.real(d.zeros[0]), np.imag(d.zeros[0]), 'o')\n",
        "\n",
        "w = np.linspace(0, 2*np.pi)\n",
        "#plt.plot(np.cos(w), np.sin(w))\n",
        "limits = plt.axis(\"equal\")\n",
        "plt.plot(np.real(d.poles[0]), np.imag(d.poles[0]), 'x')"
      ],
      "metadata": {
        "colab": {
          "base_uri": "https://localhost:8080/",
          "height": 355
        },
        "id": "53OajfIw4lvd",
        "outputId": "c41e2508-d7a8-4a59-fe5e-1c16d48ba251"
      },
      "execution_count": null,
      "outputs": [
        {
          "output_type": "stream",
          "name": "stdout",
          "text": [
            "zeros 1.00000 60.0000Hz\n",
            "poles 0.99374 59.9921Hz\n",
            "[0.92977649+0.36812455j 0.92977649-0.36812455j]\n",
            "[0.92397093+0.36577268j 0.92397093-0.36577268j]\n"
          ]
        },
        {
          "output_type": "execute_result",
          "data": {
            "text/plain": [
              "[<matplotlib.lines.Line2D at 0x7f3db75c8950>]"
            ]
          },
          "metadata": {},
          "execution_count": 55
        },
        {
          "output_type": "display_data",
          "data": {
            "text/plain": [
              "<Figure size 432x288 with 1 Axes>"
            ],
            "image/png": "[encoded data removed]"
          },
          "metadata": {
            "needs_background": "light"
          }
        }
      ]
    },
    {
      "cell_type": "markdown",
      "source": [
        "# Lab4: Sampling, alias, modulation"
      ],
      "metadata": {
        "id": "isbmhIBt-Qge"
      }
    },
    {
      "cell_type": "markdown",
      "source": [
        "https://www.youtube.com/watch?v=2wO8ZHnn3Q4 Hamming\n",
        "\n",
        "https://www.engr.colostate.edu/ECE423/course_info.shtml DSP for Communications,"
      ],
      "metadata": {
        "id": "MVXC7K1d-W7u"
      }
    },
    {
      "cell_type": "markdown",
      "source": [
        "# Lab5: Advanced\n",
        "\n",
        "https://en.wikipedia.org/wiki/Audio_time_stretching_and_pitch_scaling"
      ],
      "metadata": {
        "id": "SWDpv6_htz2v"
      }
    },
    {
      "cell_type": "markdown",
      "source": [
        ""
      ],
      "metadata": {
        "id": "E3agL_8oFuW6"
      }
    },
    {
      "cell_type": "markdown",
      "source": [
        "## Heartbeat rate from camera"
      ],
      "metadata": {
        "id": "vwRoVdE1Ft9A"
      }
    }
  ]
}