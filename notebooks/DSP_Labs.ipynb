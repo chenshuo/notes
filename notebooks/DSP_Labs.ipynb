{
  "nbformat": 4,
  "nbformat_minor": 0,
  "metadata": {
    "colab": {
      "name": "DSP Labs.ipynb",
      "provenance": [],
      "collapsed_sections": [
        "9-xIKi5Afmfs"
      ],
      "toc_visible": true,
      "authorship_tag": "ABX9TyP5S2/6jHmAWuWllMzPo9D4",
      "include_colab_link": true
    },
    "kernelspec": {
      "name": "python3",
      "display_name": "Python 3"
    },
    "language_info": {
      "name": "python"
    },
    "widgets": {
      "application/vnd.jupyter.widget-state+json": {
        "90256824c3864cf58ff78de22579123b": {
          "model_module": "@jupyter-widgets/controls",
          "model_name": "VBoxModel",
          "model_module_version": "1.5.0",
          "state": {
            "_dom_classes": [
              "widget-interact"
            ],
            "_model_module": "@jupyter-widgets/controls",
            "_model_module_version": "1.5.0",
            "_model_name": "VBoxModel",
            "_view_count": null,
            "_view_module": "@jupyter-widgets/controls",
            "_view_module_version": "1.5.0",
            "_view_name": "VBoxView",
            "box_style": "",
            "children": [
              "IPY_MODEL_10457770cf7340e0bd67eabdb668d340",
              "IPY_MODEL_0eda7fefed414cb19667cab6fcc52f19"
            ],
            "layout": "IPY_MODEL_eea5f84634974bcea6cf00d91dccbb84"
          }
        },
        "10457770cf7340e0bd67eabdb668d340": {
          "model_module": "@jupyter-widgets/controls",
          "model_name": "IntSliderModel",
          "model_module_version": "1.5.0",
          "state": {
            "_dom_classes": [],
            "_model_module": "@jupyter-widgets/controls",
            "_model_module_version": "1.5.0",
            "_model_name": "IntSliderModel",
            "_view_count": null,
            "_view_module": "@jupyter-widgets/controls",
            "_view_module_version": "1.5.0",
            "_view_name": "IntSliderView",
            "continuous_update": true,
            "description": "nfft",
            "description_tooltip": null,
            "disabled": false,
            "layout": "IPY_MODEL_e7b7c1ea0f82445ea36ef1c43c7b7e88",
            "max": 250,
            "min": 60,
            "orientation": "horizontal",
            "readout": true,
            "readout_format": "d",
            "step": 5,
            "style": "IPY_MODEL_4a13fbd671be48cfaa27fa90459a463a",
            "value": 205
          }
        },
        "0eda7fefed414cb19667cab6fcc52f19": {
          "model_module": "@jupyter-widgets/output",
          "model_name": "OutputModel",
          "model_module_version": "1.0.0",
          "state": {
            "_dom_classes": [],
            "_model_module": "@jupyter-widgets/output",
            "_model_module_version": "1.0.0",
            "_model_name": "OutputModel",
            "_view_count": null,
            "_view_module": "@jupyter-widgets/output",
            "_view_module_version": "1.0.0",
            "_view_name": "OutputView",
            "layout": "IPY_MODEL_5445b0d8b540425782c6abdab4a4d79a",
            "msg_id": "",
            "outputs": [
              {
                "output_type": "stream",
                "name": "stdout",
                "text": [
                  "39.02\n"
                ]
              },
              {
                "output_type": "display_data",
                "data": {
                  "text/plain": "<Figure size 432x288 with 1 Axes>",
                  "image/png": "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\n"
                },
                "metadata": {
                  "needs_background": "light"
                }
              }
            ]
          }
        },
        "eea5f84634974bcea6cf00d91dccbb84": {
          "model_module": "@jupyter-widgets/base",
          "model_name": "LayoutModel",
          "model_module_version": "1.2.0",
          "state": {
            "_model_module": "@jupyter-widgets/base",
            "_model_module_version": "1.2.0",
            "_model_name": "LayoutModel",
            "_view_count": null,
            "_view_module": "@jupyter-widgets/base",
            "_view_module_version": "1.2.0",
            "_view_name": "LayoutView",
            "align_content": null,
            "align_items": null,
            "align_self": null,
            "border": null,
            "bottom": null,
            "display": null,
            "flex": null,
            "flex_flow": null,
            "grid_area": null,
            "grid_auto_columns": null,
            "grid_auto_flow": null,
            "grid_auto_rows": null,
            "grid_column": null,
            "grid_gap": null,
            "grid_row": null,
            "grid_template_areas": null,
            "grid_template_columns": null,
            "grid_template_rows": null,
            "height": null,
            "justify_content": null,
            "justify_items": null,
            "left": null,
            "margin": null,
            "max_height": null,
            "max_width": null,
            "min_height": null,
            "min_width": null,
            "object_fit": null,
            "object_position": null,
            "order": null,
            "overflow": null,
            "overflow_x": null,
            "overflow_y": null,
            "padding": null,
            "right": null,
            "top": null,
            "visibility": null,
            "width": null
          }
        },
        "e7b7c1ea0f82445ea36ef1c43c7b7e88": {
          "model_module": "@jupyter-widgets/base",
          "model_name": "LayoutModel",
          "model_module_version": "1.2.0",
          "state": {
            "_model_module": "@jupyter-widgets/base",
            "_model_module_version": "1.2.0",
            "_model_name": "LayoutModel",
            "_view_count": null,
            "_view_module": "@jupyter-widgets/base",
            "_view_module_version": "1.2.0",
            "_view_name": "LayoutView",
            "align_content": null,
            "align_items": null,
            "align_self": null,
            "border": null,
            "bottom": null,
            "display": null,
            "flex": null,
            "flex_flow": null,
            "grid_area": null,
            "grid_auto_columns": null,
            "grid_auto_flow": null,
            "grid_auto_rows": null,
            "grid_column": null,
            "grid_gap": null,
            "grid_row": null,
            "grid_template_areas": null,
            "grid_template_columns": null,
            "grid_template_rows": null,
            "height": null,
            "justify_content": null,
            "justify_items": null,
            "left": null,
            "margin": null,
            "max_height": null,
            "max_width": null,
            "min_height": null,
            "min_width": null,
            "object_fit": null,
            "object_position": null,
            "order": null,
            "overflow": null,
            "overflow_x": null,
            "overflow_y": null,
            "padding": null,
            "right": null,
            "top": null,
            "visibility": null,
            "width": null
          }
        },
        "4a13fbd671be48cfaa27fa90459a463a": {
          "model_module": "@jupyter-widgets/controls",
          "model_name": "SliderStyleModel",
          "model_module_version": "1.5.0",
          "state": {
            "_model_module": "@jupyter-widgets/controls",
            "_model_module_version": "1.5.0",
            "_model_name": "SliderStyleModel",
            "_view_count": null,
            "_view_module": "@jupyter-widgets/base",
            "_view_module_version": "1.2.0",
            "_view_name": "StyleView",
            "description_width": "",
            "handle_color": null
          }
        },
        "5445b0d8b540425782c6abdab4a4d79a": {
          "model_module": "@jupyter-widgets/base",
          "model_name": "LayoutModel",
          "model_module_version": "1.2.0",
          "state": {
            "_model_module": "@jupyter-widgets/base",
            "_model_module_version": "1.2.0",
            "_model_name": "LayoutModel",
            "_view_count": null,
            "_view_module": "@jupyter-widgets/base",
            "_view_module_version": "1.2.0",
            "_view_name": "LayoutView",
            "align_content": null,
            "align_items": null,
            "align_self": null,
            "border": null,
            "bottom": null,
            "display": null,
            "flex": null,
            "flex_flow": null,
            "grid_area": null,
            "grid_auto_columns": null,
            "grid_auto_flow": null,
            "grid_auto_rows": null,
            "grid_column": null,
            "grid_gap": null,
            "grid_row": null,
            "grid_template_areas": null,
            "grid_template_columns": null,
            "grid_template_rows": null,
            "height": null,
            "justify_content": null,
            "justify_items": null,
            "left": null,
            "margin": null,
            "max_height": null,
            "max_width": null,
            "min_height": null,
            "min_width": null,
            "object_fit": null,
            "object_position": null,
            "order": null,
            "overflow": null,
            "overflow_x": null,
            "overflow_y": null,
            "padding": null,
            "right": null,
            "top": null,
            "visibility": null,
            "width": null
          }
        },
        "05bd9693454f427da7d1b1f75d0c9a3b": {
          "model_module": "@jupyter-widgets/controls",
          "model_name": "VBoxModel",
          "model_module_version": "1.5.0",
          "state": {
            "_dom_classes": [
              "widget-interact"
            ],
            "_model_module": "@jupyter-widgets/controls",
            "_model_module_version": "1.5.0",
            "_model_name": "VBoxModel",
            "_view_count": null,
            "_view_module": "@jupyter-widgets/controls",
            "_view_module_version": "1.5.0",
            "_view_name": "VBoxView",
            "box_style": "",
            "children": [
              "IPY_MODEL_5b12f97841414c95a8ec1102f515c531",
              "IPY_MODEL_42f6c41cc1a7466a80d42cb290b66482"
            ],
            "layout": "IPY_MODEL_4c2c3ed9876d42ebb1f8d5635b7a818d"
          }
        },
        "5b12f97841414c95a8ec1102f515c531": {
          "model_module": "@jupyter-widgets/controls",
          "model_name": "IntSliderModel",
          "model_module_version": "1.5.0",
          "state": {
            "_dom_classes": [],
            "_model_module": "@jupyter-widgets/controls",
            "_model_module_version": "1.5.0",
            "_model_name": "IntSliderModel",
            "_view_count": null,
            "_view_module": "@jupyter-widgets/controls",
            "_view_module_version": "1.5.0",
            "_view_name": "IntSliderView",
            "continuous_update": true,
            "description": "phase",
            "description_tooltip": null,
            "disabled": false,
            "layout": "IPY_MODEL_6a6bcde090f045929995dcc696673e2f",
            "max": 90,
            "min": 0,
            "orientation": "horizontal",
            "readout": true,
            "readout_format": "d",
            "step": 5,
            "style": "IPY_MODEL_28f971414ea845cd8cdab3a585d8b91e",
            "value": 45
          }
        },
        "42f6c41cc1a7466a80d42cb290b66482": {
          "model_module": "@jupyter-widgets/output",
          "model_name": "OutputModel",
          "model_module_version": "1.0.0",
          "state": {
            "_dom_classes": [],
            "_model_module": "@jupyter-widgets/output",
            "_model_module_version": "1.0.0",
            "_model_name": "OutputModel",
            "_view_count": null,
            "_view_module": "@jupyter-widgets/output",
            "_view_module_version": "1.0.0",
            "_view_name": "OutputView",
            "layout": "IPY_MODEL_c71840c5742843598244ee6d6542470c",
            "msg_id": "",
            "outputs": [
              {
                "output_type": "display_data",
                "data": {
                  "text/plain": "<Figure size 432x288 with 1 Axes>",
                  "image/png": "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\n"
                },
                "metadata": {
                  "needs_background": "light"
                }
              }
            ]
          }
        },
        "4c2c3ed9876d42ebb1f8d5635b7a818d": {
          "model_module": "@jupyter-widgets/base",
          "model_name": "LayoutModel",
          "model_module_version": "1.2.0",
          "state": {
            "_model_module": "@jupyter-widgets/base",
            "_model_module_version": "1.2.0",
            "_model_name": "LayoutModel",
            "_view_count": null,
            "_view_module": "@jupyter-widgets/base",
            "_view_module_version": "1.2.0",
            "_view_name": "LayoutView",
            "align_content": null,
            "align_items": null,
            "align_self": null,
            "border": null,
            "bottom": null,
            "display": null,
            "flex": null,
            "flex_flow": null,
            "grid_area": null,
            "grid_auto_columns": null,
            "grid_auto_flow": null,
            "grid_auto_rows": null,
            "grid_column": null,
            "grid_gap": null,
            "grid_row": null,
            "grid_template_areas": null,
            "grid_template_columns": null,
            "grid_template_rows": null,
            "height": null,
            "justify_content": null,
            "justify_items": null,
            "left": null,
            "margin": null,
            "max_height": null,
            "max_width": null,
            "min_height": null,
            "min_width": null,
            "object_fit": null,
            "object_position": null,
            "order": null,
            "overflow": null,
            "overflow_x": null,
            "overflow_y": null,
            "padding": null,
            "right": null,
            "top": null,
            "visibility": null,
            "width": null
          }
        },
        "6a6bcde090f045929995dcc696673e2f": {
          "model_module": "@jupyter-widgets/base",
          "model_name": "LayoutModel",
          "model_module_version": "1.2.0",
          "state": {
            "_model_module": "@jupyter-widgets/base",
            "_model_module_version": "1.2.0",
            "_model_name": "LayoutModel",
            "_view_count": null,
            "_view_module": "@jupyter-widgets/base",
            "_view_module_version": "1.2.0",
            "_view_name": "LayoutView",
            "align_content": null,
            "align_items": null,
            "align_self": null,
            "border": null,
            "bottom": null,
            "display": null,
            "flex": null,
            "flex_flow": null,
            "grid_area": null,
            "grid_auto_columns": null,
            "grid_auto_flow": null,
            "grid_auto_rows": null,
            "grid_column": null,
            "grid_gap": null,
            "grid_row": null,
            "grid_template_areas": null,
            "grid_template_columns": null,
            "grid_template_rows": null,
            "height": null,
            "justify_content": null,
            "justify_items": null,
            "left": null,
            "margin": null,
            "max_height": null,
            "max_width": null,
            "min_height": null,
            "min_width": null,
            "object_fit": null,
            "object_position": null,
            "order": null,
            "overflow": null,
            "overflow_x": null,
            "overflow_y": null,
            "padding": null,
            "right": null,
            "top": null,
            "visibility": null,
            "width": null
          }
        },
        "28f971414ea845cd8cdab3a585d8b91e": {
          "model_module": "@jupyter-widgets/controls",
          "model_name": "SliderStyleModel",
          "model_module_version": "1.5.0",
          "state": {
            "_model_module": "@jupyter-widgets/controls",
            "_model_module_version": "1.5.0",
            "_model_name": "SliderStyleModel",
            "_view_count": null,
            "_view_module": "@jupyter-widgets/base",
            "_view_module_version": "1.2.0",
            "_view_name": "StyleView",
            "description_width": "",
            "handle_color": null
          }
        },
        "c71840c5742843598244ee6d6542470c": {
          "model_module": "@jupyter-widgets/base",
          "model_name": "LayoutModel",
          "model_module_version": "1.2.0",
          "state": {
            "_model_module": "@jupyter-widgets/base",
            "_model_module_version": "1.2.0",
            "_model_name": "LayoutModel",
            "_view_count": null,
            "_view_module": "@jupyter-widgets/base",
            "_view_module_version": "1.2.0",
            "_view_name": "LayoutView",
            "align_content": null,
            "align_items": null,
            "align_self": null,
            "border": null,
            "bottom": null,
            "display": null,
            "flex": null,
            "flex_flow": null,
            "grid_area": null,
            "grid_auto_columns": null,
            "grid_auto_flow": null,
            "grid_auto_rows": null,
            "grid_column": null,
            "grid_gap": null,
            "grid_row": null,
            "grid_template_areas": null,
            "grid_template_columns": null,
            "grid_template_rows": null,
            "height": null,
            "justify_content": null,
            "justify_items": null,
            "left": null,
            "margin": null,
            "max_height": null,
            "max_width": null,
            "min_height": null,
            "min_width": null,
            "object_fit": null,
            "object_position": null,
            "order": null,
            "overflow": null,
            "overflow_x": null,
            "overflow_y": null,
            "padding": null,
            "right": null,
            "top": null,
            "visibility": null,
            "width": null
          }
        },
        "2ae9c411c98d4ee8a06aa636530c0cb3": {
          "model_module": "@jupyter-widgets/controls",
          "model_name": "VBoxModel",
          "model_module_version": "1.5.0",
          "state": {
            "_dom_classes": [
              "widget-interact"
            ],
            "_model_module": "@jupyter-widgets/controls",
            "_model_module_version": "1.5.0",
            "_model_name": "VBoxModel",
            "_view_count": null,
            "_view_module": "@jupyter-widgets/controls",
            "_view_module_version": "1.5.0",
            "_view_name": "VBoxView",
            "box_style": "",
            "children": [
              "IPY_MODEL_e47ac32b5ca24e7287557690761c707d",
              "IPY_MODEL_0b4d389e3453493f9bfe6b64be95b013"
            ],
            "layout": "IPY_MODEL_34f921d67ec541339581661f725ea5ef"
          }
        },
        "e47ac32b5ca24e7287557690761c707d": {
          "model_module": "@jupyter-widgets/controls",
          "model_name": "FloatSliderModel",
          "model_module_version": "1.5.0",
          "state": {
            "_dom_classes": [],
            "_model_module": "@jupyter-widgets/controls",
            "_model_module_version": "1.5.0",
            "_model_name": "FloatSliderModel",
            "_view_count": null,
            "_view_module": "@jupyter-widgets/controls",
            "_view_module_version": "1.5.0",
            "_view_name": "FloatSliderView",
            "continuous_update": true,
            "description": "a",
            "description_tooltip": null,
            "disabled": false,
            "layout": "IPY_MODEL_4ff81b6588014ad3a243ca179a5774d1",
            "max": 0.9,
            "min": 0.1,
            "orientation": "horizontal",
            "readout": true,
            "readout_format": ".2f",
            "step": 0.1,
            "style": "IPY_MODEL_a436ccedc5af4c099609c392a2845681",
            "value": 0.2
          }
        },
        "0b4d389e3453493f9bfe6b64be95b013": {
          "model_module": "@jupyter-widgets/output",
          "model_name": "OutputModel",
          "model_module_version": "1.0.0",
          "state": {
            "_dom_classes": [],
            "_model_module": "@jupyter-widgets/output",
            "_model_module_version": "1.0.0",
            "_model_name": "OutputModel",
            "_view_count": null,
            "_view_module": "@jupyter-widgets/output",
            "_view_module_version": "1.0.0",
            "_view_name": "OutputView",
            "layout": "IPY_MODEL_c9a9bad1f5574e6194538c15e320737c",
            "msg_id": "",
            "outputs": [
              {
                "output_type": "display_data",
                "data": {
                  "text/plain": "<Figure size 432x288 with 1 Axes>",
                  "image/png": "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\n"
                },
                "metadata": {
                  "needs_background": "light"
                }
              },
              {
                "output_type": "display_data",
                "data": {
                  "text/plain": "<Figure size 432x288 with 1 Axes>",
                  "image/png": "iVBORw0KGgoAAAANSUhEUgAAAXQAAAD4CAYAAAD8Zh1EAAAABHNCSVQICAgIfAhkiAAAAAlwSFlzAAALEgAACxIB0t1+/AAAADh0RVh0U29mdHdhcmUAbWF0cGxvdGxpYiB2ZXJzaW9uMy4yLjIsIGh0dHA6Ly9tYXRwbG90bGliLm9yZy+WH4yJAAAeTUlEQVR4nO3deXzU9b3v8ddnZpJMVkI2ICRAZEcE1IhbFSjaIrXac7QqrY/qdavtbU9be06vvb3tow97+ujpo7ftqR672NZj9bbuPaeouIvFBZQgsgvEsIU1BAgkIctkvvePGTEikIFM8sv85v18MI/5Ld+Z3+fHJO/55fvbzDmHiIikvoDXBYiISHIo0EVEfEKBLiLiEwp0ERGfUKCLiPhEyKsFl5SUuFGjRnm1eBGRlLRs2bK9zrnSY83zLNBHjRpFTU2NV4sXEUlJZrblePPU5SIi4hMKdBERn1Cgi4j4hAJdRMQnFOgiIj6hQBcR8QkFuoiITyjQRUR8QoEuIuITCnQREZ9QoIuI+IQCXUTEJxToIiI+oUAXEfEJBbqIiE/0GOhmdr+Z7TGz1ceZb2Z2t5nVmtlKMzsr+WWKiEhPEtlCfwCYc4L5lwFj44/bgN/0viwRETlZPQa6c24RsO8ETa4EHnQxS4BCMxuWrAKP9vcNDXz3ryv5r+X1dHZF+2oxIiIpJxl96MOBbd3G6+PTPsbMbjOzGjOraWhoOKWFbdvXynOrd/GtR1dwze8Ws7e5/ZTeR0TEb/p1p6hz7j7nXLVzrrq09Jj3OO3R9eeN5J3vX8qvrpvGup0HuemBpRzu6EpypSIiqScZgb4dqOw2XhGf1mfMjCunDeeeeWexsr6Jnz73Xl8uTkQkJSQj0OcDX4of7XIe0OSc25mE9+3RpZOGcOMFo3jgzc0s37q/PxYpIjJgJXLY4sPAYmC8mdWb2c1mdruZ3R5vsgCoA2qB3wNf7bNqj+FfPj2ekrxMfvLsezjn+nPRIiIDSqinBs65eT3Md8D/TFpFJyk3K8Q3Zo/l+39bw6KNe5kx7tT65kVEUp0vzhS99pwRDCnI4veL6rwuRUTEM74I9MxQgBsuGMXrtXtZu+Og1+WIiHjCF4EO8MXpI8nJDPLAm5u8LkVExBO+CfRBORl8dko5T6/cSUt7xOtyRET6nW8CHeCacypo7ejimVX9ctSkiMiA4qtAP2vEYE4rzeWxpdt6biwi4jO+CnQz45rqSmq27GdLY4vX5YiI9CtfBTrA5VNiF3p8eqW6XUQkvfgu0CsG53DmiEKeUaCLSJrxXaADXD6lnLU7D1LX0Ox1KSIi/caXgT73jKEA2koXkbTiy0AfNiib6pGDdfiiiKQVXwY6wJzJQ3lv1yG2NrZ6XYqISL/wbaBfOmkIAC+t2+1xJSIi/cO3gT6yOJexZXkKdBFJG74NdIBLJg3hrU37aGrt9LoUEZE+5+9AnziErqjj1Q17vC5FRKTP+TrQp1UWUpKXyYtr1e0iIv7n60APBozZE4bw9/UNdESiXpcjItKnfB3oEOtHP9Qe4e1N+7wuRUSkT/k+0C8cU0xmMMDC9epHFxF/832g52SGOPe0IgW6iPie7wMdYNb4MuoaWnTWqIj4WloE+szxpQA6fFFEfC0tAr2qJJeRxTksfE+BLiL+lRaBbmbMGl/G4rpG2jq7vC5HRKRPpEWgA8wYX0pbZ5QldY1elyIi0ifSJtDPP62YrFCAV9c3eF2KiEifSJtAD2cEuWB0Ma/q8EUR8am0CXSAmePL2NzYyqa9LV6XIiKSdGkV6LPGlwFoK11EfCmhQDezOWa23sxqzezOY8wfYWYLzWy5ma00s7nJL7X3RhTncFppLgvVjy4iPtRjoJtZELgXuAyYBMwzs0lHNfs/wGPOuTOB64BfJ7vQZJk1vowldY0c7tDhiyLiL4lsoU8Hap1zdc65DuAR4Mqj2jigID48CNiRvBKTa+b4UjoiURbX7fW6FBGRpEok0IcD27qN18endfdD4HozqwcWAF8/1huZ2W1mVmNmNQ0N3nR7TK8qIjsjyML31O0iIv6SrJ2i84AHnHMVwFzgITP72Hs75+5zzlU756pLS0uTtOiTkxUKcuGYEhau34NzzpMaRET6QiKBvh2o7DZeEZ/W3c3AYwDOucVAGChJRoF9Yeb4Uur3H+b9Bh2+KCL+kUigLwXGmlmVmWUS2+k5/6g2W4HZAGY2kVigD9g+jVkTYocv6mJdIuInPQa6cy4CfA14HlhH7GiWNWZ2l5ldEW/2beBWM1sBPAzc6AZwf8bwwmwmDM3nFQW6iPhIKJFGzrkFxHZ2dp/2g27Da4ELk1ta3/rkhDLuW1RH0+FOBmVneF2OiEivpdWZot3NnlhGJOpYtGHA9gyJiJyUtA30aZWDKcrNVLeLiPhG2gZ6MGDMHF/KwvV76IoO2O5+EZGEpW2gA8yeMIQDrZ0s37rf61JERHotrQP9onElhALGy+p2EREfSOtALwhnML2qiFfWKdBFJPWldaBD7PDF9bsPsW1fq9eliIj0StoH+iUThwCwUDe9EJEUl/aBPqokl9NKc3lZ3S4ikuLSPtABZk8oY/H7jbS0R7wuRUTklCnQgU9OGEJHV5TXNuqmFyKSuhTowDmjBlOYk8ELa3Z5XYqIyClToAOhYIBLJw7hxXW76YhEvS5HROSUKNDj5kweyqG2CIvrGr0uRUTklCjQ4y4cU0JuZpDnVqvbRURSkwI9LpwRZNaEMl5cu0sX6xKRlKRA7+ayycPY29zBsi26WJeIpB4Fejczx5eSGQrw7OqdXpciInLSFOjd5GaFuHhsKc+v3sUAviWqiMgxKdCPMmfyUHY0tbFqe5PXpYiInBQF+lEumVhGKGA8s1LdLiKSWhToRynMyeTicaU8tWIHUR3tIiIpRIF+DFdMLWdHUxvLdGs6EUkhCvRjuHTSEMIZAea/u8PrUkREEqZAP4bcrBCzJw7hmVU76ezStV1EJDUo0I/jiqnl7Gvp4I1aXVJXRFKDAv04Zo4vJT8cYv4KdbuISGpQoB9HVijIZZOH8sKa3bR1dnldjohIjxToJ3DF1OE0t0d4ad1ur0sREemRAv0Ezh9dzLBBYR6vqfe6FBGRHiUU6GY2x8zWm1mtmd15nDbXmNlaM1tjZn9JbpneCAaMq8+u4LWNDexqavO6HBGRE+ox0M0sCNwLXAZMAuaZ2aSj2owFvgtc6Jw7HfhmH9TqiavPriDq4Ml3tJUuIgNbIlvo04Fa51ydc64DeAS48qg2twL3Ouf2Azjn9iS3TO+MLM5lelURj9ds0xUYRWRASyTQhwPbuo3Xx6d1Nw4YZ2ZvmNkSM5tzrDcys9vMrMbMahoaGk6tYg9cU13J5sZWanTjCxEZwJK1UzQEjAVmAvOA35tZ4dGNnHP3OeeqnXPVpaWlSVp035t7xlByM4M8tnRbz41FRDySSKBvByq7jVfEp3VXD8x3znU65zYBG4gFvC/kZIb4zJRhPLNqJ83tEa/LERE5pkQCfSkw1syqzCwTuA6Yf1Sb/ya2dY6ZlRDrgqlLYp2emzd9BK0dXfzX8qO/y0REBoYeA905FwG+BjwPrAMec86tMbO7zOyKeLPngUYzWwssBP7FOdfYV0V7YVplIZOHF/DQ4s3aOSoiA1IokUbOuQXAgqOm/aDbsAPuiD98ycz40nmj+M6TK3l70z7OPa3Y65JERD5CZ4qehM9OLWdQdgYPLtnidSkiIh+jQD8J2ZlBPn92Bc+v3sWegzpzVEQGFgX6SfrieSOJRB0Pv61DGEVkYFGgn6SqklxmjCvl/721hfaILqsrIgOHAv0U3HJRFQ2H2vmb7jkqIgOIAv0UfGJMCROHFfD7RXVEozqEUUQGBgX6KTAzbru4io17mnl1g2+uQyYiKU6Bfooun1LOsEFhfvd3X50QKyIpTIF+ijKCAW66sIq3Nu1jxbYDXpcjIqJA743rpleSHw5x78Jar0sREVGg90Z+OIObP1HFC2t3s2ZHk9fliEiaU6D30v+4sIr8cIi7X97odSkikuYU6L00KDu2lf78Gm2li4i3FOhJoK10ERkIFOhJ0H0rffV2baWLiDcU6Ely0yeqGJyTwU+eXacbYIiIJxToSVIQzuDrnxzLG7WNLNq41+tyRCQNKdCT6PrzRjKiKIefLFhHl67xIiL9TIGeRJmhAN+ZM573dh3ir+/Ue12OiKQZBXqSfeaMYUytGMTPX9hAa0fE63JEJI0o0JPMzPj+5ZPYdbCNe17RJQFEpP8o0PtA9agirjqrgj+8VkftnmavyxGRNKFA7yN3XjaBcEaQH85fo8MYRaRfKND7SGl+Fv/8qfG8XruXBat2eV2OiKQBBXof+uK5I5g0rIC7nl5D0+FOr8sREZ9ToPehUDDAv111BnubO/jXp9d6XY6I+JwCvY9NqSjkyxefxuPL6nl1ve4/KiJ9R4HeD/5p9ljGlOXx3b+u4mCbul5EpG8o0PtBOCPIz66ewu6Dbfz46XVelyMiPqVA7ydnjhjMl2eM5tGabSxYtdPrckTEhxTo/eiOS8cxtbKQO59cyfYDh70uR0R8JqFAN7M5ZrbezGrN7M4TtLvKzJyZVSevRP/ICAa4+7ppRB1885HlRLqiXpckIj7SY6CbWRC4F7gMmATMM7NJx2iXD3wDeCvZRfrJyOJcfvwPk1m6eT9361ovIpJEiWyhTwdqnXN1zrkO4BHgymO0+xHwU6AtifX50pXThvP5syu455WNvLxut9fliIhPJBLow4Ft3cbr49OOMLOzgErn3DMneiMzu83MasyspqGh4aSL9ZMffW4yp5cX8M1H3qWuQRfwEpHe6/VOUTMLAL8Avt1TW+fcfc65audcdWlpaW8XndLCGUF+e/3ZZIQC3PbQMprbde10EemdRAJ9O1DZbbwiPu0D+cBk4FUz2wycB8zXjtGeVQzO4T++cCab9rbwrUff1W3rRKRXEgn0pcBYM6sys0zgOmD+BzOdc03OuRLn3Cjn3ChgCXCFc66mTyr2mQtGl/D9z0zkxbW7+ddndL0XETl1oZ4aOOciZvY14HkgCNzvnFtjZncBNc65+Sd+B+nJjRdWsW3/Yf74+iaGF2Zzy0WneV2SiKSgHgMdwDm3AFhw1LQfHKftzN6XlX6+N3ciOw4c5scL1lFemM3cM4Z5XZKIpBidKTpABALGL6+dxlkjBvPNR97ltY3pfRSQiJw8BfoAEs4I8scbqhldlsetD9bwVl2j1yWJSApRoA8whTmZPHTzdCoG53DTA0tZvnW/1yWJSIpQoA9AJXlZ/PmWcynJz+KG+9/m3W0HvC5JRFKAAn2AGlIQ5s+3nEthTiZf/P0SFr+v7hcROTEF+gBWMTiHx28/n/LCbG78z7dZ+J5uYScix6dAH+CGFIR59MvnM25IPrc+WMPf3t3e84tEJC0p0FNAUW4mf771XM4aOZhvPPIu9y6sxTldJkBEPkqBniIKwhk8dPN0PjetnJ89v57vPLGSjohukCEiH0roTFEZGLJCQX557TRGFufyq5c3sv3AYe79wlkMzs30ujQRGQC0hZ5izIxvXTqOn39+KjWb93P5Pa+zqr7J67JEZABQoKeoq86u4PHbz8c5x1W/fZPHlm7r+UUi4msK9BQ2tbKQp//pIqaPKuI7T67kfz2xktYO3ShDJF0p0FNcUW4mf7ppOl+bNYbHlm3j8rtfZ2W9ziwVSUcKdB8IBox//vR4/nLLeRzu7OIff/0m9y6s1R2QRNKMAt1Hzh9dzHPfuJg5k4fys+fXc83vFlO755DXZYlIP1Gg+8ygnAzumXcmv7x2KrV7mpn7q9e5++WNOmZdJA0o0H3IzPiHMyt46Y4ZfHryUH7x4gYuv+c13tGleEV8TYHuY6X5Wdwz70z+eEM1h9oi/OOv3+Tbj61gz8E2r0sTkT6gQE8DsycO4cU7ZnD7jNE8tWIHs/7vq/zm1fdpj3R5XZqIJJECPU3kZYW487IJvPCtizl/dAk/fe49PvXLRTy1YgdRHQ0j4gsK9DQzqiSXP9xQzZ9umk44FOTrDy/nM/e8zivv7dYVHEVSnAI9Tc0YV8qCb1zEv187jZb2CDc9UMPVv13Mm+/vVbCLpCjz6pe3urra1dTUeLJs+ajOriiP1Wzj7pc3svtgO2eOKOSrM8cwe0IZgYB5XZ6IdGNmy5xz1cecp0CXD7R1dvF4zTZ+t6iO+v2HGTckj9tnjOazU8vJCOqPOZGBQIEuJyXSFeWplTv4zavvs2F3M8MGhbn+vJFcd04lxXlZXpcnktYU6HJKolHHK+/t4T/f3MQbtY1khgJ8dko5N14wijMqBnldnkhaOlGg645FclyBgHHJpCFcMmkIG3cf4sHFW3jynXqefKeeaZWFXHtOJZdPGUZ+OMPrUkUEbaHLSTrY1smTy+p5+O2tbNjdTDgjwNzJw7i6uoLzqoq1E1Wkj6nLRZLOOcfK+iYeq9nG/BU7ONQWobIomyunDuezU8sZPzTf6xJFfKnXgW5mc4BfAUHgD865fztq/h3ALUAEaABucs5tOdF7KtD9o62zi+fX7OKJZfW8UbuXqIOxZXlcPqWcy6cOY3RpntclivhGrwLdzILABuBSoB5YCsxzzq3t1mYW8JZzrtXMvgLMdM5de6L3VaD7U8Ohdp5bvZOnVu5k6eZ9OAcThxUw5/ShzJ5YxunlBZipW0bkVPU20M8Hfuic+3R8/LsAzrmfHKf9mcB/OOcuPNH7KtD9b1dTGwtW7eSZVTt5Z+t+nIPyQWFmTxzC7IllnD+6mKxQ0OsyRVJKb49yGQ50v6V8PXDuCdrfDDx7nEJuA24DGDFiRAKLllQ2dFCYmz5RxU2fqGJvczuvvLeHl9bu5oll9Ty0ZAu5mUEuHFPCReNKuWhMCSOLc7T1LtILST1s0cyuB6qBGcea75y7D7gPYlvoyVy2DGwleVlcU13JNdWVtHV2sfj9Rl5ct5u/r2/ghbW7AagYnM1FY0v4xJhSLhhdzODcTI+rFkktiQT6dqCy23hFfNpHmNklwPeAGc659uSUJ34Uzggya0IZsyaU4Zxjc2Mrr29s4LWNe3l6xU4efnsbZjBpWAHnjCpielUR54wqojRfZ6mKnEgifeghYjtFZxML8qXAF5xza7q1ORN4ApjjnNuYyILVhy7HEumKsqK+idc37mVJXSPLt+2nrTN2P9SqklyqRw7mnKoipo8qUheNpKVkHLY4F/h3Yoct3u+c+7GZ3QXUOOfmm9lLwBnAzvhLtjrnrjjReyrQJRGdXVFWb29i6eZ9vL1pPzVb9nGgtROAwpwMplQUMq1iEFMqCplaWaitePE9nVgkvhGNOmobmqnZvJ8V2w6wov4AG3Yf4oObLpUPCjO1spApFYWcXl7AxGEFCnnxFV3LRXwjEDDGDcln3JB8vnBu7Eip1o4Ia3YcjAd8Eyu2HeDZ1buOvKYkL5OJwwrij3wmDitgdGmeLgksvqNAl5SXkxninFGxHacf2N/SwbpdB1m38xDrdh5k3c6DPPDGZjq6Yv3xmcEAo8vyGFOWx5jS2PPoslyqSnJ1bLykLAW6+NLg3EwuGF3CBaNLjkzr7IpS19ASC/hdB1m/6xDLt+7nqRU7jrQJGIwoymH0kZDPo6okl5FFOZTmZ2knrAxoCnRJGxnBAOOH5jN+aD6fY/iR6Yc7uqjb20ztnmbe39PM+w0t1O5p5rWNe49s0QNkZwQZUZTDiOIcRhblMLI4h5HFuYwszqG8MFtdOOI5BbqkvezMIKeXD+L08o/etCPSFWXb/sNsbmxha2MrWxpb2bqvhc17W1i0oYH2yIdhHwwY5YVhygdlM7wwm/IjjzDDC7MZVphNXpZ+3aRv6SdM5DhCwQBVJbF+9aNFo449h9rZ0tjCln2tbG1sZeu+VnY2HeatTfvYdbCNruhHjyArCIcoL8yOB3yYoQVhyvLDlBZkUZafxZCCMEU5mbqmvJwyBbrIKQgEjKGDwgwdFObc04o/Nj/SFWXPoXZ2Nh1m+4E2dhw4fOSx/UAbNVv203S482OvCwWMkrwshhRkUZofpqxb2JfkZVGUm0FRbhZFuZkUhEPq05ePUKCL9IFQMHCk2+Xskcdu09bZRcOhdvYcamPPwXb2xId3x4fr97eyfOt+Gls6jvn6jKAxOCeTotxMivMyKcrNojg3MzYtL5Pi3Ni8QdkZRx45mUF9CfiYAl3EI+GMIJVFOVQW5ZywXUckyt7mdhqbO2hsaWdfSwf7WjpobOlgX3P8uaWdVfsP0NjSwaG2yHHfKyNoFIRj4V7QLeiPfhRkZ1CQHSI/K4PcrCB5WSHywiGyM/SFMJAp0EUGuMzQh1v7ieiIRDnQ+kHQd9B0uPOYj4OHO9nf2sHmxpYj49EeThwPGORmhcjLCh15jg0HycvKIC8rGJseDpGbGfsCCGcGyc6IPzIDhI8Mx57DGUGyQgF9USSBAl3EZzJDAcoKwpQVhE/qddGoo7kjQlNrLPAPtUVoaY/QHH90H25ui9DSEaG5vYvmtk4aDrV/pF2kp2+Go5hxJPTD3cI+KxQg84NH8MPhrPh4RrdpH7T54DVH5sWfQ4EAwYARClrsOfDBc4BgAIKBQLdp3eYFjaB9OH0g77RWoIsIENvRWxDOoCCc8ZHrZZ8s5xztkSgt7RHaIlEOd3TR1tnF4c4uDnfEntu6DR/u7KKt2/DhjuhH2rdHojS3R+iIROmIRGmPROnoih4Z7+yKnvQXSG+YgQFmRsDAiE2wI/Pi080wODIvELAjr/vfcydy9dkVSa9NgS4iSWVmhONb2v2lK+ro7IqHfTzwO7sFf3skStQ5Il2OrqgjEo3Gn1235yhdUeiKRj+c3vXx+ZFoFOfA4XAOovHh+D+cc7Fp3drQfTqOET3sNzlVCnQRSXnBgBEM9O+XyECkc5VFRHxCgS4i4hMKdBERn1Cgi4j4hAJdRMQnFOgiIj6hQBcR8QkFuoiITyjQRUR8QoEuIuITCnQREZ9QoIuI+IQCXUTEJxToIiI+oUAXEfEJBbqIiE8o0EVEfCKhQDezOWa23sxqzezOY8zPMrNH4/PfMrNRyS5UREROrMdAN7MgcC9wGTAJmGdmk45qdjOw3zk3Bvgl8NNkFyoiIieWyBb6dKDWOVfnnOsAHgGuPKrNlcCf4sNPALPNzJJXpoiI9CSRm0QPB7Z1G68Hzj1eG+dcxMyagGJgb/dGZnYbcFt8tNnM1p9K0UDJ0e+dBrTO6UHrnB56s84jjzcjkUBPGufcfcB9vX0fM6txzlUnoaSUoXVOD1rn9NBX65xIl8t2oLLbeEV82jHbmFkIGAQ0JqNAERFJTCKBvhQYa2ZVZpYJXAfMP6rNfOCG+PDVwCvOOZe8MkVEpCc9drnE+8S/BjwPBIH7nXNrzOwuoMY5Nx/4I/CQmdUC+4iFfl/qdbdNCtI6pwetc3rok3U2bUiLiPiDzhQVEfEJBbqIiE8M6EBPx0sOJLDOd5jZWjNbaWYvm9lxj0lNFT2tc7d2V5mZM7OUP8QtkXU2s2vin/UaM/tLf9eYbAn8bI8ws4Vmtjz+8z3XizqTxczuN7M9Zrb6OPPNzO6O/3+sNLOzer1Q59yAfBDbAfs+cBqQCawAJh3V5qvAb+PD1wGPel13P6zzLCAnPvyVdFjneLt8YBGwBKj2uu5++JzHAsuBwfHxMq/r7od1vg/4Snx4ErDZ67p7uc4XA2cBq48zfy7wLGDAecBbvV3mQN5CT8dLDvS4zs65hc651vjoEmLnBaSyRD5ngB8Ru0ZQW38W10cSWedbgXudc/sBnHN7+rnGZEtknR1QEB8eBOzox/qSzjm3iNhRf8dzJfCgi1kCFJrZsN4scyAH+rEuOTD8eG2ccxHgg0sOpKpE1rm7m4l9w6eyHtc5/qdopXPumf4srA8l8jmPA8aZ2RtmtsTM5vRbdX0jkXX+IXC9mdUDC4Cv909pnjnZ3/ce9eup/5I8ZnY9UA3M8LqWvmRmAeAXwI0el9LfQsS6XWYS+ytskZmd4Zw74GlVfWse8IBz7udmdj6xc1smO+eiXheWKgbyFno6XnIgkXXGzC4Bvgdc4Zxr76fa+kpP65wPTAZeNbPNxPoa56f4jtFEPud6YL5zrtM5twnYQCzgU1Ui63wz8BiAc24xECZ2ESu/Suj3/WQM5EBPx0sO9LjOZnYm8DtiYZ7q/arQwzo755qccyXOuVHOuVHE9htc4Zyr8abcpEjkZ/u/iW2dY2YlxLpg6vqzyCRLZJ23ArMBzGwisUBv6Ncq+9d84Evxo13OA5qcczt79Y5e7wnuYS/xXGJbJu8D34tPu4vYLzTEPvDHgVrgbeA0r2vuh3V+CdgNvBt/zPe65r5e56PavkqKH+WS4OdsxLqa1gKrgOu8rrkf1nkS8AaxI2DeBT7ldc29XN+HgZ1AJ7G/uG4Gbgdu7/YZ3xv//1iVjJ9rnfovIuITA7nLRUREToICXUTEJxToIiI+oUAXEfEJBbqIiE8o0EVEfEKBLiLiE/8foqeea2+si5oAAAAASUVORK5CYII=\n"
                },
                "metadata": {
                  "needs_background": "light"
                }
              }
            ]
          }
        },
        "34f921d67ec541339581661f725ea5ef": {
          "model_module": "@jupyter-widgets/base",
          "model_name": "LayoutModel",
          "model_module_version": "1.2.0",
          "state": {
            "_model_module": "@jupyter-widgets/base",
            "_model_module_version": "1.2.0",
            "_model_name": "LayoutModel",
            "_view_count": null,
            "_view_module": "@jupyter-widgets/base",
            "_view_module_version": "1.2.0",
            "_view_name": "LayoutView",
            "align_content": null,
            "align_items": null,
            "align_self": null,
            "border": null,
            "bottom": null,
            "display": null,
            "flex": null,
            "flex_flow": null,
            "grid_area": null,
            "grid_auto_columns": null,
            "grid_auto_flow": null,
            "grid_auto_rows": null,
            "grid_column": null,
            "grid_gap": null,
            "grid_row": null,
            "grid_template_areas": null,
            "grid_template_columns": null,
            "grid_template_rows": null,
            "height": null,
            "justify_content": null,
            "justify_items": null,
            "left": null,
            "margin": null,
            "max_height": null,
            "max_width": null,
            "min_height": null,
            "min_width": null,
            "object_fit": null,
            "object_position": null,
            "order": null,
            "overflow": null,
            "overflow_x": null,
            "overflow_y": null,
            "padding": null,
            "right": null,
            "top": null,
            "visibility": null,
            "width": null
          }
        },
        "4ff81b6588014ad3a243ca179a5774d1": {
          "model_module": "@jupyter-widgets/base",
          "model_name": "LayoutModel",
          "model_module_version": "1.2.0",
          "state": {
            "_model_module": "@jupyter-widgets/base",
            "_model_module_version": "1.2.0",
            "_model_name": "LayoutModel",
            "_view_count": null,
            "_view_module": "@jupyter-widgets/base",
            "_view_module_version": "1.2.0",
            "_view_name": "LayoutView",
            "align_content": null,
            "align_items": null,
            "align_self": null,
            "border": null,
            "bottom": null,
            "display": null,
            "flex": null,
            "flex_flow": null,
            "grid_area": null,
            "grid_auto_columns": null,
            "grid_auto_flow": null,
            "grid_auto_rows": null,
            "grid_column": null,
            "grid_gap": null,
            "grid_row": null,
            "grid_template_areas": null,
            "grid_template_columns": null,
            "grid_template_rows": null,
            "height": null,
            "justify_content": null,
            "justify_items": null,
            "left": null,
            "margin": null,
            "max_height": null,
            "max_width": null,
            "min_height": null,
            "min_width": null,
            "object_fit": null,
            "object_position": null,
            "order": null,
            "overflow": null,
            "overflow_x": null,
            "overflow_y": null,
            "padding": null,
            "right": null,
            "top": null,
            "visibility": null,
            "width": null
          }
        },
        "a436ccedc5af4c099609c392a2845681": {
          "model_module": "@jupyter-widgets/controls",
          "model_name": "SliderStyleModel",
          "model_module_version": "1.5.0",
          "state": {
            "_model_module": "@jupyter-widgets/controls",
            "_model_module_version": "1.5.0",
            "_model_name": "SliderStyleModel",
            "_view_count": null,
            "_view_module": "@jupyter-widgets/base",
            "_view_module_version": "1.2.0",
            "_view_name": "StyleView",
            "description_width": "",
            "handle_color": null
          }
        },
        "c9a9bad1f5574e6194538c15e320737c": {
          "model_module": "@jupyter-widgets/base",
          "model_name": "LayoutModel",
          "model_module_version": "1.2.0",
          "state": {
            "_model_module": "@jupyter-widgets/base",
            "_model_module_version": "1.2.0",
            "_model_name": "LayoutModel",
            "_view_count": null,
            "_view_module": "@jupyter-widgets/base",
            "_view_module_version": "1.2.0",
            "_view_name": "LayoutView",
            "align_content": null,
            "align_items": null,
            "align_self": null,
            "border": null,
            "bottom": null,
            "display": null,
            "flex": null,
            "flex_flow": null,
            "grid_area": null,
            "grid_auto_columns": null,
            "grid_auto_flow": null,
            "grid_auto_rows": null,
            "grid_column": null,
            "grid_gap": null,
            "grid_row": null,
            "grid_template_areas": null,
            "grid_template_columns": null,
            "grid_template_rows": null,
            "height": null,
            "justify_content": null,
            "justify_items": null,
            "left": null,
            "margin": null,
            "max_height": null,
            "max_width": null,
            "min_height": null,
            "min_width": null,
            "object_fit": null,
            "object_position": null,
            "order": null,
            "overflow": null,
            "overflow_x": null,
            "overflow_y": null,
            "padding": null,
            "right": null,
            "top": null,
            "visibility": null,
            "width": null
          }
        },
        "781e8f4f4f894c8487a8353a61148d22": {
          "model_module": "@jupyter-widgets/controls",
          "model_name": "VBoxModel",
          "model_module_version": "1.5.0",
          "state": {
            "_dom_classes": [
              "widget-interact"
            ],
            "_model_module": "@jupyter-widgets/controls",
            "_model_module_version": "1.5.0",
            "_model_name": "VBoxModel",
            "_view_count": null,
            "_view_module": "@jupyter-widgets/controls",
            "_view_module_version": "1.5.0",
            "_view_name": "VBoxView",
            "box_style": "",
            "children": [
              "IPY_MODEL_f05f1bc15b4849fe90b8375c5fb6bfdb",
              "IPY_MODEL_aae0b914e2a94ca2aa9752c9074915e8"
            ],
            "layout": "IPY_MODEL_ce4a3ae1e6fb4349a945feb31095971e"
          }
        },
        "f05f1bc15b4849fe90b8375c5fb6bfdb": {
          "model_module": "@jupyter-widgets/controls",
          "model_name": "FloatSliderModel",
          "model_module_version": "1.5.0",
          "state": {
            "_dom_classes": [],
            "_model_module": "@jupyter-widgets/controls",
            "_model_module_version": "1.5.0",
            "_model_name": "FloatSliderModel",
            "_view_count": null,
            "_view_module": "@jupyter-widgets/controls",
            "_view_module_version": "1.5.0",
            "_view_name": "FloatSliderView",
            "continuous_update": true,
            "description": "f",
            "description_tooltip": null,
            "disabled": false,
            "layout": "IPY_MODEL_5b2cc463c92c48c1b1130a1e8e3edc89",
            "max": 1,
            "min": 0,
            "orientation": "horizontal",
            "readout": true,
            "readout_format": ".2f",
            "step": 0.02,
            "style": "IPY_MODEL_a5d97b5a68c84a26906ec26e736859b5",
            "value": 0.5
          }
        },
        "aae0b914e2a94ca2aa9752c9074915e8": {
          "model_module": "@jupyter-widgets/output",
          "model_name": "OutputModel",
          "model_module_version": "1.0.0",
          "state": {
            "_dom_classes": [],
            "_model_module": "@jupyter-widgets/output",
            "_model_module_version": "1.0.0",
            "_model_name": "OutputModel",
            "_view_count": null,
            "_view_module": "@jupyter-widgets/output",
            "_view_module_version": "1.0.0",
            "_view_name": "OutputView",
            "layout": "IPY_MODEL_dc5e3ee5bcb64899a80a0e9e96ea1f82",
            "msg_id": "",
            "outputs": [
              {
                "output_type": "display_data",
                "data": {
                  "text/plain": "<Figure size 432x288 with 1 Axes>",
                  "image/png": "iVBORw0KGgoAAAANSUhEUgAAAYIAAAD4CAYAAADhNOGaAAAABHNCSVQICAgIfAhkiAAAAAlwSFlzAAALEgAACxIB0t1+/AAAADh0RVh0U29mdHdhcmUAbWF0cGxvdGxpYiB2ZXJzaW9uMy4yLjIsIGh0dHA6Ly9tYXRwbG90bGliLm9yZy+WH4yJAAAgAElEQVR4nOy9e7glR3Uf+qvufeal50gaCSHBSAjxtB1sxtiJHTvGvHy/+xlu4pvgxAnO54TY14/E+WyPsG/AAZNgOzaJr7FjjDFgMGAwGDEWCCEJMAKBRu+3Rg+QZqQZzfs9Z87urvtHd+2uWrVWPXb3njny2fV95zu9a/furrVq1Xr8alWV0lpjXuZlXuZlXlZuKU53A+ZlXuZlXubl9Ja5IZiXeZmXeVnhZW4I5mVe5mVeVniZG4J5mZd5mZcVXuaGYF7mZV7mZYWX0eluwDTlggsu0Jdddtnpbsa8zMu8zMszqtx66617tNYbaP0z0hBcdtll2Lp16+luxrzMy7zMyzOqKKW+zdXPoaF5mZd5mZcVXuaGYF7mZV7mZYWXuSGYl3mZl3lZ4WVuCOZlXuZlXlZ4mRuCeZmXeZmXFV4GMQRKqfcrpZ5WSt0jfK+UUn+glHpYKXWXUup7rO/epJTa1v69aYj2zMu8zMu8zEt6GSoi+ACA1wW+/zEAV7Z/bwbwxwCglDoPwNsAfB+AVwB4m1Jq/UBtmpd5mZd5mZeEMogh0Fp/BcC+wC2vB/Ah3ZSbAZyrlLoYwGsBXKe13qe13g/gOoQNSq/yqdu248M3+2m0j+4+gq89sserf/LAcdz4wNNe/b6jJ/G5u5/y6o+dHOPTt28H3dp7XNX4q61PoK7deq01PrH1CSyOK+9ZV9/5JA4eX/Lqr7tvF54+dMKr/8pDu/H43mNe/Tcf24eHdh326u/efhB3bT/g1W/bdRjffMzvyif2HcNXHtrt1T99+AS+cO9Or/7QiSVcfeeTXv3iuMIntj7h8aiuNf5q6xNYqmrvN5++fTuOnRx79Z+7+ynsPbLo1d/4wNPYceC4V/+1R/bg0d1HvPrbHt+Pe5886NXf/9Qh3Prt/V79Y3uO4msP8/JywwO7vPr9R0/iGkZejp+s8KnbZHmpGHn55K3bcWLJl5fPZsrL323j5eWWb/Hycs+Og7jzCV5evvHoXq/+iX3H8GVGXnYfXsS1jLwcPrGEz9yxw6ufRl7+5vYdOLroy8vn7xHk5UFeXr7+yF48wsjL7Y/vxz07JHnxx85je47iJkZenjp4HNff78vLgWMn8bd3+fLywM5D+P0vPMjS0LecqjmCSwA8YX3e3tZJ9V5RSr1ZKbVVKbV1925fwFLKZ+98Eh+/5Qmv/n9/+RH82ifv8uo/fPO38XMfudWr//TtO/BzH7kNR4iwXXffLvzyx+/EE/tcofrGY/vwa5+8C7eTgfTgrsP41U/ehS8/6NKz+/Aifumjt3vKY1zV+A9/sZWl4Zc/fgfef9NjXv3/+zd34w+u3+bV//fP3Y//ds39Xv0f3PAwfuPTd3v177/pMfynj9/h1X9i63b87Idv9QbkNXc9hV/66O14+rCrhP7uoT341U/ehfufcpXNndsP4Nc+eRduJkrliX3H8MsfvxNfuNcdMEcXx/i5j9yGT9/uK4+f/8vb8Bdf9w3+5r++C3/8pUe8+ndsuQ//49oHvfrf+8JD+K+fvder/5MvP4JfZeTlL7/xOH72w7d59X9zxw78Px+5DYdOuIr6uvt34T//1Z34NlHI3/xWKy+Pu0Zo29NH8CufuBNfIvKy98gifvGjt2PLXa7hrWuNn/3wrfjoNzl5uRPv++qjXv1/+Zt78L++6MvLuz73AN7JyMsf3vgwfp2Rlz+/6Vv4jx+73av/xK1P4Gc/fCtOjl15+dzdO/EfP3YHdhGj9dVtjbzc99Qhp/7uHQfxa5+8C197xJWX7fuP4T99/A7P2Bw7OcbPfvg2fOo2X15+8S9vx4e+9i2v/qpP3YU/ulGQly/48vLu6x7C26725eW9X3kUv/KJO736v/zG4/g5Rl4+c8eT+Pm/vA0Hj7ny8uDOw/iDGx7GAcbg9y3PmMlirfV7tdabtNabNmzwVkgnlbIoPC8LABbHtSeY4frGI1si3y0uNZ9PVhV7P31Wd3+ddP+41qi1f79p62IWDUL9UiU+X7q/1vD4atri0TyWaJbu53lhDE8WzUs1T5tUP65E3vHvle8HOHlpaUvlhSgv/P3jWqOqtSePsbZm0ZbLu6UaWgPjOq2fo3KUWL80buRTaitLs0hbvr4Q769qL9qZ8IK824yxUaG8Z/Utp8oQ7ADwHOvzpW2dVD+TMioUawiqWqNmTmqrWsXLhaUAUJF685nKjvlM39HdT58Pvl64f9LWTNoq5nC6Wmv2+XXN10s0mM815YVIs/Qc93f+8334RKJZpC2zXuapSwttK6VB6s+YfInPF+XFa6rcn8GxwPc/7WPzbomnXFslGib9LPR/Lu+yaNbymMqSo1p77bHbQn8i6Ytxe2P5DDYEVwP4N2320PcDOKi1fgrAtQBeo5Ra304Sv6atm0kpS+V5IkDTIWOhw+3/powj9fQdVfuZvkN+fp313hgNUn3F8GIsCHmo3v5vP9+mpavPo20c4R2tNx+5fs6mrZKV5ZjRrvn9HJMj+pxpn5/Oi6AcMZ5Dcz/zfIF3+TTryfO4+r5yVLfOnjx2eH2RIy/jWqMSeGe3rasP9/OoGF5tD7LpnFLqowD+CYALlFLb0WQCLQCA1vp/A7gGwP8B4GEAxwD82/a7fUqpdwC4pX3U27XWoUnnXkWKCKSOsoVzVHb1khKqqpiSI6F7FVOi9Pl8fVNXZyt27rzqsEFhBkWVOSArSfjDvKiI4o0NeFbJVfnGUub1FEpOUGYyzTzvPDmaQl7CtPU3oub5WmsopZx6tq1TK3ZBjkTDQe7XPK+bZ/D9PI3TJfHabltXL/R/Wz+LiGAQQ6C1/snI9xrAzwvfvR/A+4doR6yUhcrswOk6ajivJk35Rb0a1htpsFpaQl5NrZt3FZYgDhcFTekpJvLa3MvTJiv2XEVgngeUVr0gR7mKPVuJ8u/VWodpy/D8q7oWlFxTV2ugtPTWOOI4zEyOMp0u851E21ByFG4T4UXrDD2T5wiWRQlGBAFhToc9wkLYF/YQ3xvAPyWvJqwIZNhDwuqXC+wxFXxWZcIeEXnpD3s8w+CzAWGPmcuR4LwNBp+J9Tx8Fm4TX1+Wc0PQq5RFIXr+EhZo/zcl6tVkQwD9YI+4V5M+LyJ6NYPTnKjYRU9OGPADw2cx2IPWh9o0GHyWCHvIkeupgc+4d0wdTacajqHhMzayzJejWsuT/Lk0zyOCnkWMCCq+o04f7BHx8BI9CPOd6MllDvhQW3M99v6wR179BD4bAvZon0G/ivfzMoPPcuRl1rDHMw0+Ew1HejQdcwTEiGBuCPqVslBCR7WMpx5eric31IDPfO80k4JTwx6950ViA54fqPT5ccw3Az4L0Pz3EfaYGj7LlKNwmwSakyPLVo4yo+nTBZ9xbZpWjmaRNbSiDEFojgAYUDjFAZ/p1SS+t/Nq3OeHvJrpYY++8yLh5yRne4iKZlr4LL1ehD0imO9wUdBA8Nlygj2mhs9yeTpQ9pkYWYYch7R3xPTFDAKClWUImnUE6R01e9hjunRTUckR4ey8Go7meLaHWx9ua7JXM3WU1U+5huEzeV5kprDHYHI0HU9F+Ewyijmwx9DRdO91BNPxdCj4DPAdhOi7mWh6VCgnHXeosqIMQTQi6At7nCKvhg6WabyafNhjIE8uYhRTYY9cD29o+Ixr08xhj2UKn3G/Oe3w2YxStU1dCD5LjaZzDfW41jOZHwBWmCEwWUN+R4UXpwzmdfRUZrmwhySA5rss2GNgT6uvdxzFfEXI6PRle+TDZ7nPT5XfiBzNEvaY+eSv8PwYfCY4ddIYkeQISE8iiOkFzumaRcYQsMIMgWFiakdlwx4RIRzKO06FPSTP1Xwn4Z857z5d8FmucpWeX9e62QRtiGyPaeGzvpFlRC5mDZ/ZbY69IwR7cO8eHD7LjOJy4bPmt2n6Yhr4bB4RDFAME7O3N8j15AQhn5VwTpNTnw17xDy5WWV7CDTEFUG/MDz03WmHzxJhj1nAZ7OEPbh3xx2E5QWf8e/OlSNZX4zK2ajsFWkIZheinxqvRl5HkDYYux06Zwh7DDbgedpk5ZoHe0jvDX03bbbHaYPPemaf2fdSNg0Ge0i0nW74bAB5GRI+K2YwUQysMEMwmkQEy0WxT4ejpnrNMcEEkA17SEaod7ZH5oAfCvaITagDjDKI8fuUwx5hpTUUfNZ8lwh7ZPI7O5qecnuGWcNnbJuE8ZzvdNXzOYIhiokIpBXE4gRTtlfTTzhjCiV9Ujs86LjvYrCHDD/0U+wzhz0y513c7/IM8sxgj0xHYGj4LPTdsoPPEuV0WvisqjO2GMl2TqS2zmZVMbDCDIEUEZgDIKT61EMxcg2EMUgePCMe3mG+R9L9RrbpYLTpkWig6EBMqXjvNm0SVmtLNKfyWjJysQNupMM+aJsMfMbRED1cRbg/9UCZThEg6X5RTiuhftIe/vnSOGDfnekgiPWCvEzGprdGJiwvuZCnSJfAO5aGOszv5AhMvL/GaAYbzgErzBCU7dJs36OKwR79vIvYgE/35HhPsU9EkDxJljmwc2mTIabp3itDW/zzaZvsn2e/w5Ov0yxHvSNLWfkNNf8RjyxT50UGliMhDZm+22QTcW3KjkYCEd48IhigxOYIZG+UCmEMFwVbnzyB1T5A8l49g5WraKzfpxqPXCU0ub/io5FQyJ3z/KEUEL12BnziHIH5mL74bbo04VQ5knidkrZowx42PelwaCvDiYpaNlrt86Wx2XvFcV4f2L93IiWBXw1NMbgKQr1//7KeI1BKvU4p9aBS6mGl1FXM9+9WSt3R/j2klDpgfVdZ3109RHukMskaSvT8Y3ME6Z5cLL881ZObzquptTsg3Yiga+t0Xk14wjs7IkicaM0f8PGBbfNCMhDuO/IchL7ecZTXyRP5KUrOp4veY/aymuYdybTFxmYyrweSI8EoSnKU9o50OSpnsOEcMMAJZUqpEsB7ALwawHYAtyilrtZa32fu0Vr/snX/LwL4busRx7XWL+vbjpRi8LVnLOwRy5EOwB6V1ijgp8/Se7j6EA35Si4X3prOcPSFPZLgs8SFYKdPjiLZSkHYo0ZZlN7v+8NneYpd9vwHliOBdxKvaZuS4LPcpBNmPC/niOAVAB7WWj+qtT4J4GMAXh+4/ycBfHSA92YXbh2B49XkzhF4HZXpdUS9mn5eVorHMhZgot44ZyZeng2fTenJjWsCewiY7zTw2dSwh0Rb5orjXOUaiggkWXCVH887+76ZyVG2g5ApR5OJ9lA0HTcKwXdMgRQs5zmCSwA8YX3e3tZ5RSm1EcDlAG6wqtcopbYqpW5WSr1BeolS6s3tfVt37949VUO5OYKQVzN4uHrKYQ9ByaUM+J6KfTDYI2qk+8IecV4sO/gs8fnTyhG9/nsFn4nyFY6m2foEviTBZ8kQ8N+fdQRvBPBJrXVl1W3UWm8C8C8B/E+l1BXcD7XW79Vab9Jab9qwYcNUL+eyhmg4bJfBhHOwxVKZsIft1Qoei+jVDDQ/ccphD3GhEd/PKZhvPnyWqeSeobCHI0epsMekf2ZD29DwGf1OkqNTBZ8t54hgB4DnWJ8vbeu48kYQWEhrvaP9/yiAL8GdPxi0cBFByKuZOlzNTkPNm1wOCY4WFFWKJyfdE6JhMNgjYsxylWsq7CErv3g0ddrgs76wR/u51gT2EJX/LOCzvmNE4HXM6crMuKPf5UbTQ8Nny3kdwS0ArlRKXa6UWoVG2XvZP0qpFwFYD+DrVt16pdTq9voCAD8A4D7626FKN0fAd06ycEYnBTOzhjINRwgCsr8SFZig8ESvpu62GOifEZULDQiwx5QrUcPXKcaSH/D2708bfCbKV1/YI14vwmcZsAdL22mGzwA5OkoZX0PDZ8s2a0hrPVZK/QKAawGUAN6vtb5XKfV2AFu11sYovBHAx7S7LvvFAP5EKVWjMUrvsrONhi6TiECATJYN7BFTcoJXY94Ry/boNeCzJ9QTjeUpgs9om1J4kQKx2b9f9rAHoX+hNM9fBvBZtuEYjtda68npX5JX389Y8rTJjuapyxrqbQgAQGt9DYBrSN1byeffZH73NQDfOUQbUgqXNSR1lL3FQHooPp3XkTvgU2GPNJwz77eDwWfZimA62KNg4EDJk00zlj3gs0Te5UYK8XUEsrwkKXbnOg57nFL4rDcM291Xa8AgL0nRdCXxRXI6eNpy5Gg5zxE8Y0q3jiAu5Ckh3czDVcHzT4U9hsoaCuGc08NnabwYDvaI9202fGbd48JnfWk7NfCZfQ+tF68zo6nB4LO+EFNEjuy2helJoTnOu6TsMyaJ4O9L1tBpLdGsoYRBYf8+XTgjnlzmgJ8u20OYF0nxagJGMTvamXLtRO6Ap99Jij0F8+0LAeTDHqZ+OPhMXjuRZyBTaE7LqV9e8Bn9Tl5fc3rhs3lEMEApVXrWkBQpNL+fdbZHWMnVOnGRy4yVnAOf9RzwUUUwK9hDNITLAD4bGPbIoSfFcKZARqcNPkvMDhpq7PSCzzIchLkhGKDkZA0lRQTJQjtsKh1APYq4VyNHO4JXI0IAfeGzgWAPyXBkrp0YCvboBZ8tG9ijB3yWsELdgc8SF1eeKviMXidF05nO2BDw2dwQDFDMHIENK+eGw0CCAhe9kWG8Y/pdyoDPVeYpEYGkREM0ZEMDU8JnzXczgD0yvWP7u9MFn9HvljV81tfpSkgrtmGyfv3cQ46mgM9qvbz3GnrGFO7w+twQ0PZq6Ba70ra/3SEtbntiQh6cCyBt6q6t+wWBFw1hwra69rW9DW/6gTJ5xi926Arg0i/SIA7Umr2/Fvgr8U7ir3PATSptNV/fHXAD9v5Ux0GUI4FftfTbBF6PE+VFPKQp10BEDrihv5HalKvk08ZmnF/2Z247+1mtI1hRhmDEpI9me8qCcgUg7jveKb9+EUGal57nsaZ5Mimh8TC0iV4zGRV9wvJekU9mxGWTkw17DBRZhq77QR15vEiLCAaSo+Bamz40x+nPlSMKn5mPp3IdwYoyBGU0p3x6hWp/J3r4wv43qWFytpKrbBoSlHnF/1Z+vuzVTL2OIHnAC+1LmhcRBnzmvEgfObLf139CveN1CuzRz1jG55SS+Ju6xcjAchS8TpjnkMbLYJBsxNGczxEMUEZM+qjTObkrThO9Gin/PzbgtaZheaZi7zXgM6+FHOl0moXJwqRsj9woqI9iz1Mi0rX9rNSdVVOUnP1VimHLTZ/OlSPRiFj17g6dkrwMl1acosyHi6aHMSLm8zwiGKCwEYE9WERvKm4s7M+5GG4I9pBx/h4DMiGDSMQ8U3DUgFcjR0e88pN4l9KOpMhnoAEvyw7PX/tZHm0RB0E6YY++I6VNYj+LhiOPzqHgs9TjX2PwGSDTljtexLFZxZ0O99qni16bz+Uy3nTuGVMmcwQpsEcvrybPk0uGPSTh7OXJDZ9Z0gc+S4Y9ZuC9ilFWwrYCYmR5CuGz4PWM02oHg88oZDQlfFZrutZm+BTQJAckSU7THc15RDBAKZktJpJCt4SBEPJqsnOks5XcbGEPUWgzB0LzXe38p/clwx4JvFh28BnxSs3HoeCz8LuXAXyWeW0/yzeKZkI9LZrOb0cCfJa7mjhJjsKO5jxraIASzxrqM/jlScFc2KOXJ5cknJmwRyb90+zomgt7DKeEEqKABDrlSEF4b2hSUFR+YTmibeoDe4g8zYQ98o1l4hiJzLuF23EK5Ujk9XTw2TwiGKBEs4ZmMHFkf06GPbI9uaGEM+4R9YFY7M8zgz0y6ZwJfCbxImHy1v6uN+wxE/gszxlJiTKS4LPE7TaGUubLAj5j9NE8a2iAEs0a6gF7SJ1pf/aUnLPYxqpPUuy5Xk2eB5Kk5DJD4z47dPrXcV4k9fNA+eW5SicsLwLsISQ2DAZ79Ojb5QafAXLENlw0PRB8lpFxNo8IBigFs9d4brg6jVdz2mCPHgMh5czaoQa//bnvgTL91hFM7xScSvgs/L7TBJ8lwB6zgs9SoulcL72XYu/jXEaul3VEoJR6nVLqQaXUw0qpq5jvf1optVspdUf79++s796klNrW/r1piPYE2olRoRK94z6d1j0/ZYdO/3oWwpn3Lslj6QN7pMBntV4m2R6ZA74XfHaqYY8ER2Dm8NlA2WdAWjTdayFcdt8mXE8Jny3bE8qUUiWA9wB4NYDtAG5RSl3NHDn5ca31L5DfngfgbQA2AdAAbm1/u79vu9iyeBgbikPZwp+NBSbck/y+pAGZGa5mDvjcQZEE50SyPQqYVN/pFd5sYI/TD58BIeOcoPxy5agPfDaDyLL57PazOZ51KEirSuDdEFBP6jMnEUG5fLOGXgHgYa31o1rrkwA+BuD1ib99LYDrtNb7WuV/HYDXDdAmvvzVm/An5e+yHdVECr4g+PXd/dyg8+vt+32vplvboPl6oni5c5fHlVVP3s1nStVQqoHKUmhz6plBQWlL4R0XEXBttWmgii2PZpkX0nNYmiuehrFDm28sQ/fL8uLDHhwvZNqE+gTeSbAEZyxSx4g8dgQ5Eng9Dc2iHAVozpUjlrZKopnnnStfvBzNogxhCC4B8IT1eXtbR8s/U0rdpZT6pFLqOZm/hVLqzUqprUqprbt3756upWvOwVnqGCuEq0cF24GrRwWr/FaPCrajmnpf+FePChb2WD0qnOead7P1dVdP38HXC89vhXlUFCIvOM86RBun5EK8s99r4DOurTJtdn3N1ku8S+Upx4tKoKES5aXm7094PuDDHlxbHTmqcmnmeUd5URZKVODe2OkjRwm8S6VtJnJkj01RL/SQI5GnbdaQWr6GIKV8FsBlWuvvQuP1fzD3AVrr92qtN2mtN23YsGG6Vqw5G2fhKGvJVwkdtUro2FWC8IfqAXjZHqsE4VzFCFtV11098Wq4+8fO813aCqVQFLxXQ2nIprmK806qB3w4YRU74OsEmnneUV4sCAM+RjMHe6TSLMtL1wf25xAvqiouRxIvJN5RmkulmoiAiaZ9mjPlSOC19HwDn3HyIvVzkhzVaXI0Khk5SpAXznCE5IKTo+U8WbwDwHOsz5e2dZOitd6rtV5sP74PwMtTfztoWXMOzsIxNvWOdpS5Z9WoEO/n9hrnhNbU278316yB0JIQds+h+6hzz6klxVF3EQF9PkebJJwizQLvnOcwe9nHaKD74sfuT1GKJjoqC8XuFz8qC3bP+pBciPWCkuP2++9onnwl0yb0/1gyEFqQI+H5tW4igrJQibQhi2abp7UgF1XdwWQheXH7Oc67uubHZojXIyY6Mm1YKAtWjiht9tgZC7xg4bZlvNfQLQCuVEpdrpRaBeCNAK62b1BKXWx9/HEA97fX1wJ4jVJqvVJqPYDXtHWzKWvOwWosQS2dmFR1IV0phHSlELqVrOVv6v0JxdWj0vm9yZGe1BNPy9S77667eoJb0+eb33LPH9fWwGY8uTDNPG08NER4WnX19s6qFeERfQfHC4e2hHqRp1XHC8rrUaGwIMwR+DTXbH0l8SJBjuznmi0GYrT58EZEjgTecXNQ0jyHT9v0csTDsy7NVF7kfk6Rozpbjvixo1GoxhC48sXzwuWdPzEtycusIoLeWUNa67FS6hfQKPASwPu11vcqpd4OYKvW+moAv6SU+nEAYwD7APx0+9t9Sql3oDEmAPB2rfW+vm0Sy5pzAACj8ZFJlYjJWZivhHMeWRyzz5Ewwub3rlfT1bsZNTwWHMc56cATI4KyycvhBqQUrvq0xTHfA8d43pnnrrIUcN78h8ba1ZySy5sLaCKCwpucmxjLkp8IDWK7AnZ86MQSy4uQvEwch/aWKC5OMHaW5krm6ULJJSnUKEuFsgjh2Zxil+VoiVmzQecIuLEzKuHJS+qcz7pVkrEMzylQvcBFBBM5Kn054nghyYtdf3yp8p6zbNNHAUBrfQ2Aa0jdW63rtwB4i/Db9wN4/xDtiJbVjSFYvXRoUjXpqAWhoxaEjloocOA4I+QLPOa7esEVTvs59mdzbeppdsi6NYJXY55TuUK4UBZedpBRcop5b9Cr8WjraDh0vDOKEyMa4KnDi8qt95TZgjDgJzQL9XTAM8+p6pqPCKrIhPoCdRC6+qUxT3N1TJCvuoE9lFLOc+znSnJk2irJ0do1vnfs8ILweqEsBCXXRgSMkVsoA2NHqHeUXMXfT3khyYsXTbPyUmP1wgJDM8+7kBw1RtF3EPjIktcjNm2LS4yztFCgOspFBMs3ffSZU9qIYGF8eFI1GOxhhcMpsIcPAVCvhglXBQhIhgB4ZWZgDy4dtPOOU2iO16fAHsnwWR/YIwCfSbBHFD5jPblE2IPQbL6qEuGQWcFnEuwRhM9KPmXSgz16yJH9exuGsz+nw2cpY6fGqlLKuCswKkkU1AM+E8dO5fNuOaePPnNKawhWW9BQ59VIAz4U0nHYHvXk3HrPq8mEenJhj25gp8EeQa+Gwh52ymRmmqDDi5rnnQefOe/Oh88WmG3IO5p973U08Y4Z+KycAj4Lwh618z9Vjsz1UHKUC3tIhsO0lVtBG0o3leTIfm4yfJabSkvGMxdNy8ZyevhM4gUnR8s5a+iZU4whqOyIwHg1IeFM6ahEJVdRr8YVzs6rEWCPER+u8gO+Zge2FCm4Xk0ezikqgrrL9pCw3dwB79Ms8EKAPThlxsEewUlBOkdQpSg53ogGaa54x8GDPTIdBEmOsiICGz5LyKl35914eak1F01TY5knR6atucZyVHLQYCialiMCET6LjB3Ku3lEMERpDcGayo0IjJBzaXypGREevGGUX3LmQ/Pczqtxn2PuyYWSjOdP00HDXo0r5LXNCyYdNBn28GjmeZECn1U6Hz7jlFndDngJ9hC9Y8o7q9/6wB5dFNQfPqvrAOwhToQ2sMdQ8BmXbirBHt7YoXJU87zLhc9cGuSsobIogkaR0jY9fMaPHU5e5hHBEGXN2QCA1ZYhqCo5HAbMBBYDAcUmQpRTES4AACAASURBVCvN1nuh/oIQKUQnsNx3c4uiOq+G8+R42GNUqBYCYLwaCfZYEGAPMuGdygsPPotOqMfrHWXmef55sIc04E1b2QFP5Yj2s+l/gWaPd0a+NM9Tc52TRBCiLQiflQJ8JmUNeWMnLaHCM4qJcmSuYxPtfNSc7vkHs88k+MybUHfliEbTy3kdwTOnLKzDGCXWWtBQCs45HezBY74x2MMPh4kwS7CHAOlwXk1cyTEDvmhz6jNxTpsmjxfUWEZC/aFgD442qd6DPXrAZ7UOwR55vMiHzwTaaleOjONAc9tLQflFc+qFeZGQvExoFuEzyovW0RgYPuvm0dLkaFJv0xzLPhsVHq9tGsxPuohgnjXUvyiFY8WZWFsdnVRNvBoGLwdyYA83k2Fa2MOHAOLhrbwoKpA1xEQKEuzhDHghU0aCBmyaRF7kwmd1s8VAFuxRS7BHnankLPiM9IFp6zSwRyX2f6YceesIJMgwDHtwkWVf+CwGe9DFjxJ8JtE8DXxW1U10ZP8+SNskmva3GJGi6WkXbza/d/t5PkcwUDlWnIG1NT9HQDtKtV5NWraH5MmlejVtPfVqvBXHgpIr0yc8p4E9jJBLXg0LnxHPX+YFT3MyT3vBHiYi8DeRM5kyLHwmKDlp35145FcL9RHeTZl9lgt7lJmwh/GmWdiDRtOeJx+OplMn2icOiLd406UtlESQM0amyj6T4DNBX8znCAYqx4szsLa2IwLb8vN4Oav8EheIpeLiMZxzskOntMglpMBTYY9ahj1iOGetGdiD0OYtHJvQnLfoTnq+R5vTb3WQthzYYzLgK78+Ji+xfvZ5EZtfqdl6cy3NNZVlHuwxgc+qBF7H4LMFHvZInhdJ5IXEuxwHQYTP6JxSCnxGeFdwizcj8jKPCAYqx4szsU6KCJiBHQrpzO8BH96QoR7+fk9oBVhlVclnDUnZHsF1BBzsIUIDYfgMOHWwB11QxHmvHm0R+Iw1olPAZ142EaV5oswS4TM6iZwJn2XBHrUEe9QTIzcUfGaea7cteeykypEAGYkOApkLGhQ+YxyEGHxm88zcM48IBirHyzNxRk3mCCIdJU2QAhyeSb0RMuGZOUFKhX9hpKaAPThPjoE9sicFO/jMbutgsEcyrMJ5cgzsUTK0VcPBHjbEFE0iEOCNZPhMuJ/WDwN7ROAzKZoOwGcubacXPgtHBIHtNhgHZBpeV5a8ePrC0DZZRzCfLB6kHC/OwjrdGYKUjqq1BXskriD2I4V+A97UZ8EeRskle3LGqyGwh5Niyw/4EC882MMzltMpOfp8A5/lZntkwR51GD4zvDA/8R0EoZ8jC8dSeUefnw17FAzsUefDHhJeXibIy/ByxDtj5p6GZiaaLv1oOkmOUnhduWMnVS/MyA6sPEOwODoDZ1qGoJp4wf6gKAs1ORGIwh4LglezioSlE0iHhMNePQljV5FQ39TzB8poFIVCoXwhLAswA7KjjSq55gASH24pFG84mva4x216vKgFXog0u0aU8qIifUCfH6aNTqjX7CZiY4s2GgVJvDaKwDyXo4EqOY9moT6Vd1T5jRhFPTbyQuWoauolZebTzEOJhtes4VAdj2g07fdzohyJ8kKcqLKAUj58xvdnPWkrNRxGX7i0dfd7ctQ+n5Ojkmx7UnnyQrOG5hHBIOVEeRbW4gRQNVsCV1rCAjHxLJvPzXe1bid52g6ptCtsniUnh2jUmgqz+5yaPMcIQD0RBO5AmQ7eoodilAwOOaGN1HcHkNDDVXi83A6fXV7ApVnydgjNFDKoNV8/McZtv9WE110kZ9FWm372D46ZKEtyPwcl2TT7q7WLiZIzTmR3wI0vRw5tMTkiPKJyFIsIPNo4OdI87FHVnRy58hXgtWVcDexh5MuXF9rPcP7HeBGTl0kfEKiH1tOdBcJyRFeoC2PKGpsSr7m2mn2xqBzN5wgGKoujM5uLE81W1G5IZ4eANdtRZu6AejUU/6TeS2yOwPcI+dTLsnSNlsmRDoarSqCNQkYW5stBAEWhnJ1VbWig+SzMi0QGsAwB8EbR8IR6ry58ljhHEPJeQ5OFdI6gaqKvEcOLUaGsff5d75XCG/5RlYIcJfKUQjpmL6sQbWJkWcpjxIfPrDFi0WzmGri2+nMBabyIylHV8cL2zDtj6St22+Bz0KCfgFHL8hXhNaWtUP5RpSZFellnDSmlXqeUelAp9bBS6irm+/+slLqvPbz+eqXURuu7Sil1R/t3Nf3t0OVkeVZzceIAABkv7+p9ITQZFE19GKuV5wjSlKWo5Mx7iVfjKvY6Shur5ArlLIqinr/dJpMj7dKWpvC754R5IfGOYvW28svZWXWCZ7NzBOkToazyC8iRQ3OigyDxgmYHuRFBBw2aJgdpY+aUWAehsuRIyLhz29TAcJwcpdEcXrMTkyMa1XZwizAvEjt3IHFehOV1YI5AkiMAE4Ri6NL7YBqlVAngPQBeDWA7gFuUUldrre+zbrsdwCat9TGl1M8B+B0A/6L97rjW+mV925FaFhdaQ7BoIoJYrr3k1QiTPAv8XEBXr9l6Y/EnSpQsijLPo4rd9WoEISwVToz9euXh6DVWL4wCXo0/UJ0BbymzQsHbz7074MZNjaO8mwz4Ksw7qtjN87Im1OtApMAYUTrgzYEyBi/3lFxsUnBBSI2MyRExHAslbxQnNFdhOTJt7eSoOzgmZERXLxRMxl0omvbnCCZQn+QICDR7vKsEOXLGiDV2Kl6OzDMnclRJcuRHCiE5qnUTTZt5p2Yth58RxcqR1Z+zKENEBK8A8LDW+lGt9UkAHwPwevsGrfWNWutj7ceb0RxSf1rK0shEBAcB2F5NOuzRz6tJ847pBLYEe3gDngohNxEay5H2UiNpRODCHhT/9r2amCeXVk95R2lOhs84Ty4V9rDgM6DzsDslFzGWifBZrhxJRpHCHn5kSZQZt9dQQPnFcu0pbXw0bc6HTo2mw/LiOSA2zdaBMpPIkjgCKfBZOFIIQMxW0oktR6nw2XKeI7gEwBPW5+1tnVR+BsDnrM9rlFJblVI3K6XeIP1IKfXm9r6tu3fvnrqx1BBUlvAD1JPjYY9QR/kheuaAt7xaG4eUYI80r0ZKjUyHPeyBnQJ7OF5NDPaIwGepsEcSfObNi9TBeZE47BH35E4FfDahgXj+FPaghiMJ9qgyYY86H/aQIssUXnjRNFlrE4+mA/BZYIsRz4hG4DP7nZ4cWRl3IUdzVllDg5xZnFqUUj8FYBOAH7aqN2qtdyilngfgBqXU3VrrR+hvtdbvBfBeANi0aZOm36eWpQUSEdQa6zJhD37Ak0lBcSOs8GpKWzhtYXMHfCe0vldTG36JXo2JFLgziyXYw/b8HSXHDfgYfCak0tIVoVHYg+yvlA6fpcEenSKwedfBZ5Q2x1hWghxZbSpC8Fl0Na0Ln3kRQS3UU/gsFfaIwGe1JrBHkQF7VNqRL5lm6jhIY8cdI7nRdCp8lhpNr14oPJqT4TMvfRwzKUOYlx0AnmN9vrStc4pS6lUAfgPAj2utF0291npH+/9RAF8C8N0DtEksS6uaMwlo1hALe5R5sIc04AH4++4Yr8bba6ZTcrbnTwc879V0Qu54NYW7KVzKrpH2M2z4jLY1CJ8xhiNEs1TvKzkzUNNgjxh8xtYnbDFAaRs5NBP4jHE0gvCZJy9uBOHRXLqLovrCZ71gjymi6SB8JvBCHDuEBikKch2EfPiMni8Rg88AOGsngvAZEymYeb1ZlCEMwS0ArlRKXa6UWgXgjQCc7B+l1HcD+BM0RuBpq369Ump1e30BgB8AYE8yD17qhXWotXIigkFgj8mkYF5Km4RnmrztGOzhDPgyzauZBvYYEj7zac6EPSpKcxj2iMFnvWAPx/PPgz0kKMnmxQT2sOSlCMAeWfBZKcBnAQdBkiP72UHYQ6A5CJ9NtjBJyxqaRNMVL0eyg5ABn9GstMqPpie0Fb6D0MlRzEFw5WhWpTc0pLUeK6V+AcC1AEoA79da36uUejuArVrrqwH8LoAzAXyitWiPa61/HMCLAfyJUqpGY5TeRbKNBi9lOcJhrMXZJw600Ag/4SnCHrUMezgGxVvww8MeFNKhXk03ed0KeRnyajrYgxoObhEVlzXE0dwtuvMXiCV5NZbXWRbK25soBp95Sk4L9c6ALywIgIfPzLNET65MgT062kYMzVQRxOAz/6hK0s/kHF2vnwncRiGdVPgsFfbgaKbwWW1FCq7TFY+mC8UtNKPywkQEtoNAo2myrw+NptOzz/hIoaEZKJXsaFJjSeu9aLqVl1mVQeYItNbXALiG1L3Vun6V8LuvAfjOIdqQWkaFwiF9Bs46cRAKKREBA3twHeV5NTQFMhf2iGQNiV4N/3zueEZleZaA7dWE5wLstpoDvilt08BnPuxhT3gWntLyaE6FzyzlrbUFDURgjwLKg89sBct5x1H4zEScdK+hKWEPKhfDwGeC8qtIFJQAeziRJYE9cuEzOZoW5tdaftP5O2OoF5eIA5K5eJP2c1mUnhxN+D0lfDarsuJWFpeFwiGsgxbnCGzlx6d3JQ14S8gVNynoeK+KFc40nFOABgh8kgx7WAPVhmKSPLnECfXu+ZG1EwKk4/IiDnvEjGV4IjQCe9jwGUdzbMALE6QSfBaDPWRjmQGfMfIyFOyRBJ9R75iRI7ffXKfLGI8YfObKV2b2GSMvUj8H5YiZUwrBZ7MqK84QjAqFw1gHHLfXESRkDUleDVVy7OSynAUQwnb5OQIKe0QGPPFqnB06C+UdKMPBHmFjmUIz4akwiSxGQWTAV5XNC2bAx+Czyn9vDuwhQYa5sIc04EPwmQd7CHLkKT/WcMSzz+z+tGGPCW1lHPaw3+0aDl6+bMUuyRFHcxJ8Vk4Bn3nywi/ezImm7S0pHNoiTtesyoozBGWhcEivc9cRBL3XmFeTNuBLb08RHvbwvZqwJxdLH6Q4J/V2AMQXudQ1O7Cj8BmFPbwBT2nOhT1CNKfAZzVbz/azBd0kDXgb9pgCPjNjPu4g2DQUntLqlB8vL7nwGe1nXsn1hM+8nHp+r6lJv2VG01nwWZkPn9lt9OAzkkqb62jOqqw4QzAqFA7hDGDRyhoqGQtMB7ygzHxFwA/4oqCLXOJejevJuQuEaA5+6qTg2Hl+JuzBTqgH4DMmUnAVSkebUs0mclmwhzDRHoTPSj76yoI9OMXuDXjJWMYigi5NkKPNgz36wGdFPnzG05YKe0Tgs4zIkqPZg888mgeEz9p6W15youlp4bNZlRVnCExEoCYRAe/VTCyzJ5yud5w64AG4njn1amLpoIIn53o1Puzh4Zyk3n5GGPbo4LNxAs1yuqlkLJt7ZwN7JPC66GAPCp/Zzx4M9ggoOVPHOghFAD6zYY9U+CwCe9BIIUTbzOEzMgelFImmrf4MRdOiHLGGQ4bPKG0izSUvL2Ge+tH03BAMWMqiwCGsgzp5BKhrjOvu0BXAZXyh7G1irZCOu79yhdbeVtjcWxS8V2Nv+2t+17RJGJCKURDkQBkRSmr/8wfKdAeT2Pc2QghPyKuQUbR4lwJ7mHtLhhcTGhgjxxtFOAfKmD6iB5C4yq/rZ8pr+9lj0v+Og1DaNHf38/JVi7yeGEWLZmcrZa6fFVVyknzF7ocIn1GYbFybA24I7FGF5IirJ4dAUTkqlHOgjKkHwNI22Z688uXIPoOBGjnf6QK7bXWh3Hku+4Cb0tMXtSAvAX3RHj7F3T+rsuIMwahQOKzXQUEDi4ecgyMAS8mRgyPsg0BGNpSku/t52ANORGCebw64abwa5UzYmnY6YayVseDCHrYwd4eu1Fa9HSbX5PkODcRLddcLcBgxiDB3tHH1Bi9X7cCwabaVX8frrs9s2jwj59HsesE1yfagB+W4NMNbp+DQ1vJC4h2NdmoiL7XAaxp9mffb8gU0WwxQObL7mR5YY7xXTr5K5n57NbXWenIwitOfFr9dLxiT7zleSDRXulPSHq9LM3YsGdZ2lJ1CG5x6Kdrxeeoe80qzhswz6Nhs2o7J944caVeOqINQ14QXhNezKivOEJRFkz4KADhx0ArdCOxR8R3Vhau8kNPJInuSh3qvI2vAe56ZmSMgkE5ZuJARHfB8mFxMdlbtnu8qdjtHWp7/YBR7wUz+tZgvzQ6SYA+73p0jcDFfH9ulsAdvLB3DYc8RWF72yOKFY4w53JqbUxK8XaPYOZ6ycmQtHHJp7uYOOO/VzB3QRXQdzYwcMUqR9rMbEXRtpXtZ2e8MwR6ig1Dwc0r2GHHli5cjnjYqRzxMGpUjkm5q7rWNKHdOSQgO5aBnW76oHM2qrDhDMCqbBWUAgBMHA0ouLTUyhpd7So4MFlPvKzkinM6ALxzBAWy8nA74wsGtpQHvejVUsddB2mQlx/O0o9newqId8CWjwAOwhzsvQicL6YDn8XJXsWvv+SHapDmCmBds5Mg4ebyxLJLkyPCNgz1EJdc6P+yGfYy8UGPWVou4uDwv4kfN4yosR6bvHCjJRApcOqi3jsBV7DT1eiJHguGQEjNMHRdZOhFeYI4gOnYq16DMqqw4Q2BHBNpEBEXhzQWYDkzvqM5jKxSv/GSvxp/YnCh2MrBNmyRPjhN+G7emhsO0RRrwNg0UI/aVXIdzSl7NZC6gkCICd16kUF02UYdB85FCqic3bj1aG/O1aaYT+TafzUSohPlS77gzlvzkH80OMni5eb+dtipFlpN+ZoxloQQ5KtwDZRxYRflKrizg9D8rR3XX1uxomo2yumjaHlPG0Jj3+zS3csStF2GdLuIgkHTmWpNous0CNG3kI8uYQ1l7Y9OmLRRNz6Kc0m2ol0MZFe06AgD1iYMAlODJCbBHLcAeFa/MQrCHjX9ywhnyaqKwB/Fqmntd2MNsZCh7Na5R5D25DNijHfA+zYnwGefJ5cAeZC8YCp+Ze3XLlyB8xmQHZcEelQwNSkrOjQj4fs6DDOVce1MnwR6uA8KMEWahGTWiNm3rioJZa2PRbB0oI0fTafCZRLMfTbvzIiJ8puzIMg8+89ZIRORoVmUFRgTFJCKojx1o6waCPUpbmXUZFJMBX1IlF/NqZLw8CnsQr8bcK8EerFfjrZ1Im/wLwx5G+aXBHp0imAI+42APxijSfp4WPmNhj4gcmefRfXo6mhn4jFNmMfhMMBySHJk6CfZgDUcM9qCZdQT24NbaxB0EQY44B8GLpvkFhRQ+62iORdMuzW21EFnSLUbS4LNZlRVnCJqIoJkj0O02E05HpcAeouEoJs9LgT1cr8aHmLIjAgb2oN6rPOB5vDzk1XTwWTrsMSp45Tc4fCbAHqySs2kOwB4x+EyMgiQ5shwHTl6C8JmT5izDZ7EJ9Vq3sIez11B3oAwfWRL4TIA9WAehDMMeoTHC5dQ7EUECfObMrwn7K0n9HJUj0s8p8Nk00fQsyoozBGWhcARrARhoKBQRMB1VhQc84Hr+FRnwKbCHOyhisIfr1QAE9qAToWRhWvNO4h3bOdIBryY124PzalJhjzB81hf2MAM1DfaIwWesg2Dw8gjsMRh8JhnLVNgjOBHq8yKcfZYPe/iOAB8F9YHP4qvymX6uhChIchAqajjy4LMiEE3Poqw4QzAqFCqUqEZnTDaey4Y9ynC2hxwRJMAeUa+GwB5RxT6NVxMJhwltObDHyKGZgc8SB3zXpilhj0onwmfWwI5MCvaBPbLgs1KQoxRjSeCzYD9XruOQDZ+lwh50jAiev+MgODRnwGdcVpolR000bckR6yAUCQ6CbDhs2jwYtpKi6XnW0KBl0iGrzoI2EQHxauwtBqaBPUpB+clKLoSX03BVgD1SPDkb9igTvBo64KOpkX62R1/YQ4LP3D7gPbla02wPG/aQsV1nwJc2T8Pwma38HNpKizbJWErwWR2RIwqfiRPqRI7KRMVuyVcK7NEHPjPtkuAzm2ZHjsRount+YcFnPmToHs8qKnbR6eIMh5R9xkPM1NGc0MaMkVmUQQyBUup1SqkHlVIPK6WuYr5frZT6ePv9N5RSl1nfvaWtf1Ap9doh2hMqk45aOBtqkZkjIIMiGfYQhDAIe0gDnvNqiPeaDnsEFkslwB4hr8Z4rx7sUQVgD5bmRPhMMihR2MOHz4JRUAp8ZjkIbbWj/KaGdE4xfGb6S+rnrj4N9pCUqOEhC3tU/PyaayxdmHQCn1EYNoHXdLfScD8zxrIPfFbpJPhs0p/MwtRZlN6GQClVAngPgB8D8BIAP6mUegm57WcA7NdaPx/AuwH8dvvbl6A54/ilAF4H4I/a582smI5aWjh7shV1WQghXWAdARCe8HS3EuAVe3TAEyF3duiMwR7MgKx1APYQJgXdLSkaOujWECzswXg1VT0M7GEvt+eVHIE9JMWuIwM+ZDgsB4HzmnNhjwltWlh0lwKfsROe08MeNUmZTIE9OPisql2aQ7CHHDUrmK0ikuCzIiBH5KhKr59T4LPSvz8oR7a8cFtSkK3gzfNOVUSgzDaqUz9AqX8I4De11q9tP78FALTW/92659r2nq8rpUYAdgLYAOAq+177vtA7N23apLdu3TpVe+/ZcRD/5//3Vdxy+Z/ivH2349pjL8A/uPQcnHfGKtz44G585yXn4OJz1uAL9+3Ci551Fi47/wx8/t6deMFFZ+L5G87EtfftxMbzzsCLnnUWrrt/Fy45dy1ecvHZuPHB3TjvjFX4B5eegy8/tBtnr13Adz/nXHztkb1YKAt872XrcfOj+6AU8H2Xn4et396PxXGFH7jiAtz2+AEcXRzjH195Ae7acRB7jizilS+8EPc8eQg7D57Aq158IR7cdRiP7TmK1730Wdj29BFse/oIfuw7noVv7T2G+586hFe/+CI8efA47n3yEH70RRdi79GTuOOJA/ihF1yAIyfGuO3xA/jBKy/AyXGNbz62D9//vPMAADc/ug+vuOw8rFoo8NVte/A9zz0XZ64Z4SsP7cHLnnMuzj9jFa5/4Gm89Nln49nnrMV19+/Ciy8+G5edvw6fu2cnrrzwTFx54Zn4/L07cfkFZ+CFF52FL97/NJ51zhp8x7PPxg0PPo0LzlyN77rkHPzdtj04Y/UI3/Pcc3HTI3uxelRg08b1+MZj+6C1xvc/73zc8u39WBrX+EdXnI/bnziAQ8eX8MMv2IA7tx/EvqMn8SMv3ID7njqE7QeO4zUvvggP7DyMb+1t+PLw7qN4aNdhvO6lz8K39h7FAzsP4zUvuQhPHTyBu3ccxI+8cAP2HT2JO7cfxA+/YAOOLI5x67f34weuOB8nqxq3fGs//uHzzgOUwtcf2YtNl63H6lGBmx7ei+957nqcvWaELz20G9916Tm44MzVuOGBp/Edzz4Hl5y7BtfetwsvfNZZeN4FZ+Bz9+zECy48E8+/8Exce98uPPe8dXhxKy/PPnctXnrx2fjSQ7uxfl0jL1/ZthtnrWnl5dG9GBUKr7jsPNz82D4AwPe38nJiqcIPPv8C3P7EARw+McYPXXkB7t5xELsPL+KVL7oQ9z51CE8dOI5XvfgiPLTrCB7ZcwQ/9tJn4eGnj+ChVl6+vfcY7nvqEF714gux8+AJ3PPkIbzyRRdin5GXKy/AkcUKtz2+Hz/4/AuwVNX4xmP78H2Xn4dCAV9/dB++97L1WLNQ4u+27cF3P+dcnL12AV9+aDf+QcuXibycuxbX3bcLL37WWbi85csVG87ECy5q5OWy85txdP0DT+Oisxt5ufHB3Tj/zFWNvDy8B+tWlXj5c9fjpkf2YtWowPduXI9vfmsfqlrjHz7v/HYc1fiBK87HHdsP4OCxRl7u2nEQe48s4kdeeCHue+owtu8/hte8xJWXR3YfxYO7DuO1L70Ij+89hvt3HsarX3IRdjrysoQ7tx/AD79gA44ujrH12/vxj644H+Oqxje/tR/f/7zzUCiFrz2yF5s2Nnz56sPNODp77QK+1OqUDWc18vLSZ5+NS9evxbX37sILLzoLz9twhjOOvnDfLjynlZcv3v80Lj5nDV767EZezl23gJddei7wY78NnP3sqfSfUupWrfUmWj/EgrJLADxhfd4O4Puke9rD7g8COL+tv5n89hLuJUqpNwN4MwA897nPnbqxxqruevYrcc7ik7ji+JM468g+LJwscYU6irOO7IUaL+AKdQTrj62GwipcoQ7j3GOrgD2rcTkOY/0Jc30EZ50YAXvW4Ln6CM44aa6PYvXJAtizG5dURzHSBbBnDy6pjkEDwJ69eNbS8cZj2LMfz1o6jsW6Bvbsx4bFEzhTj4E9B3Hh4gmsQXN93vFFKHUS2HMY5x1fxBXqJLDnEM45toQr1CLKfYdwzokxrlAnUOw7iDNOVrhCncCq/Qdx5rjGFeo4Vu0/gLLWuEIdx9qDzRqKK9QxrD20H2WhcIU6hjMP78eq4wWuUEdxxuF9KBcbvpxzdB/KaoQr1BGcc3QvoBsenXe84cUV6jDOba8vwxGcvdjw4jJ9BGvb60vro1i91PDl0uoYSq2APXtw8fgYFADs2YdnLx3HUl0De/bhopPHca6ugT0HcNFJw5cDOP/ECazCGNhzCOefWESBhi/nHmv4ovYexvpjJ3GFWoTaewhnnWh4tLD/IM5q+bKw/yDWtXxZffAAFlq+rD54AKrlyxmH9mNUGF7sx6jly9lH9mF0suHF2Uf3AlUnL9izyuGFLS/PwxGcaeSlPoJ1Rl7qo1hYbOVlfKyR0T17ccn4GLT25eWik8dxriUvZ7QyssHiy/qJjBzG+uMNL/SeQzibkZdy30GcaeTlgCUvBzp5WXfIlZeRkZcj+7HqRMOXM4/sQ3nSyMtelC1fzjm2GnrPKjxPHcZ5Jzp5Oafl0UZ9BGe1MrJRH8XaxbKRl8rIyx48pzqGokYjL0tmHO3DxUvHsVQ18nLh4nGc08rLhYsncEbd8OX8EyewSjV8uYCRl2LvIZzb8qXYewhntXyx5WW0/yDWtnxZc/AAUWVrXAAAIABJREFU6pYva2x5OdzJy7rD+zA63vDi7KP7MBq38nLEkpfjq6FaeVl/zIwdV7+cYcnL2pMjYM9uYLw4tf4Ti9a61x+AnwDwPuvzvwbwh+SeewBcan1+BMAFAP4QwE9Z9X8G4Cdi73z5y1+upy0P7jykN27eoj97547J9ZY7n9R7jyzqjZu36A/c9JhzrbXWl1+1Rf+Pax/QWmt92VVb9O+115t+6zp91V/fpbXW+uXvuE6/5VPN9Wvf/WX97z94i3f9U++7Wf9f7/mq1lrrf/WnN+t/+kc3aa21/o8fvU3/0O/coLXW+pc+epv+4fb67Z+9V7/0rZ/3rv/oxof1xs1b9PGTY/2eG7dNrj9+y+N64+Yt+ol9R/XHv9lcb99/TF9//069cfMWfcfj+53rO5/Yrzdu3qK/eN9OfcfjzfX19+/U2/cf0xs3b9Ef/+bj3fUtj+vjJ8d64+Yt+j03bnOutdb6O976ef1fr75Xa631S9/6ef32zzbXP/w7N+hf+uht3vU/+6Ob9L/8069rrbX+p390k/5Xf3qz1lrrN3/oFv3ad39Za631v/9gd/2WT92lX/6O67zr3/vCg3rj5i26rmv9e9c+oC+7aovWWusPfu0xvXHzFr3n8An9gZua671HFvWWO5/UGzdv0Q/uPORc3/zIHr1x8xZ907bd+uvm+uHdetuuw3rj5i36M3fs0Nt2NfJy9R079P6jjYy8/6uPOtdaa33FW/5W/87n79daa/28t/yt/t3PN/Lyindepzd/8k6ttdbf+1vX6av+urn+sf/5Ff0zH7jFu/7Xf/YN/fo//OpEdt7Qys4vf+x2/YO/fb3WWuv/9LHb9T/+7UZefmvLvfrF/+Vz3vX//lIjL0cXl/Qft9fHFsf6E1uf0Bs3b9GP7z2q/6qVncf3HtU3PLBLb9y8Rd/27X3O9d3bD+iNm7foL9y7U9/1RHN93b079ZMHGhn56De+rXe08vKxb35bLy5VeuPmLfoPb9jmXGut9Xe+7fP6bZ+5p5Gdt31e/+bVzfWP/O6N+hf+spGRf/K7N+pfbK9/4o9v0j/53q971z/7F1v1q3//S1prrf/Dh7bq1/x+Iy+/8em79Pe8/Qtaa61//VN36Ze/o7n+fUte7OsPff1beuPmLfrpQyf0h1rZ2X34hL7mrkZG7n/qoP7b9vqBpw7pbzy6V2/cvEV/ddtu5/qRpxt5+Zvbt+uHresDx07qjZu36Pf93aP6wNHm+s/+rpGX5//63+rf/tz93vX3/7cv6l/9xB1aa62/753ddZ8CYKtmdOoQk8U7ADzH+nxpW8fe00JD5wDYm/jbQQufBQAH5zRYYGHhkwYvN/uOA006mpPJojhsv8P27L3Nx9b9ReFmPhQCzmkgQnOGNcVk2T1ilLuC2NnXXtk060kb7cnfyfOt/XgqezWlRQN/BgOPc0o0+3MKDK/tTBnlZnvY+9TzvGh5l7JwTMkT50XhP39EaNYtxm7Li5vJYuPfDF6uCL5u85rJlJHwco62oiByZNHmJE5YeLl9voTDO8U8396/qXLrO5oF2hg5kvByKl8xXtOkkEI1W8FLY6ewaOj6X9AXis67+fMolHeUFw5titK8vNcR3ALgSqXU5UqpVWgmf68m91wN4E3t9U8AuKG1TlcDeGObVXQ5gCsBfHOANomFE04328PNrGm+V+yAlzNZAqsjhfrJoBDXEdRWNpGdDmopamcFsT/5a09s2pOFbqZUwQotnQi1lWKUNm4dQSFle7gnTsV4TSc87fd6vCBbBsQmQp1T1hJy6u3MF9tYuqmRMdq6LKC0tOJA9hkxBO7aCXsitHZkW+pnboW6lGgxKt0DZeztrFnarMwnmlNv2ss5V9lyVLq0jaw+M/yf0FbSsWMtQOT0hbB4cyTKS0eb7WhKySKzzBrqPUegG8z/FwBcC6AE8H6t9b1KqbejCUOuRgP5/IVS6mEA+9AYC7T3/RWA+wCMAfy81rrq26ZQmXSU5mfvpY6qau0cWAHAOVBGymQxh3SY59nCvGbBElpywI15Tjfg4Sm5SuvJATf2iVC1oOTsTJlR4W46J3qEVr297YWdTWS+p4euUNrcbA87ewPswJYPIHHTTRuaBeVXa9gHk9i8c5QcyW03bbezOmpGXiQHwZYvTpnVtdvPHO9smutaY/VCxzue1w3vtLUtiN0uu02Fsr1jesBNx4sJzUTJuZlVvnGlMtzqULY/61rIuNO8sZSyjCpBidIDbmzaaNRk5MjrZ+3Kke35F4rhnXb1hTM2NSMvgXrT3llmDQ2y+6jW+hoA15C6t1rXJwD838Jv3wngnUO0I6W4Qst4zZwnVyRGBE7KZBve2jnSAmQke3LdgTI0R7p5Zy14NXwKLKfYaT3dC0ai2c6RNt/THOkQbbInJ2wxUAoRAeEFjRRoP9vRDhcFjWsNYwqoJycZDhues2mT5Mg8z0mx5aAeK5V2XDc7dE54LcgR0MBkbmTpyvzIMuoT3lU8L1yaeTliU2m9sdNFlhOaBaMlR81pu4+yvC7caNrApBN5LF05YvuZSb2VIks6dmz4bMzIC90NwKdttiuLV9w21E5HMVsMyLBHLQ54wFdyS8yBEkHYo3L3rwfghOKc8jNCaENSdj1LmzXgTURg45zygLeFk4HPStmrmSjwqnbayq8ITds+gff8tQefOf1JcGsO9mjewcMetuEoGN6NCKQjyZFHW6mwuOTLS8hBsOcIfNijZuUlJkfmGS7s0UE6rJIrqbF08W8De3hRdruCuK0OKHDeWLK7j1ZpctTRXDvOG9fPJSMv1EEoOGNZuSuO7bU2ttNl0+w7XTx8Nouy4raYcDuKhz1sQTDf815Nt1CHwh4i/il6O7xXY+7llJ/BrUcFP+DNvROvpnIHPO8dy16NTVt8wLuGw9ARV3J0XiTM61QlVygXPms8eU7J1WTAdyuIbU/OXhTlQ4ntHEHl886hTRrwsZXrZTgimHj+VMm1bfIjS34Boj8vwkNAkhzZNGfJkTNHkBlNWzTX2mwxEoqm5bFTKBpZ2g4C53S555SMSf+PPAfBjaZTHc1ZlJUXEXCwBwlX2dCtYryatqOoV5MdrtqwR5UPe/hejQx72APSiFUQ9vAGahj2YAe87fmbtpYCfBYwlkALe9Rh2MNurwefMf1P4TNTRNiDyouo5Bj4rJ4hfEaiID+ypJFCDuwhy5EDezBjJAR7pMNn7vGsUjS9jjgIZmfVvGg6Dp9FI4La1xe+o9mNhRz4bBZl5UYEjPdqUhTljkrzaiTMNxn2aAXBToGsAgPe82oq16txIwsOLw/AHoxXmwWfUU9OCTRbA5KFPYhiLyjNVPklDfgOMpLgszDs4WYHTVIUS0GOjCLIgc/qdDkyyIFpU6lc3vnwmS8vpeIVe1HQaDoCe7R8LkQHQYDPhC1GSoXOQagCY4fpZ1uOaDqoNL8Wg8+69OE0+GzSbxWjL9o0Ud7R9OGzWZQVZwhCsIfx2OwdOpv6MOwR8mqCsAcZFB7skT1H4Cp81qux2urAHpYQhmCPkii/XPiMVX61BZ+lwh6U5kqAz+pM+IwM+BjsEYwsBdgjBp/FlRyBPSZRlhARSEqOeP6FYuAzq59DSQQT2EOMpoXIMgM+YyOFaBJBakRg9XMCfObwNAE+M23Nhs8YwzGLsuKgoRDsMZnwzO4oKvzdTokUz5a8GoCDPYjyK6lwhmGPoFdT0KwhmufNK7nggBe9GneHTru+eX/arpET2qp82CMMn7menDmzOAp7tDur2vnlNm1ZcuTQbMsXD58BcdjDNsY2L6LwGTfRXmTCHtGJ0Hz4LPXMYqefJ/NojBzVcjQdg8+csak6mo2uDjuavL7wHIQ2iYDK0SzKiosIpusog3MSr6aMezVB2ENQ7FFPTvRq3JTGsFdDYA9uoorxXstiCq+mliMF8/6UAQ/Inr8Pn7kDOx4RmOenwx4T2rz+D8MesUnBaWEPX47yYA/bIWrqA7BH5fJCgj1GhEcU9kiGz7zFeG7WUBdN+w6Cy1PiILBOFwOf2f0ZyD5zo2l+BbEcTafJ0SzKijME/WCPSEcRr0ZTjy0b9nCzfSTFLik5CQIwz2C948hEaBA+C8AeUqRg2iXCHhNF0A/2kOAzM3iTYA+WBpm2LPisYuAzCnuUPs1Z8Fnb1qHhM/M/qNg5+WINhwzDhsZOHYim6QE3DW21EFlKxrKhrVBh+GxCW0iOmHm0cZ0On82irDhoCOA8uS4kliMCyauRIQCpHgjAHqySi8Ae0oDnvBpGqNJgjzTaYhAAC3sw3mulNQufTTw2aiyN8ovBZ2RehHu+KT7NEfiM1s8QPgMw2WIkCp8R7zUdPnOVkBGZaWCPrj4Me4TkqIumBXiLgc/CxjIDPvMmlzvHpOD6k8kyHAo+m0VZcREBwHSU0yE1O+BFr6ZmvJqSdqA9WKaEPbgBXwkD3jMoJrJoaDMH3CTBHjHhdGhm4DPi1WTDHiJ81hf2SIPPJv1WxR2BVNjD42kZhs+mgz0y4DPDa8FwmHv7wB4+L8KL7jh5iUfTCfCZ5/lH5CgaWfL6QoTPOH0RlK9TM0ewsiMCyavxOqQggyIta4irr2Owh+DVhITTWzgkeTVkUExoEwYkC3t4E+oJ8FklKz8PPkvy5DJhD07JScayZiICCnuI8JllRG3YIzP7LBv2ELzXtZ7hCMMePHymJ0aAp9mljXcQeOUnylHFG0U3mub7OQ8+43iaD595EcEkmpYczQz4jOHdLMrKjAgCsIdzPF8pdBS1/N4ALhylmJ3twQ5IOdujpOGqAHvU5L0ubbxX4w9USlvMiBrYg1N+PE+BMOxRcQM+BnswA94+FtKwhIPPQrAHBwH4xjISEXi8jvWzxQsBPqt1BnwmwB4ViUQm/RaEPSLRNB07Il7OyJG2d+gkY6qSHQROjowRTY6mjRyZNT5Fs2ljXfPJIjIcKsiR5vUFx7tZlBVpCMw+37GOGjnC6e8jHvRqWOFPzPawcuon96fg5TRSELwm007zLF44XaVFD0hPhs9Kidd0op16r1PAHoLhCMNnzf0U9jDwGd+fLnzmOw4R2CMiR9mwR+n2fwgvz4M9XOVq08zCZwFHIBZxphjLqtbN6XU2rxOSCGYBnzk0i7QJWYYxObLHCDM2Z1FWpCGgQlgIHWVWipoDZehANYer2AfcmOfbhqNTKM33J6vaO+AGsLwO5Q54KszugTLW/STnna6+NZ6cLU/mIBCKyRZEOEsHGqi9AU8VRGG1iXu+ed7JdsKYP1DG9uSb9lLPnw7UwhvYrkGxD5Sx5whsmsd1tyrXtM0Z8ORAGX+lKMmsIQfK0IFdFLJjAgBLpt8oL2rTn2HDYR8oU1m0UXnxlCjhdUezNUaKjndSJp6JXHiaw6tsKW0nx7VT744d7fC6o8GPCCnNNDqS5KhQPC8KhQl8Rh1Nm9+u4cCENluOusN7+DUbsygr0hA0HYiol+pP8sQmC9MiAiPMdsQBpE94Jk1giROh3QE3LG32FhCBSMEf8AWhmU46u56c+W94EfPk6NYQMfiMKrPYHIFNsweflW4UVBIMl/XkbDlykgVSJp1db3SpotGX4YW7cRrtZz/K4pUfhc/sA2VsXju0iesI/LkDOSKQ5YjyztCySMfOhGYSTROD74+p0LwII0d1eH7NibKJQ+nOEdiQtDunJEWWc2hoRoXuBePh2UIH+oexFN4BN+a/hHMCtvJzB3zdvoODjOxDOjzPjxN+7cIenRC6nkVZqMmhK4Wyo5eWNk8JtbQxNEvwRs3Ul4QXMtRDaPN2H7UNhP98Q5s44EuXF2b+hg5483xKc615JVfbcmT1Mz3gZsLrWnsK35cX2s/0gJvmf13LxrJ25IU3ruYdnTF2HQf7cBXzE0objQg6msPOkqdECbxFedGNHf+AGwCT8emNqYrKV2Hdzz1fOwfc2DTY8hWkTZIjj2ZXvigvZlF6PVkpdZ5S6jql1Lb2/3rmnpcppb6ulLpXKXWXUupfWN99QCn1mFLqjvbvZX3ak1p8T872XmvfqylDOCc36dwcKLPETCIBIa+Gz3yoajebiHrHk/danp/vyXWLVrwBXzFeTRGbI5AmC9PmCEaEF5PFeGXnBdfMgAxldYienIX52sqPjQiYet+Ts5QctwCxFOSokCPLhmbfO7Z5xDkIzhwBlSPGcbCNKJ1TkpRZSI6UIrQxkUJV14GxE5EjiRck2lkSEidyo2kqRxQ+8+bXWpiUjilOX8hyRKNpW758OZpF6WtirgJwvdb6SgDXt59pOQbg32itXwrgdQD+p1LqXOv7X9Vav6z9u6Nne5IK7SjD35BiF2GPqvazTCZhbOU8p1N+lfd8IDzJy3nHNFz1BzwVztpXcpY3QhVBcAKLzZGOT6jTKMjwwoPPBO+4eXfNDmwZ9rDnV8DydEKbqffgM0uZObuM5jkI0sp1hxdlWF5EyJDUTytHpm0sfFYKckT7mawg9pMLQvAZL0ccL2T4zJKXIM00+8hdcUzX2kgOghspUEinc3JyHQROjmZR+hqC1wP4YHv9QQBvoDdorR/SWm9rr58E8DSADT3f26t0HeV6NWUhe69pcwTE818ywlnw9WTAL1WCV1O5kQL1jmNejU0bB3t0XjNvOII0R1Nsm+dLsIfhhTfgl3j4TFZyNVFydiptBwHZ2UE2rye0RSZIC+XCZ81EaNqK40lOPTNHwPHClyPO85fXi3DeMW8s64CS0x581tDMyJGQcVcJNEsOQh2KppcS5YgsHMyOpktCG+G1eTc1NDZt1NH0jKVFG+toljTKWr6G4CKt9VPt9U4AF4VuVkq9AsAqAI9Y1e9sIaN3K6VWB377ZqXUVqXU1t27d/dqtAQBxMNVMiAp7OF5crxw0vrOq+GFPwh71ALsUeXDHhT/PJ2whwef0QnPGHwWgT2y4TPCa8pT+53Z8FmEZg8+a9uwNHbhs075pcFn9BxdFvYQxkg6fFaINHOwh/kvzYssevNrefCZO3b8MUXhM5e23Gg6HT6jZyXbvKZyNIsSNQRKqS8qpe5h/l5v36e11sDk3G/uORcD+AsA/1Zr3U6X4C0AXgTgewGcB2Cz9Hut9Xu11pu01ps2bOgXUEhejb8KlnRUZraHBHvQehEC6At7cOFqYMA7yq/kvZresEeMZqF+KPhsQgPj+afAHsnwWXDAx2CPmBy1ylKCz2oCnxl5qVzaUmGPJPisFOCzgIMgyZFLcz85kuYCTGYdH00zE+es5y9kDRX58BnraJpomhjRWZToFhNa61dJ3ymldimlLtZaP9Uq+qeF+84G8LcAfkNrfbP1bBNNLCql/hzAr2S1fsoidVS+J5cIe9BIQYA9ZAggAnu09RT2WEeFMwJ7uPUFxnWVDp/R/ZUkXhDaBoPPSKQQgz1C8Flpvc+8w8yL9IXPag72aBVqLuzhy5FgLANJBDbssXphZNV3a2Q8+CwYEVD4LAJ7CBFBnGZJjnzFznn+EwXOZFDx82hh+MyTr0qAzwSaQ5DhEomCZlH6PvlqAG9qr98E4DP0BqXUKgCfBvAhrfUnyXcXt/8VmvmFe3q2J6nYsIft1ZSF6/lPC3uYQZALe3iQkbO4SoA9qilgDwf/jMMezvOFxXWyV8PTJtE8mniEYfiMHsMYhD0obe0WI+OqWzgUpNmizYPPbF7YxrIH7GHPQdj1MTma0CxsMULhM5c2l+bCqYdzfw581iyiyssacmgzWzooYexQ+aLwGck+cxYU1lI0LdBWybRJ0XQKfGYWGqZChrMofQ3BuwC8Wim1DcCr2s9QSm1SSr2vveefA/ghAD/NpIl+RCl1N4C7AVwA4Ld6tieppHSUu8XAqYE9JAggCnsQxS57/lPAHtSr8Ty5OHzG08zzLpWn3tqJTNiDN5YCfFYKA94yHJTmUwF7eDxNSo1MhT2sVdaZsIfvTQdgDwqfiRl3BVsfhc+kVG2SMu0nEaSNkYmDwMkRcTRtGBZIg884mmdReu0+qrXeC+BHmfqtAP5de/1hAB8Wfv/KPu+ftlDYwxTXq5GVn+TJ+QNegD1SvZqyE1oR5xSVHE8bCw2ImQ8JOKfVptqGPcheMJQXPs1SpMDzjiq/GOwh0bbWq2+OqkyGz6pOEUzgs9S1E1E5ovIiyBGFz4jRkuAz09Zo1hCVryrAawY+C0fT/mptl2ahXpQXiad89lmKgyDCZ20/FzmJGdY2L46jWYcczeUfETwjSwrOGQrpPOFccj28Ean3vJolwatZkrwaUp8Cewg0BGEPaVA4Xk3Br50gbfUGpEezywuZpzzv6HspfObQdorhsyjskUzzdHJEMWXTtBxIpztQxpWLlGjaW33b4uX9aKb1JGsoU45EB4GZF4nrBSHFlj6/lOVIgs84XsyirEhDIFr+aTtq3NOrET1FgpcbvLSYBvaw6xnYY4p0UwqfuTSnea/J3nEk9TYKe1D4bCDYg4PP4rBH3rxI8lyTwOt+sEcifFbI8Nkg0XRkr6HcVO1wNC3TIMlXLzkqTDRN09N5XsyirEhDMHVHjYVsj6mFMxwChkLDKOxBsz2inhyTblrFPEi3nqVZHPCUtjz4zPPwxM3iMrOGQrAHQ7OUfQZYsEfEEZB44a8jkHgahs9cmhPhM8spyoU9KHxmjymlJJqndBBS5YhdR0AdQSua9vYUyoTPQrxm4DMgYe3EDNNHV6QhmHSU59W0sAej/ADgZJU6+evW+wNegD2ik4Jp4WpwIjSg2HPTBGk9R5tMM8+71ElBCnuYvkmFPehqbSAR9kjidS7NkhyFkwhicsTCHhnwWVjJEfgsIZrmjOXQSQQxOTI7qy61W8FTXoQchGT4LDp2am+eJofmWZQVawjylFyX5816NTT/uxTqyf0e7BHLqadKLrK8vfTgEB8CEgd8mRImuxEHR9vI4p1Ds0CbVy+swTCfDexB12xQ2vKMpby5mDzg3ftNW1n4jPYz7X9x3QkvXxJPs2EPOi8iriPIj6bHFVGu3toJOr82sBwRmimvQ7TZu4Mmw2cV52jK8BlPs1tvn4UwdFmxhsDO9jBlVKhmm2NPWTb/T1a1d2CJqQf8AT+pJ4eunKSQgVfftYd7vrke1+4BN119S5twiAanIMb0ftWFwwURcqDxqGwHRaTN4l1Dk2vk/PsJzeSgEXq/+Y4ecGOuJ7R5A5gJ9VU36Ux5ysEehte1pwi6trp94PKCHhBDafN4Grmfygttk+l/j7ZaOHSF2ZLbPrBIOryH8/zjY6d7PkdbqrzE5Mh8x9WbA2Vk2gR94Y2pgByZPnDa0+mLQsFzNLn+HLqsSEMwKtp9vjUYBaHbvfyZjhr7GRSm3jzX/n9SwHylPdWlcwro8821VF8zCn8UoK3Za13ghYejdm2iOdIODeSUtTjNEd7R+pLnhUNDqWTaNFhPrmIUuxnw9r72Nq8579i0VZIj0z6eZuXQSGmWeGdgDypH5ppORk5oqznaik5eyrh8dXLkz9NMeEGe49Is9LMgF9lyRDaRY8dOadFGIsta83I0rhiai+Ysj5qRF3ZMWW11FqxR2uZzBMOWGF4uddTi2McOTb392asXJvmkCTIb9igLJU7+0clCl7bUCazO20nJrLFp45Tf4rh2cqRlmtNWzYo8FXhBlVlwQr33vEgh8s60VZKj6Wh2V83yNEu8kOWomyPg8PKAHLFzBDLNobFjvkrlBd1oMc5Tl7bsCfWKoc2aUxLhWfL8us0OoobGtJWLpubrCGZUJh3lQUDmQBlJyVWsV0NXivr1rncsrQjlVhA2QstP/omTguIcQUaOdGCOwLSVixSaes5wVA6tXr1nOOgK4vBEaPd89910iwFTz2UHmZ1VU7cYMPf48tK1VZIjh2ZvsjAiR4nykipH0hxBFZ0ITUle4Hnhyou9QyftZ5pBFUsiaOsVzztzTeVrwovQhDrn+Utwa8XLEdBAPZwc0TEl6YtZlBVpCLqO8r0aoJmcYTtqyd+J0dQDjFcTmfyRJsikiS2qqHMmBbt0UC4iCG+fwCqzJUH5LQleTXRCnZ8gn8Ae7SPpRmvmWuKdBAE0RjE126MQUiN5uXDkhYHPJjQQ+Cx18leSI3PNToQG5EVWZvIaiRw56njEOAieHBGaI8kCXj1ZayPRzNcL8FlgixEpU0pyNGM0s44m089DlxVpCPrAHlLoxns1Q8MeZMALeLnZ8EyEPZIya0zOc1qoPxx8xvNukh2UCXsMAp+VMnxm2roc4DOfZkmObBrisEcqfFYHo+nw2LHfy9MsLLoT1uYY2mYNn0Wj6RTIsOTrJfhsFqXXXkPP1JIEe3CRQgD2SIIASL0/4PlwNRcC4LyaKOzBeDXAdLAHzc13aT61sMc08BmXXx5bOyHDZK7S7eqnh8882EOQl37wWQd7eMYyBHuM82GPqcaON+/m0yzKS2nX07mDPPhsXNcoalm+1iXpCwE+I7xTVqbR0GUeESR4L7Y3Mp1XE175aX4qea9ZXk3JezVTwx7j0EQoN+AF+CxxUtD3jt135NAc8o7j6wj8AR9aTZ0mR3Hv2P4s8WICe2RGQRLvuPREW/mlytG0NLPwmZd9xstLKDpy5SUvUkiFz/jFePJq7QnNoh6JR5azKCvSEERhjxDmywl5DOecDGyyiIbsBROdIyCQTg5engR7CDSzsEcI5wzwzoPPIguB0rBdlYeXF/nwGQt7WIuikuSojMuR/ZkuNHOjF3leJGuuSZSj/IWGE9qEebcUebHrC8XAZ978Gi9Hpq3Ty5HLa2mMSJEC0GxJk0uzM3YEeZlFWZGGoBfswVr4SvBqTg/swT3H9eSYAc+sOJ7QJtLsDpbu/unhs2C2R1nMFj4rpoc9esFnUqaMIEdB2srh5GiyfUJi9lmMF3xkOSV81n42P5VkPgs+s3mXCp8Fo2lKm10/PXw2i9LLECilzlNKXaeU2tb+Xy/cV1mH0lxt1V+ulPqGUuphpdQs4ASfAAAdfklEQVTH29PMZl4c2IPtKBn2yA2H7S0GThXswT0nCfYQJ0J52rIhAKHe5sXQsEcOBNAH9ugFnxEo0Xx1qmCPGBzCydE0sEe/xIzUJIK09QJ8vcw7KfssNL82jb5Igc9mUfo+/SoA12utrwRwffuZK8e11i9r/37cqv9tAO/WWj8fwH4AP9OzPUlFEs4iQThTsgAkQxMa2KJwqh4D3vFqMEmZpe8Nwh6UBsXTlpL54GxV4WV7uINeyoii2LFPc57hoN50zoJCu55uYWDqcwd8WcSzz0xbORpsI1oI8pWSfWagxHGtPV4DzQFEKYuiikx5kXhtmhwdOxQ+Y50iFZevBAekULEkggBtCbyT6mdR+hqC1wP4YHv9QTTnDieV9pziVwIw5xhn/b5P6TA5IXTz6otJPY+XCxAArVddvf0+oIU9yAE35lncwRQp9ZQGaUsKIAB7pNIm1Nu8k3hN2zQczfn1wbTiAM2iHHEQ0JIAe5Dnm0uOZpmGQpCvfJ4ujfkdOqM0J8lRIdRb9wu882nmeZEmR/xYk3gnwWcSL7LliF1H4PJ6FqWvIbhIa/1Ue70TwEXCfWuUUluVUjcrpYyyPx/AAa31uP28HcAl0ouUUm9un7F19+7dvRrteGCZljnNU7S9aTfisD22FK9Ggnoc2CPXqymZAZlKs+PJJYTDpV3PQwM2fEZpEOGzbE8u7k2LSQQ2zSy23xf24Hl9qmCPaH0SZCjIUWamTGpOfQrNSXIk3J8Kn9Xt8awp0XSKvkiRo1mU6DoCpdQXATyL+eo37A9aa62U0sJjNmqtdyilngfghvbA+oM5DdVavxfAewFg06ZN0nuSiukoKR3Qw8vLrp4b2Kn1zTuKYLqeV1929fQdXb2/WCr5+TbNQj19foxmTnH4z++es1C6PCpLhfFijGa+3t8vPp8X/qRgvJ85wxGUL+E59hnK5jsJPpvQUPLy4m+B3PKOgYCaa16OkmhOkqPpxw59jp1TPyoLjOuxc59P20ByxMi2BCVy2WcxmqUxMuuIIGoItNavkr5TSu1SSl2stX5KKXUxgKeFZ+xo/z+qlPoSgO8G8NcAzlVKjdqo4FIAO6agIbtwg9C/9i0z/S0VFv4ef2Cjir2bbwcnhKHrXNqk65R3jRhjEXqmzRbfWKbw21e8qfTk93O8DVyUldoG6Znm8yL3vh7XEu/S+nkGcsREWfTa7KyqtS8v+e+Oj9Uknib0eRqdKc+frSHoCw1dDeBN7fWbAHyG3qCUWq+UWt1eXwDgBwDcp7XWAG4E8BOh38+icJNfQNqgSOko6dp+lufVZA/CeJtSBF6m2RLsTDpT3mVgD/qu1HeIxnIghZek2JOeyRvyFFrs7zj4jH1HAs19jEjJpEmH35vnIKSMHc5Ycu/LdxASaMuUr1wHLGW8z6L0NQTvAvBqpdQ2AK9qP0MptUkp9b72nhcD2KqUuhON4n+X1vq+9rvNAP6zUuphNHMGf9azPUnF8UyFjqIHVnC/pQe/mBLqwMnhNYqv99uU0A6xTbCu/ewo+kz3vdZvBYOV0gaJFvs7KuMSXyUv2kaWpL6V6czlY7z/xXcl0eUyo0yQl5TnivcnyPAooW8lXpeSTGW23/7s8cJpk3V/5viU2ifTxusLkTapPYLBkt41i9JrryGt9V4AP8rUbwXw79rrrwH4TuH3jwJ4RZ82TFOyw+GBPCv79+lwSB/vqg+sNH3Yn6JQzOeTgJcj7XjjKcYvG8aLD8Je8FGCvNj1Nlt85Vew9VL0khsFpkQ7vTxlUX7z5Kj7vZvgQemR3jEYHDwD1GCasTN0ma2ZWaYlKVzLHMz2tTlQhtbbv/frExRvLzw3byBkY+RJypWHPfgBD2eLgXCbZjDgs5+fouT4exyYjCq5iByF2zQLB2F6/kq8kOQlfezwRlU0CpmGcyh4R3YQUuad5oZg8NJnUiwFO7c/ixGBMODpO/rMEQzlvcpeTYJRiEyEcvXdgA/MHZSZNCd5cnbfJgz4HvMOEm25cuS1aSg5SlKiccWejZ0LEaD9e6l+VLjzbrIRnkGyhBhlTR8FzSOCGZeZwB6iJ8fDHqleTS/YYxbe8SmEPbz6zMnZbPish4PQR47s7zxjaeSFwmf2s5YFfDaMkjNrbWi9/XvfiApyJDgL/RT7QIYjwXGSnj+LsiINQS/YI2Gg2d9JsEeqVzMbxZ474FPgswTYI1H5DQafzRj2GAo+s7/rDZ/NhOY+DoIAAQWi6dgYSTWi2fBZ7rxIr7nDzGiayMvQZUUagpl0lCScwoBPhgZyoZ6hvJplAHvMDD7Lpnn6nO9k2KP1+PvDZ3lpvzOHzzINin1fbjQ9FXyWO/krOkiZDkLCuLbJmXXW0Io0BL1gj1LqKCqc08EekiJorp/hsIeQ7SEZjuUDn/UwxnabizjskSxHZVz5LQ/4THpvXF6yo+lZwWe9JpdT5Cg/mh66rEhD4HpyA2V7ZHtyaQM+yXsdLKVtINhDVHLLBD4T+jzFe0uCzwQIJJW2lPoUYyn2eUq0dyphD0rDZF4k1ViG5ahQUyzG66PY+0TTiTQPXVakIVgWsEeiV7MsYI8UD6oP7NEXPkswSDOBzzI9Zfv3yx8+y0wiyHQQbHKogxAfI1S+YsYyAJ8l9XOekh8KPrO/m0cEMyh9cvaTPbkI7JE64E1bp9pioI/hyLx2YI9kT2462GPZwGc9txjh6pOzzwReZMNnyxD2iNHmR5bLIfssz+lIiZTs7+YRwQzKcoA9UhcOxQaLd90H9kh5Zo9sj5nBZ4OtI0hR8tPDZ/Zzlz18Jsl/iuFIgKEc2pYLfCb0f1I/99jXaJpoeuiyIg3BKYU9eg74GDQQvu7j1SwD2EPi6azgsx4OQoonbv9edBAE7zUdPsuca8r0ZPslEfC8mJkcmcgyCJ8NZSyndxDSkgjmWUODF1lZ8h2Y1FFE2MyGUZJw5ns1U+CczgD23+VdJ+R5OxthCQMsW7FnptIWivJIgM9E7zVPmaUpue46CfYQFLtEWypPTT+HHYe4gyBttJYLezi/TYQMZdpiYycNPhM3iMuMplNkIRUyjPFiHhHMoEzTUV24mubVxDw5XxAycc5sr2a2eDmA7Dzv0wafSYq9B16eSrMIe0ztIKTJUVJEkJBQ0Ac+S42mY5BOrhyFxtRM4DPB6ZB4bf8+1dEcuqxIQ9AL9shW7ImGI9Or6QV7JCi83HDY/n027CEO7FMBn+UaS0lBDgR7pHrNvSbU+yi5uLGg0bTRtX37WZSjyNiUFqYlG8seWYazcjSHLivSENi8Tuk0IAXeyPPkJNgj+b3W/a5XkzfhnTbgu2dOt7OqNOCnnBRMzqzJ82STYI+E39rf5cJnuQ6CbBSp8svNPuszEdqT5mg03TNrKMlYziBrKEFeUiHDocuKNATuoSZxBQnED5QphI71MV9hAAtzCpKQT+YgvOf7bQOIl5Z7kAmRklKiWYV54Qm/8t9r/17itaT8qNOUchCKLQsph4uk8M7+nEqDNKckypc0ByXyOtwe+l2Sws/lhUCzKEeKp82XR7899nPFMSWMzea3fnvoPWkHysTvATraJH2xrCMCpdR5SqnrlFLb2v/rmXt+RCl1h/V3Qin1hva7DyilHrO+e1mf9qSWXO/Yvq9/RBDGRXMhAEnI6TtkDDPu1STDHtlzBMN4cp03FYgIEgx+iufrGg6rbZ4nl0lb9hyBIEe5kaVNZ2aKbUrqcfNd3rxIPOIcJiKQYDj6jhRvP0WnKBVfayPO+SzzOYKrAFyvtb4SwPXtZ6dorW/UWr9Ma/0yAK8EcAzAF6xbftV8r7W+o2d7kkqoo2IYrjzg0zDfqZVcYn2K8k+BRpJgD3HA586LSIo9jdcxnhZKPp4yheaURVH9+zMiR5kOQu5kJP0uxRCmrD5OeXeyHA1Mc2jsSEbe5YuQiRZYOxEbI6lyNHTpawheD+CD7fUHAbwhcv9PAPic1vpYz/f2KtPs7TH0HEHqBFZ0jmBmXg3/W/s32QOetnVCc79BEYuyKK9TFjw5Az5BXmSa+9GWLUcR71tSuvS77OMfkw6UyZxQFxyB1DmoaEQQkKOUA25yIwKHNlqfOS8ydOn79Iu01k+11zsBXBS5/40APkrq3qmUuksp9W6l1Grph0qpNyultiqltu7evbtHk2lHLTPYI3PhUH+vhhdy57d9aRsK9pjSSM8KPnPfwRubvt7x7OEzXpnnKjl3rU1q5luu0ZqxgxB5PoD8aDoZEchLnBi6RA2BUuqLSql7mL/X2/dprTUAHXjOxWgOsb/Wqn4LgBcB+F4A5wHYLP1ea/1erfUmrfWmDRs2xJodLEmwh7jsfSDYQxwUfb2a7vmyVxP39tJgjxnBZ5mpkacLPkt596mHzwTDFDHShaLwmWAIk2CPgYxWKs09Mu5y3ku/S4um+ci/rxwNXUaxG7TWr5K+U0rtUkpdrLV+qlX0Twce9c8BfFprvWQ920QTi0qpPwfwK4nt7lVmAnvQ+qFhj8RIIWWfehH2YGgb13r5wGeZA3uimHrCZylbjMwMPstV7DE5SuR1ivJnFWklK+qh4LN8XudF06nwmeT52z9Pf4fQzwLvhi59oaGrAbypvX4TgM8E7v1JEFioNR5Qjev6BgD39GxPUgl11CmDPQZSriGck3t+890zHPZIhs/CfQPIsnC6YI/lA5/FlX86tDKssew/LxKmOR0+y4+mc2VVom3o0tcQvAvAq5VS2wC8qv0MpdQmpdT7zE1KqcsAPAfAl8nvP/L/t3eusXYVVRz/rXNuWx4tBXrbUkrb215uW0qRUC9PsaW9DS2NaSOgQgTBgJSnCEJE+SBRvxCjJiYkiIGIJgrIB2kCpIkKITGWUEPkGUxF5CHhJQ8jWKB3+WHvfTnn7Jm9Z87e+5x77pl/0vSedfbZs9bMmllr/jN7j4g8CTwJDAI/KKiPEwrRHraGsjhP0YGgXdqjaFbjUnbH6bN69v3boQCa6LNKaI+C9JllU4BvYlI1fdb42Z/G8vMj775T0tPaNWmhzywL6k1ll+ZH1QaCXGooC6r6FjBmkO8GLm74/AKw0HDdhiLlF8EE7eFKP3g2VMdojzaymq7RHlZ5h+mznM5o1XVfGYNc1X7kO9D40WeNP6+K9shLuuz+5elHnruSMukzQxl7DfI8f3Glz8pGtXefxJhwEstCZdEOb3sQpDyes72BpvUVA5Oa9qiKPstp4+g7X97ac2ukRSdn+qztPfV+mSs0D/6doD18Z3jt02flzCyzyqiKPisbfRsIfLPXyUp7OGcWGYtOpdMe1qBooT28y/XLporSZ426Tnr6zDbI+fLlDf4ijq89qJ4+863r7HYu6kdOs2nfh9wck5+y0beBIJf28HXCollHaVmNX2dslFU9G6mMPvPMsmz0WeNlvsHDGqi9B/CK/ciZPrP7S/6MoJjN+UHLd/ZVkh+11J3LOSX+NrvZVjb6NhD48pD501JX58wZ2ItSSbkDULrJc2kPi07OWU0e7eH8HIEfh+vb4RPao5U+cymjMO3hHSxLos8899Q3f9elXUMp/ypnp59vGzde61/25No1VGixuJfhy/n6NlQ+7eGZ1RTmy+0OVdZDLpOV9nCd3SXfieGxyLzMvzL6rM12Lov2MM4ILANvPqVjsc2TPisroPgGLNtsuq7u9Fn7CUK1OXvfBgKbc9YsDejthFLOwJ5HAblmNcll5qzGr2Pkd/iituUNfs36t0ufmd7xPlAT9hkCQfu2+QWO1lcj+9IeycfWGY1vGycHytgGvyydnOvCcwC39U3fBMHaN3PXgdKDcRIIWuE7XtRydAozgoqQVGxr2w5MyM0NZeowJrntPhPl2s4psMpb9W/+fkJuecd78mbVVnmiS01IZTW2cwHydE3ZZj1rwWybra5tHT7vHITU/eOft3b4iXuMp8T2Qc6mq81fcvzINsi5+pEtQbC+mz8r869Jqq4bf2Ovb7dAkOdftmBm969mPfP9yNJ3rPqQQr0m1MctfpRRhi1BcD13omz0fSBw3k7n/ZSi3xQ9j493PZUpa3dQvSZG+UBNstcOHNctrDOFnKevU68YaPNdMHbqyW1BPfnNvpQ0P9u1vU3Wd2bp7UfelKHbzq1E5utH0f++MzzXdjavi9gXWv3ovDyazNZHxjPqwjkIeY4XZaNvA8En2YVZbm+oyRU4XAea5Dtjh69b5HkdsuBe+/z7Ow6iOR07nZU336+1bDEsElipm7bb2W3LpO8g6ku32K5PdDT6UY6/uG+ZtAzspQUO3wTB4i+1aMZss9l0aIy1j5SUIJSNvg0E9VqNgZrPHul2ndO3w1uyGs81Bb9Mrua5dtBmh/euU9fAYWsz80CT7A4y0R5ZawQ1MdEhngG83fffeMpds2ObHyUyE32W5UcmnXy3g7Y7sNsTBM/ZtMHmrD4ynrFG0PqTsmaWZaNvA4EtO/bukBbnaTd7rZr28Mtq/JyzdNrDVneu9FmbtId511DF9FmuzX60h3PgyKE9fP3IpFP+MwxFEwQ/+ix/Nm1ZFDbZXDcvFif+1ZpolkWflY2+DQT2gWCK0B6W6aqtwxuznWQBS9LXm3XypM+qDhwWeSKz0R77LIvFk4s+K6dO82gPWx9pfRgPGnzVeui8bztX5Ud+yVgis82Cxg2LyLnBsiB9Vjb6NhC0PSNwfFFVfqZYEu3RIs+jPawzAluHN2Q15dMenaXPEpl1RpCSZlMDpjK86bN6uwmCY3ac84oRMx3i70c18XgYz3dmWfZs2vr8gsG2jHURH/+y0meeCULZ6NtAEPGfhilgt2kP10yx3d0elg7vSw2Yys7tkJ5PEBft8Jm0R92yEFqz7xryos9Ky16r3X2W3Ms2+Fn9yJo1Z9BnvgmCd9JVbF0k+ehrm3HXUN6Cuq2dPR5+LBN9GwhsDRVlwFmLgpOrw9szOT/n9KUGonJ6nPaw0GdiOHF1wDIoJrLWr7pNe7jWaSKzZa+2PuLrR2adsnfWVGXzgKXcT2bTfrZZZ9Mm+iyxoeDus7LRt4EgoT3S8my+vDTao6KsJsuGrOmqF4/um8nl0R6O+8LttErWIJdlm2XXUEqa0+FrBvqstJlljh8VpM8SWdV+1KhzSu75hLr7zNLiR23MprPos32ewbImxd9lVTYKEU8i8gUReVpExkVkNOO6zSLynIjsEZEbGuRLReTRWH63iEwvoo8PsgY5v6zG3ICTlfbwnhGY6LPSslffWZBlp4ylwyfX9jR9Zq1TPz9KPvrSHt4zy8w99a7t7Dmwl76JwNOPfLbY1suhz8pG0RWIp4AzgUdsF4hIHbgFOANYBZwrIqvir28GfqKqRwJvAxcV1McZWbRHGW/oLK/Dm+/f9m4PY+DwC4pdo888t0YmMi/6zDdYWnl0X9qj1vS7xnITvVzktgDRLu1R5u4z/wShoB957rhLZP70WRkbMyztXDfXRdkodHdVfVZVn8u57ARgj6o+r6ofAncB2+ID6zcA98bX3Ul0gH1HMFAzv3dnoCYpvhfszjPxClzXLXMTWzItzmmhGFrlURn2zN9qm5dz1ozl1uti0ces6wSPbuuQju+mycuOjbbVxfhyuXrNbINN3k5dRzql72+ywVYX+efoWvzF1s6+tlna2eZHtrquSfpdVlabJ+oorSdk9B3HAT/vzaq+tpl2dtr6VFZdm3Sy+VHZ6MQawULgpYbPLwMnAnOAd1T14wZ56lzjBCJyCXAJwOLFiwsrdf5JS3j9P3tT8rM+fQQrDpuVkn/uUwvYf1qdaS3eObZyHm+OjTD/oBlN8pOXDbJ93bLUvY5ZOJvta5dx/NChTfIlcw7kivXDrFsxt0k+a8YA152+nM2rD0vp9O0tKzlh6aEp+TUbl7N07oEp+aXrhjlgRj0lv/CUIf67N82Mn3PCIk403H/bsQuZP2u/lHzT0Yex9+N9HLR/s1utXT6XK9YPMzSnWafRoUPYvnYZxy46uEm+fP4sLl03zGeGB5vk82bN4OqxEcaOmt8kr9eE72xZyfoV81I6Xb9pBUcfPjslv2rDCHNnzUjJL/7sMsY1vVj85ZMW89p7/0vJz1pzBCPz0/6y5ZgFTB+oMWOgub7HVs7ntbG9LJjdXH8nD89h+7plrFzQfK/Vib+0tMPiQw/givXDnNZi84HT61y/aQWbjzb4yxkrGR1Kt+fVG0dSbQOwfd0w+09L+8sFpwzx3gcfpeRfOn4Ro0OHpORbjz2cwZnput509GF88OE+Dj5gWpP8syODXH7aMEsHZzbJ1yw5mO1rl3Hc4mZ/GZk3k0vXDXPqkc3+MnfmDL6xcYSNq5r9pVYTbtxyVKqvAVx3+gqOWpBuzys3HMmcA9M2XHTqUj4eN/jLiUt49d0PUvIz1yxk2NA3zzhmAfVajf1a6nvDynl8fcORHD57/9RvyoSowembLhD5PZD2KrhRVe+Lr3kYuC4+tL7192cDm1X14vjz+USB4CZgV0wLISKLgAdVdXWe0qOjo7p7d6qogICAgIAMiMhfVDW1nps7I1DVjQXLfgVY1PD5iFj2FnCwiAzEs4JEHhAQEBDQQVTMPAHwGDAS7xCaDpwD7NBoKvIQcHZ83QXAfR3QJyAgICCgAUW3j35eRF4GTgbuF5GdsfxwEXkAIM72rwR2As8C96jq0/EtvgVcKyJ7iNYMbi+iT0BAQECAP3LXCCYjwhpBQEBAgD9sawSdoIYCAgICAiYxQiAICAgI6HOEQBAQEBDQ5wiBICAgIKDP0ZOLxSLyBvDPNn8+CLxZojq9gGBzfyDYPPVR1N4lqpp6pLonA0ERiMhu06r5VEawuT8QbJ76qMreQA0FBAQE9DlCIAgICAjoc/RjILit2wp0AcHm/kCweeqjEnv7bo0gICAgIKAZ/TgjCAgICAhoQAgEAQEBAX2OKRsIRGSziDwnIntE5AbD9zNE5O74+0dFZKjzWpYLB5uvFZFnROQJEfmDiCzphp5lIs/mhuvOEhEVkZ7eauhir4h8MW7np0Xk153WsWw4+PViEXlIRB6PfXtLN/QsEyJyh4i8LiJPWb4XEflpXCdPiMiaQgWq6pT7B9SBvwPLgOnAX4FVLddcDtwa/30OcHe39e6AzeuBA+K/L+sHm+PrZgGPALuA0W7rXXEbjwCPA4fEn+d1W+8O2HwbcFn89yrghW7rXYLda4E1wFOW77cADwICnAQ8WqS8qTojOAHYo6rPq+qHwF3AtpZrtgF3xn/fC4xJ6+navYVcm1X1IVV9P/64i+hUuF6GSzsDfB+4GUgfOtxbcLH3a8Atqvo2gKq+3mEdy4aLzQocFP89G/hXB/WrBKr6CPDvjEu2Ab/UCLuITntc0G55UzUQLAReavj8ciwzXqPR4TnvEh2O06twsbkRFxFlFL2MXJvjKfMiVb2/k4pVBJc2Xg4sF5E/icguEdncMe2qgYvNNwHnxYdkPQBc1RnVugrf/p6J3DOLA6YeROQ8YBRY121dqoSI1IAfAxd2WZVOYoCIHjqNaMb3iIgco6rvdFWranEu8AtV/ZGInAz8SkRWq+p4txXrFUzVGcErwKKGz0fEMuM1IjJANKV8qyPaVQMXmxGRjcCNwFZV3dsh3apCns2zgNXAwyLyAhGXuqOHF4xd2vhlojPBP1LVfwB/IwoMvQoXmy8C7gFQ1T8D+xG9nG0qw6m/u2KqBoLHgBERWSoi04kWg3e0XLMDuCD++2zgjxqvwvQocm0WkeOAnxEFgV7njiHHZlV9V1UHVXVIVYeI1kW2qmqvnnPq4te/I5oNICKDRFTR851UsmS42PwiMAYgIkcRBYI3Oqpl57ED+Eq8e+gk4F1VfbXdm01JakhVPxaRK4GdRLsO7lDVp0Xke8BuVd0B3E40hdxDtChzTvc0Lg5Hm38IzAR+G6+Lv6iqW7umdEE42jxl4GjvTuB0EXkG2Adcr6o9O9N1tPmbwM9F5BqiheMLezypQ0R+QxTQB+O1j+8C0wBU9VaitZAtwB7gfeCrhcrr8foKCAgICCiIqUoNBQQEBAQ4IgSCgICAgD5HCAQBAQEBfY4QCAICAgL6HCEQBAQEBPQ5QiAICAgI6HOEQBAQEBDQ5/g/E4RiB12/xWwAAAAASUVORK5CYII=\n"
                },
                "metadata": {
                  "needs_background": "light"
                }
              }
            ]
          }
        },
        "ce4a3ae1e6fb4349a945feb31095971e": {
          "model_module": "@jupyter-widgets/base",
          "model_name": "LayoutModel",
          "model_module_version": "1.2.0",
          "state": {
            "_model_module": "@jupyter-widgets/base",
            "_model_module_version": "1.2.0",
            "_model_name": "LayoutModel",
            "_view_count": null,
            "_view_module": "@jupyter-widgets/base",
            "_view_module_version": "1.2.0",
            "_view_name": "LayoutView",
            "align_content": null,
            "align_items": null,
            "align_self": null,
            "border": null,
            "bottom": null,
            "display": null,
            "flex": null,
            "flex_flow": null,
            "grid_area": null,
            "grid_auto_columns": null,
            "grid_auto_flow": null,
            "grid_auto_rows": null,
            "grid_column": null,
            "grid_gap": null,
            "grid_row": null,
            "grid_template_areas": null,
            "grid_template_columns": null,
            "grid_template_rows": null,
            "height": null,
            "justify_content": null,
            "justify_items": null,
            "left": null,
            "margin": null,
            "max_height": null,
            "max_width": null,
            "min_height": null,
            "min_width": null,
            "object_fit": null,
            "object_position": null,
            "order": null,
            "overflow": null,
            "overflow_x": null,
            "overflow_y": null,
            "padding": null,
            "right": null,
            "top": null,
            "visibility": null,
            "width": null
          }
        },
        "5b2cc463c92c48c1b1130a1e8e3edc89": {
          "model_module": "@jupyter-widgets/base",
          "model_name": "LayoutModel",
          "model_module_version": "1.2.0",
          "state": {
            "_model_module": "@jupyter-widgets/base",
            "_model_module_version": "1.2.0",
            "_model_name": "LayoutModel",
            "_view_count": null,
            "_view_module": "@jupyter-widgets/base",
            "_view_module_version": "1.2.0",
            "_view_name": "LayoutView",
            "align_content": null,
            "align_items": null,
            "align_self": null,
            "border": null,
            "bottom": null,
            "display": null,
            "flex": null,
            "flex_flow": null,
            "grid_area": null,
            "grid_auto_columns": null,
            "grid_auto_flow": null,
            "grid_auto_rows": null,
            "grid_column": null,
            "grid_gap": null,
            "grid_row": null,
            "grid_template_areas": null,
            "grid_template_columns": null,
            "grid_template_rows": null,
            "height": null,
            "justify_content": null,
            "justify_items": null,
            "left": null,
            "margin": null,
            "max_height": null,
            "max_width": null,
            "min_height": null,
            "min_width": null,
            "object_fit": null,
            "object_position": null,
            "order": null,
            "overflow": null,
            "overflow_x": null,
            "overflow_y": null,
            "padding": null,
            "right": null,
            "top": null,
            "visibility": null,
            "width": null
          }
        },
        "a5d97b5a68c84a26906ec26e736859b5": {
          "model_module": "@jupyter-widgets/controls",
          "model_name": "SliderStyleModel",
          "model_module_version": "1.5.0",
          "state": {
            "_model_module": "@jupyter-widgets/controls",
            "_model_module_version": "1.5.0",
            "_model_name": "SliderStyleModel",
            "_view_count": null,
            "_view_module": "@jupyter-widgets/base",
            "_view_module_version": "1.2.0",
            "_view_name": "StyleView",
            "description_width": "",
            "handle_color": null
          }
        },
        "dc5e3ee5bcb64899a80a0e9e96ea1f82": {
          "model_module": "@jupyter-widgets/base",
          "model_name": "LayoutModel",
          "model_module_version": "1.2.0",
          "state": {
            "_model_module": "@jupyter-widgets/base",
            "_model_module_version": "1.2.0",
            "_model_name": "LayoutModel",
            "_view_count": null,
            "_view_module": "@jupyter-widgets/base",
            "_view_module_version": "1.2.0",
            "_view_name": "LayoutView",
            "align_content": null,
            "align_items": null,
            "align_self": null,
            "border": null,
            "bottom": null,
            "display": null,
            "flex": null,
            "flex_flow": null,
            "grid_area": null,
            "grid_auto_columns": null,
            "grid_auto_flow": null,
            "grid_auto_rows": null,
            "grid_column": null,
            "grid_gap": null,
            "grid_row": null,
            "grid_template_areas": null,
            "grid_template_columns": null,
            "grid_template_rows": null,
            "height": null,
            "justify_content": null,
            "justify_items": null,
            "left": null,
            "margin": null,
            "max_height": null,
            "max_width": null,
            "min_height": null,
            "min_width": null,
            "object_fit": null,
            "object_position": null,
            "order": null,
            "overflow": null,
            "overflow_x": null,
            "overflow_y": null,
            "padding": null,
            "right": null,
            "top": null,
            "visibility": null,
            "width": null
          }
        },
        "7676fe64d297478fb5d0e852d98ce639": {
          "model_module": "@jupyter-widgets/controls",
          "model_name": "VBoxModel",
          "model_module_version": "1.5.0",
          "state": {
            "_dom_classes": [
              "widget-interact"
            ],
            "_model_module": "@jupyter-widgets/controls",
            "_model_module_version": "1.5.0",
            "_model_name": "VBoxModel",
            "_view_count": null,
            "_view_module": "@jupyter-widgets/controls",
            "_view_module_version": "1.5.0",
            "_view_name": "VBoxView",
            "box_style": "",
            "children": [
              "IPY_MODEL_dc707f5fad0d4cd2bb36452e2f1cba6d",
              "IPY_MODEL_90bb7e928cd249388651a8f77ac6c82a"
            ],
            "layout": "IPY_MODEL_072712becd7b4d5f96dead74bab777b4"
          }
        },
        "dc707f5fad0d4cd2bb36452e2f1cba6d": {
          "model_module": "@jupyter-widgets/controls",
          "model_name": "IntSliderModel",
          "model_module_version": "1.5.0",
          "state": {
            "_dom_classes": [],
            "_model_module": "@jupyter-widgets/controls",
            "_model_module_version": "1.5.0",
            "_model_name": "IntSliderModel",
            "_view_count": null,
            "_view_module": "@jupyter-widgets/controls",
            "_view_module_version": "1.5.0",
            "_view_name": "IntSliderView",
            "continuous_update": true,
            "description": "phase",
            "description_tooltip": null,
            "disabled": false,
            "layout": "IPY_MODEL_b548478f2fc5455ca930a4d93336d4d4",
            "max": 90,
            "min": 0,
            "orientation": "horizontal",
            "readout": true,
            "readout_format": "d",
            "step": 5,
            "style": "IPY_MODEL_d4a839482fff422abaee5c6f7bd92ea0",
            "value": 30
          }
        },
        "90bb7e928cd249388651a8f77ac6c82a": {
          "model_module": "@jupyter-widgets/output",
          "model_name": "OutputModel",
          "model_module_version": "1.0.0",
          "state": {
            "_dom_classes": [],
            "_model_module": "@jupyter-widgets/output",
            "_model_module_version": "1.0.0",
            "_model_name": "OutputModel",
            "_view_count": null,
            "_view_module": "@jupyter-widgets/output",
            "_view_module_version": "1.0.0",
            "_view_name": "OutputView",
            "layout": "IPY_MODEL_f83df8ab4dba488f8dc7151c99275a74",
            "msg_id": "",
            "outputs": [
              {
                "output_type": "display_data",
                "data": {
                  "text/plain": "<Figure size 432x288 with 1 Axes>",
                  "image/png": "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\n"
                },
                "metadata": {
                  "needs_background": "light"
                }
              }
            ]
          }
        },
        "072712becd7b4d5f96dead74bab777b4": {
          "model_module": "@jupyter-widgets/base",
          "model_name": "LayoutModel",
          "model_module_version": "1.2.0",
          "state": {
            "_model_module": "@jupyter-widgets/base",
            "_model_module_version": "1.2.0",
            "_model_name": "LayoutModel",
            "_view_count": null,
            "_view_module": "@jupyter-widgets/base",
            "_view_module_version": "1.2.0",
            "_view_name": "LayoutView",
            "align_content": null,
            "align_items": null,
            "align_self": null,
            "border": null,
            "bottom": null,
            "display": null,
            "flex": null,
            "flex_flow": null,
            "grid_area": null,
            "grid_auto_columns": null,
            "grid_auto_flow": null,
            "grid_auto_rows": null,
            "grid_column": null,
            "grid_gap": null,
            "grid_row": null,
            "grid_template_areas": null,
            "grid_template_columns": null,
            "grid_template_rows": null,
            "height": null,
            "justify_content": null,
            "justify_items": null,
            "left": null,
            "margin": null,
            "max_height": null,
            "max_width": null,
            "min_height": null,
            "min_width": null,
            "object_fit": null,
            "object_position": null,
            "order": null,
            "overflow": null,
            "overflow_x": null,
            "overflow_y": null,
            "padding": null,
            "right": null,
            "top": null,
            "visibility": null,
            "width": null
          }
        },
        "b548478f2fc5455ca930a4d93336d4d4": {
          "model_module": "@jupyter-widgets/base",
          "model_name": "LayoutModel",
          "model_module_version": "1.2.0",
          "state": {
            "_model_module": "@jupyter-widgets/base",
            "_model_module_version": "1.2.0",
            "_model_name": "LayoutModel",
            "_view_count": null,
            "_view_module": "@jupyter-widgets/base",
            "_view_module_version": "1.2.0",
            "_view_name": "LayoutView",
            "align_content": null,
            "align_items": null,
            "align_self": null,
            "border": null,
            "bottom": null,
            "display": null,
            "flex": null,
            "flex_flow": null,
            "grid_area": null,
            "grid_auto_columns": null,
            "grid_auto_flow": null,
            "grid_auto_rows": null,
            "grid_column": null,
            "grid_gap": null,
            "grid_row": null,
            "grid_template_areas": null,
            "grid_template_columns": null,
            "grid_template_rows": null,
            "height": null,
            "justify_content": null,
            "justify_items": null,
            "left": null,
            "margin": null,
            "max_height": null,
            "max_width": null,
            "min_height": null,
            "min_width": null,
            "object_fit": null,
            "object_position": null,
            "order": null,
            "overflow": null,
            "overflow_x": null,
            "overflow_y": null,
            "padding": null,
            "right": null,
            "top": null,
            "visibility": null,
            "width": null
          }
        },
        "d4a839482fff422abaee5c6f7bd92ea0": {
          "model_module": "@jupyter-widgets/controls",
          "model_name": "SliderStyleModel",
          "model_module_version": "1.5.0",
          "state": {
            "_model_module": "@jupyter-widgets/controls",
            "_model_module_version": "1.5.0",
            "_model_name": "SliderStyleModel",
            "_view_count": null,
            "_view_module": "@jupyter-widgets/base",
            "_view_module_version": "1.2.0",
            "_view_name": "StyleView",
            "description_width": "",
            "handle_color": null
          }
        },
        "f83df8ab4dba488f8dc7151c99275a74": {
          "model_module": "@jupyter-widgets/base",
          "model_name": "LayoutModel",
          "model_module_version": "1.2.0",
          "state": {
            "_model_module": "@jupyter-widgets/base",
            "_model_module_version": "1.2.0",
            "_model_name": "LayoutModel",
            "_view_count": null,
            "_view_module": "@jupyter-widgets/base",
            "_view_module_version": "1.2.0",
            "_view_name": "LayoutView",
            "align_content": null,
            "align_items": null,
            "align_self": null,
            "border": null,
            "bottom": null,
            "display": null,
            "flex": null,
            "flex_flow": null,
            "grid_area": null,
            "grid_auto_columns": null,
            "grid_auto_flow": null,
            "grid_auto_rows": null,
            "grid_column": null,
            "grid_gap": null,
            "grid_row": null,
            "grid_template_areas": null,
            "grid_template_columns": null,
            "grid_template_rows": null,
            "height": null,
            "justify_content": null,
            "justify_items": null,
            "left": null,
            "margin": null,
            "max_height": null,
            "max_width": null,
            "min_height": null,
            "min_width": null,
            "object_fit": null,
            "object_position": null,
            "order": null,
            "overflow": null,
            "overflow_x": null,
            "overflow_y": null,
            "padding": null,
            "right": null,
            "top": null,
            "visibility": null,
            "width": null
          }
        },
        "2cc2fd7061074db5a41d236c3e6b8c3a": {
          "model_module": "@jupyter-widgets/controls",
          "model_name": "VBoxModel",
          "model_module_version": "1.5.0",
          "state": {
            "_dom_classes": [
              "widget-interact"
            ],
            "_model_module": "@jupyter-widgets/controls",
            "_model_module_version": "1.5.0",
            "_model_name": "VBoxModel",
            "_view_count": null,
            "_view_module": "@jupyter-widgets/controls",
            "_view_module_version": "1.5.0",
            "_view_name": "VBoxView",
            "box_style": "",
            "children": [
              "IPY_MODEL_a231bd32f59d4c9da3f0ad442c20bdcb",
              "IPY_MODEL_fdc09a01efb54bb5aa419eb9fbd1acf2"
            ],
            "layout": "IPY_MODEL_75d7cd3da4d4418285107e1ac47d8ee7"
          }
        },
        "a231bd32f59d4c9da3f0ad442c20bdcb": {
          "model_module": "@jupyter-widgets/controls",
          "model_name": "FloatSliderModel",
          "model_module_version": "1.5.0",
          "state": {
            "_dom_classes": [],
            "_model_module": "@jupyter-widgets/controls",
            "_model_module_version": "1.5.0",
            "_model_name": "FloatSliderModel",
            "_view_count": null,
            "_view_module": "@jupyter-widgets/controls",
            "_view_module_version": "1.5.0",
            "_view_name": "FloatSliderView",
            "continuous_update": true,
            "description": "a",
            "description_tooltip": null,
            "disabled": false,
            "layout": "IPY_MODEL_5b2fd846ae2e45bab5e83e9ed639c289",
            "max": 0.9,
            "min": 0.1,
            "orientation": "horizontal",
            "readout": true,
            "readout_format": ".2f",
            "step": 0.1,
            "style": "IPY_MODEL_d007085a5bb5496893074632f74611e1",
            "value": 0.6
          }
        },
        "fdc09a01efb54bb5aa419eb9fbd1acf2": {
          "model_module": "@jupyter-widgets/output",
          "model_name": "OutputModel",
          "model_module_version": "1.0.0",
          "state": {
            "_dom_classes": [],
            "_model_module": "@jupyter-widgets/output",
            "_model_module_version": "1.0.0",
            "_model_name": "OutputModel",
            "_view_count": null,
            "_view_module": "@jupyter-widgets/output",
            "_view_module_version": "1.0.0",
            "_view_name": "OutputView",
            "layout": "IPY_MODEL_290a278bb682445d8b534792ca3d48af",
            "msg_id": "",
            "outputs": [
              {
                "output_type": "display_data",
                "data": {
                  "text/plain": "<Figure size 432x288 with 1 Axes>",
                  "image/png": "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\n"
                },
                "metadata": {
                  "needs_background": "light"
                }
              },
              {
                "output_type": "display_data",
                "data": {
                  "text/plain": "<Figure size 432x288 with 1 Axes>",
                  "image/png": "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\n"
                },
                "metadata": {
                  "needs_background": "light"
                }
              }
            ]
          }
        },
        "75d7cd3da4d4418285107e1ac47d8ee7": {
          "model_module": "@jupyter-widgets/base",
          "model_name": "LayoutModel",
          "model_module_version": "1.2.0",
          "state": {
            "_model_module": "@jupyter-widgets/base",
            "_model_module_version": "1.2.0",
            "_model_name": "LayoutModel",
            "_view_count": null,
            "_view_module": "@jupyter-widgets/base",
            "_view_module_version": "1.2.0",
            "_view_name": "LayoutView",
            "align_content": null,
            "align_items": null,
            "align_self": null,
            "border": null,
            "bottom": null,
            "display": null,
            "flex": null,
            "flex_flow": null,
            "grid_area": null,
            "grid_auto_columns": null,
            "grid_auto_flow": null,
            "grid_auto_rows": null,
            "grid_column": null,
            "grid_gap": null,
            "grid_row": null,
            "grid_template_areas": null,
            "grid_template_columns": null,
            "grid_template_rows": null,
            "height": null,
            "justify_content": null,
            "justify_items": null,
            "left": null,
            "margin": null,
            "max_height": null,
            "max_width": null,
            "min_height": null,
            "min_width": null,
            "object_fit": null,
            "object_position": null,
            "order": null,
            "overflow": null,
            "overflow_x": null,
            "overflow_y": null,
            "padding": null,
            "right": null,
            "top": null,
            "visibility": null,
            "width": null
          }
        },
        "5b2fd846ae2e45bab5e83e9ed639c289": {
          "model_module": "@jupyter-widgets/base",
          "model_name": "LayoutModel",
          "model_module_version": "1.2.0",
          "state": {
            "_model_module": "@jupyter-widgets/base",
            "_model_module_version": "1.2.0",
            "_model_name": "LayoutModel",
            "_view_count": null,
            "_view_module": "@jupyter-widgets/base",
            "_view_module_version": "1.2.0",
            "_view_name": "LayoutView",
            "align_content": null,
            "align_items": null,
            "align_self": null,
            "border": null,
            "bottom": null,
            "display": null,
            "flex": null,
            "flex_flow": null,
            "grid_area": null,
            "grid_auto_columns": null,
            "grid_auto_flow": null,
            "grid_auto_rows": null,
            "grid_column": null,
            "grid_gap": null,
            "grid_row": null,
            "grid_template_areas": null,
            "grid_template_columns": null,
            "grid_template_rows": null,
            "height": null,
            "justify_content": null,
            "justify_items": null,
            "left": null,
            "margin": null,
            "max_height": null,
            "max_width": null,
            "min_height": null,
            "min_width": null,
            "object_fit": null,
            "object_position": null,
            "order": null,
            "overflow": null,
            "overflow_x": null,
            "overflow_y": null,
            "padding": null,
            "right": null,
            "top": null,
            "visibility": null,
            "width": null
          }
        },
        "d007085a5bb5496893074632f74611e1": {
          "model_module": "@jupyter-widgets/controls",
          "model_name": "SliderStyleModel",
          "model_module_version": "1.5.0",
          "state": {
            "_model_module": "@jupyter-widgets/controls",
            "_model_module_version": "1.5.0",
            "_model_name": "SliderStyleModel",
            "_view_count": null,
            "_view_module": "@jupyter-widgets/base",
            "_view_module_version": "1.2.0",
            "_view_name": "StyleView",
            "description_width": "",
            "handle_color": null
          }
        },
        "290a278bb682445d8b534792ca3d48af": {
          "model_module": "@jupyter-widgets/base",
          "model_name": "LayoutModel",
          "model_module_version": "1.2.0",
          "state": {
            "_model_module": "@jupyter-widgets/base",
            "_model_module_version": "1.2.0",
            "_model_name": "LayoutModel",
            "_view_count": null,
            "_view_module": "@jupyter-widgets/base",
            "_view_module_version": "1.2.0",
            "_view_name": "LayoutView",
            "align_content": null,
            "align_items": null,
            "align_self": null,
            "border": null,
            "bottom": null,
            "display": null,
            "flex": null,
            "flex_flow": null,
            "grid_area": null,
            "grid_auto_columns": null,
            "grid_auto_flow": null,
            "grid_auto_rows": null,
            "grid_column": null,
            "grid_gap": null,
            "grid_row": null,
            "grid_template_areas": null,
            "grid_template_columns": null,
            "grid_template_rows": null,
            "height": null,
            "justify_content": null,
            "justify_items": null,
            "left": null,
            "margin": null,
            "max_height": null,
            "max_width": null,
            "min_height": null,
            "min_width": null,
            "object_fit": null,
            "object_position": null,
            "order": null,
            "overflow": null,
            "overflow_x": null,
            "overflow_y": null,
            "padding": null,
            "right": null,
            "top": null,
            "visibility": null,
            "width": null
          }
        }
      }
    }
  },
  "cells": [
    {
      "cell_type": "markdown",
      "metadata": {
        "id": "view-in-github",
        "colab_type": "text"
      },
      "source": [
        "<a href=\"https://colab.research.google.com/github/chenshuo/notes/blob/master/notebooks/DSP_Labs.ipynb\" target=\"_parent\"><img src=\"https://colab.research.google.com/assets/colab-badge.svg\" alt=\"Open In Colab\"/></a>"
      ]
    },
    {
      "cell_type": "markdown",
      "source": [
        "# Digital signal processing beginner's labs\n",
        "\n",
        "Author: Shuo Chen (chenshuo _at_ chenshuo.com)\n",
        "\n",
        "Latest version: https://github.com/chenshuo/notes/blob/master/notebooks/DSP_Labs.ipynb"
      ],
      "metadata": {
        "id": "gY7tTgQQ-QiC"
      }
    },
    {
      "cell_type": "markdown",
      "source": [
        "Links\n",
        "* [Allen Downey - Introduction to Digital Signal Processing - PyCon 2018](https://www.youtube.com/watch?v=SrJq2AzXZME)"
      ],
      "metadata": {
        "id": "6hTNaaS8Qhem"
      }
    },
    {
      "cell_type": "code",
      "source": [
        "# !pip install control"
      ],
      "metadata": {
        "id": "cSzLIobQsXrb"
      },
      "execution_count": null,
      "outputs": []
    },
    {
      "cell_type": "code",
      "execution_count": 1,
      "metadata": {
        "id": "dcw57ahuteKf"
      },
      "outputs": [],
      "source": [
        "import numpy as np\n",
        "import matplotlib.pyplot as plt\n",
        "import scipy.signal as signal\n",
        "# import control\n",
        "\n",
        "import ipywidgets as widgets\n",
        "from ipywidgets import interact, interact_manual"
      ]
    },
    {
      "cell_type": "code",
      "source": [
        "def draw_pzmap(dlti):\n",
        "  plt.plot(np.real(dlti.zeros), np.imag(dlti.zeros), 'o', mfc='none')\n",
        "  plt.plot(np.real(dlti.poles), np.imag(dlti.poles), 'x')\n",
        "  w = np.linspace(0, 2*np.pi)\n",
        "  plt.plot(np.cos(w), np.sin(w), 'y--')\n",
        "  limits = plt.axis(\"equal\")\n",
        "  plt.grid()\n",
        "\n",
        "def draw_resp_stem(x, y):\n",
        "  plt.stem(x, use_line_collection=True)\n",
        "  (markerline, _, _) = plt.stem(y, linefmt='r', markerfmt='ro', use_line_collection=True)\n",
        "  markerline.set_markerfacecolor('none')"
      ],
      "metadata": {
        "id": "NjBmf9UFteuS"
      },
      "execution_count": 2,
      "outputs": []
    },
    {
      "cell_type": "markdown",
      "source": [
        "# Lab1: Discrete LTI systems"
      ],
      "metadata": {
        "id": "69KfDLnBtnsA"
      }
    },
    {
      "cell_type": "markdown",
      "source": [
        "**Weighted Moving Average**\n",
        "\n",
        "* Memoryless\n",
        "\n",
        "![fir.png](data:image/png;base64,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)\n",
        "\n",
        "$$\\begin{aligned}\n",
        "  y[n] &= \\sum_{i=0}^{L}b[i] x[n-i] \\\\\n",
        "       & = b[0]x[n] + b[1]x[n-1] + \\cdots + b[L]x[n-L]\n",
        "\\end{aligned} $$"
      ],
      "metadata": {
        "id": "N99nLlIwCCc-"
      }
    },
    {
      "cell_type": "markdown",
      "source": [
        "* [scipy.signal.convolve](https://docs.scipy.org/doc/scipy/reference/generated/scipy.signal.convolve.html), [oaconvolve](https://docs.scipy.org/doc/scipy/reference/generated/scipy.signal.oaconvolve.html), [fftconvolve](https://docs.scipy.org/doc/scipy/reference/generated/scipy.signal.fftconvolve.html)\n",
        "* [scipy.signal.lfilter](https://docs.scipy.org/doc/scipy/reference/generated/scipy.signal.lfilter.html)\n",
        "* [scipy.signal.dlsim](https://docs.scipy.org/doc/scipy/reference/generated/scipy.signal.dlsim.html)\n",
        "* [scipy.signal.dlti.output](https://docs.scipy.org/doc/scipy/reference/generated/scipy.signal.dlti.output.html)\n",
        "---"
      ],
      "metadata": {
        "id": "TMHwgf-u9A0S"
      }
    },
    {
      "cell_type": "code",
      "source": [
        "from collections.abc import Sequence\n",
        "\n",
        "def direct_wma(b : Sequence, x : Sequence) -> Sequence:\n",
        "  y = np.zeros(len(x))\n",
        "  x_pad = np.concatenate((np.zeros(len(b)-1), x))\n",
        "  b_rev = np.array(b[::-1], dtype='d')\n",
        "  for i in range(len(x)):\n",
        "    y[i] = np.dot(b_rev, x_pad[i : i + len(b)])\n",
        "  return y\n",
        "\n",
        "b = [2, 1]\n",
        "x = np.arange(10) \n",
        "y = direct_wma(b, x)\n",
        "print(np.array([x, y]).T)"
      ],
      "metadata": {
        "id": "ZVF3YAu5CBpg",
        "colab": {
          "base_uri": "https://localhost:8080/"
        },
        "outputId": "e5ac0d2d-bcea-4b02-918c-a7162d8972d5"
      },
      "execution_count": null,
      "outputs": [
        {
          "output_type": "stream",
          "name": "stdout",
          "text": [
            "[[ 0.  0.]\n",
            " [ 1.  2.]\n",
            " [ 2.  5.]\n",
            " [ 3.  8.]\n",
            " [ 4. 11.]\n",
            " [ 5. 14.]\n",
            " [ 6. 17.]\n",
            " [ 7. 20.]\n",
            " [ 8. 23.]\n",
            " [ 9. 26.]]\n"
          ]
        }
      ]
    },
    {
      "cell_type": "code",
      "source": [
        "b = [2, 1]\n",
        "x = np.arange(10, dtype='d')\n",
        "y = signal.lfilter(b, [1], x)\n",
        "print(np.array([x, y]).T)"
      ],
      "metadata": {
        "colab": {
          "base_uri": "https://localhost:8080/"
        },
        "id": "lNbjXLeaQxHY",
        "outputId": "6a2681b1-3c08-4088-9714-753ae12af75f"
      },
      "execution_count": null,
      "outputs": [
        {
          "output_type": "stream",
          "name": "stdout",
          "text": [
            "[[ 0.  0.]\n",
            " [ 1.  2.]\n",
            " [ 2.  5.]\n",
            " [ 3.  8.]\n",
            " [ 4. 11.]\n",
            " [ 5. 14.]\n",
            " [ 6. 17.]\n",
            " [ 7. 20.]\n",
            " [ 8. 23.]\n",
            " [ 9. 26.]]\n"
          ]
        }
      ]
    },
    {
      "cell_type": "markdown",
      "source": [
        "**Recursive, or ladder**\n",
        "\n",
        "![iir.png](data:image/png;base64,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)\n",
        "\n",
        "$$\\begin{aligned}\n",
        "y[n] = &\\sum_{i=0}^{L}b[i]x[n-i] - \\sum_{i=1}^{M}a[i\\,]y[n-i\\,] \\\\\n",
        " = & \\  b[0]x[n] + b[1]x[n-1] + \\cdots + b[L]x[n-L] \\\\\n",
        "        &-(a[1]y[n-1]+a[2]y[n-2]+\\cdots+a[M]y[n-M])\n",
        "\\end{aligned}$$"
      ],
      "metadata": {
        "id": "V3_mUN2eC445"
      }
    },
    {
      "cell_type": "markdown",
      "source": [
        "* [scipy.signal.lfilter](https://docs.scipy.org/doc/scipy/reference/generated/scipy.signal.lfilter.html)\n",
        "* [scipy.signal.dlsim](https://docs.scipy.org/doc/scipy/reference/generated/scipy.signal.dlsim.html)\n",
        "* [scipy.signal.dlti.output](https://docs.scipy.org/doc/scipy/reference/generated/scipy.signal.dlti.output.html)"
      ],
      "metadata": {
        "id": "w-ziRvxZ8BR2"
      }
    },
    {
      "cell_type": "markdown",
      "source": [
        "What if `x` is *Iterable*, not *Sequence*?\n",
        "\n",
        "Realtime DSP."
      ],
      "metadata": {
        "id": "1r8jdpp2Re8b"
      }
    },
    {
      "cell_type": "code",
      "source": [
        "# Pseudo code only\n",
        "\n",
        "def iterative_dlti(b : list, a : list, x_in : Iterable) -> Iterable:\n",
        "  x_vec = np.zeros(len(b))  # circular buffer\n",
        "  y_vec = np.zeros(len(a))  # circular buffer\n",
        "  for u in x_in:\n",
        "    # update x_vec\n",
        "    yn = np.dot(x_vec, b) - np.dot(y_vec, a)\n",
        "    # update y_vec\n",
        "    yield yn\n",
        "\n",
        "for y in iterative_dlti(b, a, x):\n",
        "  output(y)"
      ],
      "metadata": {
        "id": "PeUkDuslRt_f"
      },
      "execution_count": null,
      "outputs": []
    },
    {
      "cell_type": "markdown",
      "source": [
        "## Moving average\n",
        "\n",
        "Julius O. Smith, _Introduction to Digital Filters with Audio Applications_, http://ccrma.stanford.edu/~jos/filters/\n",
        "\n",
        "Chapter 1: https://ccrma.stanford.edu/~jos/filters/Simplest_Lowpass_Filter.html"
      ],
      "metadata": {
        "id": "6LX7jQZZ-IjJ"
      }
    },
    {
      "cell_type": "markdown",
      "source": [
        "$y[n] = \\frac{1}{2}x[n]+\\frac{1}{2}x[n-1]$"
      ],
      "metadata": {
        "id": "ZhdfBF-tMdW5"
      }
    },
    {
      "cell_type": "code",
      "source": [
        "b = [1/2, 1/2]\n",
        "\n",
        "x = np.arange(11)\n",
        "y = signal.lfilter(b, [1], x)  # or signal.convolve(b, x)\n",
        "print(np.array([x, y]).T)"
      ],
      "metadata": {
        "colab": {
          "base_uri": "https://localhost:8080/"
        },
        "id": "avEB5wJN-MY6",
        "outputId": "568f70de-6807-426f-ae09-15dae7d8ca87"
      },
      "execution_count": null,
      "outputs": [
        {
          "output_type": "stream",
          "name": "stdout",
          "text": [
            "[[ 0.   0. ]\n",
            " [ 1.   0.5]\n",
            " [ 2.   1.5]\n",
            " [ 3.   2.5]\n",
            " [ 4.   3.5]\n",
            " [ 5.   4.5]\n",
            " [ 6.   5.5]\n",
            " [ 7.   6.5]\n",
            " [ 8.   7.5]\n",
            " [ 9.   8.5]\n",
            " [10.   9.5]]\n"
          ]
        }
      ]
    },
    {
      "cell_type": "markdown",
      "source": [
        "[scipy.signal.dlti](https://docs.scipy.org/doc/scipy/reference/generated/scipy.signal.dlti.html) Discrete-time linear time invariant system "
      ],
      "metadata": {
        "id": "a3Xt0kZT8cZ1"
      }
    },
    {
      "cell_type": "code",
      "source": [
        "dlti = signal.dlti(b, [1])\n",
        "print('Zeros:', dlti.zeros)\n",
        "print('Poles:', dlti.poles)\n",
        "draw_pzmap(dlti)"
      ],
      "metadata": {
        "colab": {
          "base_uri": "https://localhost:8080/",
          "height": 300
        },
        "id": "KQpY3vTjkPUa",
        "outputId": "1a12eedc-dc00-4cc7-f6b3-3e36f174a1ee"
      },
      "execution_count": null,
      "outputs": [
        {
          "output_type": "stream",
          "name": "stdout",
          "text": [
            "Zeros: [-1.]\n",
            "Poles: []\n"
          ]
        },
        {
          "output_type": "display_data",
          "data": {
            "text/plain": [
              "<Figure size 432x288 with 1 Axes>"
            ],
            "image/png": "[encoded data removed]"
          },
          "metadata": {
            "needs_background": "light"
          }
        }
      ]
    },
    {
      "cell_type": "code",
      "source": [
        "w, mag = dlti.freqresp()\n",
        "plt.plot(w, np.abs(mag))"
      ],
      "metadata": {
        "colab": {
          "base_uri": "https://localhost:8080/",
          "height": 282
        },
        "id": "Mmscc7qG_Wcx",
        "outputId": "9e98a47f-1072-4572-f931-2ec0719695e8"
      },
      "execution_count": null,
      "outputs": [
        {
          "output_type": "execute_result",
          "data": {
            "text/plain": [
              "[<matplotlib.lines.Line2D at 0x7fb42a3a1310>]"
            ]
          },
          "metadata": {},
          "execution_count": 25
        },
        {
          "output_type": "display_data",
          "data": {
            "text/plain": [
              "<Figure size 432x288 with 1 Axes>"
            ],
            "image/png": "[encoded data removed]"
          },
          "metadata": {
            "needs_background": "light"
          }
        }
      ]
    },
    {
      "cell_type": "code",
      "source": [
        "w, mag, phase = dlti.bode()\n",
        "plt.semilogx(w/np.pi, mag)\n",
        "plt.figure(2)\n",
        "plt.plot(w/np.pi,phase)"
      ],
      "metadata": {
        "colab": {
          "base_uri": "https://localhost:8080/",
          "height": 534
        },
        "id": "i34SjbHK_DXs",
        "outputId": "9dab60cc-bd18-41b0-de4e-9661353507f0"
      },
      "execution_count": null,
      "outputs": [
        {
          "output_type": "execute_result",
          "data": {
            "text/plain": [
              "[<matplotlib.lines.Line2D at 0x7fb429fbfe10>]"
            ]
          },
          "metadata": {},
          "execution_count": 32
        },
        {
          "output_type": "display_data",
          "data": {
            "text/plain": [
              "<Figure size 432x288 with 1 Axes>"
            ],
            "image/png": "[encoded data removed]"
          },
          "metadata": {
            "needs_background": "light"
          }
        },
        {
          "output_type": "display_data",
          "data": {
            "text/plain": [
              "<Figure size 432x288 with 1 Axes>"
            ],
            "image/png": "[encoded data removed]"
          },
          "metadata": {
            "needs_background": "light"
          }
        }
      ]
    },
    {
      "cell_type": "code",
      "source": [
        "w = np.arange(20) * np.pi\n",
        "x = np.cos(w)  # [1, -1, 1, -1, 1, -1, ...]\n",
        "y = np.convolve(b, x)\n",
        "\n",
        "plt.stem(x, use_line_collection=True)\n",
        "plt.stem(y, linefmt='r', markerfmt='ro', use_line_collection=True)"
      ],
      "metadata": {
        "colab": {
          "base_uri": "https://localhost:8080/",
          "height": 265
        },
        "id": "NgM7Ai2JvcPj",
        "outputId": "54476bc6-387e-4923-d9f0-0078034c02c5"
      },
      "execution_count": null,
      "outputs": [
        {
          "output_type": "display_data",
          "data": {
            "text/plain": [
              "<Figure size 432x288 with 1 Axes>"
            ],
            "image/png": "[encoded data removed]"
          },
          "metadata": {
            "needs_background": "light"
          }
        }
      ]
    },
    {
      "cell_type": "code",
      "source": [
        "@interact(f = (0, 1, 0.02))\n",
        "def resp(f = 0.02):\n",
        "  t = np.linspace(0, 1, 101)\n",
        "  x = np.cos(t * 2*np.pi * f * 100)\n",
        "  plt.plot(t, x)\n",
        "  y = signal.lfilter([1/2, 1/2], [1], x)\n",
        "  plt.plot(t, y)\n",
        "  plt.show()"
      ],
      "metadata": {
        "colab": {
          "base_uri": "https://localhost:8080/",
          "height": 297,
          "referenced_widgets": [
            "781e8f4f4f894c8487a8353a61148d22",
            "f05f1bc15b4849fe90b8375c5fb6bfdb",
            "aae0b914e2a94ca2aa9752c9074915e8",
            "ce4a3ae1e6fb4349a945feb31095971e",
            "5b2cc463c92c48c1b1130a1e8e3edc89",
            "a5d97b5a68c84a26906ec26e736859b5",
            "dc5e3ee5bcb64899a80a0e9e96ea1f82"
          ]
        },
        "id": "fNtQiyZE3nys",
        "outputId": "b4f1c93b-abee-444e-89dd-765b0d80f520"
      },
      "execution_count": 10,
      "outputs": [
        {
          "output_type": "display_data",
          "data": {
            "text/plain": [
              "interactive(children=(FloatSlider(value=0.02, description='f', max=1.0, step=0.02), Output()), _dom_classes=('…"
            ],
            "application/vnd.jupyter.widget-view+json": {
              "version_major": 2,
              "version_minor": 0,
              "model_id": "781e8f4f4f894c8487a8353a61148d22"
            }
          },
          "metadata": {}
        }
      ]
    },
    {
      "cell_type": "markdown",
      "source": [
        "**n = 3**\n",
        "\n",
        "$y[n] = \\frac{1}{3}x[n] + \\frac{1}{3}x[n-1] + \\frac{1}{3}x[n-2]$"
      ],
      "metadata": {
        "id": "LwsIHdWl_-37"
      }
    },
    {
      "cell_type": "code",
      "source": [
        "b3 = [1/3, 1/3, 1/3]\n",
        "dlti3 = signal.dlti(b3, [1])\n",
        "\n",
        "w, mag = dlti3.freqresp()\n",
        "plt.plot(w/np.pi, np.abs(mag))\n",
        "print('min_mag = %.2f dB' % (20 * np.log10(np.min(np.abs(mag)))))"
      ],
      "metadata": {
        "id": "1nANj9o1JM9q",
        "colab": {
          "base_uri": "https://localhost:8080/",
          "height": 282
        },
        "outputId": "cfcf292b-23d8-407f-90e1-5d834ae40e1d"
      },
      "execution_count": null,
      "outputs": [
        {
          "output_type": "stream",
          "name": "stdout",
          "text": [
            "min_mag = -84.37 dB\n"
          ]
        },
        {
          "output_type": "display_data",
          "data": {
            "text/plain": [
              "<Figure size 432x288 with 1 Axes>"
            ],
            "image/png": "[encoded data removed]"
          },
          "metadata": {
            "needs_background": "light"
          }
        }
      ]
    },
    {
      "cell_type": "code",
      "source": [
        "w, mag, phase = dlti3.bode()\n",
        "plt.plot(w/np.pi, mag)"
      ],
      "metadata": {
        "colab": {
          "base_uri": "https://localhost:8080/",
          "height": 282
        },
        "id": "YmcJ1V2XXpJC",
        "outputId": "3724467f-3501-4b2f-87ae-7114a288ba9b"
      },
      "execution_count": null,
      "outputs": [
        {
          "output_type": "execute_result",
          "data": {
            "text/plain": [
              "[<matplotlib.lines.Line2D at 0x7fb428167210>]"
            ]
          },
          "metadata": {},
          "execution_count": 92
        },
        {
          "output_type": "display_data",
          "data": {
            "text/plain": [
              "<Figure size 432x288 with 1 Axes>"
            ],
            "image/png": "[encoded data removed]"
          },
          "metadata": {
            "needs_background": "light"
          }
        }
      ]
    },
    {
      "cell_type": "code",
      "source": [
        "draw_pzmap(dlti3)\n",
        "print(np.angle(dlti3.zeros)/np.pi*180)"
      ],
      "metadata": {
        "colab": {
          "base_uri": "https://localhost:8080/",
          "height": 282
        },
        "id": "B6tWqnWiABxS",
        "outputId": "1cd1d3c0-4137-43cc-d58c-9e3f6b526807"
      },
      "execution_count": null,
      "outputs": [
        {
          "output_type": "stream",
          "name": "stdout",
          "text": [
            "[ 120. -120.]\n"
          ]
        },
        {
          "output_type": "display_data",
          "data": {
            "text/plain": [
              "<Figure size 432x288 with 1 Axes>"
            ],
            "image/png": "[encoded data removed]"
          },
          "metadata": {
            "needs_background": "light"
          }
        }
      ]
    },
    {
      "cell_type": "code",
      "source": [
        "t = np.arange(20)\n",
        "x = np.cos(t * 2/3 * np.pi)\n",
        "y = np.convolve(x, b3)\n",
        "\n",
        "draw_resp_stem(x, y)\n",
        "print(x[0:10])"
      ],
      "metadata": {
        "colab": {
          "base_uri": "https://localhost:8080/",
          "height": 282
        },
        "id": "z-CX07V-EPfX",
        "outputId": "51d96eaf-bf4b-401d-d850-ad916ace7715"
      },
      "execution_count": null,
      "outputs": [
        {
          "output_type": "stream",
          "name": "stdout",
          "text": [
            "[ 1.  -0.5 -0.5  1.  -0.5 -0.5  1.  -0.5 -0.5  1. ]\n"
          ]
        },
        {
          "output_type": "display_data",
          "data": {
            "text/plain": [
              "<Figure size 432x288 with 1 Axes>"
            ],
            "image/png": "[encoded data removed]"
          },
          "metadata": {
            "needs_background": "light"
          }
        }
      ]
    },
    {
      "cell_type": "code",
      "source": [
        "t = np.arange(20)\n",
        "x = np.sin(t * 2/3 * np.pi)\n",
        "y = np.convolve(x, b3)\n",
        "draw_resp_stem(x, y)\n",
        "\n",
        "# x = [1, -1, 0, 1, -1, 0, 1, -1, 0, 1]"
      ],
      "metadata": {
        "colab": {
          "base_uri": "https://localhost:8080/",
          "height": 265
        },
        "id": "3Jq7yJdQRNvx",
        "outputId": "8872c75a-e218-4db6-bae1-456346a85941"
      },
      "execution_count": null,
      "outputs": [
        {
          "output_type": "display_data",
          "data": {
            "text/plain": [
              "<Figure size 432x288 with 1 Axes>"
            ],
            "image/png": "[encoded data removed]"
          },
          "metadata": {
            "needs_background": "light"
          }
        }
      ]
    },
    {
      "cell_type": "code",
      "source": [
        "@interact(phase=(0, 90, 5))\n",
        "def resp(phase=0):\n",
        "  t = np.arange(15)\n",
        "  x = np.cos(t * 2/3 * np.pi - phase / 180 * np.pi)\n",
        "  y = signal.lfilter(b3, [1], x)\n",
        "  plt.stem(t, x, use_line_collection=True)\n",
        "  t1 = np.arange(141) / 10\n",
        "  plt.plot(t1, np.cos(t1 * 2/3 * np.pi - phase / 180 * np.pi), 'y--')\n",
        "  (markerline, stemlines, baseline) = plt.stem(t, y, linefmt='r', markerfmt='ro', use_line_collection=True)\n",
        "  markerline.set_markerfacecolor('none')"
      ],
      "metadata": {
        "colab": {
          "base_uri": "https://localhost:8080/",
          "height": 297,
          "referenced_widgets": [
            "05bd9693454f427da7d1b1f75d0c9a3b",
            "5b12f97841414c95a8ec1102f515c531",
            "42f6c41cc1a7466a80d42cb290b66482",
            "4c2c3ed9876d42ebb1f8d5635b7a818d",
            "6a6bcde090f045929995dcc696673e2f",
            "28f971414ea845cd8cdab3a585d8b91e",
            "c71840c5742843598244ee6d6542470c"
          ]
        },
        "id": "hSS_92KES54P",
        "outputId": "3696ce83-7904-4fab-c928-6ebd7e78f7e0"
      },
      "execution_count": null,
      "outputs": [
        {
          "output_type": "display_data",
          "data": {
            "text/plain": [
              "interactive(children=(IntSlider(value=0, description='phase', max=90, step=5), Output()), _dom_classes=('widge…"
            ],
            "application/vnd.jupyter.widget-view+json": {
              "version_major": 2,
              "version_minor": 0,
              "model_id": "05bd9693454f427da7d1b1f75d0c9a3b"
            }
          },
          "metadata": {}
        }
      ]
    },
    {
      "cell_type": "markdown",
      "source": [
        "**n = 4**"
      ],
      "metadata": {
        "id": "knsLeDIjJJuJ"
      }
    },
    {
      "cell_type": "code",
      "source": [
        "b4 = np.ones(4) / 4.0\n",
        "dlti4 = signal.dlti(b4, [1])\n",
        "draw_pzmap(dlti4)"
      ],
      "metadata": {
        "colab": {
          "base_uri": "https://localhost:8080/",
          "height": 265
        },
        "id": "kQ4UbzkPJNt2",
        "outputId": "152f74e2-4329-4c75-b15f-67f8bab07f53"
      },
      "execution_count": 12,
      "outputs": [
        {
          "output_type": "display_data",
          "data": {
            "text/plain": [
              "<Figure size 432x288 with 1 Axes>"
            ],
            "image/png": "[encoded data removed]"
          },
          "metadata": {
            "needs_background": "light"
          }
        }
      ]
    },
    {
      "cell_type": "code",
      "source": [
        "w, mag = dlti4.freqresp()\n",
        "plt.plot(w/np.pi, np.abs(mag))"
      ],
      "metadata": {
        "colab": {
          "base_uri": "https://localhost:8080/",
          "height": 282
        },
        "id": "Kv21ctpYVUol",
        "outputId": "9f0ea4ea-e01b-41a6-e567-e8a810facbcb"
      },
      "execution_count": null,
      "outputs": [
        {
          "output_type": "execute_result",
          "data": {
            "text/plain": [
              "[<matplotlib.lines.Line2D at 0x7fb424cb2410>]"
            ]
          },
          "metadata": {},
          "execution_count": 74
        },
        {
          "output_type": "display_data",
          "data": {
            "text/plain": [
              "<Figure size 432x288 with 1 Axes>"
            ],
            "image/png": "[encoded data removed]"
          },
          "metadata": {
            "needs_background": "light"
          }
        }
      ]
    },
    {
      "cell_type": "code",
      "source": [
        "x = np.array([0, 1, 0, -1] * 5)\n",
        "y = signal.lfilter(b4, [1], x)\n",
        "\n",
        "draw_resp_stem(x, y)"
      ],
      "metadata": {
        "colab": {
          "base_uri": "https://localhost:8080/",
          "height": 265
        },
        "id": "1pYPJzpPVy9G",
        "outputId": "81f99c9a-27dc-4c14-d267-15a69fa07908"
      },
      "execution_count": null,
      "outputs": [
        {
          "output_type": "display_data",
          "data": {
            "text/plain": [
              "<Figure size 432x288 with 1 Axes>"
            ],
            "image/png": "[encoded data removed]"
          },
          "metadata": {
            "needs_background": "light"
          }
        }
      ]
    },
    {
      "cell_type": "code",
      "source": [
        "@interact(phase=(0, 90, 5))\n",
        "def resp(phase=0):\n",
        "  t = np.arange(16)\n",
        "  x = np.cos(t * 1/2 * np.pi - phase / 180 * np.pi)\n",
        "  y = signal.lfilter(b4, [1], x)\n",
        "  plt.stem(t, x, use_line_collection=True)\n",
        "  t1 = np.arange(151) / 10\n",
        "  plt.plot(t1, np.cos(t1 * 1/2 * np.pi - phase / 180 * np.pi), 'y--')\n",
        "  (markerline, stemlines, baseline) = plt.stem(t, y, linefmt='r', markerfmt='ro', use_line_collection=True)\n",
        "  markerline.set_markerfacecolor('none')"
      ],
      "metadata": {
        "colab": {
          "base_uri": "https://localhost:8080/",
          "height": 297,
          "referenced_widgets": [
            "7676fe64d297478fb5d0e852d98ce639",
            "dc707f5fad0d4cd2bb36452e2f1cba6d",
            "90bb7e928cd249388651a8f77ac6c82a",
            "072712becd7b4d5f96dead74bab777b4",
            "b548478f2fc5455ca930a4d93336d4d4",
            "d4a839482fff422abaee5c6f7bd92ea0",
            "f83df8ab4dba488f8dc7151c99275a74"
          ]
        },
        "id": "1NwFKPt1YPB9",
        "outputId": "3fae235a-6c99-4e2c-c1aa-7c7234f00b90"
      },
      "execution_count": 13,
      "outputs": [
        {
          "output_type": "display_data",
          "data": {
            "text/plain": [
              "interactive(children=(IntSlider(value=0, description='phase', max=90, step=5), Output()), _dom_classes=('widge…"
            ],
            "application/vnd.jupyter.widget-view+json": {
              "version_major": 2,
              "version_minor": 0,
              "model_id": "7676fe64d297478fb5d0e852d98ce639"
            }
          },
          "metadata": {}
        }
      ]
    },
    {
      "cell_type": "markdown",
      "source": [
        "## Differentiator\n",
        "\n",
        "$y[n]=x[n]-x[n-1]$"
      ],
      "metadata": {
        "id": "wKrvUxnP0-FL"
      }
    },
    {
      "cell_type": "code",
      "source": [
        "bd = [1, -1]\n",
        "x = np.arange(10, dtype='d')  ** 2 \n",
        "y = signal.lfilter(bd, [1], x)\n",
        "print(x)\n",
        "print(y)"
      ],
      "metadata": {
        "id": "aWOhZuDs7nJw",
        "colab": {
          "base_uri": "https://localhost:8080/"
        },
        "outputId": "0a25f9dc-116f-472c-aad2-74b25a59e0cf"
      },
      "execution_count": null,
      "outputs": [
        {
          "output_type": "stream",
          "name": "stdout",
          "text": [
            "[ 0.  1.  4.  9. 16. 25. 36. 49. 64. 81.]\n",
            "[ 0.  1.  3.  5.  7.  9. 11. 13. 15. 17.]\n"
          ]
        }
      ]
    },
    {
      "cell_type": "code",
      "source": [
        "dlti = signal.dlti(bd, [1])\n",
        "zeros = dlti.zeros\n",
        "print('Zeros:', zeros)\n",
        "print('Poles:', dlti.poles)\n",
        "draw_pzmap(dlti)"
      ],
      "metadata": {
        "colab": {
          "base_uri": "https://localhost:8080/",
          "height": 300
        },
        "id": "Pj6tM1M609EQ",
        "outputId": "24c6f5f3-e160-432c-db2e-8fdf6cc5cc23"
      },
      "execution_count": null,
      "outputs": [
        {
          "output_type": "stream",
          "name": "stdout",
          "text": [
            "Zeros: [1.]\n",
            "Poles: []\n"
          ]
        },
        {
          "output_type": "display_data",
          "data": {
            "text/plain": [
              "<Figure size 432x288 with 1 Axes>"
            ],
            "image/png": "[encoded data removed]"
          },
          "metadata": {
            "needs_background": "light"
          }
        }
      ]
    },
    {
      "cell_type": "code",
      "source": [
        "w, mag = dlti.freqresp()\n",
        "plt.plot(w/np.pi, np.abs(mag))"
      ],
      "metadata": {
        "colab": {
          "base_uri": "https://localhost:8080/",
          "height": 282
        },
        "id": "GV3o4-pa1RLZ",
        "outputId": "c6bb0936-5715-4787-d7a3-75d73eccbba1"
      },
      "execution_count": null,
      "outputs": [
        {
          "output_type": "execute_result",
          "data": {
            "text/plain": [
              "[<matplotlib.lines.Line2D at 0x7fb4252200d0>]"
            ]
          },
          "metadata": {},
          "execution_count": 109
        },
        {
          "output_type": "display_data",
          "data": {
            "text/plain": [
              "<Figure size 432x288 with 1 Axes>"
            ],
            "image/png": "[encoded data removed]"
          },
          "metadata": {
            "needs_background": "light"
          }
        }
      ]
    },
    {
      "cell_type": "markdown",
      "source": [
        "## Recursive\n",
        "\n",
        "![iir.png](data:image/png;base64,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)\n",
        "\n",
        "$$y[n] = \\sum_{i=0}^{L}b[i]x[n-i] - \\sum_{i=1}^{M}a[i]y[n-i]$$"
      ],
      "metadata": {
        "id": "sMgBmeb6ccjO"
      }
    },
    {
      "cell_type": "markdown",
      "source": [
        "### Accumulator, integrator\n",
        "\n",
        "$y[n] = x[n] + y[n-1]$\n",
        "\n",
        "$H(z)=\\dfrac{1}{1-z^{-1}}$"
      ],
      "metadata": {
        "id": "9-xIKi5Afmfs"
      }
    },
    {
      "cell_type": "code",
      "source": [
        "b = [1]\n",
        "a = [1, -1]\n",
        "x = np.arange(11)*1.0\n",
        "print(x)\n",
        "y = signal.lfilter(b, a, x=x)\n",
        "print(y)"
      ],
      "metadata": {
        "colab": {
          "base_uri": "https://localhost:8080/"
        },
        "id": "GAwnR2aVcgCg",
        "outputId": "89e89bed-a78a-4a2d-d995-1c8279443450"
      },
      "execution_count": null,
      "outputs": [
        {
          "output_type": "stream",
          "name": "stdout",
          "text": [
            "[ 0.  1.  2.  3.  4.  5.  6.  7.  8.  9. 10.]\n",
            "[ 0.  1.  3.  6. 10. 15. 21. 28. 36. 45. 55.]\n"
          ]
        }
      ]
    },
    {
      "cell_type": "markdown",
      "source": [
        "模拟反向积分器\n",
        "\n",
        "![image.png](data:image/png;base64,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)"
      ],
      "metadata": {
        "id": "KujmmsnPAruh"
      }
    },
    {
      "cell_type": "markdown",
      "source": [
        "$$V_\\text{out}(t_1) = V_\\text{out}(t_0) - \\frac{1}{RC} \\int_{t_0}^{t_1} V_\\text{in}(t) \\,dt$$"
      ],
      "metadata": {
        "id": "nNcrDBrODetq"
      }
    },
    {
      "cell_type": "markdown",
      "source": [
        "### Saving account\n",
        "\n",
        "$y[n] = x[n] + a y[n-1]$"
      ],
      "metadata": {
        "id": "AaeZ9DIygN7V"
      }
    },
    {
      "cell_type": "markdown",
      "source": [
        "**零状态响应**\n",
        "\n",
        "年息 1.2%，月息 0.1%，每月存 1000。$a = 1+ 1.2\\% / 12 = 1.001$"
      ],
      "metadata": {
        "id": "5l8PrkS46XC_"
      }
    },
    {
      "cell_type": "code",
      "source": [
        "rate = 1.2\n",
        "a = 1.0 + rate / 100 / 12\n",
        "\n",
        "x = np.ones(12) * 1000\n",
        "y = signal.lfilter([1], [1, -a], x)\n",
        "print(np.array([x, np.round(y, 2)]).T)"
      ],
      "metadata": {
        "colab": {
          "base_uri": "https://localhost:8080/"
        },
        "id": "PIYgGW9EgkKb",
        "outputId": "27a1724f-76ad-4fbe-dffb-f08c89d05c73"
      },
      "execution_count": null,
      "outputs": [
        {
          "output_type": "stream",
          "name": "stdout",
          "text": [
            "[[ 1000.    1000.  ]\n",
            " [ 1000.    2001.  ]\n",
            " [ 1000.    3003.  ]\n",
            " [ 1000.    4006.  ]\n",
            " [ 1000.    5010.01]\n",
            " [ 1000.    6015.02]\n",
            " [ 1000.    7021.04]\n",
            " [ 1000.    8028.06]\n",
            " [ 1000.    9036.08]\n",
            " [ 1000.   10045.12]\n",
            " [ 1000.   11055.17]\n",
            " [ 1000.   12066.22]]\n"
          ]
        }
      ]
    },
    {
      "cell_type": "markdown",
      "source": [
        "**零输入响应**\n",
        "\n",
        "年息 1.2%，月息 0.1%，起始存款 10000。"
      ],
      "metadata": {
        "id": "79ycAhuLSv18"
      }
    },
    {
      "cell_type": "code",
      "source": [
        "rate = 1.2\n",
        "a = 1.0 + rate / 100 / 12\n",
        "y0 = 10000.0\n",
        "\n",
        "x = np.zeros(13) * 0.0\n",
        "y, yn = signal.lfilter([1], [1, -a], x, zi=[y0])\n",
        "np.set_printoptions(suppress=True)\n",
        "print(np.array([np.arange(len(x)), np.round(y, 2)]).T)\n",
        "# print('yn =', np.round(yn, 2))"
      ],
      "metadata": {
        "colab": {
          "base_uri": "https://localhost:8080/"
        },
        "id": "MxfXUiEsTCOj",
        "outputId": "717572c9-37d0-4ea0-dc32-01f41a165e31"
      },
      "execution_count": null,
      "outputs": [
        {
          "output_type": "stream",
          "name": "stdout",
          "text": [
            "[[    0.   10000.  ]\n",
            " [    1.   10010.  ]\n",
            " [    2.   10020.01]\n",
            " [    3.   10030.03]\n",
            " [    4.   10040.06]\n",
            " [    5.   10050.1 ]\n",
            " [    6.   10060.15]\n",
            " [    7.   10070.21]\n",
            " [    8.   10080.28]\n",
            " [    9.   10090.36]\n",
            " [   10.   10100.45]\n",
            " [   11.   10110.55]\n",
            " [   12.   10120.66]]\n"
          ]
        }
      ]
    },
    {
      "cell_type": "markdown",
      "source": [
        "**完全响应**\n",
        "\n",
        "贷款 20000，年息 3.5%，分 24 期（2 年）偿还，每月还款 864.06。\n",
        "\n",
        "$p = L\\dfrac{c(1+c)^n}{(1+c)^n-1}$, $L=20\\,000$, $n = 24$, $c = 3.5\\%/12$."
      ],
      "metadata": {
        "id": "QIUb8ksGTAVq"
      }
    },
    {
      "cell_type": "code",
      "source": [
        "L = 20000\n",
        "n = 24\n",
        "rate = 3.5\n",
        "c = rate / 100 / 12\n",
        "p = L * c * np.power(1+c, n) / (np.power(1+c, n) - 1)\n",
        "print('Monthly payment: %.4f' % p)"
      ],
      "metadata": {
        "colab": {
          "base_uri": "https://localhost:8080/"
        },
        "id": "srNXFym65YRH",
        "outputId": "b706b1e5-726e-4493-b472-71fb44b9881f"
      },
      "execution_count": null,
      "outputs": [
        {
          "output_type": "stream",
          "name": "stdout",
          "text": [
            "Monthly payment: 864.0544\n"
          ]
        }
      ]
    },
    {
      "cell_type": "code",
      "source": [
        "rate = 3.5\n",
        "a = 1.0 + rate / 100 / 12\n",
        "y0 = 20000.0\n",
        "\n",
        "x = np.concatenate(([0.0], np.ones(24) * -864.06))\n",
        "y, yn = signal.lfilter([1], [1, -a], x, zi=[y0])\n",
        "np.set_printoptions(suppress=True)\n",
        "print(np.array([np.arange(len(x)), np.round(y, 2)]).T)\n",
        "print('yn =', np.round(yn, 2))"
      ],
      "metadata": {
        "colab": {
          "base_uri": "https://localhost:8080/"
        },
        "outputId": "59effbe1-066a-482b-e3ef-8ca1a4562e58",
        "id": "V8D3cGn_WejA"
      },
      "execution_count": null,
      "outputs": [
        {
          "output_type": "stream",
          "name": "stdout",
          "text": [
            "[[    0.   20000.  ]\n",
            " [    1.   19194.28]\n",
            " [    2.   18386.22]\n",
            " [    3.   17575.79]\n",
            " [    4.   16763.01]\n",
            " [    5.   15947.85]\n",
            " [    6.   15130.31]\n",
            " [    7.   14310.39]\n",
            " [    8.   13488.08]\n",
            " [    9.   12663.37]\n",
            " [   10.   11836.26]\n",
            " [   11.   11006.73]\n",
            " [   12.   10174.78]\n",
            " [   13.    9340.41]\n",
            " [   14.    8503.6 ]\n",
            " [   15.    7664.35]\n",
            " [   16.    6822.66]\n",
            " [   17.    5978.51]\n",
            " [   18.    5131.89]\n",
            " [   19.    4282.81]\n",
            " [   20.    3431.25]\n",
            " [   21.    2577.21]\n",
            " [   22.    1720.68]\n",
            " [   23.     861.65]\n",
            " [   24.       0.11]]\n",
            "yn = [0.11]\n"
          ]
        }
      ]
    },
    {
      "cell_type": "markdown",
      "source": [
        "### Exponential moving average\n",
        "\n",
        "$y[n] = ax[n]+(1-a)y[n-1]$"
      ],
      "metadata": {
        "id": "3HZFPXEI82Wa"
      }
    },
    {
      "cell_type": "code",
      "source": [
        "@interact(a=(0.1, 0.9, 0.1))\n",
        "def ema(a):\n",
        "  dlti = signal.dlti([a], [1, a-1])\n",
        "  t, imp = dlti.impulse()\n",
        "  plt.stem(t, imp[0], use_line_collection=True)\n",
        "  plt.figure(2)\n",
        "  t, step = dlti.step()\n",
        "  plt.stem(t, step[0], use_line_collection=True)"
      ],
      "metadata": {
        "colab": {
          "base_uri": "https://localhost:8080/",
          "height": 545,
          "referenced_widgets": [
            "2cc2fd7061074db5a41d236c3e6b8c3a",
            "a231bd32f59d4c9da3f0ad442c20bdcb",
            "fdc09a01efb54bb5aa419eb9fbd1acf2",
            "75d7cd3da4d4418285107e1ac47d8ee7",
            "5b2fd846ae2e45bab5e83e9ed639c289",
            "d007085a5bb5496893074632f74611e1",
            "290a278bb682445d8b534792ca3d48af"
          ]
        },
        "id": "7HKOgfUKfknn",
        "outputId": "5993165c-3c46-42cf-9fdd-f7610f634e3e"
      },
      "execution_count": 14,
      "outputs": [
        {
          "output_type": "display_data",
          "data": {
            "text/plain": [
              "interactive(children=(FloatSlider(value=0.5, description='a', max=0.9, min=0.1), Output()), _dom_classes=('wid…"
            ],
            "application/vnd.jupyter.widget-view+json": {
              "version_major": 2,
              "version_minor": 0,
              "model_id": "2cc2fd7061074db5a41d236c3e6b8c3a"
            }
          },
          "metadata": {}
        }
      ]
    },
    {
      "cell_type": "code",
      "source": [
        "@interact(a=(0.1, 0.9, 0.1))\n",
        "def ema(a):\n",
        "  dlti = signal.dlti([a], [1, a-1])\n",
        "  draw_pzmap(dlti)\n",
        "  plt.figure(2)\n",
        "  w, mag = dlti.freqresp()\n",
        "  plt.plot(w/np.pi, np.abs(mag))\n",
        "  plt.ylim(0, 1.1)"
      ],
      "metadata": {
        "colab": {
          "base_uri": "https://localhost:8080/",
          "height": 545,
          "referenced_widgets": [
            "2ae9c411c98d4ee8a06aa636530c0cb3",
            "e47ac32b5ca24e7287557690761c707d",
            "0b4d389e3453493f9bfe6b64be95b013",
            "34f921d67ec541339581661f725ea5ef",
            "4ff81b6588014ad3a243ca179a5774d1",
            "a436ccedc5af4c099609c392a2845681",
            "c9a9bad1f5574e6194538c15e320737c"
          ]
        },
        "id": "hDM3puwrZuBg",
        "outputId": "f9b18279-ee5b-476e-8d06-6ec777f4e71b"
      },
      "execution_count": null,
      "outputs": [
        {
          "output_type": "display_data",
          "data": {
            "text/plain": [
              "interactive(children=(FloatSlider(value=0.5, description='a', max=0.9, min=0.1), Output()), _dom_classes=('wid…"
            ],
            "application/vnd.jupyter.widget-view+json": {
              "version_major": 2,
              "version_minor": 0,
              "model_id": "2ae9c411c98d4ee8a06aa636530c0cb3"
            }
          },
          "metadata": {}
        }
      ]
    },
    {
      "cell_type": "markdown",
      "source": [
        "**How does TCP calculates RTT**\n",
        "\n",
        "* [RFC793](https://www.rfc-editor.org/rfc/rfc793) Transmission Control Protocol, 1981 Sept.\n",
        "* [Jacobson88](https://ee.lbl.gov/papers/congavoid.pdf) Congestion Avoidance and Control, 1988 Nov.\n",
        "* [RFC1122](https://www.rfc-editor.org/rfc/rfc1122.html) 1989 Oct.\n",
        "* [RFC2988](https://www.rfc-editor.org/rfc/rfc2988.html) 2000 Nov.\n",
        "* [RFC6298](https://www.rfc-editor.org/rfc/rfc6298.html) Computing TCP's Retransmission Timer, 2011 June."
      ],
      "metadata": {
        "id": "-7TGR62c5SeK"
      }
    },
    {
      "cell_type": "markdown",
      "source": [
        "**RFC 793**\n",
        "\n",
        "$$newRTT = \\alpha \\cdot oldRTT + (1-\\alpha) \\cdot newRTTsample$$\n",
        "\n",
        "$$\\alpha = 0.9$$\n",
        "\n",
        "$$y[n] = \\alpha \\cdot y[n-1] + (1-\\alpha) x[n]$$\n",
        "\n",
        "I found a typo in RFC793 in 2020-10. https://www.rfc-editor.org/errata/eid6305"
      ],
      "metadata": {
        "id": "Ig7mOxz2Y1n4"
      }
    },
    {
      "cell_type": "markdown",
      "source": [
        "**RFC 6298**\n",
        "\n",
        "```\n",
        "   (2.2) When the first RTT measurement R is made, the host MUST set\n",
        "\n",
        "            SRTT <- R\n",
        "            RTTVAR <- R/2\n",
        "            RTO <- SRTT + max (G, K*RTTVAR)\n",
        "\n",
        "         where K = 4.\n",
        "\n",
        "   (2.3) When a subsequent RTT measurement R' is made, a host MUST set\n",
        "\n",
        "            RTTVAR <- (1 - beta) * RTTVAR + beta * |SRTT - R'|\n",
        "            SRTT <- (1 - alpha) * SRTT + alpha * R'\n",
        "\n",
        "         The value of SRTT used in the update to RTTVAR is its value\n",
        "         before updating SRTT itself using the second assignment.  That\n",
        "         is, updating RTTVAR and SRTT MUST be computed in the above\n",
        "         order.\n",
        "\n",
        "         The above SHOULD be computed using alpha=1/8 and beta=1/4 (as\n",
        "         suggested in [JK88]).\n",
        "\n",
        "         After the computation, a host MUST update\n",
        "         RTO <- SRTT + max (G, K*RTTVAR)\n",
        "```\n",
        "\n",
        "$$SRTT \\gets (1-\\alpha)\\cdot SRTT + \\alpha \\cdot Rsample $$\n",
        "\n",
        "$$\\alpha = \\frac{1}{8}$$\n",
        "\n",
        "$$y[n] = \\alpha x[n] + (1-\\alpha) y[n-1]$$"
      ],
      "metadata": {
        "id": "GtMO4pxjYsQB"
      }
    },
    {
      "cell_type": "markdown",
      "source": [
        "### Second order digital sinusoidal oscillator\n",
        "\n",
        "$y[n]=2\\cos(w)y[n-1]-y[n-2]$\n",
        "\n",
        "Digital resonator\n",
        "https://ccrma.stanford.edu/~jos/pdf/GordonAndSmith86.pdf"
      ],
      "metadata": {
        "id": "Vc2LTvPFUMks"
      }
    },
    {
      "cell_type": "code",
      "source": [
        "fs = 1000\n",
        "f = 60\n",
        "w = 2*np.pi*f/fs\n",
        "c = np.cos(w)\n",
        "a = [1, -2*c, 1]\n",
        "n = 101\n",
        "x = np.zeros(n) * 0.0\n",
        "y0 = np.sin(w)\n",
        "y, yn = signal.lfilter([1], a, x, zi=[0, y0])\n",
        "t = np.arange(n)/fs\n",
        "plt.plot(t, y)"
      ],
      "metadata": {
        "colab": {
          "base_uri": "https://localhost:8080/",
          "height": 282
        },
        "id": "FKYqy8vDXqBp",
        "outputId": "73bcbf29-44d2-4ee3-ffb7-6a605981a8ac"
      },
      "execution_count": 4,
      "outputs": [
        {
          "output_type": "execute_result",
          "data": {
            "text/plain": [
              "[<matplotlib.lines.Line2D at 0x7fa60db45c10>]"
            ]
          },
          "metadata": {},
          "execution_count": 4
        },
        {
          "output_type": "display_data",
          "data": {
            "text/plain": [
              "<Figure size 432x288 with 1 Axes>"
            ],
            "image/png": "[encoded data removed]"
          },
          "metadata": {
            "needs_background": "light"
          }
        }
      ]
    },
    {
      "cell_type": "code",
      "source": [
        "print(max(y), min(y))"
      ],
      "metadata": {
        "id": "OSigS45A01Qj",
        "colab": {
          "base_uri": "https://localhost:8080/"
        },
        "outputId": "6bcea1ad-116f-47e2-f77b-695edb853e03"
      },
      "execution_count": 5,
      "outputs": [
        {
          "output_type": "stream",
          "name": "stdout",
          "text": [
            "0.9980267284282738 -0.9980267284282742\n"
          ]
        }
      ]
    },
    {
      "cell_type": "code",
      "source": [
        "w=2*np.pi*30/1000\n",
        "c = np.cos(w)\n",
        "c2=1/(np.exp(1j*w)-np.exp(3j*w))\n",
        "c1=-c2*np.exp(4j*w)\n",
        "print(w)\n",
        "print(c1, c2)\n",
        "print(np.abs(c1)*2)"
      ],
      "metadata": {
        "id": "xTWfqo-ZjfMb"
      },
      "execution_count": null,
      "outputs": []
    },
    {
      "cell_type": "code",
      "source": [
        "w=2*np.pi*30/1000\n",
        "c = (np.exp(1j*w)-np.exp(3j*w))\n",
        "print(c, np.abs(c) )"
      ],
      "metadata": {
        "id": "zaPBDQMilCTe"
      },
      "execution_count": null,
      "outputs": []
    },
    {
      "cell_type": "markdown",
      "source": [
        "Why not use `sin()`/`cos()`?"
      ],
      "metadata": {
        "id": "lTmmQvliFZf3"
      }
    },
    {
      "cell_type": "code",
      "source": [
        "fs = 1000\n",
        "f = 60\n",
        "n = 101\n",
        "t = np.arange(n) / fs\n",
        "y1 = np.sin(2 * np.pi * f * t)\n",
        "plt.plot(t, y1)"
      ],
      "metadata": {
        "colab": {
          "base_uri": "https://localhost:8080/",
          "height": 282
        },
        "id": "SLid9Z2xku2v",
        "outputId": "ddbf26fe-9d28-4bf3-f9e9-8921703747af"
      },
      "execution_count": 6,
      "outputs": [
        {
          "output_type": "execute_result",
          "data": {
            "text/plain": [
              "[<matplotlib.lines.Line2D at 0x7fa60d63d890>]"
            ]
          },
          "metadata": {},
          "execution_count": 6
        },
        {
          "output_type": "display_data",
          "data": {
            "text/plain": [
              "<Figure size 432x288 with 1 Axes>"
            ],
            "image/png": "[encoded data removed]"
          },
          "metadata": {
            "needs_background": "light"
          }
        }
      ]
    },
    {
      "cell_type": "code",
      "source": [
        "print(y - y1)\n",
        "print(sum(y-y1))"
      ],
      "metadata": {
        "id": "GqNoz51-l0f9",
        "colab": {
          "base_uri": "https://localhost:8080/"
        },
        "outputId": "a285f9c4-4d14-4ec1-b4ba-87b7cbc7a1b6"
      },
      "execution_count": 8,
      "outputs": [
        {
          "output_type": "stream",
          "name": "stdout",
          "text": [
            "[ 0.00000000e+00  0.00000000e+00  0.00000000e+00  0.00000000e+00\n",
            "  3.33066907e-16  6.66133815e-16  1.22124533e-15  1.38777878e-15\n",
            "  1.72084569e-15  1.41553436e-15  1.66533454e-15  9.99200722e-16\n",
            "  5.55111512e-16 -4.44089210e-16 -1.11022302e-15 -1.66533454e-15\n",
            " -2.60902411e-15 -3.30291350e-15 -1.88737914e-15 -1.66533454e-15\n",
            " -8.88178420e-16  6.66133815e-16  1.88737914e-15  2.77555756e-15\n",
            "  4.71844785e-15  4.62860957e-15  3.83026943e-15  2.55351296e-15\n",
            "  1.11022302e-15 -3.33066907e-16 -1.77635684e-15 -3.88578059e-15\n",
            " -4.66293670e-15 -4.80171458e-15 -5.96744876e-15 -4.55191440e-15\n",
            " -1.66533454e-15 -1.11022302e-16  1.88737914e-15  3.66373598e-15\n",
            "  6.43929354e-15  7.24420524e-15  6.99440506e-15  4.21884749e-15\n",
            "  3.88578059e-15  9.99200722e-16 -7.77156117e-16 -3.55271368e-15\n",
            " -6.88338275e-15 -6.49480469e-15 -8.25801842e-15 -5.49560397e-15\n",
            " -5.10702591e-15 -1.55431223e-15  7.77156117e-16  4.21884749e-15\n",
            "  5.88418203e-15  8.77076189e-15  1.09634524e-14  8.32667268e-15\n",
            "  4.88498131e-15  3.44169138e-15  6.66133815e-16 -2.77555756e-15\n",
            " -6.32827124e-15 -9.88098492e-15 -9.27036226e-15 -1.05193632e-14\n",
            " -1.01585407e-14 -5.55111512e-15 -2.44249065e-15  1.77635684e-15\n",
            "  4.77395901e-15  8.10462808e-15  7.77156117e-15  9.33391431e-15\n",
            "  9.60342916e-15  5.55111512e-15  3.10862447e-15 -7.77156117e-16\n",
            " -5.88418203e-15 -8.99280650e-15 -1.29340982e-14 -1.55986335e-14\n",
            " -1.27953204e-14 -8.54871729e-15 -3.88578059e-15  1.11022302e-16\n",
            "  3.88578059e-15  7.10542736e-15  7.99360578e-15  1.37945211e-14\n",
            "  1.15740750e-14  7.93809463e-15  8.43769499e-15  2.66453526e-15\n",
            " -2.66453526e-15 -8.21565038e-15 -1.13242749e-14 -1.85962357e-14\n",
            " -1.74042153e-14]\n",
            "-3.506990446467289e-14\n"
          ]
        }
      ]
    },
    {
      "cell_type": "markdown",
      "source": [
        "## Summary\n",
        "\n",
        "![iir.png](data:image/png;base64,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)\n",
        "\n",
        "$$\\begin{aligned}\n",
        "y[n] = &\\sum_{i=0}^{L}b[i]x[n-i] - \\sum_{i=1}^{M}a[i\\,]y[n-i\\,] \\\\\n",
        " = & \\  b[0]x[n] + b[1]x[n-1] + \\cdots + b[L]x[n-L] \\\\\n",
        "        &-(a[1]y[n-1]+a[2]y[n-2]+\\cdots+a[M]y[n-M])\n",
        "\\end{aligned}$$"
      ],
      "metadata": {
        "id": "7QhUw6OdEUtq"
      }
    },
    {
      "cell_type": "markdown",
      "source": [
        ""
      ],
      "metadata": {
        "id": "XrrtV8WLR6Rf"
      }
    },
    {
      "cell_type": "markdown",
      "source": [
        "# Lab2: Frequency Analysis"
      ],
      "metadata": {
        "id": "K7XvBfoVttWg"
      }
    },
    {
      "cell_type": "markdown",
      "source": [
        "## DTMF\n",
        "\n",
        "\n",
        "|        | 1209 Hz | 1336 Hz | 1447 Hz |\n",
        "| -----: | :-----: | :-----: | :-----: |\n",
        "| 697 Hz |  **1**  |  **2**  |  **3**  |\n",
        "| 770 Hz |  **4**  |  **5**  |  **6**  |\n",
        "| 852 Hz |  **7**  |  **8**  |  **9**  |\n",
        "| 941 Hz |  **$*$** |  **0**  |  **#**  |\n"
      ],
      "metadata": {
        "id": "pZX4930CCBBV"
      }
    },
    {
      "cell_type": "markdown",
      "source": [
        ""
      ],
      "metadata": {
        "id": "y4qykYozpYu-"
      }
    },
    {
      "cell_type": "code",
      "source": [
        "freqs = np.array([697, 770, 852, 941, 1209, 1336, 1447])\n",
        "np.diff(freqs)\n"
      ],
      "metadata": {
        "id": "EZW-7ZqZCAT-",
        "colab": {
          "base_uri": "https://localhost:8080/"
        },
        "outputId": "b3cfd740-d364-459c-b31d-3b21f398d0b8"
      },
      "execution_count": null,
      "outputs": [
        {
          "output_type": "execute_result",
          "data": {
            "text/plain": [
              "array([ 73,  82,  89, 268, 127, 111])"
            ]
          },
          "metadata": {},
          "execution_count": 2
        }
      ]
    },
    {
      "cell_type": "markdown",
      "source": [
        "freqs * 1.035"
      ],
      "metadata": {
        "id": "cEYfQGe9qYfy"
      }
    },
    {
      "cell_type": "code",
      "source": [
        "@interact(nfft = (60, 250, 5))\n",
        "def how_many_bins(nfft=105):\n",
        "  sr = 8000\n",
        "  t = np.arange(nfft)/sr\n",
        "  x = np.sin(2*np.pi* freqs.reshape(len(freqs), 1) * t)\n",
        "  print('%.2f' % (sr / nfft))\n",
        "  for i in x:\n",
        "    fft = np.fft.rfft(i)\n",
        "    plt.plot(np.abs(fft[0:(nfft//4)])/nfft)\n"
      ],
      "metadata": {
        "colab": {
          "base_uri": "https://localhost:8080/",
          "height": 314,
          "referenced_widgets": [
            "90256824c3864cf58ff78de22579123b",
            "10457770cf7340e0bd67eabdb668d340",
            "0eda7fefed414cb19667cab6fcc52f19",
            "eea5f84634974bcea6cf00d91dccbb84",
            "e7b7c1ea0f82445ea36ef1c43c7b7e88",
            "4a13fbd671be48cfaa27fa90459a463a",
            "5445b0d8b540425782c6abdab4a4d79a"
          ]
        },
        "id": "oFBKNvXjqfnz",
        "outputId": "c1434632-e3c3-4b18-c19f-99366dcefa28"
      },
      "execution_count": null,
      "outputs": [
        {
          "output_type": "display_data",
          "data": {
            "text/plain": [
              "interactive(children=(IntSlider(value=105, description='nfft', max=250, min=60, step=5), Output()), _dom_class…"
            ],
            "application/vnd.jupyter.widget-view+json": {
              "version_major": 2,
              "version_minor": 0,
              "model_id": "90256824c3864cf58ff78de22579123b"
            }
          },
          "metadata": {}
        }
      ]
    },
    {
      "cell_type": "markdown",
      "source": [
        "### Goertzel algorithm\n",
        "https://en.wikipedia.org/wiki/Goertzel_algorithm\n",
        "\n",
        "$y[n]=x[n]+2\\cos(\\omega)y[n-1]-y[n-2]$\n",
        "\n",
        "$\\omega = \\dfrac{2\\pi k} { N}$"
      ],
      "metadata": {
        "id": "4tHlvhwvSK2F"
      }
    },
    {
      "cell_type": "code",
      "source": [
        "N = 205\n",
        "sr = 8000\n",
        "print('%.2f Hz' % (sr / N))\n",
        "\n",
        "k = np.array([18, 20, 22, 24, 31, 34, 37])\n",
        "k * sr / N - freqs "
      ],
      "metadata": {
        "colab": {
          "base_uri": "https://localhost:8080/"
        },
        "id": "ZBKFp7a7GnZL",
        "outputId": "c06ab64f-4d88-4864-f188-0e1d945e3716"
      },
      "execution_count": null,
      "outputs": [
        {
          "output_type": "stream",
          "name": "stdout",
          "text": [
            "39.02 Hz\n"
          ]
        },
        {
          "output_type": "execute_result",
          "data": {
            "text/plain": [
              "array([ 5.43902439, 10.48780488,  6.53658537, -4.41463415,  0.75609756,\n",
              "       -9.17073171, -3.09756098])"
            ]
          },
          "metadata": {},
          "execution_count": 9
        }
      ]
    },
    {
      "cell_type": "code",
      "source": [
        "N = 205\n",
        "sr = 8000\n",
        "t = np.arange(N) / sr\n",
        "x = np.cos(t * 2 * np.pi * 697)\n",
        "\n",
        "bin = 18\n",
        "fft = np.fft.rfft(x)\n",
        "print('fft:', fft[bin])\n",
        "\n",
        "wk = np.exp(1j * bin * 2 * np.pi * np.arange(N) / N)\n",
        "dft = np.vdot(wk, x)\n",
        "print('dft:', dft)\n",
        "print('diff:', dft - fft[bin])\n",
        "\n"
      ],
      "metadata": {
        "id": "X5e1DAITLaO-",
        "colab": {
          "base_uri": "https://localhost:8080/"
        },
        "outputId": "d23aa7ba-e992-42f5-f285-77ed3664983e"
      },
      "execution_count": null,
      "outputs": [
        {
          "output_type": "stream",
          "name": "stdout",
          "text": [
            "fft: (89.75850817734614-42.23143015507722j)\n",
            "dft: (89.75850817734626-42.231430155077035j)\n",
            "diff: (1.1368683772161603e-13+1.8474111129762605e-13j)\n"
          ]
        }
      ]
    },
    {
      "cell_type": "code",
      "source": [
        "s2 = 0\n",
        "s1 = 0\n",
        "s0 = 0\n",
        "w = bin * 2 * np.pi / N\n",
        "c = np.cos(w)\n",
        "c2 = 2 * c\n",
        "# print(c)\n",
        "for p in x:\n",
        "  s0 = p + c2 * s1 - s2\n",
        "  s2 = s1\n",
        "  s1 = s0\n",
        "# s0 = c * s1\n",
        "#print(s2)\n",
        "goert = s2-np.exp(-1j*w) * s1\n",
        "\n",
        "print(dft) \n",
        "print(goert)\n",
        "print(np.real(dft) + np.real(goert), (np.imag(dft) - np.imag(goert)))\n",
        "\n",
        "power = s1 * s1 + s2 * s2 - c2 * s1 * s2\n",
        "\n",
        "print(power)\n",
        "print(np.real_if_close(dft * dft.conj()))"
      ],
      "metadata": {
        "colab": {
          "base_uri": "https://localhost:8080/"
        },
        "id": "AFzjo0BZfhZe",
        "outputId": "8d26a0a0-4ff5-4766-852f-7adcd3dda337"
      },
      "execution_count": null,
      "outputs": [
        {
          "output_type": "stream",
          "name": "stdout",
          "text": [
            "(89.75850817734626-42.231430155077035j)\n",
            "(-89.75850817734629-42.231430155076346j)\n",
            "-2.842170943040401e-14 -6.892264536872972e-13\n",
            "9840.083483165832\n",
            "9840.083483165885\n"
          ]
        }
      ]
    },
    {
      "cell_type": "markdown",
      "source": [
        "### Real world requirements\n",
        "\n",
        "https://en.wikipedia.org/wiki/Dual-tone_multi-frequency_signaling\n",
        "\n",
        "https://web.archive.org/web/20110925184759/http://nemesis.lonestar.org/reference/telecom/signaling/dtmf.html"
      ],
      "metadata": {
        "id": "E6apRVpFJ1fo"
      }
    },
    {
      "cell_type": "markdown",
      "source": [
        "\n"
      ],
      "metadata": {
        "id": "X-ySNuLLrvBb"
      }
    },
    {
      "cell_type": "markdown",
      "source": [
        "DTMF receiver chips:\n",
        "* CM8870CSI (obsoleted) by California Micro Devices Corp. 215 Topaz Street, Milpitas, California  95035\n",
        "* MT8870D from Zarlink (active)\n",
        " \n"
      ],
      "metadata": {
        "id": "R_jVCQgdpZom"
      }
    },
    {
      "cell_type": "markdown",
      "source": [
        "## Spectrogram"
      ],
      "metadata": {
        "id": "7tc0IFzRFmJq"
      }
    },
    {
      "cell_type": "code",
      "source": [
        ""
      ],
      "metadata": {
        "id": "UArEsaxhFk3G"
      },
      "execution_count": null,
      "outputs": []
    },
    {
      "cell_type": "markdown",
      "source": [
        "# Lab3: Filtering\n",
        "\n",
        "https://github.com/chipmuenk/pyfda"
      ],
      "metadata": {
        "id": "lEyh8B2Ytvrv"
      }
    },
    {
      "cell_type": "markdown",
      "source": [
        "## Review DLTI\n",
        "\n",
        "![iir.png](data:image/png;base64,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)"
      ],
      "metadata": {
        "id": "dsOy9vuNSRX-"
      }
    },
    {
      "cell_type": "markdown",
      "source": [
        "$$\\begin{aligned}\n",
        "y[n] &= \\sum_{i=0}^{L}b_ix[n-i\\,] - \\sum_{i=1}^{M}a_iy[n-i\\,] \\\\\n",
        "     &=  \\  b_0x[n] + b_1x[n-1] + \\cdots + b_Lx[n-L] \\\\\n",
        "     & \\quad   -(a_1y[n-1]+a_2y[n-2]+\\cdots+a_My[n-M])\\\\[3mm]\n",
        "H(z) &= \\frac{\\sum_{i=0}^{L}b_iz^{-i}}{1+ \\sum_{i=1}^{M}a_iz^{-i}} \\\\\n",
        "     &= \\frac{b_0 + b_1z^{-1}+b_2z^{-2}+\\cdots+b_Lz^{-L}}{1+a_1z^{-1}+a_2z^{-2}+\\cdots+a_Mz^{-M}}\\\\[3mm]\n",
        "H(z) &= K\\frac{\\Pi_i}{\\Pi_{i=1}^M}\n",
        "\\end{aligned}$$\n"
      ],
      "metadata": {
        "id": "c3oXlYxFRQr-"
      }
    },
    {
      "cell_type": "markdown",
      "source": [
        "## OpenAirIR"
      ],
      "metadata": {
        "id": "AMcbINBs7oUI"
      }
    },
    {
      "cell_type": "markdown",
      "source": [
        "## FIR using Remez"
      ],
      "metadata": {
        "id": "WgqvuhqlFqIv"
      }
    },
    {
      "cell_type": "code",
      "source": [
        ""
      ],
      "metadata": {
        "id": "3u3qeR7HkYlu"
      },
      "execution_count": null,
      "outputs": []
    },
    {
      "cell_type": "markdown",
      "source": [
        "## IIR Notch\n",
        "https://www.mathworks.com/help/signal/ug/remove-the-60-hz-hum-from-a-signal.html"
      ],
      "metadata": {
        "id": "KthiRs20kVYQ"
      }
    },
    {
      "cell_type": "code",
      "source": [
        "fs=1000\n",
        "b, a = signal.iirnotch(60, Q=30, fs=fs)\n",
        "print('b=', np.round(b, 5))\n",
        "print('a=', np.round(a, 5))"
      ],
      "metadata": {
        "colab": {
          "base_uri": "https://localhost:8080/"
        },
        "id": "qfGKpC9ykiXA",
        "outputId": "94135337-fd43-4d2d-8207-6beaf5151fb0"
      },
      "execution_count": null,
      "outputs": [
        {
          "output_type": "stream",
          "name": "stdout",
          "text": [
            "b= [ 0.99376 -1.84794  0.99376]\n",
            "a= [ 1.      -1.84794  0.98751]\n"
          ]
        }
      ]
    },
    {
      "cell_type": "markdown",
      "source": [
        "Sophocles J. Orfanidis. _Introduction to Signal Processing, 1996._ \n",
        "\n",
        "§11.3 Second-Order Peaking and Notching Filters\n",
        "\n",
        "https://www.ece.rutgers.edu/~orfanidi/intro2sp/\n",
        "\n"
      ],
      "metadata": {
        "id": "qOdt2WHLYE__"
      }
    },
    {
      "cell_type": "markdown",
      "source": [
        "$y[n] = 0.99376\\,x[n] - 1.84794\\,x[n-1] + 0.99376\\,x[n-2] + 1.84794\\,y[n-1] - 0.98751\\,y[n-2]$"
      ],
      "metadata": {
        "id": "4SmCSF2lYDjl"
      }
    },
    {
      "cell_type": "code",
      "source": [
        "d = signal.dlti(b, a)\n",
        "w, mag, phase = d.bode()\n",
        "plt.plot(w/np.pi, mag)\n",
        "plt.figure()\n",
        "plt.plot(w/np.pi, phase)"
      ],
      "metadata": {
        "colab": {
          "base_uri": "https://localhost:8080/",
          "height": 530
        },
        "id": "0X-TUto1lSmu",
        "outputId": "e2fb3e71-04fc-40c4-da98-345e6e8236ee"
      },
      "execution_count": null,
      "outputs": [
        {
          "output_type": "execute_result",
          "data": {
            "text/plain": [
              "[<matplotlib.lines.Line2D at 0x7f301d3e6750>]"
            ]
          },
          "metadata": {},
          "execution_count": 10
        },
        {
          "output_type": "display_data",
          "data": {
            "text/plain": [
              "<Figure size 432x288 with 1 Axes>"
            ],
            "image/png": "[encoded data removed]"
          },
          "metadata": {
            "needs_background": "light"
          }
        },
        {
          "output_type": "display_data",
          "data": {
            "text/plain": [
              "<Figure size 432x288 with 1 Axes>"
            ],
            "image/png": "[encoded data removed]"
          },
          "metadata": {
            "needs_background": "light"
          }
        }
      ]
    },
    {
      "cell_type": "code",
      "source": [
        "w, amp = d.freqresp()\n",
        "w=w[0:3200]\n",
        "amp=amp[0:3200]\n",
        "plt.plot(w/(2*np.pi)*fs, np.abs(amp))"
      ],
      "metadata": {
        "colab": {
          "base_uri": "https://localhost:8080/",
          "height": 282
        },
        "id": "5sJ5GouD3W_4",
        "outputId": "9240eac0-34ca-4ff8-a8f2-6c249edd5cf2"
      },
      "execution_count": null,
      "outputs": [
        {
          "output_type": "execute_result",
          "data": {
            "text/plain": [
              "[<matplotlib.lines.Line2D at 0x7f301d24ff90>]"
            ]
          },
          "metadata": {},
          "execution_count": 15
        },
        {
          "output_type": "display_data",
          "data": {
            "text/plain": [
              "<Figure size 432x288 with 1 Axes>"
            ],
            "image/png": "[encoded data removed]"
          },
          "metadata": {
            "needs_background": "light"
          }
        }
      ]
    },
    {
      "cell_type": "code",
      "source": [
        "t, y = d.impulse()\n",
        "plt.plot(t, y[0])"
      ],
      "metadata": {
        "colab": {
          "base_uri": "https://localhost:8080/",
          "height": 282
        },
        "id": "W_rtqZDf36Fw",
        "outputId": "1df7a736-35bf-48ea-e26b-3dfb0d928ec2"
      },
      "execution_count": null,
      "outputs": [
        {
          "output_type": "execute_result",
          "data": {
            "text/plain": [
              "[<matplotlib.lines.Line2D at 0x7f3db7cd0250>]"
            ]
          },
          "metadata": {},
          "execution_count": 30
        },
        {
          "output_type": "display_data",
          "data": {
            "text/plain": [
              "<Figure size 432x288 with 1 Axes>"
            ],
            "image/png": "[encoded data removed]"
          },
          "metadata": {
            "needs_background": "light"
          }
        }
      ]
    },
    {
      "cell_type": "code",
      "source": [
        "t, y = d.step(n=500)\n",
        "plt.plot(t, y[0])"
      ],
      "metadata": {
        "colab": {
          "base_uri": "https://localhost:8080/",
          "height": 282
        },
        "id": "AjnryK6J4ZtG",
        "outputId": "488bfdcf-8e5c-481c-a498-cee60eb98a47"
      },
      "execution_count": null,
      "outputs": [
        {
          "output_type": "execute_result",
          "data": {
            "text/plain": [
              "[<matplotlib.lines.Line2D at 0x7f3db7636190>]"
            ]
          },
          "metadata": {},
          "execution_count": 35
        },
        {
          "output_type": "display_data",
          "data": {
            "text/plain": [
              "<Figure size 432x288 with 1 Axes>"
            ],
            "image/png": "[encoded data removed]"
          },
          "metadata": {
            "needs_background": "light"
          }
        }
      ]
    },
    {
      "cell_type": "code",
      "source": [
        "print('zeros %.5f %.4fHz' % (np.abs(d.zeros[0]), np.angle(d.zeros[0]) * fs / (2*np.pi)))\n",
        "print('poles %.5f %.4fHz' % (np.abs(d.poles[0]), np.angle(d.poles[0]) * fs / (2*np.pi)))\n",
        "draw_pzmap(d)"
      ],
      "metadata": {
        "colab": {
          "base_uri": "https://localhost:8080/",
          "height": 300
        },
        "id": "53OajfIw4lvd",
        "outputId": "c2222385-ce0c-434e-a9a4-72c4a624dfbb"
      },
      "execution_count": null,
      "outputs": [
        {
          "output_type": "stream",
          "name": "stdout",
          "text": [
            "zeros 1.00000 60.0000Hz\n",
            "poles 0.99374 59.9921Hz\n"
          ]
        },
        {
          "output_type": "display_data",
          "data": {
            "text/plain": [
              "<Figure size 432x288 with 1 Axes>"
            ],
            "image/png": "[encoded data removed]"
          },
          "metadata": {
            "needs_background": "light"
          }
        }
      ]
    },
    {
      "cell_type": "markdown",
      "source": [
        "**EEG**"
      ],
      "metadata": {
        "id": "eM9sa239beBH"
      }
    },
    {
      "cell_type": "markdown",
      "source": [
        "# Lab4: Sampling, alias, modulation"
      ],
      "metadata": {
        "id": "isbmhIBt-Qge"
      }
    },
    {
      "cell_type": "markdown",
      "source": [
        "https://www.youtube.com/watch?v=2wO8ZHnn3Q4 Hamming\n",
        "\n",
        "https://www.engr.colostate.edu/ECE423/course_info.shtml DSP for Communications,"
      ],
      "metadata": {
        "id": "MVXC7K1d-W7u"
      }
    },
    {
      "cell_type": "markdown",
      "source": [
        "# Lab5: Advanced\n",
        "\n",
        "https://en.wikipedia.org/wiki/Audio_time_stretching_and_pitch_scaling"
      ],
      "metadata": {
        "id": "SWDpv6_htz2v"
      }
    },
    {
      "cell_type": "markdown",
      "source": [
        ""
      ],
      "metadata": {
        "id": "E3agL_8oFuW6"
      }
    },
    {
      "cell_type": "markdown",
      "source": [
        "## Heartbeat rate from camera"
      ],
      "metadata": {
        "id": "vwRoVdE1Ft9A"
      }
    }
  ]
}