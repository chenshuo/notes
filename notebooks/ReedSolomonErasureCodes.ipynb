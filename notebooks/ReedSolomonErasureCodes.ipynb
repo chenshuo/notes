{
 "cells": [
  {
      "cell_type": "markdown",
      "metadata": {
        "id": "view-in-github",
        "colab_type": "text"
      },
      "source": [
        "<a href=\"https://colab.research.google.com/github/chenshuo/notes/blob/master/notebooks/ReedSolomonErasureCodes.ipynb\" target=\"_parent\"><img src=\"https://colab.research.google.com/assets/colab-badge.svg\" alt=\"Open In Colab\"/></a>"
      ]
  },
  {
   "cell_type": "markdown",
   "id": "1a9dcaf2-e199-444c-aea0-7685c1775f37",
   "metadata": {},
   "source": [
    "# Reed-Solomon Erasure Codes in Python\n",
    "\n",
    "By Shuo Chen (chenshuo_at_chenshuo.com)\n",
    "\n",
    "https://github.com/chenshuo/notes/blob/master/notebooks/ReedSolomonErasureCodes.ipynb\n",
    "\n",
    "https://colab.research.google.com/github/chenshuo/notes/blob/master/notebooks/ReedSolomonErasureCodes.ipynb\n",
    "\n",
    "https://chenshuo.com/notes/reed-solomon/"
   ]
  },
  {
   "cell_type": "markdown",
   "id": "8b975dcb-f921-44e0-8132-b323923ffc84",
   "metadata": {},
   "source": [
    "## Polynomial codes\n",
    "\n",
    "Reference\n",
    "* https://tomverbeure.github.io/2022/08/07/Reed-Solomon.html\n",
    "* https://innovation.vivint.com/introduction-to-reed-solomon-bc264d0794f8"
   ]
  },
  {
   "cell_type": "markdown",
   "id": "a25c4ead-f13b-42a2-b4d7-6135fd2fac25",
   "metadata": {},
   "source": [
    "### Introductory example: Shannon's birthday\n",
    "\n",
    "Polynomial codes in real field.\n",
    "\n",
    "We want to transmit 6 digits $\\boldsymbol d = [d_0, d_1, d_2, \\ldots, d_5]$,\n",
    "using 9 numbers $\\boldsymbol c = [c_0, c_1, \\ldots, c_8]$, and being able to tolarance any 3 losses (erasures)."
   ]
  },
  {
   "cell_type": "code",
   "execution_count": 1,
   "id": "7959df24-6427-4787-8e57-865cde720a0a",
   "metadata": {
    "tags": []
   },
   "outputs": [],
   "source": [
    "import math\n",
    "import numpy as np"
   ]
  },
  {
   "cell_type": "code",
   "execution_count": 35,
   "id": "ed42f059-6ab0-4112-88cc-a637d1ffec67",
   "metadata": {
    "tags": []
   },
   "outputs": [
    {
     "data": {
      "text/plain": [
       "6"
      ]
     },
     "execution_count": 35,
     "metadata": {},
     "output_type": "execute_result"
    }
   ],
   "source": [
    "d = np.array([1, 6, 0, 4, 3, 0])\n",
    "d.size"
   ]
  },
  {
   "cell_type": "markdown",
   "id": "243fa227-e36b-4aba-8a44-607c0b6ed028",
   "metadata": {},
   "source": [
    "First, we make a polynomial $p(x) = d_0 + d_1 x +  d_2 x^2 + \\cdots + d_5 x^5$.\n",
    "\n",
    "Then evaluate its values at 9 points: $ x \\in {0, 1, 2, 3, \\ldots, 8}$\n",
    "\n",
    "$\\boldsymbol c = [p(0), p(1), \\ldots, p(8)]$"
   ]
  },
  {
   "cell_type": "markdown",
   "id": "cd7e68c6-8b9a-40e3-a746-1a2b5b509820",
   "metadata": {},
   "source": [
    "$$V\\cdot\\boldsymbol d = \\boldsymbol c$$\n",
    "\n",
    "$$\\begin{bmatrix}\n",
    "1 & 0^1 & 0^2 & 0^3 & 0^4 & 0^5 \\\\\n",
    "1 & 1^1 & 1^2 & 1^3 & 1^4 & 1^5 \\\\\n",
    "1 & 2^1 & 2^2 & 2^3 & 2^4 & 2^5 \\\\\n",
    "1 & 3^1 & 3^2 & 3^3 & 3^4 & 3^5 \\\\\n",
    "1 & 4^1 & 4^2 & 4^3 & 4^4 & 4^5 \\\\\n",
    "1 & 5^1 & 5^2 & 5^3 & 5^4 & 5^5 \\\\\n",
    "1 & 6^1 & 6^2 & 6^3 & 6^4 & 6^5 \\\\\n",
    "1 & 7^1 & 7^2 & 7^3 & 7^4 & 7^5 \\\\\n",
    "1 & 8^1 & 8^2 & 8^3 & 8^4 & 8^5 \\\\\n",
    "\\end{bmatrix}\\cdot\\begin{pmatrix}\n",
    "d_0\\\\\n",
    "d_1\\\\\n",
    "d_2\\\\\n",
    "d_3\\\\\n",
    "d_4\\\\\n",
    "d_5\\\\\n",
    "\\end{pmatrix}=\\begin{pmatrix}\n",
    "1\\\\14\\\\93\\\\370\\\\1049\\\\2406\\\\4789\\\\8618\\\\14385\\\\\n",
    "\\end{pmatrix}$$"
   ]
  },
  {
   "cell_type": "code",
   "execution_count": 36,
   "id": "ccc859de-81cb-4b66-973c-60e566e171ce",
   "metadata": {
    "tags": []
   },
   "outputs": [
    {
     "name": "stdout",
     "output_type": "stream",
     "text": [
      "x = [0 1 2 3 4 5 6 7 8]\n",
      "[[    1     0     0     0     0     0]\n",
      " [    1     1     1     1     1     1]\n",
      " [    1     2     4     8    16    32]\n",
      " [    1     3     9    27    81   243]\n",
      " [    1     4    16    64   256  1024]\n",
      " [    1     5    25   125   625  3125]\n",
      " [    1     6    36   216  1296  7776]\n",
      " [    1     7    49   343  2401 16807]\n",
      " [    1     8    64   512  4096 32768]]\n"
     ]
    }
   ],
   "source": [
    "x = np.arange(9)\n",
    "print('x =', x)\n",
    "\n",
    "V = np.vander(x, N=d.size, increasing=True)\n",
    "print(V)"
   ]
  },
  {
   "cell_type": "code",
   "execution_count": 37,
   "id": "cedefa15-985a-403b-b144-61377eb53547",
   "metadata": {
    "tags": []
   },
   "outputs": [
    {
     "name": "stdout",
     "output_type": "stream",
     "text": [
      "[    1    14    93   370  1049  2406  4789  8618 14385]\n"
     ]
    }
   ],
   "source": [
    "c = V @ d\n",
    "print(c)"
   ]
  },
  {
   "cell_type": "markdown",
   "id": "d19c8a9e-42d2-4081-99d6-43e4dc50866a",
   "metadata": {},
   "source": [
    "**Recover from loss**\n",
    "\n",
    "Assuming $c_0, c_4, c_8$ are lost in transmission, we could solve linear equations using remaining 6 symbols in codeword.\n",
    "\n",
    "$$\\begin{bmatrix}\n",
    "1 & 1^1 & 1^2 & 1^3 & 1^4 & 1^5 \\\\\n",
    "1 & 2^1 & 2^2 & 2^3 & 2^4 & 2^5 \\\\\n",
    "1 & 3^1 & 3^2 & 3^3 & 3^4 & 3^5 \\\\\n",
    "1 & 5^1 & 5^2 & 5^3 & 5^4 & 5^5 \\\\\n",
    "1 & 6^1 & 6^2 & 6^3 & 6^4 & 6^5 \\\\\n",
    "1 & 7^1 & 7^2 & 7^3 & 7^4 & 7^5 \\\\\n",
    "\\end{bmatrix}\\cdot\\begin{pmatrix}\n",
    "d_0\\\\\n",
    "d_1\\\\\n",
    "d_2\\\\\n",
    "d_3\\\\\n",
    "d_4\\\\\n",
    "d_5\\\\\n",
    "\\end{pmatrix}=\\begin{pmatrix}\n",
    "14\\\\93\\\\370\\\\2406\\\\4789\\\\8618\\\\\n",
    "\\end{pmatrix}$$"
   ]
  },
  {
   "cell_type": "code",
   "execution_count": 40,
   "id": "2118a581-ad0f-405a-b681-4b85422e03d9",
   "metadata": {
    "tags": []
   },
   "outputs": [
    {
     "name": "stdout",
     "output_type": "stream",
     "text": [
      "[  14   93  370 2406 4789 8618]\n",
      "[[    1     1     1     1     1     1]\n",
      " [    1     2     4     8    16    32]\n",
      " [    1     3     9    27    81   243]\n",
      " [    1     5    25   125   625  3125]\n",
      " [    1     6    36   216  1296  7776]\n",
      " [    1     7    49   343  2401 16807]]\n"
     ]
    }
   ],
   "source": [
    "recv = np.concatenate((c[1:4], c[5:8]))\n",
    "print(recv)\n",
    "\n",
    "M = np.concatenate((V[1:4], V[5:8]))\n",
    "print(M)"
   ]
  },
  {
   "cell_type": "code",
   "execution_count": 42,
   "id": "635237a7-9ce8-4664-b5b1-fc426d334bb3",
   "metadata": {
    "tags": []
   },
   "outputs": [
    {
     "name": "stdout",
     "output_type": "stream",
     "text": [
      "[[ 1.00000000e+00]\n",
      " [ 6.00000000e+00]\n",
      " [ 1.34292577e-12]\n",
      " [ 4.00000000e+00]\n",
      " [ 3.00000000e+00]\n",
      " [-3.78956126e-15]]\n",
      "[1 6 0 4 3 0]\n"
     ]
    }
   ],
   "source": [
    "msg = np.linalg.solve(M, recv)\n",
    "print(msg.reshape(-1, 1))\n",
    "\n",
    "recover = np.rint(msg).astype(int)\n",
    "print(recover)"
   ]
  },
  {
   "cell_type": "code",
   "execution_count": 46,
   "id": "5841d8cd-924e-428b-b9e3-52aea4e0cd28",
   "metadata": {
    "tags": []
   },
   "outputs": [],
   "source": [
    "assert (recover == d).all()"
   ]
  },
  {
   "cell_type": "markdown",
   "id": "d49b4ea8-79aa-438c-a2d4-6f993538a148",
   "metadata": {},
   "source": [
    "## Galois field arithmetic\n",
    "\n",
    "Reference\n",
    "* https://www.kernel.org/pub/linux/kernel/people/hpa/raid6.pdf\n",
    "* https://research.swtch.com/field\n",
    "\n",
    "Here we implement one particular $GF(256)$, with primitive element $\\alpha = 2$ and irreducible polynomial `0x11d`.\n",
    "\n",
    "Future optimizations:\n",
    "* https://www.academia.edu/89610567/Fast_software_implementation_of_finite_field_operations\n",
    "* https://stackoverflow.com/a/30460874"
   ]
  },
  {
   "cell_type": "code",
   "execution_count": 31,
   "id": "6dc91e51-b06e-4a7c-aa38-aecd24da5900",
   "metadata": {
    "tags": []
   },
   "outputs": [],
   "source": [
    "class GF8bit:\n",
    "  bits = 8\n",
    "  order = 2 ** bits\n",
    "  max = order - 1\n",
    "\n",
    "  def __init__(self):\n",
    "    self._GenerateTables()\n",
    "\n",
    "  @classmethod\n",
    "  def _Check(cls, x):\n",
    "    assert isinstance(x, int)\n",
    "    assert 0 <= x and x < cls.order\n",
    "\n",
    "  @classmethod\n",
    "  def _CheckNZ(cls, x):\n",
    "    cls._Check(x)\n",
    "    assert x != 0\n",
    "\n",
    "  @classmethod\n",
    "  def _Mul2(cls, x):\n",
    "    cls._Check(x)\n",
    "    y = (x & 0x7f) << 1\n",
    "    if x & 0x80:\n",
    "      y ^= 0x1d\n",
    "    cls._Check(y)\n",
    "    return y\n",
    "\n",
    "  def _GenerateTables(self):\n",
    "    self.exp = [None] * (self.max * 2)\n",
    "    self.log = [None] * self.order\n",
    "    x = 1\n",
    "    for i in range(self.max):\n",
    "      self.exp[i] = x\n",
    "      self.exp[i+self.max] = x\n",
    "      self.log[x] = i\n",
    "      x = self._Mul2(x)\n",
    "\n",
    "    assert x == 1  # alpha ** 255 == 1\n",
    "    assert 0 not in self.exp\n",
    "    assert self.exp[255] == 1\n",
    "    assert self.exp[:255] == self.exp[255:]\n",
    "    assert len(set(self.exp)) == self.order - 1\n",
    "    assert self.log[0] is None\n",
    "    assert self.log[1] == 0\n",
    "    assert None not in self.log[1:]\n",
    "    assert max(self.log[1:]) == 254\n",
    "\n",
    "  def Add(self, a, b):\n",
    "    self._Check(a)\n",
    "    self._Check(b)\n",
    "    return a ^ b\n",
    "\n",
    "  def Sub(self, a, b):\n",
    "    return self.Add(a, b)\n",
    "\n",
    "  def Exp(self, x):\n",
    "    self._Check(x)\n",
    "    return self.exp[x]\n",
    "\n",
    "  def Log(self, x):\n",
    "    self._CheckNZ(x)\n",
    "    return self.log[x]\n",
    "\n",
    "  def Mul(self, a, b):\n",
    "    self._Check(a)\n",
    "    self._Check(b)\n",
    "    if a == 0 or b == 0:\n",
    "      return 0\n",
    "    return self.exp[self.log[a] + self.log[b]]\n",
    "\n",
    "  def Inv(self, a):\n",
    "    self._CheckNZ(a)\n",
    "    return self.exp[self.order-1 - self.log[a]]\n",
    "\n",
    "  def Div(self, a, b):\n",
    "    \"\"\"Mul(a, Inv(b))\"\"\"\n",
    "    self._Check(a)\n",
    "    self._CheckNZ(b)\n",
    "    if a == 0:\n",
    "      return 0\n",
    "    return self.exp[self.log[a] + self.order-1 - self.log[b]]\n",
    "\n",
    "  def Dot(self, a, b):\n",
    "    assert len(a) == len(b)\n",
    "    result = 0\n",
    "    for i in range(len(a)):\n",
    "      # result += a[i] * b[i]\n",
    "      result = self.Add(result, self.Mul(a[i], b[i]))\n",
    "    return result\n",
    "\n",
    "gf = GF8bit()"
   ]
  },
  {
   "cell_type": "code",
   "execution_count": 5,
   "id": "39a33498-300b-4192-a779-89df39c22b97",
   "metadata": {
    "tags": []
   },
   "outputs": [
    {
     "data": {
      "text/plain": [
       "5"
      ]
     },
     "execution_count": 5,
     "metadata": {},
     "output_type": "execute_result"
    }
   ],
   "source": [
    "gf.Mul(3, 3)"
   ]
  },
  {
   "cell_type": "code",
   "execution_count": 7,
   "id": "6acf3778-0bc2-4ef8-bda3-4d3d4814f067",
   "metadata": {
    "tags": []
   },
   "outputs": [
    {
     "data": {
      "text/plain": [
       "17"
      ]
     },
     "execution_count": 7,
     "metadata": {},
     "output_type": "execute_result"
    }
   ],
   "source": [
    "gf.Mul(5, 5)"
   ]
  },
  {
   "cell_type": "markdown",
   "id": "5aee09f0-ff48-457d-8d48-34c36f86ee38",
   "metadata": {},
   "source": [
    "### Cross verification"
   ]
  },
  {
   "cell_type": "code",
   "execution_count": null,
   "id": "14d545d6-d8d1-49ac-b170-7b6ece16b7cf",
   "metadata": {},
   "outputs": [],
   "source": [
    "!pip install pyfinite galois"
   ]
  },
  {
   "cell_type": "code",
   "execution_count": 20,
   "id": "b38cc64e-a4da-441d-86ac-619313daff18",
   "metadata": {
    "tags": []
   },
   "outputs": [],
   "source": [
    "import pyfinite.ffield\n",
    "import time"
   ]
  },
  {
   "cell_type": "code",
   "execution_count": 34,
   "id": "e5d48d12-087d-4144-8c11-4c2235244d4e",
   "metadata": {
    "tags": []
   },
   "outputs": [
    {
     "name": "stdout",
     "output_type": "stream",
     "text": [
      "0.163 sec\n"
     ]
    }
   ],
   "source": [
    "ff = pyfinite.ffield.FField(8)\n",
    "start = time.time()\n",
    "\n",
    "# GF = galois.GF(2**8)\n",
    "for a in range(256):\n",
    "  if a != 0:\n",
    "    assert gf.Inv(a) == ff.Inverse(a), gf.Inverse(a)\n",
    "    # assert gf.Inv(a) == GF8(1) / GF8(a)\n",
    "  for b in range(256):\n",
    "    assert gf.Mul(a, b) == ff.Multiply(a, b)\n",
    "    # assert gf.Mul(a, b) == GF8(a) * GF8(b)\n",
    "    if b != 0:\n",
    "      assert gf.Div(a, b) == ff.Divide(a, b)\n",
    "      # assert gf.Div(a, b) == GF8(a) / GF8(b)\n",
    "end = time.time()\n",
    "print('%.3f sec' % (end - start))"
   ]
  },
  {
   "cell_type": "markdown",
   "id": "98c56ab6-ab6d-41bb-9986-d6c5c122962c",
   "metadata": {},
   "source": [
    "## Original view\n",
    "\n",
    "Easy to understand, just basic linear algebra, but over finite field. Good for erasure codes, used in some storage systems."
   ]
  },
  {
   "cell_type": "markdown",
   "id": "2e89fa10-7286-407a-abdd-8baf4ceed9a5",
   "metadata": {},
   "source": [
    "### Galois matrix"
   ]
  },
  {
   "cell_type": "code",
   "execution_count": 88,
   "id": "b55dd9e7-b0fc-47a9-bc72-fd7b698653ea",
   "metadata": {
    "tags": []
   },
   "outputs": [],
   "source": [
    "class GaloisMatrix:\n",
    "  def __init__(self, rows, cols):\n",
    "    self.gf = GF8bit()\n",
    "    self.rows = rows\n",
    "    self.cols = cols\n",
    "    self.mat = [[0] * cols for r in range(rows)]\n",
    "    assert len(self.mat) == rows\n",
    "\n",
    "  def __str__(self):\n",
    "    return '\\n'.join(' '.join('%4d' % x for x in row) for row in self.mat)\n",
    "\n",
    "  def Dot(self, vec:list) -> list:\n",
    "    assert self.cols == len(vec)\n",
    "    result = [None] * self.rows\n",
    "    for i in range(self.rows):\n",
    "      result[i] = self.gf.Dot(self.mat[i], vec)\n",
    "    return result\n",
    "\n",
    "  def SubRows(self, row_idx: list):\n",
    "    mat = GaloisMatrix(len(row_idx), self.cols)\n",
    "    for i, r in enumerate(row_idx):\n",
    "      mat.mat[i] = self.mat[r][:]\n",
    "    return mat\n",
    "\n",
    "  def Equals(self, other: GaloisMatrix):\n",
    "    if self.rows != other.rows or self.cols != other.cols:\n",
    "      return False\n",
    "    return self.mat == other.mat\n",
    "    \n",
    "  @classmethod\n",
    "  def Vander(cls, rows, cols, start=0):\n",
    "    mat = GaloisMatrix(rows, cols)\n",
    "    for i in range(rows):\n",
    "      a = i + start\n",
    "      x = 1\n",
    "      row = mat.mat[i]\n",
    "      for j in range(cols):\n",
    "        row[j] = x\n",
    "        x = gf.Mul(x, a)\n",
    "    return mat\n",
    "\n",
    "  @classmethod\n",
    "  def Identity(cls, n):\n",
    "    mat = GaloisMatrix(n, n)\n",
    "    for i in range(n):\n",
    "      mat.mat[i][i] = 1\n",
    "    return mat"
   ]
  },
  {
   "cell_type": "markdown",
   "id": "2fe95134-019a-4d33-9e6b-7e9205e348fc",
   "metadata": {},
   "source": [
    "### Vandermonde matrix"
   ]
  },
  {
   "cell_type": "code",
   "execution_count": 48,
   "id": "a66e2d10-ed96-4c87-9ced-43e28dbd83c4",
   "metadata": {
    "tags": []
   },
   "outputs": [
    {
     "name": "stdout",
     "output_type": "stream",
     "text": [
      "   1    0    0    0    0    0\n",
      "   1    1    1    1    1    1\n",
      "   1    2    4    8   16   32\n",
      "   1    3    5   15   17   51\n",
      "   1    4   16   64   29  116\n",
      "   1    5   17   85   28  108\n",
      "   1    6   20  120   13   46\n",
      "   1    7   21  107   12   36\n",
      "   1    8   64   58  205   38\n"
     ]
    }
   ],
   "source": [
    "V = GaloisMatrix.Vander(9, 6)\n",
    "print(V)"
   ]
  },
  {
   "cell_type": "code",
   "execution_count": 49,
   "id": "474254d4-356b-44a3-9148-36d85f2197db",
   "metadata": {
    "tags": []
   },
   "outputs": [
    {
     "data": {
      "text/plain": [
       "[1, 0, 29, 4, 35, 114, 255, 182, 147]"
      ]
     },
     "execution_count": 49,
     "metadata": {},
     "output_type": "execute_result"
    }
   ],
   "source": [
    "V.Dot([1, 6, 0, 4, 3, 0])"
   ]
  },
  {
   "cell_type": "code",
   "execution_count": 50,
   "id": "e3570bc6-6002-4e73-9ad2-061bf536f833",
   "metadata": {
    "tags": []
   },
   "outputs": [
    {
     "data": {
      "text/plain": [
       "[1, 4, 171, 248, 200, 237, 103, 20, 147]"
      ]
     },
     "execution_count": 50,
     "metadata": {},
     "output_type": "execute_result"
    }
   ],
   "source": [
    "V.Dot([1, 1, 4, 5, 1, 4])"
   ]
  },
  {
   "cell_type": "code",
   "execution_count": 51,
   "id": "ef9018bf-8087-4c61-9b34-ae0ab89750c3",
   "metadata": {
    "tags": []
   },
   "outputs": [
    {
     "data": {
      "text/plain": [
       "[72, 99, 130, 180, 48, 38, 244, 255, 13]"
      ]
     },
     "execution_count": 51,
     "metadata": {},
     "output_type": "execute_result"
    }
   ],
   "source": [
    "msg = [ord(ch) for ch in \"Hello!\"]\n",
    "V.Dot(msg)"
   ]
  },
  {
   "cell_type": "markdown",
   "id": "2cc1c614-e325-4240-a1f2-f385b51422fe",
   "metadata": {},
   "source": [
    "**Cross check with** `pyfinite`"
   ]
  },
  {
   "cell_type": "code",
   "execution_count": 52,
   "id": "82ab1514-680a-40c1-bc02-e5ab759bd48c",
   "metadata": {
    "tags": []
   },
   "outputs": [],
   "source": [
    "import pyfinite.rs_code"
   ]
  },
  {
   "cell_type": "code",
   "execution_count": 53,
   "id": "28402df6-02ed-49e4-8d3a-8795d9673937",
   "metadata": {
    "tags": []
   },
   "outputs": [
    {
     "data": {
      "text/plain": [
       "<RSCode (n,k) = (9, 6)  over GF(2^8)\n",
       "<matrix\n",
       "   1   0   0   0   0   0\n",
       "   1   1   1   1   1   1\n",
       "   1   2   4   8  16  32\n",
       "   1   3   5  15  17  51\n",
       "   1   4  16  64  29 116\n",
       "   1   5  17  85  28 108\n",
       "   1   6  20 120  13  46\n",
       "   1   7  21 107  12  36\n",
       "   1   8  64  58 205  38>\n",
       ">"
      ]
     },
     "execution_count": 53,
     "metadata": {},
     "output_type": "execute_result"
    }
   ],
   "source": [
    "rs96 = pyfinite.rs_code.RSCode(n=9, k=6, log2FieldSize=8, systematic=0)\n",
    "rs96"
   ]
  },
  {
   "cell_type": "code",
   "execution_count": 54,
   "id": "39c6d08f-3d1f-43be-b036-672d296106db",
   "metadata": {
    "tags": []
   },
   "outputs": [
    {
     "data": {
      "text/plain": [
       "[1, 0, 29, 4, 35, 114, 255, 182, 147]"
      ]
     },
     "execution_count": 54,
     "metadata": {},
     "output_type": "execute_result"
    }
   ],
   "source": [
    "rs96.Encode([1, 6, 0, 4, 3, 0])"
   ]
  },
  {
   "cell_type": "code",
   "execution_count": 55,
   "id": "8aaa3fd7-cca6-4f2f-8377-43e81b4e20a0",
   "metadata": {
    "tags": []
   },
   "outputs": [
    {
     "data": {
      "text/plain": [
       "[1, 4, 171, 248, 200, 237, 103, 20, 147]"
      ]
     },
     "execution_count": 55,
     "metadata": {},
     "output_type": "execute_result"
    }
   ],
   "source": [
    "rs96.Encode([1, 1, 4, 5, 1, 4])"
   ]
  },
  {
   "cell_type": "code",
   "execution_count": 56,
   "id": "8208f63d-c002-4632-9d99-aa42441610eb",
   "metadata": {
    "tags": []
   },
   "outputs": [
    {
     "data": {
      "text/plain": [
       "[72, 99, 130, 180, 48, 38, 244, 255, 13]"
      ]
     },
     "execution_count": 56,
     "metadata": {},
     "output_type": "execute_result"
    }
   ],
   "source": [
    "rs96.Encode(msg)"
   ]
  },
  {
   "cell_type": "markdown",
   "id": "519d5ad7-98a1-470a-88b8-fe0adfbe75df",
   "metadata": {},
   "source": [
    "### Systematic encoding"
   ]
  },
  {
   "cell_type": "code",
   "execution_count": 57,
   "id": "fe3c4650-b193-437d-977f-d5e58230123d",
   "metadata": {
    "tags": []
   },
   "outputs": [
    {
     "name": "stdout",
     "output_type": "stream",
     "text": [
      "   1    0    0    0    0    0\n",
      "   1    1    1    1    1    1\n",
      "   1    2    4    8   16   32\n",
      "   1    3    5   15   17   51\n",
      "   1    4   16   64   29  116\n",
      "   1    5   17   85   28  108\n",
      "   1    6   20  120   13   46\n",
      "   1    7   21  107   12   36\n",
      "   1    8   64   58  205   38\n"
     ]
    }
   ],
   "source": [
    "V = GaloisMatrix.Vander(9, 6)\n",
    "print(V)"
   ]
  },
  {
   "cell_type": "code",
   "execution_count": 66,
   "id": "2fe9d233-0d42-4200-a6f0-314fda071613",
   "metadata": {
    "tags": []
   },
   "outputs": [],
   "source": [
    "def Systematic(V):\n",
    "  assert V.rows >= V.cols\n",
    "\n",
    "  def SwapColumn(V, i, j):\n",
    "    for r in range(V.rows):\n",
    "      V.mat[r][i], V.mat[r][j] = V.mat[r][j], V.mat[r][i]\n",
    "\n",
    "  def MulColumn(V, col, x):\n",
    "    for i in range(V.rows):\n",
    "      V.mat[i][col] = gf.Mul(V.mat[i][col], x)\n",
    "\n",
    "  def AddColumn(V, to, src, factor):\n",
    "    # TODO: skip some rows\n",
    "    for i in range(V.rows):\n",
    "      V.mat[i][to] ^= V.gf.Mul(factor, V.mat[i][src])\n",
    "\n",
    "  for i in range(V.cols):\n",
    "    row = V.mat[i]\n",
    "    if row[i] == 0:\n",
    "      # find and swap with column j\n",
    "      for j in range(i+1, V.cols):\n",
    "        if row[j] != 0:\n",
    "          SwapColumn(V, i, j)\n",
    "          # print(\"Swapped column %d and %d\" % (i, j))\n",
    "          break\n",
    "    assert row[i] != 0\n",
    "    if row[i] != 1:\n",
    "      # print('  row', i, row[i], gf.Inv(row[i]))\n",
    "      # unity pivot\n",
    "      MulColumn(V, i, gf.Inv(row[i]))\n",
    "    assert row[i] == 1\n",
    "    # Elminate other columns\n",
    "    for j in range(V.cols):\n",
    "      if i != j and row[j] != 0:\n",
    "        factor = V.mat[i][j]\n",
    "        AddColumn(V, j, i, factor)\n",
    "    #print(\"Row\", i , 'done')\n",
    "    #print(V)"
   ]
  },
  {
   "cell_type": "code",
   "execution_count": 96,
   "id": "53191271-fbe9-4842-88e3-5a95cb55f932",
   "metadata": {
    "tags": []
   },
   "outputs": [
    {
     "name": "stdout",
     "output_type": "stream",
     "text": [
      "   1    0    0    0    0    0\n",
      "   0    1    0    0    0    0\n",
      "   0    0    1    0    0    0\n",
      "   0    0    0    1    0    0\n",
      "   0    0    0    0    1    0\n",
      "   0    0    0    0    0    1\n",
      "   7    6    5    4    3    2\n",
      "   6    7    4    5    2    3\n",
      " 160  223  223  183  254  232\n"
     ]
    }
   ],
   "source": [
    "V = GaloisMatrix.Vander(9, 6)\n",
    "Systematic(V)\n",
    "print(V)"
   ]
  },
  {
   "cell_type": "code",
   "execution_count": 100,
   "id": "ac70f1d0-e787-4b12-b8df-90900805a712",
   "metadata": {
    "tags": []
   },
   "outputs": [],
   "source": [
    "I = GaloisMatrix.Identity(6)\n",
    "assert I.Equals(V.SubRows(list(range(6))))"
   ]
  },
  {
   "cell_type": "code",
   "execution_count": 68,
   "id": "71db4f2a-298a-46d6-bc60-b882085cc180",
   "metadata": {
    "tags": []
   },
   "outputs": [
    {
     "data": {
      "text/plain": [
       "<RSCode (n,k) = (9, 6)  over GF(2^8)\n",
       "<matrix\n",
       "   1   0   0   0   0   0\n",
       "   0   1   0   0   0   0\n",
       "   0   0   1   0   0   0\n",
       "   0   0   0   1   0   0\n",
       "   0   0   0   0   1   0\n",
       "   0   0   0   0   0   1\n",
       "   7   6   5   4   3   2\n",
       "   6   7   4   5   2   3\n",
       " 160 223 223 183 254 232>\n",
       ">"
      ]
     },
     "execution_count": 68,
     "metadata": {},
     "output_type": "execute_result"
    }
   ],
   "source": [
    "rs96s = pyfinite.rs_code.RSCode(n=9, k=6, log2FieldSize=8, systematic=1)\n",
    "rs96s"
   ]
  },
  {
   "cell_type": "code",
   "execution_count": 69,
   "id": "afc49cab-f4e2-4c3e-9267-93fa555b56a8",
   "metadata": {
    "tags": []
   },
   "outputs": [
    {
     "data": {
      "text/plain": [
       "[1, 6, 0, 4, 3, 0, 6, 6, 161]"
      ]
     },
     "execution_count": 69,
     "metadata": {},
     "output_type": "execute_result"
    }
   ],
   "source": [
    "V.Dot([1, 6, 0, 4, 3, 0])"
   ]
  },
  {
   "cell_type": "code",
   "execution_count": 82,
   "id": "44199c09-c6d3-4406-8311-864b95249d5f",
   "metadata": {
    "tags": []
   },
   "outputs": [
    {
     "data": {
      "text/plain": [
       "[1, 6, 0, 4, 3, 0, 6, 6, 161]"
      ]
     },
     "execution_count": 82,
     "metadata": {},
     "output_type": "execute_result"
    }
   ],
   "source": [
    "rs96s.Encode([1, 6, 0, 4, 3, 0])"
   ]
  },
  {
   "cell_type": "markdown",
   "id": "273efc01-1042-4590-9948-4ed083ff49ad",
   "metadata": {},
   "source": [
    "**Encoder class**"
   ]
  },
  {
   "cell_type": "code",
   "execution_count": 89,
   "id": "b053b422-8a97-4eac-833d-de91af428d5a",
   "metadata": {
    "tags": []
   },
   "outputs": [],
   "source": [
    "class RSEncoder:\n",
    "  \"\"\"Reed-Solomon erasure codes systematic encoder.\"\"\"\n",
    "\n",
    "  def __init__(self, n, k):\n",
    "    self.n = n\n",
    "    self.k = k\n",
    "    V = GaloisMatrix.Vander(n, k)\n",
    "    Systematic(V)\n",
    "    top = V.SubRows(list(range(k)))\n",
    "    assert top.Equals(GaloisMatrix.Identity(k))\n",
    "    self.G = V.SubRows(list(range(k, n)))\n",
    "    assert self.G.cols == self.k\n",
    "    assert self.G.rows == self.n - self.k\n",
    "\n",
    "  def Encode(self, message: list):\n",
    "    \"\"\"Return the codeword of n bytes.\"\"\"\n",
    "    parity = self.Parity(message)\n",
    "    return message + parity\n",
    "\n",
    "  def Parity(self, message: list):\n",
    "    \"\"\"Return the parity of (n-k) bytes.\"\"\"\n",
    "    assert len(message) == self.k\n",
    "    return self.G.Dot(message)"
   ]
  },
  {
   "cell_type": "code",
   "execution_count": 90,
   "id": "f77c5c54-5815-42de-9f55-db35b2f9f128",
   "metadata": {
    "tags": []
   },
   "outputs": [
    {
     "name": "stdout",
     "output_type": "stream",
     "text": [
      "   7    6    5    4    3    2\n",
      "   6    7    4    5    2    3\n",
      " 160  223  223  183  254  232\n"
     ]
    }
   ],
   "source": [
    "rs96 = RSEncoder(9, 6)\n",
    "print(rs96.G)"
   ]
  },
  {
   "cell_type": "code",
   "execution_count": 83,
   "id": "6cf13ff3-99fe-4d0d-8cbd-e0fabfb7729f",
   "metadata": {
    "tags": []
   },
   "outputs": [
    {
     "name": "stdout",
     "output_type": "stream",
     "text": [
      "Message:  [1, 6, 0, 4, 3, 0]\n",
      "Parity:   [6, 6, 161]\n",
      "Codeword: [1, 6, 0, 4, 3, 0, 6, 6, 161]\n"
     ]
    }
   ],
   "source": [
    "msg = [1, 6, 0, 4, 3, 0]\n",
    "\n",
    "print('Message: ', msg)\n",
    "print('Parity:  ', rs96.Parity(msg))\n",
    "print('Codeword:', rs96.Encode(msg))"
   ]
  },
  {
   "cell_type": "code",
   "execution_count": 84,
   "id": "6058936a-5ff6-4964-bb3a-65a5f4546dac",
   "metadata": {
    "tags": []
   },
   "outputs": [
    {
     "name": "stdout",
     "output_type": "stream",
     "text": [
      "Message:  [1, 1, 4, 5, 1, 4]\n",
      "Parity:   [10, 14, 12]\n",
      "Codeword: [1, 1, 4, 5, 1, 4, 10, 14, 12]\n"
     ]
    }
   ],
   "source": [
    "msg = [1, 1, 4, 5, 1, 4]\n",
    "\n",
    "print('Message: ', msg)\n",
    "print('Parity:  ', rs96.Parity(msg))\n",
    "print('Codeword:', rs96.Encode(msg))"
   ]
  },
  {
   "cell_type": "code",
   "execution_count": 85,
   "id": "5fa1c6bf-b52e-4620-a75e-c0ca72e39aae",
   "metadata": {
    "tags": []
   },
   "outputs": [
    {
     "name": "stdout",
     "output_type": "stream",
     "text": [
      "Message:  [72, 101, 108, 108, 111, 33]\n",
      "Parity:   [57, 90, 253]\n",
      "Codeword: [72, 101, 108, 108, 111, 33, 57, 90, 253]\n"
     ]
    }
   ],
   "source": [
    "msg = [ord(ch) for ch in \"Hello!\"]\n",
    "\n",
    "print('Message: ', msg)\n",
    "print('Parity:  ', rs96.Parity(msg))\n",
    "print('Codeword:', rs96.Encode(msg))"
   ]
  },
  {
   "cell_type": "code",
   "execution_count": 86,
   "id": "6003bf84-5872-413a-b9be-4f4345019adf",
   "metadata": {
    "tags": []
   },
   "outputs": [
    {
     "data": {
      "text/plain": [
       "[72, 101, 108, 108, 111, 33, 57, 90, 253]"
      ]
     },
     "execution_count": 86,
     "metadata": {},
     "output_type": "execute_result"
    }
   ],
   "source": [
    "rs96s.Encode(msg)"
   ]
  },
  {
   "cell_type": "markdown",
   "id": "09b6ca36-8430-4e50-a1c4-b95549a1c372",
   "metadata": {},
   "source": [
    "### Erasure decoding"
   ]
  },
  {
   "cell_type": "code",
   "execution_count": 87,
   "id": "6782c3c3-b61c-4927-a861-5f621621947e",
   "metadata": {
    "tags": []
   },
   "outputs": [],
   "source": [
    "def InverseMatrix(m : GaloisMatrix):\n",
    "  assert m.rows == m.cols\n",
    "  result = GaloisMatrix.Identity(m.rows)\n",
    "  for i in range(m.rows):\n",
    "    row = m.mat[i]\n",
    "    if row[i] == 0:\n",
    "      # find and swap with row j\n",
    "      for j in range(i+1, m.rows):\n",
    "        if m.mat[j][i] != 0:\n",
    "          m.SwapRow(i, j)\n",
    "          result.SwapRow(i, j)\n",
    "          row = m.mat[i]\n",
    "          break\n",
    "        # print(\"Swapped column %d and %d\" % (i, j))\n",
    "    assert row[i] != 0\n",
    "    if row[i] != 1:\n",
    "      inv = m.gf.Inv(row[i])\n",
    "      m.MulRow(i, inv)\n",
    "      result.MulRow(i, inv)\n",
    "    assert row[i] == 1\n",
    "    # Eliminate other rows\n",
    "    for j in range(m.rows):\n",
    "      if i != j and m.mat[j][i] != 0:\n",
    "        factor = m.mat[j][i]\n",
    "        m.AddRow(j, i, factor)\n",
    "        result.AddRow(j, i, factor)\n",
    "  assert m.IsIdentity()\n",
    "  return result"
   ]
  },
  {
   "cell_type": "markdown",
   "id": "a1cc6b25-c35a-4de4-a6f3-301f898f8d68",
   "metadata": {},
   "source": [
    "## BCH view\n",
    "\n",
    "most common used, both erasure and error corrections"
   ]
  },
  {
   "cell_type": "markdown",
   "id": "35ae5a69-e6dd-4ed7-ba07-8e617bccf617",
   "metadata": {},
   "source": [
    "### Generator polynomial"
   ]
  },
  {
   "cell_type": "code",
   "execution_count": null,
   "id": "bf30203c-0db0-4a21-af56-316175bff46a",
   "metadata": {},
   "outputs": [],
   "source": []
  },
  {
   "cell_type": "markdown",
   "id": "d7ce0e8f-5ad9-4075-8445-23c8685f5109",
   "metadata": {},
   "source": [
    "### Systematic encoding (10 LOC)"
   ]
  },
  {
   "cell_type": "code",
   "execution_count": null,
   "id": "1c97f9c0-0701-4b22-bccd-4ffc044f4271",
   "metadata": {},
   "outputs": [],
   "source": []
  }
 ],
 "metadata": {
  "kernelspec": {
   "display_name": "Python 3 (ipykernel)",
   "language": "python",
   "name": "python3"
  },
  "language_info": {
   "codemirror_mode": {
    "name": "ipython",
    "version": 3
   },
   "file_extension": ".py",
   "mimetype": "text/x-python",
   "name": "python",
   "nbconvert_exporter": "python",
   "pygments_lexer": "ipython3",
   "version": "3.11.2"
  }
 },
 "nbformat": 4,
 "nbformat_minor": 5
}
