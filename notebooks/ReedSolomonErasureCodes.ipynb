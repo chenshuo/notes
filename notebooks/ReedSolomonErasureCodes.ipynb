{
 "cells": [
  {
   "cell_type": "markdown",
   "id": "a6d53fcd",
   "metadata": {
    "colab_type": "text",
    "id": "view-in-github"
   },
   "source": [
    "<a href=\"https://colab.research.google.com/github/chenshuo/notes/blob/master/notebooks/ReedSolomonErasureCodes.ipynb\" target=\"_parent\"><img src=\"https://colab.research.google.com/assets/colab-badge.svg\" alt=\"Open In Colab\"/></a>"
   ]
  },
  {
   "cell_type": "markdown",
   "id": "1a9dcaf2-e199-444c-aea0-7685c1775f37",
   "metadata": {},
   "source": [
    "# Reed-Solomon Erasure Codes in Python\n",
    "\n",
    "By Shuo Chen (chenshuo_at_chenshuo.com)\n",
    "\n",
    "https://github.com/chenshuo/notes/blob/master/notebooks/ReedSolomonErasureCodes.ipynb\n",
    "\n",
    "https://colab.research.google.com/github/chenshuo/notes/blob/master/notebooks/ReedSolomonErasureCodes.ipynb\n",
    "\n",
    "https://chenshuo.com/notes/reed-solomon/"
   ]
  },
  {
   "cell_type": "markdown",
   "id": "8b975dcb-f921-44e0-8132-b323923ffc84",
   "metadata": {},
   "source": [
    "## Polynomial codes\n",
    "\n",
    "Reference\n",
    "* https://tomverbeure.github.io/2022/08/07/Reed-Solomon.html\n",
    "* https://innovation.vivint.com/introduction-to-reed-solomon-bc264d0794f8"
   ]
  },
  {
   "cell_type": "markdown",
   "id": "a25c4ead-f13b-42a2-b4d7-6135fd2fac25",
   "metadata": {},
   "source": [
    "### Introductory example: Shannon's birthday\n",
    "\n",
    "Polynomial codes in real field.\n",
    "\n",
    "We want to transmit 6 digits $\\boldsymbol d = [d_0, d_1, d_2, \\ldots, d_5]$,\n",
    "using 9 numbers $\\boldsymbol c = [c_0, c_1, \\ldots, c_8]$, and being able to tolarance any 3 losses (erasures)."
   ]
  },
  {
   "cell_type": "code",
   "execution_count": 1,
   "id": "7959df24-6427-4787-8e57-865cde720a0a",
   "metadata": {
    "tags": []
   },
   "outputs": [],
   "source": [
    "import math\n",
    "import numpy as np"
   ]
  },
  {
   "cell_type": "code",
   "execution_count": 35,
   "id": "ed42f059-6ab0-4112-88cc-a637d1ffec67",
   "metadata": {
    "tags": []
   },
   "outputs": [
    {
     "data": {
      "text/plain": [
       "6"
      ]
     },
     "execution_count": 35,
     "metadata": {},
     "output_type": "execute_result"
    }
   ],
   "source": [
    "d = np.array([1, 6, 0, 4, 3, 0])\n",
    "d.size"
   ]
  },
  {
   "cell_type": "markdown",
   "id": "243fa227-e36b-4aba-8a44-607c0b6ed028",
   "metadata": {},
   "source": [
    "First, we make a polynomial $p(x) = d_0 + d_1 x +  d_2 x^2 + \\cdots + d_5 x^5$.\n",
    "\n",
    "Then evaluate its values at 9 points: $ x \\in {0, 1, 2, 3, \\ldots, 8}$\n",
    "\n",
    "$\\boldsymbol c = [p(0), p(1), \\ldots, p(8)]$"
   ]
  },
  {
   "cell_type": "markdown",
   "id": "cd7e68c6-8b9a-40e3-a746-1a2b5b509820",
   "metadata": {},
   "source": [
    "$$V\\cdot\\boldsymbol d = \\boldsymbol c$$\n",
    "\n",
    "$$\\begin{bmatrix}\n",
    "1 & 0^1 & 0^2 & 0^3 & 0^4 & 0^5 \\\\\n",
    "1 & 1^1 & 1^2 & 1^3 & 1^4 & 1^5 \\\\\n",
    "1 & 2^1 & 2^2 & 2^3 & 2^4 & 2^5 \\\\\n",
    "1 & 3^1 & 3^2 & 3^3 & 3^4 & 3^5 \\\\\n",
    "1 & 4^1 & 4^2 & 4^3 & 4^4 & 4^5 \\\\\n",
    "1 & 5^1 & 5^2 & 5^3 & 5^4 & 5^5 \\\\\n",
    "1 & 6^1 & 6^2 & 6^3 & 6^4 & 6^5 \\\\\n",
    "1 & 7^1 & 7^2 & 7^3 & 7^4 & 7^5 \\\\\n",
    "1 & 8^1 & 8^2 & 8^3 & 8^4 & 8^5 \\\\\n",
    "\\end{bmatrix}\\cdot\\begin{pmatrix}\n",
    "d_0\\\\\n",
    "d_1\\\\\n",
    "d_2\\\\\n",
    "d_3\\\\\n",
    "d_4\\\\\n",
    "d_5\\\\\n",
    "\\end{pmatrix}=\\begin{pmatrix}\n",
    "1\\\\14\\\\93\\\\370\\\\1049\\\\2406\\\\4789\\\\8618\\\\14385\\\\\n",
    "\\end{pmatrix}$$"
   ]
  },
  {
   "cell_type": "code",
   "execution_count": 36,
   "id": "ccc859de-81cb-4b66-973c-60e566e171ce",
   "metadata": {
    "tags": []
   },
   "outputs": [
    {
     "name": "stdout",
     "output_type": "stream",
     "text": [
      "x = [0 1 2 3 4 5 6 7 8]\n",
      "[[    1     0     0     0     0     0]\n",
      " [    1     1     1     1     1     1]\n",
      " [    1     2     4     8    16    32]\n",
      " [    1     3     9    27    81   243]\n",
      " [    1     4    16    64   256  1024]\n",
      " [    1     5    25   125   625  3125]\n",
      " [    1     6    36   216  1296  7776]\n",
      " [    1     7    49   343  2401 16807]\n",
      " [    1     8    64   512  4096 32768]]\n"
     ]
    }
   ],
   "source": [
    "x = np.arange(9)\n",
    "print('x =', x)\n",
    "\n",
    "V = np.vander(x, N=d.size, increasing=True)\n",
    "print(V)"
   ]
  },
  {
   "cell_type": "code",
   "execution_count": 37,
   "id": "cedefa15-985a-403b-b144-61377eb53547",
   "metadata": {
    "tags": []
   },
   "outputs": [
    {
     "name": "stdout",
     "output_type": "stream",
     "text": [
      "[    1    14    93   370  1049  2406  4789  8618 14385]\n"
     ]
    }
   ],
   "source": [
    "c = V @ d\n",
    "print(c)"
   ]
  },
  {
   "cell_type": "markdown",
   "id": "d19c8a9e-42d2-4081-99d6-43e4dc50866a",
   "metadata": {},
   "source": [
    "**Recover from loss**\n",
    "\n",
    "Assuming $c_0, c_4, c_8$ are lost in transmission, we could solve linear equations using remaining 6 symbols in codeword.\n",
    "\n",
    "$$\\begin{bmatrix}\n",
    "1 & 1^1 & 1^2 & 1^3 & 1^4 & 1^5 \\\\\n",
    "1 & 2^1 & 2^2 & 2^3 & 2^4 & 2^5 \\\\\n",
    "1 & 3^1 & 3^2 & 3^3 & 3^4 & 3^5 \\\\\n",
    "1 & 5^1 & 5^2 & 5^3 & 5^4 & 5^5 \\\\\n",
    "1 & 6^1 & 6^2 & 6^3 & 6^4 & 6^5 \\\\\n",
    "1 & 7^1 & 7^2 & 7^3 & 7^4 & 7^5 \\\\\n",
    "\\end{bmatrix}\\cdot\\begin{pmatrix}\n",
    "d_0\\\\\n",
    "d_1\\\\\n",
    "d_2\\\\\n",
    "d_3\\\\\n",
    "d_4\\\\\n",
    "d_5\\\\\n",
    "\\end{pmatrix}=\\begin{pmatrix}\n",
    "14\\\\93\\\\370\\\\2406\\\\4789\\\\8618\\\\\n",
    "\\end{pmatrix}$$"
   ]
  },
  {
   "cell_type": "code",
   "execution_count": 40,
   "id": "2118a581-ad0f-405a-b681-4b85422e03d9",
   "metadata": {
    "tags": []
   },
   "outputs": [
    {
     "name": "stdout",
     "output_type": "stream",
     "text": [
      "[  14   93  370 2406 4789 8618]\n",
      "[[    1     1     1     1     1     1]\n",
      " [    1     2     4     8    16    32]\n",
      " [    1     3     9    27    81   243]\n",
      " [    1     5    25   125   625  3125]\n",
      " [    1     6    36   216  1296  7776]\n",
      " [    1     7    49   343  2401 16807]]\n"
     ]
    }
   ],
   "source": [
    "recv = np.concatenate((c[1:4], c[5:8]))\n",
    "print(recv)\n",
    "\n",
    "M = np.concatenate((V[1:4], V[5:8]))\n",
    "print(M)"
   ]
  },
  {
   "cell_type": "code",
   "execution_count": 42,
   "id": "635237a7-9ce8-4664-b5b1-fc426d334bb3",
   "metadata": {
    "tags": []
   },
   "outputs": [
    {
     "name": "stdout",
     "output_type": "stream",
     "text": [
      "[[ 1.00000000e+00]\n",
      " [ 6.00000000e+00]\n",
      " [ 1.34292577e-12]\n",
      " [ 4.00000000e+00]\n",
      " [ 3.00000000e+00]\n",
      " [-3.78956126e-15]]\n",
      "[1 6 0 4 3 0]\n"
     ]
    }
   ],
   "source": [
    "msg = np.linalg.solve(M, recv)\n",
    "print(msg.reshape(-1, 1))\n",
    "\n",
    "recover = np.rint(msg).astype(int)\n",
    "print(recover)"
   ]
  },
  {
   "cell_type": "code",
   "execution_count": 46,
   "id": "5841d8cd-924e-428b-b9e3-52aea4e0cd28",
   "metadata": {
    "tags": []
   },
   "outputs": [],
   "source": [
    "assert (recover == d).all()"
   ]
  },
  {
   "cell_type": "markdown",
   "id": "d49b4ea8-79aa-438c-a2d4-6f993538a148",
   "metadata": {},
   "source": [
    "## Galois field arithmetic\n",
    "\n",
    "Reference\n",
    "* https://www.kernel.org/pub/linux/kernel/people/hpa/raid6.pdf\n",
    "* https://research.swtch.com/field\n",
    "\n",
    "Here we implement one particular $GF(256)$, with primitive element $\\alpha = 2$ and irreducible polynomial `0x11d`.\n",
    "\n",
    "Future optimizations:\n",
    "* https://www.academia.edu/89610567/Fast_software_implementation_of_finite_field_operations\n",
    "* https://stackoverflow.com/a/30460874"
   ]
  },
  {
   "cell_type": "code",
   "execution_count": 31,
   "id": "6dc91e51-b06e-4a7c-aa38-aecd24da5900",
   "metadata": {
    "tags": []
   },
   "outputs": [],
   "source": [
    "class GF8bit:\n",
    "  bits = 8\n",
    "  order = 2 ** bits\n",
    "  max = order - 1\n",
    "\n",
    "  def __init__(self):\n",
    "    self._GenerateTables()\n",
    "\n",
    "  @classmethod\n",
    "  def _Check(cls, x):\n",
    "    assert isinstance(x, int)\n",
    "    assert 0 <= x and x < cls.order\n",
    "\n",
    "  @classmethod\n",
    "  def _CheckNZ(cls, x):\n",
    "    cls._Check(x)\n",
    "    assert x != 0\n",
    "\n",
    "  @classmethod\n",
    "  def _Mul2(cls, x):\n",
    "    cls._Check(x)\n",
    "    y = (x & 0x7f) << 1\n",
    "    if x & 0x80:\n",
    "      y ^= 0x1d\n",
    "    cls._Check(y)\n",
    "    return y\n",
    "\n",
    "  def _GenerateTables(self):\n",
    "    self.exp = [None] * (self.max * 2)\n",
    "    self.log = [None] * self.order\n",
    "    x = 1\n",
    "    for i in range(self.max):\n",
    "      self.exp[i] = x\n",
    "      self.exp[i+self.max] = x\n",
    "      self.log[x] = i\n",
    "      x = self._Mul2(x)\n",
    "\n",
    "    assert x == 1  # alpha ** 255 == 1\n",
    "    assert 0 not in self.exp\n",
    "    assert self.exp[255] == 1\n",
    "    assert self.exp[:255] == self.exp[255:]\n",
    "    assert len(set(self.exp)) == self.order - 1\n",
    "    assert self.log[0] is None\n",
    "    assert self.log[1] == 0\n",
    "    assert None not in self.log[1:]\n",
    "    assert max(self.log[1:]) == 254\n",
    "\n",
    "  def Add(self, a, b):\n",
    "    self._Check(a)\n",
    "    self._Check(b)\n",
    "    return a ^ b\n",
    "\n",
    "  def Sub(self, a, b):\n",
    "    return self.Add(a, b)\n",
    "\n",
    "  def Exp(self, x):\n",
    "    self._Check(x)\n",
    "    return self.exp[x]\n",
    "\n",
    "  def Log(self, x):\n",
    "    self._CheckNZ(x)\n",
    "    return self.log[x]\n",
    "\n",
    "  def Mul(self, a, b):\n",
    "    self._Check(a)\n",
    "    self._Check(b)\n",
    "    if a == 0 or b == 0:\n",
    "      return 0\n",
    "    return self.exp[self.log[a] + self.log[b]]\n",
    "\n",
    "  def Inv(self, a):\n",
    "    self._CheckNZ(a)\n",
    "    return self.exp[self.order-1 - self.log[a]]\n",
    "\n",
    "  def Div(self, a, b):\n",
    "    \"\"\"Mul(a, Inv(b))\"\"\"\n",
    "    self._Check(a)\n",
    "    self._CheckNZ(b)\n",
    "    if a == 0:\n",
    "      return 0\n",
    "    return self.exp[self.log[a] + self.order-1 - self.log[b]]\n",
    "\n",
    "  def Dot(self, a, b):\n",
    "    assert len(a) == len(b)\n",
    "    result = 0\n",
    "    for i in range(len(a)):\n",
    "      # result += a[i] * b[i]\n",
    "      result = self.Add(result, self.Mul(a[i], b[i]))\n",
    "    return result\n",
    "\n",
    "gf = GF8bit()"
   ]
  },
  {
   "cell_type": "code",
   "execution_count": 5,
   "id": "39a33498-300b-4192-a779-89df39c22b97",
   "metadata": {
    "tags": []
   },
   "outputs": [
    {
     "data": {
      "text/plain": [
       "5"
      ]
     },
     "execution_count": 5,
     "metadata": {},
     "output_type": "execute_result"
    }
   ],
   "source": [
    "gf.Mul(3, 3)"
   ]
  },
  {
   "cell_type": "code",
   "execution_count": 7,
   "id": "6acf3778-0bc2-4ef8-bda3-4d3d4814f067",
   "metadata": {
    "tags": []
   },
   "outputs": [
    {
     "data": {
      "text/plain": [
       "17"
      ]
     },
     "execution_count": 7,
     "metadata": {},
     "output_type": "execute_result"
    }
   ],
   "source": [
    "gf.Mul(5, 5)"
   ]
  },
  {
   "cell_type": "markdown",
   "id": "5aee09f0-ff48-457d-8d48-34c36f86ee38",
   "metadata": {},
   "source": [
    "### Cross verification"
   ]
  },
  {
   "cell_type": "code",
   "execution_count": null,
   "id": "14d545d6-d8d1-49ac-b170-7b6ece16b7cf",
   "metadata": {},
   "outputs": [],
   "source": [
    "!pip install pyfinite galois"
   ]
  },
  {
   "cell_type": "code",
   "execution_count": 20,
   "id": "b38cc64e-a4da-441d-86ac-619313daff18",
   "metadata": {
    "tags": []
   },
   "outputs": [],
   "source": [
    "import pyfinite.ffield\n",
    "import time"
   ]
  },
  {
   "cell_type": "code",
   "execution_count": 34,
   "id": "e5d48d12-087d-4144-8c11-4c2235244d4e",
   "metadata": {
    "tags": []
   },
   "outputs": [
    {
     "name": "stdout",
     "output_type": "stream",
     "text": [
      "0.163 sec\n"
     ]
    }
   ],
   "source": [
    "ff = pyfinite.ffield.FField(8)\n",
    "start = time.time()\n",
    "\n",
    "# GF = galois.GF(2**8)\n",
    "for a in range(256):\n",
    "  if a != 0:\n",
    "    assert gf.Inv(a) == ff.Inverse(a), gf.Inverse(a)\n",
    "    # assert gf.Inv(a) == GF8(1) / GF8(a)\n",
    "  for b in range(256):\n",
    "    assert gf.Mul(a, b) == ff.Multiply(a, b)\n",
    "    # assert gf.Mul(a, b) == GF8(a) * GF8(b)\n",
    "    if b != 0:\n",
    "      assert gf.Div(a, b) == ff.Divide(a, b)\n",
    "      # assert gf.Div(a, b) == GF8(a) / GF8(b)\n",
    "end = time.time()\n",
    "print('%.3f sec' % (end - start))"
   ]
  },
  {
   "cell_type": "markdown",
   "id": "98c56ab6-ab6d-41bb-9986-d6c5c122962c",
   "metadata": {},
   "source": [
    "## Original view\n",
    "\n",
    "Easy to understand, just basic linear algebra, but over finite field. Good for erasure codes, used in some storage systems."
   ]
  },
  {
   "cell_type": "markdown",
   "id": "2e89fa10-7286-407a-abdd-8baf4ceed9a5",
   "metadata": {},
   "source": [
    "### Galois matrix"
   ]
  },
  {
   "cell_type": "code",
   "execution_count": 88,
   "id": "b55dd9e7-b0fc-47a9-bc72-fd7b698653ea",
   "metadata": {
    "tags": []
   },
   "outputs": [],
   "source": [
    "class GaloisMatrix:\n",
    "  def __init__(self, rows, cols):\n",
    "    self.gf = GF8bit()\n",
    "    self.rows = rows\n",
    "    self.cols = cols\n",
    "    self.mat = [[0] * cols for r in range(rows)]\n",
    "    assert len(self.mat) == rows\n",
    "\n",
    "  def __str__(self):\n",
    "    return '\\n'.join(' '.join('%4d' % x for x in row) for row in self.mat)\n",
    "\n",
    "  def Dot(self, vec:list) -> list:\n",
    "    assert self.cols == len(vec)\n",
    "    result = [None] * self.rows\n",
    "    for i in range(self.rows):\n",
    "      result[i] = self.gf.Dot(self.mat[i], vec)\n",
    "    return result\n",
    "\n",
    "  def SubRows(self, row_idx: list):\n",
    "    mat = GaloisMatrix(len(row_idx), self.cols)\n",
    "    for i, r in enumerate(row_idx):\n",
    "      mat.mat[i] = self.mat[r][:]\n",
    "    return mat\n",
    "\n",
    "  def Equals(self, other: GaloisMatrix):\n",
    "    if self.rows != other.rows or self.cols != other.cols:\n",
    "      return False\n",
    "    return self.mat == other.mat\n",
    "    \n",
    "  @classmethod\n",
    "  def Vander(cls, rows, cols, start=0):\n",
    "    mat = GaloisMatrix(rows, cols)\n",
    "    for i in range(rows):\n",
    "      a = i + start\n",
    "      x = 1\n",
    "      row = mat.mat[i]\n",
    "      for j in range(cols):\n",
    "        row[j] = x\n",
    "        x = gf.Mul(x, a)\n",
    "    return mat\n",
    "\n",
    "  @classmethod\n",
    "  def Identity(cls, n):\n",
    "    mat = GaloisMatrix(n, n)\n",
    "    for i in range(n):\n",
    "      mat.mat[i][i] = 1\n",
    "    return mat"
   ]
  },
  {
   "cell_type": "markdown",
   "id": "2fe95134-019a-4d33-9e6b-7e9205e348fc",
   "metadata": {},
   "source": [
    "### Vandermonde matrix"
   ]
  },
  {
   "cell_type": "markdown",
   "id": "d2bf55ae-abc2-48bd-9bc0-5892fef9314e",
   "metadata": {},
   "source": [
    "Reference\n",
    "* http://info.iet.unipi.it/~luigi/fec.html"
   ]
  },
  {
   "cell_type": "code",
   "execution_count": 48,
   "id": "a66e2d10-ed96-4c87-9ced-43e28dbd83c4",
   "metadata": {
    "tags": []
   },
   "outputs": [
    {
     "name": "stdout",
     "output_type": "stream",
     "text": [
      "   1    0    0    0    0    0\n",
      "   1    1    1    1    1    1\n",
      "   1    2    4    8   16   32\n",
      "   1    3    5   15   17   51\n",
      "   1    4   16   64   29  116\n",
      "   1    5   17   85   28  108\n",
      "   1    6   20  120   13   46\n",
      "   1    7   21  107   12   36\n",
      "   1    8   64   58  205   38\n"
     ]
    }
   ],
   "source": [
    "V = GaloisMatrix.Vander(9, 6)\n",
    "print(V)"
   ]
  },
  {
   "cell_type": "code",
   "execution_count": 49,
   "id": "474254d4-356b-44a3-9148-36d85f2197db",
   "metadata": {
    "tags": []
   },
   "outputs": [
    {
     "data": {
      "text/plain": [
       "[1, 0, 29, 4, 35, 114, 255, 182, 147]"
      ]
     },
     "execution_count": 49,
     "metadata": {},
     "output_type": "execute_result"
    }
   ],
   "source": [
    "V.Dot([1, 6, 0, 4, 3, 0])"
   ]
  },
  {
   "cell_type": "code",
   "execution_count": 50,
   "id": "e3570bc6-6002-4e73-9ad2-061bf536f833",
   "metadata": {
    "tags": []
   },
   "outputs": [
    {
     "data": {
      "text/plain": [
       "[1, 4, 171, 248, 200, 237, 103, 20, 147]"
      ]
     },
     "execution_count": 50,
     "metadata": {},
     "output_type": "execute_result"
    }
   ],
   "source": [
    "V.Dot([1, 1, 4, 5, 1, 4])"
   ]
  },
  {
   "cell_type": "code",
   "execution_count": 51,
   "id": "ef9018bf-8087-4c61-9b34-ae0ab89750c3",
   "metadata": {
    "tags": []
   },
   "outputs": [
    {
     "data": {
      "text/plain": [
       "[72, 99, 130, 180, 48, 38, 244, 255, 13]"
      ]
     },
     "execution_count": 51,
     "metadata": {},
     "output_type": "execute_result"
    }
   ],
   "source": [
    "msg = [ord(ch) for ch in \"Hello!\"]\n",
    "V.Dot(msg)"
   ]
  },
  {
   "cell_type": "markdown",
   "id": "2cc1c614-e325-4240-a1f2-f385b51422fe",
   "metadata": {},
   "source": [
    "**Cross check with** `pyfinite`"
   ]
  },
  {
   "cell_type": "code",
   "execution_count": 52,
   "id": "82ab1514-680a-40c1-bc02-e5ab759bd48c",
   "metadata": {
    "tags": []
   },
   "outputs": [],
   "source": [
    "import pyfinite.rs_code"
   ]
  },
  {
   "cell_type": "code",
   "execution_count": 53,
   "id": "28402df6-02ed-49e4-8d3a-8795d9673937",
   "metadata": {
    "tags": []
   },
   "outputs": [
    {
     "data": {
      "text/plain": [
       "<RSCode (n,k) = (9, 6)  over GF(2^8)\n",
       "<matrix\n",
       "   1   0   0   0   0   0\n",
       "   1   1   1   1   1   1\n",
       "   1   2   4   8  16  32\n",
       "   1   3   5  15  17  51\n",
       "   1   4  16  64  29 116\n",
       "   1   5  17  85  28 108\n",
       "   1   6  20 120  13  46\n",
       "   1   7  21 107  12  36\n",
       "   1   8  64  58 205  38>\n",
       ">"
      ]
     },
     "execution_count": 53,
     "metadata": {},
     "output_type": "execute_result"
    }
   ],
   "source": [
    "rs96 = pyfinite.rs_code.RSCode(n=9, k=6, log2FieldSize=8, systematic=0)\n",
    "rs96"
   ]
  },
  {
   "cell_type": "code",
   "execution_count": 54,
   "id": "39c6d08f-3d1f-43be-b036-672d296106db",
   "metadata": {
    "tags": []
   },
   "outputs": [
    {
     "data": {
      "text/plain": [
       "[1, 0, 29, 4, 35, 114, 255, 182, 147]"
      ]
     },
     "execution_count": 54,
     "metadata": {},
     "output_type": "execute_result"
    }
   ],
   "source": [
    "rs96.Encode([1, 6, 0, 4, 3, 0])"
   ]
  },
  {
   "cell_type": "code",
   "execution_count": 55,
   "id": "8aaa3fd7-cca6-4f2f-8377-43e81b4e20a0",
   "metadata": {
    "tags": []
   },
   "outputs": [
    {
     "data": {
      "text/plain": [
       "[1, 4, 171, 248, 200, 237, 103, 20, 147]"
      ]
     },
     "execution_count": 55,
     "metadata": {},
     "output_type": "execute_result"
    }
   ],
   "source": [
    "rs96.Encode([1, 1, 4, 5, 1, 4])"
   ]
  },
  {
   "cell_type": "code",
   "execution_count": 56,
   "id": "8208f63d-c002-4632-9d99-aa42441610eb",
   "metadata": {
    "tags": []
   },
   "outputs": [
    {
     "data": {
      "text/plain": [
       "[72, 99, 130, 180, 48, 38, 244, 255, 13]"
      ]
     },
     "execution_count": 56,
     "metadata": {},
     "output_type": "execute_result"
    }
   ],
   "source": [
    "rs96.Encode(msg)"
   ]
  },
  {
   "cell_type": "markdown",
   "id": "519d5ad7-98a1-470a-88b8-fe0adfbe75df",
   "metadata": {},
   "source": [
    "### Systematic encoding"
   ]
  },
  {
   "cell_type": "markdown",
   "id": "5273abd0-917c-460b-a866-d3f99e3f941c",
   "metadata": {},
   "source": [
    "Reference\n",
    "* https://web.eecs.utk.edu/~jplank/plank/papers/CS-03-504.html\n"
   ]
  },
  {
   "cell_type": "code",
   "execution_count": 57,
   "id": "fe3c4650-b193-437d-977f-d5e58230123d",
   "metadata": {
    "tags": []
   },
   "outputs": [
    {
     "name": "stdout",
     "output_type": "stream",
     "text": [
      "   1    0    0    0    0    0\n",
      "   1    1    1    1    1    1\n",
      "   1    2    4    8   16   32\n",
      "   1    3    5   15   17   51\n",
      "   1    4   16   64   29  116\n",
      "   1    5   17   85   28  108\n",
      "   1    6   20  120   13   46\n",
      "   1    7   21  107   12   36\n",
      "   1    8   64   58  205   38\n"
     ]
    }
   ],
   "source": [
    "V = GaloisMatrix.Vander(9, 6)\n",
    "print(V)"
   ]
  },
  {
   "cell_type": "code",
   "execution_count": 66,
   "id": "2fe9d233-0d42-4200-a6f0-314fda071613",
   "metadata": {
    "tags": []
   },
   "outputs": [],
   "source": [
    "def Systematic(V):\n",
    "  assert V.rows >= V.cols\n",
    "\n",
    "  def SwapColumn(V, i, j):\n",
    "    for r in range(V.rows):\n",
    "      V.mat[r][i], V.mat[r][j] = V.mat[r][j], V.mat[r][i]\n",
    "\n",
    "  def MulColumn(V, col, x):\n",
    "    for i in range(V.rows):\n",
    "      V.mat[i][col] = gf.Mul(V.mat[i][col], x)\n",
    "\n",
    "  def AddColumn(V, to, src, factor):\n",
    "    # TODO: skip some rows\n",
    "    for i in range(V.rows):\n",
    "      V.mat[i][to] ^= V.gf.Mul(factor, V.mat[i][src])\n",
    "\n",
    "  for i in range(V.cols):\n",
    "    row = V.mat[i]\n",
    "    if row[i] == 0:\n",
    "      # find and swap with column j\n",
    "      for j in range(i+1, V.cols):\n",
    "        if row[j] != 0:\n",
    "          SwapColumn(V, i, j)\n",
    "          # print(\"Swapped column %d and %d\" % (i, j))\n",
    "          break\n",
    "    assert row[i] != 0\n",
    "    if row[i] != 1:\n",
    "      # print('  row', i, row[i], gf.Inv(row[i]))\n",
    "      # unity pivot\n",
    "      MulColumn(V, i, gf.Inv(row[i]))\n",
    "    assert row[i] == 1\n",
    "    # Elminate other columns\n",
    "    for j in range(V.cols):\n",
    "      if i != j and row[j] != 0:\n",
    "        factor = V.mat[i][j]\n",
    "        AddColumn(V, j, i, factor)\n",
    "    #print(\"Row\", i , 'done')\n",
    "    #print(V)"
   ]
  },
  {
   "cell_type": "code",
   "execution_count": 96,
   "id": "53191271-fbe9-4842-88e3-5a95cb55f932",
   "metadata": {
    "tags": []
   },
   "outputs": [
    {
     "name": "stdout",
     "output_type": "stream",
     "text": [
      "   1    0    0    0    0    0\n",
      "   0    1    0    0    0    0\n",
      "   0    0    1    0    0    0\n",
      "   0    0    0    1    0    0\n",
      "   0    0    0    0    1    0\n",
      "   0    0    0    0    0    1\n",
      "   7    6    5    4    3    2\n",
      "   6    7    4    5    2    3\n",
      " 160  223  223  183  254  232\n"
     ]
    }
   ],
   "source": [
    "V = GaloisMatrix.Vander(9, 6)\n",
    "Systematic(V)\n",
    "print(V)"
   ]
  },
  {
   "cell_type": "code",
   "execution_count": 100,
   "id": "ac70f1d0-e787-4b12-b8df-90900805a712",
   "metadata": {
    "tags": []
   },
   "outputs": [],
   "source": [
    "I = GaloisMatrix.Identity(6)\n",
    "assert I.Equals(V.SubRows(list(range(6))))"
   ]
  },
  {
   "cell_type": "code",
   "execution_count": 68,
   "id": "71db4f2a-298a-46d6-bc60-b882085cc180",
   "metadata": {
    "tags": []
   },
   "outputs": [
    {
     "data": {
      "text/plain": [
       "<RSCode (n,k) = (9, 6)  over GF(2^8)\n",
       "<matrix\n",
       "   1   0   0   0   0   0\n",
       "   0   1   0   0   0   0\n",
       "   0   0   1   0   0   0\n",
       "   0   0   0   1   0   0\n",
       "   0   0   0   0   1   0\n",
       "   0   0   0   0   0   1\n",
       "   7   6   5   4   3   2\n",
       "   6   7   4   5   2   3\n",
       " 160 223 223 183 254 232>\n",
       ">"
      ]
     },
     "execution_count": 68,
     "metadata": {},
     "output_type": "execute_result"
    }
   ],
   "source": [
    "rs96s = pyfinite.rs_code.RSCode(n=9, k=6, log2FieldSize=8, systematic=1)\n",
    "rs96s"
   ]
  },
  {
   "cell_type": "code",
   "execution_count": 69,
   "id": "afc49cab-f4e2-4c3e-9267-93fa555b56a8",
   "metadata": {
    "tags": []
   },
   "outputs": [
    {
     "data": {
      "text/plain": [
       "[1, 6, 0, 4, 3, 0, 6, 6, 161]"
      ]
     },
     "execution_count": 69,
     "metadata": {},
     "output_type": "execute_result"
    }
   ],
   "source": [
    "V.Dot([1, 6, 0, 4, 3, 0])"
   ]
  },
  {
   "cell_type": "code",
   "execution_count": 82,
   "id": "44199c09-c6d3-4406-8311-864b95249d5f",
   "metadata": {
    "tags": []
   },
   "outputs": [
    {
     "data": {
      "text/plain": [
       "[1, 6, 0, 4, 3, 0, 6, 6, 161]"
      ]
     },
     "execution_count": 82,
     "metadata": {},
     "output_type": "execute_result"
    }
   ],
   "source": [
    "rs96s.Encode([1, 6, 0, 4, 3, 0])"
   ]
  },
  {
   "cell_type": "markdown",
   "id": "273efc01-1042-4590-9948-4ed083ff49ad",
   "metadata": {},
   "source": [
    "**Encoder class**"
   ]
  },
  {
   "cell_type": "code",
   "execution_count": 89,
   "id": "b053b422-8a97-4eac-833d-de91af428d5a",
   "metadata": {
    "tags": []
   },
   "outputs": [],
   "source": [
    "class RSEncoder:\n",
    "  \"\"\"Reed-Solomon erasure codes systematic encoder.\"\"\"\n",
    "\n",
    "  def __init__(self, n, k):\n",
    "    self.n = n\n",
    "    self.k = k\n",
    "    V = GaloisMatrix.Vander(n, k)\n",
    "    Systematic(V)\n",
    "    top = V.SubRows(list(range(k)))\n",
    "    assert top.Equals(GaloisMatrix.Identity(k))\n",
    "    self.G = V.SubRows(list(range(k, n)))\n",
    "    assert self.G.cols == self.k\n",
    "    assert self.G.rows == self.n - self.k\n",
    "\n",
    "  def Encode(self, message: list):\n",
    "    \"\"\"Return the codeword of n bytes.\"\"\"\n",
    "    parity = self.Parity(message)\n",
    "    return message + parity\n",
    "\n",
    "  def Parity(self, message: list):\n",
    "    \"\"\"Return the parity of (n-k) bytes.\"\"\"\n",
    "    assert len(message) == self.k\n",
    "    return self.G.Dot(message)"
   ]
  },
  {
   "cell_type": "code",
   "execution_count": 90,
   "id": "f77c5c54-5815-42de-9f55-db35b2f9f128",
   "metadata": {
    "tags": []
   },
   "outputs": [
    {
     "name": "stdout",
     "output_type": "stream",
     "text": [
      "   7    6    5    4    3    2\n",
      "   6    7    4    5    2    3\n",
      " 160  223  223  183  254  232\n"
     ]
    }
   ],
   "source": [
    "rs96 = RSEncoder(9, 6)\n",
    "print(rs96.G)"
   ]
  },
  {
   "cell_type": "code",
   "execution_count": 83,
   "id": "6cf13ff3-99fe-4d0d-8cbd-e0fabfb7729f",
   "metadata": {
    "tags": []
   },
   "outputs": [
    {
     "name": "stdout",
     "output_type": "stream",
     "text": [
      "Message:  [1, 6, 0, 4, 3, 0]\n",
      "Parity:   [6, 6, 161]\n",
      "Codeword: [1, 6, 0, 4, 3, 0, 6, 6, 161]\n"
     ]
    }
   ],
   "source": [
    "msg = [1, 6, 0, 4, 3, 0]\n",
    "\n",
    "print('Message: ', msg)\n",
    "print('Parity:  ', rs96.Parity(msg))\n",
    "print('Codeword:', rs96.Encode(msg))"
   ]
  },
  {
   "cell_type": "code",
   "execution_count": 84,
   "id": "6058936a-5ff6-4964-bb3a-65a5f4546dac",
   "metadata": {
    "tags": []
   },
   "outputs": [
    {
     "name": "stdout",
     "output_type": "stream",
     "text": [
      "Message:  [1, 1, 4, 5, 1, 4]\n",
      "Parity:   [10, 14, 12]\n",
      "Codeword: [1, 1, 4, 5, 1, 4, 10, 14, 12]\n"
     ]
    }
   ],
   "source": [
    "msg = [1, 1, 4, 5, 1, 4]\n",
    "\n",
    "print('Message: ', msg)\n",
    "print('Parity:  ', rs96.Parity(msg))\n",
    "print('Codeword:', rs96.Encode(msg))"
   ]
  },
  {
   "cell_type": "code",
   "execution_count": 85,
   "id": "5fa1c6bf-b52e-4620-a75e-c0ca72e39aae",
   "metadata": {
    "tags": []
   },
   "outputs": [
    {
     "name": "stdout",
     "output_type": "stream",
     "text": [
      "Message:  [72, 101, 108, 108, 111, 33]\n",
      "Parity:   [57, 90, 253]\n",
      "Codeword: [72, 101, 108, 108, 111, 33, 57, 90, 253]\n"
     ]
    }
   ],
   "source": [
    "msg = [ord(ch) for ch in \"Hello!\"]\n",
    "\n",
    "print('Message: ', msg)\n",
    "print('Parity:  ', rs96.Parity(msg))\n",
    "print('Codeword:', rs96.Encode(msg))"
   ]
  },
  {
   "cell_type": "code",
   "execution_count": 86,
   "id": "6003bf84-5872-413a-b9be-4f4345019adf",
   "metadata": {
    "tags": []
   },
   "outputs": [
    {
     "data": {
      "text/plain": [
       "[72, 101, 108, 108, 111, 33, 57, 90, 253]"
      ]
     },
     "execution_count": 86,
     "metadata": {},
     "output_type": "execute_result"
    }
   ],
   "source": [
    "rs96s.Encode(msg)"
   ]
  },
  {
   "cell_type": "markdown",
   "id": "09b6ca36-8430-4e50-a1c4-b95549a1c372",
   "metadata": {},
   "source": [
    "### Erasure decoding"
   ]
  },
  {
   "cell_type": "markdown",
   "id": "ef7aabb9-087f-48ef-adf2-83782774b688",
   "metadata": {},
   "source": [
    "Reference\n",
    "* https://www.backblaze.com/blog/reed-solomon/"
   ]
  },
  {
   "cell_type": "code",
   "execution_count": 144,
   "id": "633ce839-0bdc-449f-9c5d-184e1fbecd7a",
   "metadata": {
    "tags": []
   },
   "outputs": [
    {
     "name": "stdout",
     "output_type": "stream",
     "text": [
      "  1   0   0   0\n",
      "  0   1   0   0\n",
      "  0   0   1   0\n",
      "  0   0   0   1\n",
      " 1b  1c  12  14\n",
      " 1c  1b  14  12\n"
     ]
    }
   ],
   "source": [
    "V64 = GaloisMatrix.Vander(6, 4)\n",
    "Systematic(V64)\n",
    "print('\\n'.join(' '.join('%3x' % x for x in row) for row in V64.mat))"
   ]
  },
  {
   "cell_type": "code",
   "execution_count": 132,
   "id": "6782c3c3-b61c-4927-a861-5f621621947e",
   "metadata": {
    "tags": []
   },
   "outputs": [],
   "source": [
    "def InverseMatrix(m : GaloisMatrix):\n",
    "  assert m.rows == m.cols\n",
    "  k = m.rows\n",
    "\n",
    "  def SwapRow(m, i, j):\n",
    "    m.mat[i], m.mat[j] = m.mat[j], m.mat[i]\n",
    "\n",
    "  def MulRow(m, r, x):\n",
    "    row = m.mat[r]\n",
    "    for i, v in enumerate(row):\n",
    "      row[i] = m.gf.Mul(v, x)\n",
    "\n",
    "  def AddRow(m, to, src, factor):\n",
    "    for i in range(m.cols):\n",
    "      m.mat[to][i] ^= m.gf.Mul(factor, m.mat[src][i])\n",
    "\n",
    "  result = GaloisMatrix.Identity(m.rows)\n",
    "  for i in range(m.rows):\n",
    "    row = m.mat[i]\n",
    "    if row[i] == 0:\n",
    "      # find and swap with row j\n",
    "      for j in range(i+1, m.rows):\n",
    "        if m.mat[j][i] != 0:\n",
    "          SwapRow(m, i, j)\n",
    "          SwapRow(result, i, j)\n",
    "          row = m.mat[i]\n",
    "          break\n",
    "        # print(\"Swapped column %d and %d\" % (i, j))\n",
    "    assert row[i] != 0\n",
    "    if row[i] != 1:\n",
    "      inv = m.gf.Inv(row[i])\n",
    "      MulRow(m, i, inv)\n",
    "      MulRow(result, i, inv)\n",
    "    assert row[i] == 1\n",
    "    # Eliminate other rows\n",
    "    for j in range(m.rows):\n",
    "      if i != j and m.mat[j][i] != 0:\n",
    "        factor = m.mat[j][i]\n",
    "        AddRow(m, j, i, factor)\n",
    "        AddRow(result, j, i, factor)\n",
    "  assert m.Equals(GaloisMatrix.Identity(k))\n",
    "  return result"
   ]
  },
  {
   "cell_type": "code",
   "execution_count": 150,
   "id": "344d1092-20c2-4792-9c75-a2ad18e0f76d",
   "metadata": {
    "tags": []
   },
   "outputs": [
    {
     "name": "stdout",
     "output_type": "stream",
     "text": [
      "   1    0    0    0    0    0\n",
      "   0    1    0    0    0    0\n",
      "   0    0    1    0    0    0\n",
      "   0    0    0    1    0    0\n",
      "   0    0    0    0    1    0\n",
      "   0    0    0    0    0    1\n",
      "   7    6    5    4    3    2\n",
      "   6    7    4    5    2    3\n",
      " 160  223  223  183  254  232\n"
     ]
    }
   ],
   "source": [
    "V = GaloisMatrix.Vander(9, 6)\n",
    "Systematic(V)\n",
    "print(V)"
   ]
  },
  {
   "cell_type": "markdown",
   "id": "ee4b3944-8697-4373-accb-ba4d7b0a0e71",
   "metadata": {},
   "source": [
    "**Missing 3 symbols**"
   ]
  },
  {
   "cell_type": "code",
   "execution_count": 151,
   "id": "ccef1a6d-e4e9-4bcd-8baf-69191942226f",
   "metadata": {
    "tags": []
   },
   "outputs": [
    {
     "data": {
      "text/plain": [
       "[1, 6, 0, 4, 3, 0, 6, 6, 161]"
      ]
     },
     "execution_count": 151,
     "metadata": {},
     "output_type": "execute_result"
    }
   ],
   "source": [
    "V.Dot([1, 6, 0, 4, 3, 0])"
   ]
  },
  {
   "cell_type": "code",
   "execution_count": 148,
   "id": "09497a54-26b9-496e-823d-e1a5cc70dab9",
   "metadata": {
    "tags": []
   },
   "outputs": [
    {
     "name": "stdout",
     "output_type": "stream",
     "text": [
      "Recv\n",
      "   0    1    0    0    0    0\n",
      "   0    0    1    0    0    0\n",
      "   0    0    0    0    1    0\n",
      "   7    6    5    4    3    2\n",
      "   6    7    4    5    2    3\n",
      " 160  223  223  183  254  232\n"
     ]
    }
   ],
   "source": [
    "print('Recv')\n",
    "recv = [6, 0, 3, 6, 6, 161]\n",
    "M = V.SubRows([1,2,4,6,7,8])\n",
    "print(M)"
   ]
  },
  {
   "cell_type": "code",
   "execution_count": 149,
   "id": "918bbef0-8e07-4b18-8f5f-d37e778ca3b6",
   "metadata": {
    "tags": []
   },
   "outputs": [
    {
     "name": "stdout",
     "output_type": "stream",
     "text": [
      "Inverse\n",
      "  43   15  134  210  206  191\n",
      "   1    0    0    0    0    0\n",
      "   0    1    0    0    0    0\n",
      "  69  253  191   53   93  110\n",
      "   0    0    1    0    0    0\n",
      " 111  243   56  230  146  209\n"
     ]
    }
   ],
   "source": [
    "print('Inverse')\n",
    "inv = InverseMatrix(M)\n",
    "print(inv)"
   ]
  },
  {
   "cell_type": "code",
   "execution_count": 128,
   "id": "ad7e5ea3-5c06-4da1-af62-525ae653b0ae",
   "metadata": {
    "tags": []
   },
   "outputs": [
    {
     "name": "stdout",
     "output_type": "stream",
     "text": [
      "Decode\n",
      "[1, 6, 0, 4, 3, 0]\n"
     ]
    }
   ],
   "source": [
    "print('Decode')\n",
    "recover = inv.Dot(recv)\n",
    "print(recover)"
   ]
  },
  {
   "cell_type": "markdown",
   "id": "d1338ae8-5b55-4f55-91c9-2dbc9d6b1212",
   "metadata": {},
   "source": [
    "**Missing 2 symbols**"
   ]
  },
  {
   "cell_type": "code",
   "execution_count": 129,
   "id": "f9ad8a9e-3542-4161-9012-a74712b0d26f",
   "metadata": {
    "tags": []
   },
   "outputs": [
    {
     "data": {
      "text/plain": [
       "[1, 1, 4, 5, 1, 4, 10, 14, 12]"
      ]
     },
     "execution_count": 129,
     "metadata": {},
     "output_type": "execute_result"
    }
   ],
   "source": [
    "V.Dot([1, 1, 4, 5, 1, 4])"
   ]
  },
  {
   "cell_type": "code",
   "execution_count": 133,
   "id": "e51f2c3c-8130-4912-9647-da21e1b82655",
   "metadata": {
    "tags": []
   },
   "outputs": [
    {
     "name": "stdout",
     "output_type": "stream",
     "text": [
      "   1    0    0    0    0    0\n",
      "   0    1    0    0    0    0\n",
      "   0    0    0    0    1    0\n",
      "   0    0    0    0    0    1\n",
      "   7    6    5    4    3    2\n",
      "   6    7    4    5    2    3\n"
     ]
    }
   ],
   "source": [
    "M = V.SubRows([0,1,4,5,6,7])\n",
    "print(M)"
   ]
  },
  {
   "cell_type": "code",
   "execution_count": 134,
   "id": "a2b67a94-1668-408b-8fdf-fe261a333823",
   "metadata": {
    "tags": []
   },
   "outputs": [
    {
     "name": "stdout",
     "output_type": "stream",
     "text": [
      "   1    0    0    0    0    0\n",
      "   0    1    0    0    0    0\n",
      "   3    2    7    6    5    4\n",
      "   2    3    6    7    4    5\n",
      "   0    0    1    0    0    0\n",
      "   0    0    0    1    0    0\n"
     ]
    }
   ],
   "source": [
    "inv = InverseMatrix(M)\n",
    "print(inv)"
   ]
  },
  {
   "cell_type": "code",
   "execution_count": 135,
   "id": "a0e9a169-ef15-4165-a7af-c17376a2d501",
   "metadata": {
    "tags": []
   },
   "outputs": [
    {
     "data": {
      "text/plain": [
       "[1, 1, 4, 5, 1, 4]"
      ]
     },
     "execution_count": 135,
     "metadata": {},
     "output_type": "execute_result"
    }
   ],
   "source": [
    "inv.Dot([1, 1, 1, 4, 10, 14])"
   ]
  },
  {
   "cell_type": "markdown",
   "id": "2d42e077-e998-4fb2-bcd4-b9e3c226b067",
   "metadata": {},
   "source": [
    "Verify that any 10 out of 14 rows are invertible."
   ]
  },
  {
   "cell_type": "code",
   "execution_count": 137,
   "id": "70bade86-e3b3-4559-a0bc-ab5af7cb018e",
   "metadata": {
    "tags": []
   },
   "outputs": [
    {
     "name": "stdout",
     "output_type": "stream",
     "text": [
      "   1    0    0    0    0    0    0    0    0    0\n",
      "   0    1    0    0    0    0    0    0    0    0\n",
      "   0    0    1    0    0    0    0    0    0    0\n",
      "   0    0    0    1    0    0    0    0    0    0\n",
      "   0    0    0    0    1    0    0    0    0    0\n",
      "   0    0    0    0    0    1    0    0    0    0\n",
      "   0    0    0    0    0    0    1    0    0    0\n",
      "   0    0    0    0    0    0    0    1    0    0\n",
      "   0    0    0    0    0    0    0    0    1    0\n",
      "   0    0    0    0    0    0    0    0    0    1\n",
      " 129  150  175  184  210  196  254  232    3    2\n",
      " 150  129  184  175  196  210  232  254    2    3\n",
      " 191  214   98   10    6  111  223  183    5    4\n",
      " 214  191   10   98  111    6  183  223    4    5\n",
      "0.889 seconds\n"
     ]
    }
   ],
   "source": [
    "import itertools, time\n",
    "\n",
    "V = GaloisMatrix.Vander(14, 10)\n",
    "Systematic(V)\n",
    "print(V)\n",
    "\n",
    "start = time.time()\n",
    "\n",
    "for lst in itertools.combinations(range(14), 10):\n",
    "  # print(lst)\n",
    "  M = V.SubRows(list(lst))\n",
    "  inv = InverseMatrix(M)\n",
    "  # print()\n",
    "  # print(inv)\n",
    "\n",
    "print(\"%.3f seconds\" % (time.time() - start))"
   ]
  },
  {
   "cell_type": "markdown",
   "id": "a1cc6b25-c35a-4de4-a6f3-301f898f8d68",
   "metadata": {},
   "source": [
    "## BCH view\n",
    "\n",
    "most common used, both erasure and error corrections"
   ]
  },
  {
   "cell_type": "markdown",
   "id": "35ae5a69-e6dd-4ed7-ba07-8e617bccf617",
   "metadata": {},
   "source": [
    "### Generator polynomial"
   ]
  },
  {
   "cell_type": "code",
   "execution_count": 152,
   "id": "bf30203c-0db0-4a21-af56-316175bff46a",
   "metadata": {
    "tags": []
   },
   "outputs": [],
   "source": [
    "class Polynomial:\n",
    "  \"\"\"p(x) = c[0] x^n + c[1] x^(n-1) + ... + c[n-1] x + c[n]\"\"\"\n",
    "  gf = GF8bit()\n",
    "\n",
    "  def __init__(self, coeffs:list[int]):\n",
    "    self.coeffs = coeffs\n",
    "\n",
    "  def Eval(self, x : int):\n",
    "    \"\"\"Evaluate polynomial at x using Horner's method.\"\"\"\n",
    "    y = self.coeffs[0]\n",
    "    for i in range(1, len(self.coeffs)):\n",
    "      y = gf.Mul(y, x) ^ self.coeffs[i]\n",
    "    return y\n",
    "\n",
    "  def Mul(self, rhs: 'Polynomial') -> 'Polynomial':\n",
    "    coeffs = [0] * (len(self.coeffs) + len(rhs.coeffs) -1)\n",
    "    for i, p in enumerate(self.coeffs):\n",
    "      for j, q in enumerate(rhs.coeffs):\n",
    "        coeffs[i+j] ^= gf.Mul(p, q)\n",
    "    return Polynomial(coeffs)\n",
    "\n",
    "  @classmethod\n",
    "  def gen_poly(cls, degree: int, first_consecutive_root: int = 1) -> 'Polynomial':\n",
    "    coeffs = [0] * (degree + 1)\n",
    "    coeffs[degree] = 1\n",
    "    for i in range(degree):\n",
    "      c = gf.Exp(i+first_consecutive_root)\n",
    "      # p *= (x + Exp(i))\n",
    "      # p[j] = p[j]*Exp(i) + p[j+1].\n",
    "      for j in range(degree):\n",
    "        coeffs[j] = gf.Add(gf.Mul(coeffs[j], c), coeffs[j+1])\n",
    "      coeffs[degree] = gf.Mul(coeffs[degree], c)\n",
    "    return Polynomial(coeffs)"
   ]
  },
  {
   "cell_type": "code",
   "execution_count": 159,
   "id": "31178537-ba6b-4153-89f8-44d84cd9ae86",
   "metadata": {
    "tags": []
   },
   "outputs": [
    {
     "name": "stdout",
     "output_type": "stream",
     "text": [
      "[1, 216, 194, 159, 111, 199, 94, 95, 113, 157, 193]\n"
     ]
    }
   ],
   "source": [
    "degree = 10\n",
    "first_consecutive_root = 0  # QR codes\n",
    "g0 = Polynomial.gen_poly(degree, first_consecutive_root)\n",
    "print(g0.coeffs)"
   ]
  },
  {
   "cell_type": "code",
   "execution_count": 160,
   "id": "48d9a699-9f51-4880-abd7-0e978ff02b10",
   "metadata": {
    "tags": []
   },
   "outputs": [
    {
     "name": "stdout",
     "output_type": "stream",
     "text": [
      "[1, 173, 47, 140, 190, 197, 30, 188, 68, 212, 160]\n"
     ]
    }
   ],
   "source": [
    "g1 = Polynomial.gen_poly(degree, first_consecutive_root=1)\n",
    "print(g1.coeffs)"
   ]
  },
  {
   "cell_type": "code",
   "execution_count": 158,
   "id": "ff74e968-da8e-4df6-a08c-c56f45a0346c",
   "metadata": {
    "tags": []
   },
   "outputs": [],
   "source": [
    "for degree in range(2, 50):\n",
    "  for j0 in range (3):\n",
    "    g = Polynomial.gen_poly(degree, j0)\n",
    "\n",
    "    p = Polynomial([1])\n",
    "    for i in range(degree):\n",
    "      p = p.Mul(Polynomial([1, gf.Exp(i + j0)]))\n",
    "    assert(p.coeffs == g.coeffs)"
   ]
  },
  {
   "cell_type": "markdown",
   "id": "a7b2ad65-25cc-496a-b1a0-838e20d28b3d",
   "metadata": {},
   "source": [
    "**Cross check with** `galois`"
   ]
  },
  {
   "cell_type": "code",
   "execution_count": 155,
   "id": "08c0b0dd-1ecc-409a-a7ce-e0e73a3a5ace",
   "metadata": {
    "tags": []
   },
   "outputs": [],
   "source": [
    "import galois"
   ]
  },
  {
   "cell_type": "code",
   "execution_count": 181,
   "id": "aa2a457c-f8ba-4639-9033-4b1f84be582b",
   "metadata": {
    "tags": []
   },
   "outputs": [
    {
     "name": "stdout",
     "output_type": "stream",
     "text": [
      "gen: [  1 216 194 159 111 199  94  95 113 157 193]\n"
     ]
    }
   ],
   "source": [
    "degree=10\n",
    "j0=0\n",
    "rs = galois.ReedSolomon(255, d=degree+1, c=j0)\n",
    "print('gen:', rs.generator_poly.coeffs)"
   ]
  },
  {
   "cell_type": "code",
   "execution_count": 180,
   "id": "3380e19d-f88f-4562-a5ae-2e3e230928d5",
   "metadata": {
    "tags": []
   },
   "outputs": [],
   "source": [
    "for degree in range(2, 50):\n",
    "  for j0 in range (3):\n",
    "    rs = galois.ReedSolomon(255, d=degree+1, c=j0)\n",
    "    # print('gen:', rs.generator_poly.coeffs)\n",
    "    g = Polynomial.gen_poly(degree, first_consecutive_root=j0)\n",
    "    assert (g.coeffs == rs.generator_poly.coeffs).all()"
   ]
  },
  {
   "cell_type": "markdown",
   "id": "d7ce0e8f-5ad9-4075-8445-23c8685f5109",
   "metadata": {},
   "source": [
    "### Systematic encoding"
   ]
  },
  {
   "cell_type": "code",
   "execution_count": 187,
   "id": "1c97f9c0-0701-4b22-bccd-4ffc044f4271",
   "metadata": {
    "tags": []
   },
   "outputs": [],
   "source": [
    "def Mod(msg: Polynomial, gen: Polynomial) -> list:\n",
    "  p = msg.coeffs[:] + [0] * (len(gen.coeffs) - 1)\n",
    "  assert gen.coeffs[0] == 1\n",
    "  for i in range(len(msg.coeffs)):\n",
    "    # k = gf.Mul(p[i], gf.Inv(gen[0]))\n",
    "    k = p[i]  # k = p[i] / gen[0], but gen[0] == 1\n",
    "    if k == 0:\n",
    "      continue\n",
    "    for j, g in enumerate(gen.coeffs):\n",
    "      p[i+j] ^= gf.Mul(k, g)\n",
    "  return p[len(msg.coeffs):]"
   ]
  },
  {
   "cell_type": "markdown",
   "id": "df16c508-8a93-4a93-a721-cd3b528dae23",
   "metadata": {},
   "source": [
    "Test data from https://github.com/rsc/qr/blob/master/gf256/blog_test.go"
   ]
  },
  {
   "cell_type": "code",
   "execution_count": 190,
   "id": "77db8b86-cf2d-4495-b14f-435a80a1db66",
   "metadata": {
    "tags": []
   },
   "outputs": [
    {
     "name": "stdout",
     "output_type": "stream",
     "text": [
      "gen: [1, 216, 194, 159, 111, 199, 94, 95, 113, 157, 193]\n",
      "[165, 36, 212, 193, 237, 54, 199, 135, 44, 85]\n",
      "[165, 36, 212, 193, 237, 54, 199, 135, 44, 85]\n"
     ]
    }
   ],
   "source": [
    "msg = [0x10, 0x20, 0x0c, 0x56, 0x61, 0x80, 0xec, 0x11, 0xec, 0x11, 0xec, 0x11, 0xec, 0x11, 0xec, 0x11]\n",
    "gen = Polynomial.gen_poly(10, 0)\n",
    "print('gen:', gen.coeffs)\n",
    "print(Mod(Polynomial(msg), gen))\n",
    "check = [0xa5, 0x24, 0xd4, 0xc1, 0xed, 0x36, 0xc7, 0x87, 0x2c, 0x55]\n",
    "print(check)"
   ]
  },
  {
   "cell_type": "markdown",
   "id": "0f1dcb7a-38b5-4a8d-ba40-dfc8cbb33013",
   "metadata": {},
   "source": [
    "**Cross check with** `galois`"
   ]
  },
  {
   "cell_type": "code",
   "execution_count": 191,
   "id": "0612ba33-c2b6-45e6-a6e1-9c56554f82d1",
   "metadata": {
    "tags": []
   },
   "outputs": [
    {
     "name": "stdout",
     "output_type": "stream",
     "text": [
      "gen: [  1 216 194 159 111 199  94  95 113 157 193]\n",
      "parity: [165  36 212 193 237  54 199 135  44  85]\n"
     ]
    }
   ],
   "source": [
    "rs = galois.ReedSolomon(255, 245, c=0)\n",
    "print('gen:', rs.generator_poly.coeffs)\n",
    "parity = rs.encode(msg, 'parity')\n",
    "print('parity:', parity)\n",
    "assert (parity == check).all()"
   ]
  },
  {
   "cell_type": "code",
   "execution_count": 192,
   "id": "35cbf297-72ae-4479-8dd8-f4611658ff23",
   "metadata": {
    "tags": []
   },
   "outputs": [
    {
     "name": "stdout",
     "output_type": "stream",
     "text": [
      "p: [10, 54, 200, 1, 174, 73, 223, 252, 169, 147]\n"
     ]
    },
    {
     "data": {
      "text/plain": [
       "GF([ 10,  54, 200,   1, 174,  73, 223, 252, 169, 147], order=2^8)"
      ]
     },
     "execution_count": 192,
     "metadata": {},
     "output_type": "execute_result"
    }
   ],
   "source": [
    "msg = [ord(ch) for ch in \"Hello Reed-Solomon!\"]\n",
    "print('p:', Mod(Polynomial(msg), gen))\n",
    "rs.encode(msg, 'parity')"
   ]
  }
 ],
 "metadata": {
  "kernelspec": {
   "display_name": "Python 3 (ipykernel)",
   "language": "python",
   "name": "python3"
  },
  "language_info": {
   "codemirror_mode": {
    "name": "ipython",
    "version": 3
   },
   "file_extension": ".py",
   "mimetype": "text/x-python",
   "name": "python",
   "nbconvert_exporter": "python",
   "pygments_lexer": "ipython3",
   "version": "3.11.2"
  }
 },
 "nbformat": 4,
 "nbformat_minor": 5
}
