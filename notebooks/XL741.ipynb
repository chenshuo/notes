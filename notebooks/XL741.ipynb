{
 "cells": [
  {
   "cell_type": "markdown",
   "id": "da8c1d30-2dc9-4a61-a88c-266960ce0d04",
   "metadata": {
    "editable": true,
    "slideshow": {
     "slide_type": ""
    },
    "tags": []
   },
   "source": [
    "# XL741/741SE simulation and experiments\n",
    "\n",
    "By Shuo Chen (chenshuo_at_chenshuo.com)\n",
    "\n",
    "Latest notebook: https://github.com/chenshuo/notes/blob/master/notebooks/XL741.ipynb\n",
    "\n",
    "Comments and discussions: https://github.com/chenshuo/notes/discussions"
   ]
  },
  {
   "cell_type": "code",
   "execution_count": 1,
   "id": "35f18b4a-8f6d-496d-9054-bfec933c3cc3",
   "metadata": {
    "editable": true,
    "slideshow": {
     "slide_type": ""
    },
    "tags": [
     "hide_cell"
    ]
   },
   "outputs": [],
   "source": [
    "%matplotlib inline\n",
    "\n",
    "from math import exp, log, log10\n",
    "\n",
    "# NgSpice\n",
    "import ngspyce as ng\n",
    "\n",
    "import numpy as np\n",
    "from matplotlib import pyplot as plt\n",
    "\n",
    "def para(r1, r2):\n",
    "    return (r1*r2) / (r1 + r2)\n",
    "\n",
    "def print_op(print_base_current=True, print_emitter_current=False):\n",
    "  op = ng.operating_point()\n",
    "  for k in sorted(op.keys()):\n",
    "    if k[0] == '@' or '#branch' in k:\n",
    "        if '[is]' in k:\n",
    "            continue\n",
    "        if '[ib]' in k and not print_base_current:\n",
    "            continue\n",
    "        if '[ie]' in k and not print_emitter_current:\n",
    "            continue\n",
    "\n",
    "        print('%10s = %8.2f uA' % (k, 1e6*op[k][0]))\n",
    "    else:\n",
    "        print('%10s = %8.2f mV' % (k, 1e3*op[k][0]))"
   ]
  },
  {
   "cell_type": "code",
   "execution_count": 2,
   "id": "d129c099-0d0e-4519-9ab5-d2964e6b1476",
   "metadata": {
    "editable": true,
    "slideshow": {
     "slide_type": ""
    },
    "tags": [
     "hide_cell"
    ]
   },
   "outputs": [],
   "source": [
    "# Circuitikz\n",
    "# pip install git+https://github.com/mkrphys/ipython-tikzmagic.git\n",
    "\n",
    "%load_ext tikzmagic"
   ]
  },
  {
   "cell_type": "markdown",
   "id": "165f515c-6b52-4a39-925d-1f3c3b60c8c7",
   "metadata": {
    "editable": true,
    "slideshow": {
     "slide_type": ""
    },
    "tags": []
   },
   "source": [
    "[XL741](https://shop.evilmadscientist.com/productsmenu/762) and [741SE](https://shop.evilmadscientist.com/productsmenu/923) are\n",
    "faithful and functional transistor-scale replicas of the μA741 op-amp integrated circuit, designed by [Eric Schlaepfer](http://tubetime.us/), in collaboration with [Evil Mad Scientist Laboratories](https://www.evilmadscientist.com/)."
   ]
  },
  {
   "cell_type": "markdown",
   "id": "1256c463-8540-4677-bb68-91e658ac3804",
   "metadata": {
    "editable": true,
    "slideshow": {
     "slide_type": ""
    },
    "tags": []
   },
   "source": [
    "## Schematic and SPICE model\n",
    "\n",
    "I made a SPICE model using NgSpice, and "
   ]
  },
  {
   "cell_type": "markdown",
   "id": "b0d45713-ec2f-438e-b517-ccc9e9d4344d",
   "metadata": {
    "editable": true,
    "slideshow": {
     "slide_type": ""
    },
    "tags": []
   },
   "source": [
    "## Analysis and Simulation\n",
    "\n",
    "The analysis and calculation in this section closely follows\n",
    "Chapter 12 of _Sedra & Smith 6e_, which I keep on my desktop.\n",
    "The same content is now available for download from\n",
    "[Supplement x4](https://learninglink.oup.com/access/sedra8e-student-resources#tag_bonus-text-topics) of [_Microelectronic Circuits 8e_](https://learninglink.oup.com/access/sedra8e)\n",
    "\n",
    "The simulation ideas were from [Chapter 10](https://www.ece.mcgill.ca/~grober4/SPICE/SPICE_Decks/1st_Edition/chapter10/Chapter%2010%20%20Analog%20Integrated%20Circuits%20web%20version.html) of [_SPICE for Microelectronic Circuits_](https://www.ece.mcgill.ca/~grober4/SPICE/SPICE_Decks/spicedecks_ed1_index.html) by Gordon W. Roberts and Adel S. Sedra. I have possession of a physical copy of the second edition.\n",
    "\n",
    "It's worth note that these two books analyze the 24-transistor variant of 741, while XL741/741SE are the 20-transistor variant. According to Ken Shirriff in [Understanding silicon circuits: inside the ubiquitous 741 op amp](https://www.righto.com/2015/10/inside-ubiquitous-741-op-amp-circuits.html#ref11), the 24-transistor variant is more common."
   ]
  },
  {
   "cell_type": "markdown",
   "id": "bc4c797b-7df8-4ade-b13a-ddd61144bec9",
   "metadata": {
    "editable": true,
    "slideshow": {
     "slide_type": ""
    },
    "tags": []
   },
   "source": [
    "## Measure with multimeter"
   ]
  }
 ],
 "metadata": {
  "kernelspec": {
   "display_name": "Python 3 (ipykernel)",
   "language": "python",
   "name": "python3"
  },
  "language_info": {
   "codemirror_mode": {
    "name": "ipython",
    "version": 3
   },
   "file_extension": ".py",
   "mimetype": "text/x-python",
   "name": "python",
   "nbconvert_exporter": "python",
   "pygments_lexer": "ipython3",
   "version": "3.11.8"
  }
 },
 "nbformat": 4,
 "nbformat_minor": 5
}
