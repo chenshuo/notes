{
 "cells": [
  {
   "cell_type": "markdown",
   "id": "da8c1d30-2dc9-4a61-a88c-266960ce0d04",
   "metadata": {
    "editable": true,
    "slideshow": {
     "slide_type": ""
    },
    "tags": []
   },
   "source": [
    "# XL741/741SE simulation and experiments\n",
    "\n",
    "By Shuo Chen (chenshuo_at_chenshuo.com) [30% done]\n",
    "\n",
    "Latest notebook: https://github.com/chenshuo/notes/blob/master/notebooks/XL741.ipynb\n",
    "\n",
    "Comments and discussions: https://github.com/chenshuo/notes/discussions"
   ]
  },
  {
   "cell_type": "code",
   "execution_count": 11,
   "id": "35f18b4a-8f6d-496d-9054-bfec933c3cc3",
   "metadata": {
    "editable": true,
    "slideshow": {
     "slide_type": ""
    },
    "tags": [
     "hide_cell"
    ]
   },
   "outputs": [],
   "source": [
    "%matplotlib inline\n",
    "\n",
    "from math import exp, log, log10\n",
    "\n",
    "# NgSpice\n",
    "import ngspyce as ng\n",
    "\n",
    "import numpy as np\n",
    "from matplotlib import pyplot as plt\n",
    "import scipy\n",
    "\n",
    "def para(r1, r2):\n",
    "    return (r1*r2) / (r1 + r2)\n",
    "\n",
    "def print_op(print_base_current=True, print_emitter_current=False):\n",
    "  op = ng.operating_point()\n",
    "  for k in sorted(op.keys()):\n",
    "    if k[0] == '@' or '#branch' in k:\n",
    "        if '[is]' in k:\n",
    "            continue\n",
    "        if '[ib]' in k and not print_base_current:\n",
    "            continue\n",
    "        if '[ie]' in k and not print_emitter_current:\n",
    "            continue\n",
    "\n",
    "        print('%10s = %8.2f uA' % (k, 1e6*op[k][0]))\n",
    "    else:\n",
    "        print('%10s = %8.2f mV' % (k, 1e3*op[k][0]))"
   ]
  },
  {
   "cell_type": "code",
   "execution_count": 2,
   "id": "d129c099-0d0e-4519-9ab5-d2964e6b1476",
   "metadata": {
    "editable": true,
    "slideshow": {
     "slide_type": ""
    },
    "tags": [
     "hide_cell"
    ]
   },
   "outputs": [],
   "source": [
    "# Circuitikz\n",
    "# pip install git+https://github.com/mkrphys/ipython-tikzmagic.git\n",
    "\n",
    "%load_ext tikzmagic"
   ]
  },
  {
   "cell_type": "markdown",
   "id": "165f515c-6b52-4a39-925d-1f3c3b60c8c7",
   "metadata": {
    "editable": true,
    "slideshow": {
     "slide_type": ""
    },
    "tags": []
   },
   "source": [
    "[XL741](https://shop.evilmadscientist.com/productsmenu/762) and [741SE](https://shop.evilmadscientist.com/productsmenu/923) are\n",
    "faithful and functional transistor-scale replicas of the μA741 op-amp integrated circuit, designed by [Eric Schlaepfer](http://tubetime.us/), in collaboration with [Evil Mad Scientist Laboratories](https://www.evilmadscientist.com/). Here's [the central documentation site](https://wiki.evilmadscientist.com/741) for these discrete 741 Op-Amp kits."
   ]
  },
  {
   "cell_type": "markdown",
   "id": "1256c463-8540-4677-bb68-91e658ac3804",
   "metadata": {
    "editable": true,
    "slideshow": {
     "slide_type": ""
    },
    "tags": []
   },
   "source": [
    "## Schematic"
   ]
  },
  {
   "cell_type": "markdown",
   "id": "b3b76057-b3cf-4b31-b28d-f3c18ee4df83",
   "metadata": {
    "editable": true,
    "slideshow": {
     "slide_type": ""
    },
    "tags": []
   },
   "source": [
    "**A bit of datasheet archaeology**\n",
    "\n",
    "AFAIK, there are three common variants of µA741:\n",
    "\n",
    "* Fairchild's original 20-transistor µA741/µA741C, as seen in [1970 datasheet](fairchild1970.pdf). \n",
    "* Fairchild's improved 24-transistor µA741A/µA741E, first seen in  [1973 datasheet](fairchild1973a.pdf), interestingly, the [1973 databook](fairchild1973.pdf) also lists µA741/µA741C, right before µA741A datasheets.\n",
    "Years later, in [1979 databook](fairchild1979.pdf), only 24-transistor '741 survived and named just 'µA741'.\n",
    "* TI's 22-transistor [uA741](ti1984.pdf), but the datasheet doesn't label the transistors or resistor values.\n",
    "\n",
    "> Databooks are taken from <http://www.bitsavers.org/components/fairchild/_dataBooks/>\n",
    "\n",
    "My wild guess: Fairchild improved their fabrication in 1972/1973, and tweeked original µA741 to make µA741A.\n",
    "\n",
    "One evidence: the typical input bias current (average base currents of Q1/Q2) reduced from 80nA to 30nA, if the collector currents of Q1/Q2 kept the same (around 9.5µA per transistor per calculation below), we could infer that the $\\beta$ of NPN transistors improved from $9.5 / 0.08 \\approx 120$ to $9.5 / 0.03 \\approx 310$."
   ]
  },
  {
   "cell_type": "markdown",
   "id": "33af3153-4b97-41c7-907a-746c65f347f6",
   "metadata": {
    "editable": true,
    "slideshow": {
     "slide_type": ""
    },
    "tags": []
   },
   "source": [
    "The XL741/741SE kits employ the original 20-transistor schematic, probably because the double collector PNP transistor Q13 in the 24-transistor design is not avaivable as discrete componments.\n",
    "\n",
    "Here's the schematic of XL741/741SE, with simulated DC operating points."
   ]
  },
  {
   "cell_type": "code",
   "execution_count": 9,
   "id": "7e36c22b-e516-452e-a1b4-add5bd7f1860",
   "metadata": {
    "editable": true,
    "slideshow": {
     "slide_type": ""
    },
    "tags": [
     "hide_cell"
    ]
   },
   "outputs": [
    {
     "data": {
      "image/svg+xml": [
       "<svg xmlns=\"http://www.w3.org/2000/svg\" xmlns:xlink=\"http://www.w3.org/1999/xlink\" width=\"100px\" height=\"100px\" viewBox=\"0 0 67.863 56.356\">\n",
       "<defs>\n",
       "<g>\n",
       "<g id=\"glyph-0-0\">\n",
       "<path d=\"M 7.5 -2.1875 C 7.640625 -2.1875 7.9375 -2.1875 7.9375 -2.5 C 7.9375 -2.796875 7.65625 -2.796875 7.5 -2.796875 L 1.40625 -2.796875 C 1.25 -2.796875 0.953125 -2.796875 0.953125 -2.5 C 0.953125 -2.1875 1.25 -2.1875 1.40625 -2.1875 Z M 7.5 -2.1875 \"/>\n",
       "</g>\n",
       "<g id=\"glyph-1-0\">\n",
       "<path d=\"M 4.75 -2.1875 L 7.828125 -2.1875 C 7.96875 -2.1875 8.265625 -2.1875 8.265625 -2.5 C 8.265625 -2.796875 7.96875 -2.796875 7.828125 -2.796875 L 4.75 -2.796875 L 4.75 -5.890625 C 4.75 -6.015625 4.75 -6.3125 4.453125 -6.3125 C 4.140625 -6.3125 4.140625 -6.015625 4.140625 -5.890625 L 4.140625 -2.796875 L 1.0625 -2.796875 C 0.921875 -2.796875 0.640625 -2.796875 0.640625 -2.5 C 0.640625 -2.1875 0.9375 -2.1875 1.0625 -2.1875 L 4.140625 -2.1875 L 4.140625 0.890625 C 4.140625 1.015625 4.140625 1.3125 4.453125 1.3125 C 4.75 1.3125 4.75 1.03125 4.75 0.890625 Z M 4.75 -2.1875 \"/>\n",
       "</g>\n",
       "<g id=\"glyph-2-0\">\n",
       "<path d=\"M 5.796875 -6.78125 L 0.328125 -6.78125 L 0.328125 -6.46875 L 0.5625 -6.46875 C 1.328125 -6.46875 1.359375 -6.359375 1.359375 -6 L 1.359375 -0.78125 C 1.359375 -0.421875 1.328125 -0.3125 0.5625 -0.3125 L 0.328125 -0.3125 L 0.328125 0 C 0.671875 -0.03125 1.453125 -0.03125 1.84375 -0.03125 C 2.25 -0.03125 3.15625 -0.03125 3.515625 0 L 3.515625 -0.3125 L 3.1875 -0.3125 C 2.25 -0.3125 2.25 -0.4375 2.25 -0.78125 L 2.25 -3.234375 L 3.09375 -3.234375 C 4.0625 -3.234375 4.15625 -2.921875 4.15625 -2.078125 L 4.40625 -2.078125 L 4.40625 -4.71875 L 4.15625 -4.71875 C 4.15625 -3.875 4.0625 -3.546875 3.09375 -3.546875 L 2.25 -3.546875 L 2.25 -6.078125 C 2.25 -6.40625 2.265625 -6.46875 2.734375 -6.46875 L 3.921875 -6.46875 C 5.421875 -6.46875 5.671875 -5.90625 5.828125 -4.53125 L 6.078125 -4.53125 Z M 5.796875 -6.78125 \"/>\n",
       "</g>\n",
       "<g id=\"glyph-2-1\">\n",
       "<path d=\"M 2.25 -6.03125 C 2.25 -6.390625 2.265625 -6.5 3.0625 -6.5 L 3.3125 -6.5 L 3.3125 -6.8125 C 2.96875 -6.78125 2.1875 -6.78125 1.796875 -6.78125 C 1.421875 -6.78125 0.625 -6.78125 0.28125 -6.8125 L 0.28125 -6.5 L 0.53125 -6.5 C 1.328125 -6.5 1.359375 -6.390625 1.359375 -6.03125 L 1.359375 -0.78125 C 1.359375 -0.421875 1.328125 -0.3125 0.53125 -0.3125 L 0.28125 -0.3125 L 0.28125 0 C 0.625 -0.03125 1.421875 -0.03125 1.796875 -0.03125 C 2.1875 -0.03125 2.96875 -0.03125 3.3125 0 L 3.3125 -0.3125 L 3.0625 -0.3125 C 2.265625 -0.3125 2.25 -0.421875 2.25 -0.78125 Z M 2.25 -6.03125 \"/>\n",
       "</g>\n",
       "<g id=\"glyph-2-2\">\n",
       "<path d=\"M 4 -3.84375 L 5.375 -5.859375 C 5.59375 -6.171875 5.9375 -6.484375 6.8125 -6.5 L 6.8125 -6.8125 C 6.4375 -6.796875 5.96875 -6.78125 5.71875 -6.78125 C 5.3125 -6.78125 4.828125 -6.78125 4.4375 -6.8125 L 4.4375 -6.5 C 4.828125 -6.484375 5.046875 -6.265625 5.046875 -6.046875 C 5.046875 -5.9375 5.03125 -5.921875 4.96875 -5.8125 L 3.828125 -4.125 L 2.546875 -6.046875 C 2.515625 -6.078125 2.46875 -6.15625 2.46875 -6.203125 C 2.46875 -6.3125 2.6875 -6.484375 3.125 -6.5 L 3.125 -6.8125 C 2.765625 -6.78125 2.046875 -6.78125 1.671875 -6.78125 C 1.359375 -6.78125 0.734375 -6.78125 0.375 -6.8125 L 0.375 -6.5 L 0.5625 -6.5 C 1.109375 -6.5 1.296875 -6.4375 1.484375 -6.15625 L 3.3125 -3.375 L 1.6875 -0.96875 C 1.546875 -0.765625 1.25 -0.3125 0.234375 -0.3125 L 0.234375 0 C 0.59375 -0.015625 1.015625 -0.03125 1.34375 -0.03125 C 1.71875 -0.03125 2.265625 -0.03125 2.625 0 L 2.625 -0.3125 C 2.15625 -0.3125 2 -0.59375 2 -0.765625 C 2 -0.859375 2.03125 -0.890625 2.09375 -1 L 3.515625 -3.09375 L 5.078125 -0.71875 C 5.109375 -0.671875 5.140625 -0.640625 5.140625 -0.609375 C 5.140625 -0.484375 4.921875 -0.3125 4.484375 -0.3125 L 4.484375 0 C 4.828125 -0.03125 5.5625 -0.03125 5.9375 -0.03125 C 6.359375 -0.03125 6.8125 -0.015625 7.234375 0 L 7.234375 -0.3125 L 7.046875 -0.3125 C 6.53125 -0.3125 6.3125 -0.359375 6.109375 -0.671875 Z M 4 -3.84375 \"/>\n",
       "</g>\n",
       "<g id=\"glyph-2-3\">\n",
       "<path d=\"M 2.40625 -6.59375 C 2.3125 -6.8125 2.28125 -6.8125 2.046875 -6.8125 L 0.375 -6.8125 L 0.375 -6.5 L 0.609375 -6.5 C 1.375 -6.5 1.390625 -6.390625 1.390625 -6.03125 L 1.390625 -1.046875 C 1.390625 -0.78125 1.390625 -0.3125 0.375 -0.3125 L 0.375 0 C 0.71875 -0.015625 1.203125 -0.03125 1.53125 -0.03125 C 1.859375 -0.03125 2.359375 -0.015625 2.703125 0 L 2.703125 -0.3125 C 1.671875 -0.3125 1.671875 -0.78125 1.671875 -1.046875 L 1.671875 -6.421875 L 1.6875 -6.421875 L 4.09375 -0.21875 C 4.140625 -0.09375 4.1875 0 4.28125 0 C 4.390625 0 4.421875 -0.078125 4.46875 -0.1875 L 6.921875 -6.5 L 6.921875 -0.78125 C 6.921875 -0.421875 6.90625 -0.3125 6.140625 -0.3125 L 5.90625 -0.3125 L 5.90625 0 C 6.265625 -0.03125 6.953125 -0.03125 7.34375 -0.03125 C 7.71875 -0.03125 8.390625 -0.03125 8.765625 0 L 8.765625 -0.3125 L 8.515625 -0.3125 C 7.75 -0.3125 7.734375 -0.421875 7.734375 -0.78125 L 7.734375 -6.03125 C 7.734375 -6.390625 7.75 -6.5 8.515625 -6.5 L 8.765625 -6.5 L 8.765625 -6.8125 L 7.078125 -6.8125 C 6.8125 -6.8125 6.8125 -6.796875 6.75 -6.625 L 4.5625 -1 Z M 2.40625 -6.59375 \"/>\n",
       "</g>\n",
       "<g id=\"glyph-2-4\">\n",
       "<path d=\"M 1.359375 -0.78125 C 1.359375 -0.421875 1.328125 -0.3125 0.5625 -0.3125 L 0.328125 -0.3125 L 0.328125 0 L 6.078125 0 L 6.5 -2.578125 L 6.25 -2.578125 C 6 -1.03125 5.765625 -0.3125 4.0625 -0.3125 L 2.734375 -0.3125 C 2.265625 -0.3125 2.25 -0.375 2.25 -0.703125 L 2.25 -3.375 L 3.140625 -3.375 C 4.109375 -3.375 4.21875 -3.046875 4.21875 -2.203125 L 4.46875 -2.203125 L 4.46875 -4.84375 L 4.21875 -4.84375 C 4.21875 -3.984375 4.109375 -3.671875 3.140625 -3.671875 L 2.25 -3.671875 L 2.25 -6.078125 C 2.25 -6.40625 2.265625 -6.46875 2.734375 -6.46875 L 4.015625 -6.46875 C 5.546875 -6.46875 5.8125 -5.921875 5.96875 -4.53125 L 6.21875 -4.53125 L 5.9375 -6.78125 L 0.328125 -6.78125 L 0.328125 -6.46875 L 0.5625 -6.46875 C 1.328125 -6.46875 1.359375 -6.359375 1.359375 -6 Z M 1.359375 -0.78125 \"/>\n",
       "</g>\n",
       "</g>\n",
       "<clipPath id=\"clip-0\">\n",
       "<path clip-rule=\"nonzero\" d=\"M 0 0 L 67.863281 0 L 67.863281 56.355469 L 0 56.355469 Z M 0 0 \"/>\n",
       "</clipPath>\n",
       "<clipPath id=\"clip-1\">\n",
       "<path clip-rule=\"nonzero\" d=\"M 0 14 L 67.863281 14 L 67.863281 43 L 0 43 Z M 0 14 \"/>\n",
       "</clipPath>\n",
       "</defs>\n",
       "<g clip-path=\"url(#clip-0)\">\n",
       "<path fill=\"none\" stroke-width=\"0.797\" stroke-linecap=\"butt\" stroke-linejoin=\"miter\" stroke=\"rgb(0%, 0%, 0%)\" stroke-opacity=\"1\" stroke-miterlimit=\"10\" d=\"M 23.611969 -0.0016875 L -23.610687 27.779562 L -23.610687 -27.779031 Z M 23.611969 -0.0016875 \" transform=\"matrix(1, 0, 0, -1, 33.931, 28.178)\"/>\n",
       "</g>\n",
       "<g clip-path=\"url(#clip-1)\">\n",
       "<path fill=\"none\" stroke-width=\"0.3985\" stroke-linecap=\"square\" stroke-linejoin=\"miter\" stroke=\"rgb(0%, 0%, 0%)\" stroke-opacity=\"1\" stroke-miterlimit=\"10\" d=\"M -33.731781 13.888937 L -23.610687 13.888937 M -33.731781 -13.888406 L -23.610687 -13.888406 M 33.733063 -0.0016875 L 23.611969 -0.0016875 \" transform=\"matrix(1, 0, 0, -1, 33.931, 28.178)\"/>\n",
       "</g>\n",
       "<g fill=\"rgb(0%, 0%, 0%)\" fill-opacity=\"1\">\n",
       "<use xlink:href=\"#glyph-0-0\" x=\"13.64\" y=\"16.779\"/>\n",
       "</g>\n",
       "<g fill=\"rgb(0%, 0%, 0%)\" fill-opacity=\"1\">\n",
       "<use xlink:href=\"#glyph-1-0\" x=\"13.64\" y=\"44.558\"/>\n",
       "</g>\n",
       "<g fill=\"rgb(0%, 0%, 0%)\" fill-opacity=\"1\">\n",
       "<use xlink:href=\"#glyph-2-0\" x=\"13.84\" y=\"31.582\"/>\n",
       "<use xlink:href=\"#glyph-2-1\" x=\"20.343585\" y=\"31.582\"/>\n",
       "<use xlink:href=\"#glyph-2-2\" x=\"23.94108\" y=\"31.582\"/>\n",
       "<use xlink:href=\"#glyph-2-3\" x=\"31.41303\" y=\"31.582\"/>\n",
       "<use xlink:href=\"#glyph-2-4\" x=\"40.545746\" y=\"31.582\"/>\n",
       "</g>\n",
       "</svg>"
      ]
     },
     "metadata": {
      "isolated": "true"
     },
     "output_type": "display_data"
    }
   ],
   "source": [
    "%%tikz -p circuitikz -s 100,100 -f svg\n",
    "\\draw (0, 0) node [op amp] (OA1) {FIXME};\n",
    "% # FIXME: full schematic here"
   ]
  },
  {
   "cell_type": "markdown",
   "id": "10c38ffb-8cbb-4bc8-ac2e-2d35d4bf655f",
   "metadata": {
    "editable": true,
    "slideshow": {
     "slide_type": ""
    },
    "tags": []
   },
   "source": [
    "[741: Principles of Operation](https://cdn.evilmadscientist.com/KitInstrux/741/741_principles_Rev21.pdf) explains this circuit in great details. A few notes based on simulation results:\n",
    "\n",
    "* Systematic error of input offset voltage ~0.5mV, even with perfectly matched transistors.\n",
    "* \n"
   ]
  },
  {
   "cell_type": "markdown",
   "id": "b0d45713-ec2f-438e-b517-ccc9e9d4344d",
   "metadata": {
    "editable": true,
    "slideshow": {
     "slide_type": ""
    },
    "tags": []
   },
   "source": [
    "## Analysis and Simulation\n",
    "\n",
    "The analysis and calculation in this section closely follows\n",
    "Chapter 12 of _Sedra & Smith 6e_, which I keep on my desktop.\n",
    "The same content is now available for download from\n",
    "[Supplement x4](https://learninglink.oup.com/access/sedra8e-student-resources#tag_bonus-text-topics) of [_Microelectronic Circuits 8e_](https://learninglink.oup.com/access/sedra8e)\n",
    "\n",
    "The simulation ideas were from [Chapter 10](https://www.ece.mcgill.ca/~grober4/SPICE/SPICE_Decks/1st_Edition/chapter10/Chapter%2010%20%20Analog%20Integrated%20Circuits%20web%20version.html) of [_SPICE for Microelectronic Circuits_](https://www.ece.mcgill.ca/~grober4/SPICE/SPICE_Decks/spicedecks_ed1_index.html) by Gordon W. Roberts and Adel S. Sedra. I have possession of a physical copy of the second edition.\n",
    "\n",
    "It's worth note that these two books analyze the 24-transistor variant of 741, while XL741/741SE are the 20-transistor variant. According to Ken Shirriff in [Understanding silicon circuits: inside the ubiquitous 741 op amp](https://www.righto.com/2015/10/inside-ubiquitous-741-op-amp-circuits.html#ref11), the 24-transistor variant is more common."
   ]
  },
  {
   "cell_type": "markdown",
   "id": "f078988c-32bf-49d6-91af-076100bf2a4f",
   "metadata": {
    "editable": true,
    "slideshow": {
     "slide_type": ""
    },
    "tags": []
   },
   "source": [
    "### Transistor parameters\n",
    "\n",
    "XL741 is built with discrete 2N3904 (NPN) and 2N3906 (PNP) transistors, although their SPICE models can be found from manufacturer's datasheets, \n",
    "Dr. Kent H. Lundberg says these models are \"worthless\" and suggests not to use them in simulations. <https://www.mit.edu/~6.301/>. I agree with him, because the model parameters disagree with my measurement. In particular, while the Vaf of PNP is only 18.7V, which is too low to be true. Another source https://physics.uncg.edu/hellen/spice_stuff.html\n",
    "$\\newcommand{\\uv}[1]{{V_\\mathrm{#1}}} \\newcommand{\\Vt}{\\uv{T}}  \\newcommand{\\Vbe}{\\uv{BE}}$\n",
    "$\\newcommand{\\ui}[1]{{I_\\mathrm{#1}}} \\newcommand{\\Is}{\\ui{S}}$\n",
    "$\\newcommand{\\mV}{\\mathrm{mV}} \\newcommand{\\mA}{\\mathrm{mA}} \\newcommand{\\uA}{\\mathrm{µA}}$"
   ]
  },
  {
   "cell_type": "markdown",
   "id": "9bfec9df-2c94-47f3-a2d2-557ed112dd9d",
   "metadata": {
    "editable": true,
    "slideshow": {
     "slide_type": ""
    },
    "tags": []
   },
   "source": [
    "**Measure**\n",
    "\n",
    "TBD\n",
    "\n",
    "I measured 3 2N3904 and 3 2N3906 (TO-92 packages, not SOT-23 come with my 741SE kits) using multimeters and a cheap [AVR transistor tester](https://www.mikrocontroller.net/articles/AVR_Transistortester) clone from Ebay, here's the results:\n",
    "\n",
    "FIXME:\n",
    "\n",
    "Recall basic Ebers-Moll model:\n",
    "\n",
    "$\\ui{E} = \\Is\\exp\\dfrac{\\uv{BE}}{\\Vt}$\n",
    "\n",
    "$\\uv{BE}=\\Vt\\ln\\dfrac{\\ui{E}}{\\Is}$\n",
    "\n",
    "We assume $\\Vt=25.8\\mathrm{mV}$"
   ]
  },
  {
   "cell_type": "markdown",
   "id": "11c949b7-38fc-4b5d-838e-4d28bbb7989e",
   "metadata": {
    "editable": true,
    "slideshow": {
     "slide_type": ""
    },
    "tags": []
   },
   "source": [
    "**Parameters for calculation and simulation**\n",
    "\n",
    "| Transistor | $\\beta$ | $\\Is$ | Early voltage $\\uv{A}$* |\n",
    "| --- | --- | --- | --- |\n",
    "| NPN (2N3904) | | 10fA | |\n",
    "| PNP (2N3906) | | 10fA | |\n",
    "\n",
    "Given $\\beta\\gg 1$, we are going to ignore base currents in calculation below unless otherwise mentioned.\n",
    "\n",
    "\\* I didn't measure the Early voltage, but just use the value from Sedra&Smith book.\n",
    "It doesn't affect the calculation of DC operating points, but does affect the DC gain simulation."
   ]
  },
  {
   "cell_type": "markdown",
   "id": "0dbaec45-b0bb-4a07-b0ab-f578a9fa3d15",
   "metadata": {
    "editable": true,
    "slideshow": {
     "slide_type": ""
    },
    "tags": []
   },
   "source": [
    "### Bias\n",
    "\n",
    "The bias circuit (redraw below) consists of Q10/Q11/Q12/Q13.\n",
    "\n"
   ]
  },
  {
   "cell_type": "code",
   "execution_count": null,
   "id": "cf852be4-5ae7-4455-b71b-6c116131fbac",
   "metadata": {
    "editable": true,
    "slideshow": {
     "slide_type": ""
    },
    "tags": [
     "hide_cell"
    ]
   },
   "outputs": [],
   "source": []
  },
  {
   "cell_type": "markdown",
   "id": "b6387188-e667-45e7-bbae-6801cc76ff93",
   "metadata": {
    "editable": true,
    "slideshow": {
     "slide_type": ""
    },
    "tags": []
   },
   "source": [
    "The current on $R_5$ is the reference current, and it's set by power supply voltage, $\\uv{CC}=15$V, $\\uv{EE}=-15$V.\n",
    "Assuming $\\uv{BE} = 0.65$V for Q11 and Q12.\n",
    "\n",
    "$\\ui{REF}=\\ui{R5}=\\dfrac{\\uv{CC}-\\uv{EE}-2\\times\\uv{BE}}{R_5} = \\dfrac{30-2\\times 0.65}{39\\mathrm{k}} = 0.736\\mA$"
   ]
  },
  {
   "cell_type": "markdown",
   "id": "fd2709b5-a89f-49e1-8b51-e19f85fed4c2",
   "metadata": {
    "editable": true,
    "slideshow": {
     "slide_type": ""
    },
    "tags": []
   },
   "source": [
    "Q10/Q11 and R4 form a Wildar current source.\n",
    "\n",
    "$I_\\mathrm{C10} R_4 = V_\\mathrm{T}\\ln \\dfrac{I_\\mathrm{REF}}{I_\\mathrm{C10}}$\n",
    "\n",
    "It's a transcendental equation, let's solve $\\ui{C10}$ using numerical method, which gives 19.84µA."
   ]
  },
  {
   "cell_type": "code",
   "execution_count": 12,
   "id": "fc4a54b8-9af0-4ca2-a501-ed4e332e3aee",
   "metadata": {
    "editable": true,
    "slideshow": {
     "slide_type": ""
    },
    "tags": []
   },
   "outputs": [
    {
     "name": "stdout",
     "output_type": "stream",
     "text": [
      "Ic10 = 19.84 uA\n"
     ]
    }
   ],
   "source": [
    "def Ic10(x):\n",
    "    Ic = x\n",
    "    Vt = 25.8\n",
    "    Iref = 736\n",
    "    R4 = 4.7\n",
    "    return Ic * R4 - Vt * np.log(Iref / Ic)\n",
    "\n",
    "# Trial and error\n",
    "if False:\n",
    "    print(Ic10(10))\n",
    "    print(Ic10(20))\n",
    "    print(Ic10(19))\n",
    "    print(Ic10(19.5))\n",
    "    print(Ic10(19.8))\n",
    "\n",
    "root = scipy.optimize.root_scalar(Ic10, x0=0.1)\n",
    "if root.converged:\n",
    "    Ic = root.root\n",
    "    print('Ic10 = %.2f uA' % (Ic))"
   ]
  },
  {
   "cell_type": "markdown",
   "id": "aed7097e-242b-40d4-9025-bc1bf702b20a",
   "metadata": {
    "editable": true,
    "slideshow": {
     "slide_type": ""
    },
    "tags": []
   },
   "source": [
    "### Input stage\n",
    "\n",
    "Given $\\beta \\gg 1$, ignoring base currents and assuming $\\ui{E}\\approx\\ui{C}$.\n",
    "Due to the current mirror made of Q5/Q6, we shall have $\\ui{C1} = \\ui{C2} = \\ui{C3} = \\ui{C4} = \\ui{C5} = \\ui{C6}$"
   ]
  },
  {
   "cell_type": "code",
   "execution_count": null,
   "id": "5656bd73-8b5d-40d6-a429-cc3d226e0ba0",
   "metadata": {
    "editable": true,
    "slideshow": {
     "slide_type": ""
    },
    "tags": []
   },
   "outputs": [],
   "source": []
  },
  {
   "cell_type": "markdown",
   "id": "9a131676-0a87-4405-893d-74220206b935",
   "metadata": {
    "editable": true,
    "slideshow": {
     "slide_type": ""
    },
    "tags": []
   },
   "source": [
    "The input stage bias can be viewed as a Wilson current source (shown below, Q1/Q2/D1/D2 are considered as short-circuit wires), the input (reference) current is $\\ui{C10}$, the output current is $\\ui{C8} = \\ui{C1} + \\ui{C2}$. Clearly $\\ui{C1} = \\ui{C2} = \\dfrac{\\ui{C10}}{2} = 9.9\\uA$"
   ]
  },
  {
   "cell_type": "code",
   "execution_count": null,
   "id": "b38cedfa-f929-4e29-ac58-7dfd95d1f22a",
   "metadata": {
    "editable": true,
    "slideshow": {
     "slide_type": ""
    },
    "tags": []
   },
   "outputs": [],
   "source": []
  },
  {
   "cell_type": "markdown",
   "id": "49a0cdb5-5d3c-467d-9759-d09954cb9d92",
   "metadata": {
    "editable": true,
    "slideshow": {
     "slide_type": ""
    },
    "tags": []
   },
   "source": [
    "### Gain stage\n",
    "\n",
    "Q16 and Q17 form a Darlinton pair, which provides most (if not all) of voltage gain."
   ]
  },
  {
   "cell_type": "code",
   "execution_count": null,
   "id": "ac4bc623-4fa7-4a0d-b074-aaa95c2a1641",
   "metadata": {
    "editable": true,
    "slideshow": {
     "slide_type": ""
    },
    "tags": []
   },
   "outputs": [],
   "source": []
  },
  {
   "cell_type": "markdown",
   "id": "47616a4e-85c9-46cb-a091-0a73f5ec4093",
   "metadata": {
    "editable": true,
    "slideshow": {
     "slide_type": ""
    },
    "tags": []
   },
   "source": []
  },
  {
   "cell_type": "code",
   "execution_count": null,
   "id": "e447b6d0-368f-4858-8040-281ca09376f7",
   "metadata": {
    "editable": true,
    "slideshow": {
     "slide_type": ""
    },
    "tags": []
   },
   "outputs": [],
   "source": []
  },
  {
   "cell_type": "markdown",
   "id": "b3c785cd-02a6-45a0-92c9-05a79a6121d6",
   "metadata": {
    "editable": true,
    "slideshow": {
     "slide_type": ""
    },
    "tags": []
   },
   "source": [
    "### Output stage"
   ]
  },
  {
   "cell_type": "code",
   "execution_count": null,
   "id": "b07dd568-905b-4073-926e-b34f0464a21b",
   "metadata": {
    "editable": true,
    "slideshow": {
     "slide_type": ""
    },
    "tags": []
   },
   "outputs": [],
   "source": []
  },
  {
   "cell_type": "markdown",
   "id": "bc4c797b-7df8-4ade-b13a-ddd61144bec9",
   "metadata": {
    "editable": true,
    "slideshow": {
     "slide_type": ""
    },
    "tags": []
   },
   "source": [
    "## Measure with multimeter"
   ]
  },
  {
   "cell_type": "markdown",
   "id": "8e0f3faa-dced-4836-b73f-a2c84d75263c",
   "metadata": {
    "editable": true,
    "slideshow": {
     "slide_type": ""
    },
    "tags": []
   },
   "source": [
    "TBC"
   ]
  },
  {
   "cell_type": "code",
   "execution_count": null,
   "id": "54236573-767a-4b27-a895-4fa8a238bae5",
   "metadata": {
    "editable": true,
    "slideshow": {
     "slide_type": ""
    },
    "tags": []
   },
   "outputs": [],
   "source": []
  },
  {
   "cell_type": "code",
   "execution_count": null,
   "id": "51ad58a3-89e2-4a82-bc16-1a17ece942cb",
   "metadata": {
    "editable": true,
    "slideshow": {
     "slide_type": ""
    },
    "tags": []
   },
   "outputs": [],
   "source": []
  }
 ],
 "metadata": {
  "kernelspec": {
   "display_name": "Python 3 (ipykernel)",
   "language": "python",
   "name": "python3"
  },
  "language_info": {
   "codemirror_mode": {
    "name": "ipython",
    "version": 3
   },
   "file_extension": ".py",
   "mimetype": "text/x-python",
   "name": "python",
   "nbconvert_exporter": "python",
   "pygments_lexer": "ipython3",
   "version": "3.11.8"
  }
 },
 "nbformat": 4,
 "nbformat_minor": 5
}
