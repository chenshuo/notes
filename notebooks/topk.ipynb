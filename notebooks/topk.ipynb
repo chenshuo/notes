{
 "cells": [
  {
   "cell_type": "markdown",
   "metadata": {},
   "source": [
    "```text\n",
    "Host: e8300\n",
    "CPU: i7-3770  4c8t\n",
    "RAM: 16GB DDR3 1600MHz\n",
    "Disk: ST500DM002-1BD14  500GB SATA 7200RPM\n",
    "```"
   ]
  },
  {
   "cell_type": "markdown",
   "metadata": {},
   "source": [
    "# 10 million"
   ]
  },
  {
   "cell_type": "markdown",
   "metadata": {},
   "source": [
    "```shell\n",
    "$ ls -l random_words_10M\n",
    "-rw-rw-r-- 1 schen schen 570058251 Mar  5 03:38 random_words_10M\n",
    "\n",
    "$ ls -lh random_words_10M\n",
    "-rw-rw-r-- 1 schen schen 544M Mar  5 03:38 random_words_10M\n",
    "\n",
    "$ sudo bash -c \"echo 1 > /proc/sys/vm/drop_caches\"\n",
    "$ time wc -l random_words_10M\n",
    "10000000 random_words_10M\n",
    "\n",
    "real    0m4.286s\n",
    "user    0m0.120s\n",
    "sys     0m0.226s\n",
    "```\n",
    "\n",
    "Disk IO: 570058251 / 4.286 = 133MB/s"
   ]
  },
  {
   "cell_type": "markdown",
   "metadata": {},
   "source": [
    "In-memory word counting:\n",
    "```shell\n",
    "$ time wc -l random_words_10M\n",
    "10000000 random_words_10M\n",
    "\n",
    "real    0m0.189s\n",
    "user    0m0.087s\n",
    "sys     0m0.102s\n",
    "```"
   ]
  },
  {
   "cell_type": "markdown",
   "metadata": {},
   "source": [
    "locale\n",
    "```shell\n",
    "$ time wc random_words_10M\n",
    " 10000000   9999881 570058251 random_words_10M\n",
    "\n",
    "real    0m6.406s\n",
    "user    0m6.294s\n",
    "sys     0m0.112s\n",
    "\n",
    "$ export LANG=C\n",
    "$ time wc random_words_10M\n",
    " 10000000   9999881 570058251 random_words_10M\n",
    "\n",
    "real    0m2.198s\n",
    "user    0m2.073s\n",
    "sys     0m0.124s\n",
    "```"
   ]
  },
  {
   "cell_type": "markdown",
   "metadata": {},
   "source": [
    "Unique:\n",
    "\n",
    "```shell\n",
    "$ time sort -u random_words_10M|wc -l\n",
    "7588597\n",
    "\n",
    "real    0m9.431s\n",
    "user    0m39.902s\n",
    "sys     0m1.000s\n",
    "```"
   ]
  },
  {
   "cell_type": "markdown",
   "metadata": {},
   "source": [
    "Top 10\n",
    "```shell\n",
    "$ time sort random_words_10M|uniq -c |sort -n -r |head\n",
    " 195142 6b86b273ff34fce19d6b804eff5a3f5747ada4eaa22f1d49c01e52dd\n",
    "  98482 d4735e3a265e16eee03f59718b9b5d03019c07d8b6c51f90da3a666\n",
    "  65471 4e07408562bedb8b60ce05c1decfe3ad16b72230967de01f640b7e472\n",
    "  49315 4b227777d4dd1fc61c6f884f48641d02b4d121d3fd328cb08b5531fcac\n",
    "  39002 ef2d127de37b942baad06145e54b0c619a1f22327b2ebbcfbec78\n",
    "  32610 e7f6c011776e8db7cd330b54174fd76f7d0216b612387a5ffcfb\n",
    "  27815 7902699be42c8a8e46fbbb4501726517e86b22c56a189f7625a6da4908\n",
    "  24655 2c624232cdd221771294dfbb310aca000a0df6ac8b66b696d90ef06fde\n",
    "  21824 19581e27de7ced00ff1ce50b2047e7a567c76b1cbaebabe5ef03f7c301\n",
    "  19282 4a44dc15364204a80fe80e9039455cc1608281820fe2b24f1e5233ade6a\n",
    "\n",
    "real    0m26.122s\n",
    "user    0m58.800s\n",
    "sys     0m2.003s\n",
    "```"
   ]
  },
  {
   "cell_type": "markdown",
   "metadata": {},
   "source": [
    "# 100 million"
   ]
  },
  {
   "cell_type": "markdown",
   "metadata": {},
   "source": [
    "```shell\n",
    "$ ls -l random_words_100M \n",
    "-rw-rw-r-- 1 schen schen 5700679052 Mar  5 04:41 random_words_100M\n",
    "\n",
    "$ ls -lh random_words_100M \n",
    "-rw-rw-r-- 1 schen schen 5.4G Mar  5 04:41 random_words_100M\n",
    "```"
   ]
  },
  {
   "cell_type": "markdown",
   "metadata": {},
   "source": [
    "```shell\n",
    "$ time wc -l random_words_100M\n",
    "100000000 random_words_100M\n",
    "\n",
    "real    0m42.971s\n",
    "user    0m1.298s\n",
    "sys     0m2.140s\n",
    "\n",
    "# from disk cache\n",
    "\n",
    "$ time wc -l random_words_100M\n",
    "100000000 random_words_100M\n",
    "\n",
    "real    0m1.685s\n",
    "user    0m0.847s\n",
    "sys     0m0.835s\n",
    "```\n",
    "\n",
    "Disk IO: 5700679052 /  42.971 = 132.66 MB/s"
   ]
  },
  {
   "cell_type": "markdown",
   "metadata": {},
   "source": [
    "Unique:\n",
    "```shell\n",
    "$ time sort -u random_words_100M|wc -l\n",
    "71402795\n",
    "\n",
    "real    2m30.608s\n",
    "user    7m33.321s\n",
    "sys     0m9.051s\n",
    "```"
   ]
  },
  {
   "cell_type": "markdown",
   "metadata": {},
   "source": [
    "Top 10:\n",
    "```shell\n",
    "$ time sort random_words_100M|uniq -c |sort -n -r |head\n",
    "1955832 6b86b273ff34fce19d6b804eff5a3f5747ada4eaa22f1d49c01e52dd\n",
    " 977205 d4735e3a265e16eee03f59718b9b5d03019c07d8b6c51f90da3a666\n",
    " 652378 4e07408562bedb8b60ce05c1decfe3ad16b72230967de01f640b7e472\n",
    " 488558 4b227777d4dd1fc61c6f884f48641d02b4d121d3fd328cb08b5531fcac\n",
    " 391743 ef2d127de37b942baad06145e54b0c619a1f22327b2ebbcfbec78\n",
    " 325832 e7f6c011776e8db7cd330b54174fd76f7d0216b612387a5ffcfb\n",
    " 279156 7902699be42c8a8e46fbbb4501726517e86b22c56a189f7625a6da4908\n",
    " 244709 2c624232cdd221771294dfbb310aca000a0df6ac8b66b696d90ef06fde\n",
    " 216681 19581e27de7ced00ff1ce50b2047e7a567c76b1cbaebabe5ef03f7c301\n",
    " 195584 4a44dc15364204a80fe80e9039455cc1608281820fe2b24f1e5233ade6a\n",
    "\n",
    "real    7m53.883s\n",
    "user    11m36.207s\n",
    "sys     0m28.227s\n",
    "```"
   ]
  },
  {
   "cell_type": "markdown",
   "metadata": {},
   "source": [
    "# disk"
   ]
  },
  {
   "cell_type": "markdown",
   "metadata": {},
   "source": [
    "![450g 15k](sas450g15k.png)"
   ]
  }
 ],
 "metadata": {
  "kernelspec": {
   "display_name": "Python 3",
   "language": "python",
   "name": "python3"
  },
  "language_info": {
   "codemirror_mode": {
    "name": "ipython",
    "version": 3
   },
   "file_extension": ".py",
   "mimetype": "text/x-python",
   "name": "python",
   "nbconvert_exporter": "python",
   "pygments_lexer": "ipython3",
   "version": "3.7.1"
  }
 },
 "nbformat": 4,
 "nbformat_minor": 2
}
